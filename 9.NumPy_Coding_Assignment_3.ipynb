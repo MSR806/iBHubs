{
  "nbformat": 4,
  "nbformat_minor": 0,
  "metadata": {
    "colab": {
      "name": "NumPy Coding Assignment 3.ipynb",
      "provenance": [],
      "collapsed_sections": [],
      "include_colab_link": true
    },
    "kernelspec": {
      "name": "python3",
      "display_name": "Python 3"
    }
  },
  "cells": [
    {
      "cell_type": "markdown",
      "metadata": {
        "id": "view-in-github",
        "colab_type": "text"
      },
      "source": [
        "<a href=\"https://colab.research.google.com/github/MSR806/iBHubs_AI/blob/main/9.NumPy_Coding_Assignment_3.ipynb\" target=\"_parent\"><img src=\"https://colab.research.google.com/assets/colab-badge.svg\" alt=\"Open In Colab\"/></a>"
      ]
    },
    {
      "cell_type": "code",
      "metadata": {
        "id": "048e0c2e-13a5-4ffe-ac89-09090775ba8a"
      },
      "source": [
        "import numpy as np"
      ],
      "execution_count": 29,
      "outputs": []
    },
    {
      "cell_type": "markdown",
      "metadata": {
        "id": "0b114e46-c9ea-4feb-8dbd-d38bbd418adb"
      },
      "source": [
        "### 1. Distance Weighted Voting \n",
        "\n",
        "Implement the `distance_weighted_voting()` function, which computes the predicted class for a given test instance based on the distances to its k Nearest Neighbors.\n",
        "\n",
        "**Arguments**:\n",
        "* **`label_array`** : Class labels of the `k` nearest training instances from the test instance.\n",
        " * A 1D numpy array of `chars` where $i^{th}$ element represents the class label of $i^{th}$ training instance\n",
        " * Array Shape: `(k, )`\n",
        "\n",
        "* **`distances_array`** : Distances of the `k` nearest training instances from the test instance.\n",
        " * A 1D numpy array of `floats` where the $i^{th}$ element represents the distance of the $i^{th}$ training instance from the test instance.\n",
        " * Array Shape: `(k, )`\n",
        "\n",
        "**Returns**:\n",
        "* A `char` which is the predicted class label of the test instance.\n",
        "\n",
        "**Note:** If there is a tie among the weights of the class labels, then break the tie randomly."
      ]
    },
    {
      "cell_type": "code",
      "metadata": {
        "id": "ca7dfd72-650f-40cb-9527-206ac69ca8ef"
      },
      "source": [
        "def distance_weighted_voting(label_array, distances_array):\n",
        "  distance_weighted = 1/distances_array\n",
        "  max_index = np.argmax(distance_weighted)\n",
        "  print(label_array[max_index])\n"
      ],
      "execution_count": 30,
      "outputs": []
    },
    {
      "cell_type": "code",
      "metadata": {
        "id": "db603564-8b8d-4aa4-8122-5014d530ed88",
        "colab": {
          "base_uri": "https://localhost:8080/"
        },
        "outputId": "acac8074-d3d1-43a8-b3bc-1798c5f89a87"
      },
      "source": [
        "# SAMPLE TEST CASE\n",
        "\n",
        "label_array = np.array(['A','B','C','A','B'])\n",
        "distances_array = np.array([1.2, 3.4, 2.3, 2.2, 1.5])\n",
        "distance_weighted_voting(label_array, distances_array)"
      ],
      "execution_count": 31,
      "outputs": [
        {
          "output_type": "stream",
          "text": [
            "A\n"
          ],
          "name": "stdout"
        }
      ]
    },
    {
      "cell_type": "markdown",
      "metadata": {
        "id": "17170608-f6c9-4253-9cb5-b1467338a4c1"
      },
      "source": [
        "**Expected Output**:\n",
        "```\n",
        "'A'\n",
        "```"
      ]
    },
    {
      "cell_type": "markdown",
      "metadata": {
        "id": "d0a6e262-7cac-49a5-a2be-30649a9483d0"
      },
      "source": [
        "### 2. Micro-averaged Precision\n",
        "\n",
        "Implement the `micro_averaged_precision()` function, which computes the micro-averaged precision for a **multi-label**, multi-class classification problem.\n",
        "\n",
        "\n",
        "**Arguments**:\n",
        "* **`actual_2D`** : Actual labels of instances\n",
        "  * A 2d numpy array where each row represents an instance and each column represents a class.\n",
        "  * For each instance, the value in $i^{th}$ column is `True` if $i^{th}$ class is among the actual labels for that instance. Otherwise, the value in $i^{th}$ column is `False`.\n",
        " \n",
        "\n",
        "* **`predicted_2D`**: Predicted labels of instances\n",
        " * A 2d numpy array where each row represents an instance and each column represents a class. \n",
        " * For each instance, the value in $i^{th}$ column is `True` if $i^{th}$ class is among the predicted labels for that instance. Otherwise, the value in $i^{th}$ column is `False`.\n",
        "\n",
        "**Returns**:  \n",
        "* A `float` value which is the Micro-averaged Precision."
      ]
    },
    {
      "cell_type": "code",
      "metadata": {
        "id": "8daa4c39-54c6-4f90-927e-571884dedb96"
      },
      "source": [
        "def micro_averaged_precision(actual_2D, predicted_2D):\n",
        "  result = np.equal(actual_2D.flatten(), predicted_2D.flatten())\n",
        "  total = len(actual_2D.flatten())\n",
        "  count = np.count_nonzero(result)\n",
        "  print(count/total)\n"
      ],
      "execution_count": 32,
      "outputs": []
    },
    {
      "cell_type": "code",
      "metadata": {
        "id": "4f26e688-01f1-402c-bd8b-4c5179496eef",
        "colab": {
          "base_uri": "https://localhost:8080/"
        },
        "outputId": "46e5153f-263c-4e1e-d32b-6cc07dcaa36c"
      },
      "source": [
        "# SAMPLE TEST CASE\n",
        "\n",
        "actual_2D = np.array([[True, False, False, True],\n",
        "                        [False, True, False, True]])\n",
        "predicted_2D = np.array([[True, False, False, True],\n",
        "                        [False, True, False, True]])\n",
        "micro_averaged_precision(actual_2D, predicted_2D)"
      ],
      "execution_count": 33,
      "outputs": [
        {
          "output_type": "stream",
          "text": [
            "1.0\n"
          ],
          "name": "stdout"
        }
      ]
    },
    {
      "cell_type": "markdown",
      "metadata": {
        "id": "809a1a36-3bbc-42e3-a897-e01f955a92db"
      },
      "source": [
        "**Expected Output**:\n",
        "```\n",
        "1.0\n",
        "```"
      ]
    },
    {
      "cell_type": "markdown",
      "metadata": {
        "id": "8156dc33-4a3c-4640-a102-f330d32c6942"
      },
      "source": [
        "### 3. Micro-averaged Recall\n",
        "\n",
        "Implement the `micro_averaged_recall()` function, which computes the micro-averaged recall for a **multi-label**, multi-class classification problem.\n",
        "\n",
        "\n",
        "**Arguments**:\n",
        "* **`actual_2D`** : Actual labels of instances\n",
        "  * A 2d numpy array where each row represents an instance and each column represents a class.\n",
        "  * For each instance, the value in $i^{th}$ column is `True` if $i^{th}$ class is among the actual labels for that instance. Otherwise, the value in $i^{th}$ column is `False`.\n",
        " \n",
        "\n",
        "* **`predicted_2D`**: Predicted labels of instances\n",
        " * A 2d numpy array where each row represents an instance and each column represents a class. \n",
        " * For each instance, the value in $i^{th}$ column is `True` if $i^{th}$ class is among the predicted labels for that instance. Otherwise, the value in $i^{th}$ column is `False`.\n",
        "\n",
        "**Returns**:  \n",
        "* A `float` value which is the Micro-averaged Recall."
      ]
    },
    {
      "cell_type": "code",
      "metadata": {
        "id": "bb5e559e-6fbc-41e9-a29a-dec1ee9384ba"
      },
      "source": [
        "def micro_averaged_recall(actual_2D, predicted_2D):\n",
        "  result = np.equal(actual_2D.flatten(), predicted_2D.flatten())\n",
        "  total = len(actual_2D.flatten())\n",
        "  count = np.count_nonzero(result)\n",
        "  print(count/total)"
      ],
      "execution_count": 34,
      "outputs": []
    },
    {
      "cell_type": "code",
      "metadata": {
        "id": "1da01c6b-af35-4d08-a292-c0daa92371f2",
        "colab": {
          "base_uri": "https://localhost:8080/"
        },
        "outputId": "5d7dcb5d-3fc6-4d14-9c21-f82acb29e0d1"
      },
      "source": [
        "# SAMPLE TEST CASE\n",
        "\n",
        "actual_2D = np.array([[True, False, False, True],\n",
        "                        [False, True, False, True]])\n",
        "predicted_2D = np.array([[True, False, False, True],\n",
        "                        [False, True, False, True]])\n",
        "micro_averaged_recall(actual_2D, predicted_2D)"
      ],
      "execution_count": 35,
      "outputs": [
        {
          "output_type": "stream",
          "text": [
            "1.0\n"
          ],
          "name": "stdout"
        }
      ]
    },
    {
      "cell_type": "markdown",
      "metadata": {
        "id": "1d902b2f-f6db-4d85-8fcb-59c20d0f1aab"
      },
      "source": [
        "**Expected Output**:\n",
        "```\n",
        "1.0\n",
        "```"
      ]
    },
    {
      "cell_type": "markdown",
      "metadata": {
        "id": "45b5a465-f762-424d-b6e6-57b9e70c69ed"
      },
      "source": [
        "### 4. Students grades\n",
        "\n",
        "Implement the `student_grades()` function, which evaluates the grades of each student for the given marks in a subject. The function should use the relative grading method which is described below.\n",
        "\n",
        "Based on the given marks, assign $Grade_i$ for least possible $i$ such that  $$marks \\ge Avg + Std*offset_i$$\n",
        "\n",
        "$\\hspace{40ex}$ where <br>\n",
        "$\\hspace{43ex}$ $Avg$ is the class average marks,<br>\n",
        "$\\hspace{43ex}$ $Std$ is the standard deviation of class marks\n",
        "\n",
        "\n",
        "If there is no such $i$ which satisfies the condition mentioned above, then assign the last element in the given array of grades. That is, $Grade_{last}$.\n",
        "\n",
        "**Arguments**:\n",
        "* **`marks_1D`** : Marks of each student in a subject.\n",
        " * A 1D numpy array of `ints`\n",
        "* **`offset_1D`**: Offsets for relative grading.\n",
        " * A 1D numpy array of `floats`\n",
        " * It's a sorted array in descending order\n",
        "* **`grades_1D`**: Grades to be assigned for the corresponding range of scores given by the offsets.\n",
        " * A 1D numpy array of `chars`\n",
        "\n",
        "**Returns**:\n",
        "* A 1D numpy array of `chars` which represents the grades for each student.\n",
        "\n"
      ]
    },
    {
      "cell_type": "code",
      "metadata": {
        "id": "e0e1ba3a-871e-4ee1-ac1a-52fd476f8dd8"
      },
      "source": [
        "def student_grades(marks_1D, offset_1D, grades_1D):\n",
        "  compare_marks = np.average(marks_1D) + np.std(marks_1D)*offset_1D\n",
        "\n",
        "  a = np.greater_equal(marks_1D.reshape(-1,1), compare_marks.reshape(1,-1))\n",
        "  index = np.argmax(a, axis=1)\n",
        "\n",
        "  return np.take(grades_1D, index)\n",
        "\n",
        "  "
      ],
      "execution_count": 36,
      "outputs": []
    },
    {
      "cell_type": "code",
      "metadata": {
        "id": "f276bf4f-cda3-4cb0-900d-3b0a6764799f",
        "colab": {
          "base_uri": "https://localhost:8080/"
        },
        "outputId": "70c87e20-ff1e-4630-ea67-973602ebd741"
      },
      "source": [
        "# SAMPLE TEST CASE\n",
        "\n",
        "marks_1D = np.array([9, 8, 8, 7])\n",
        "offset_1D = np.array([1.5, 1.0, 0, -1.0, -1.5])\n",
        "grades_1D = [\"A\",\"B\",\"C\",\"D\",\"E\",\"Z\"]\n",
        "print(student_grades(marks_1D, offset_1D, grades_1D))"
      ],
      "execution_count": 37,
      "outputs": [
        {
          "output_type": "stream",
          "text": [
            "['B' 'C' 'C' 'E']\n"
          ],
          "name": "stdout"
        }
      ]
    },
    {
      "cell_type": "markdown",
      "metadata": {
        "id": "7fc2bb2d-22e8-4443-8465-82979c83a6eb"
      },
      "source": [
        "**Expected Output**:\n",
        "```\n",
        "['B' 'C' 'C' 'E']\n",
        "```"
      ]
    },
    {
      "cell_type": "code",
      "metadata": {
        "id": "X5_SI9QxQVC2"
      },
      "source": [
        ""
      ],
      "execution_count": 37,
      "outputs": []
    }
  ]
}