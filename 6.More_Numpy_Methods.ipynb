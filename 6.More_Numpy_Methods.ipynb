{
  "nbformat": 4,
  "nbformat_minor": 0,
  "metadata": {
    "colab": {
      "name": "More Numpy Methods.ipynb",
      "provenance": [],
      "collapsed_sections": [
        "wLDR4ik0O7aj"
      ],
      "include_colab_link": true
    },
    "kernelspec": {
      "name": "python3",
      "display_name": "Python 3"
    }
  },
  "cells": [
    {
      "cell_type": "markdown",
      "metadata": {
        "id": "view-in-github",
        "colab_type": "text"
      },
      "source": [
        "<a href=\"https://colab.research.google.com/github/MSR806/iBHubs_AI/blob/main/6.More_Numpy_Methods.ipynb\" target=\"_parent\"><img src=\"https://colab.research.google.com/assets/colab-badge.svg\" alt=\"Open In Colab\"/></a>"
      ]
    },
    {
      "cell_type": "code",
      "metadata": {
        "id": "Uv1uyYeEWAOD"
      },
      "source": [
        "import numpy as np"
      ],
      "execution_count": 1,
      "outputs": []
    },
    {
      "cell_type": "markdown",
      "metadata": {
        "id": "RrLpxgE-bH4A"
      },
      "source": [
        "# Padding with Different Pad Widths"
      ]
    },
    {
      "cell_type": "markdown",
      "metadata": {
        "id": "VjHGwgTtn8TX"
      },
      "source": [
        "* `numpy.pad(array, pad_width, mode='constant', **kwargs)`\n",
        "  * `pad_width` is the number of values padded to the edges of each axis.\n",
        "  * Output is padded array of rank equal to `array`, with shape increased according to `pad_width`. \n"
      ]
    },
    {
      "cell_type": "code",
      "metadata": {
        "id": "1jtTpf1lbMg-"
      },
      "source": [
        "array_2D = np.array([['A', 'B', 'C'], \n",
        "                  ['D', 'E', 'F'],\n",
        "                  ['G', 'H', 'I']])"
      ],
      "execution_count": 2,
      "outputs": []
    },
    {
      "cell_type": "markdown",
      "metadata": {
        "id": "e_wB3VUBbOth"
      },
      "source": [
        "Padding with 'constant' mode"
      ]
    },
    {
      "cell_type": "code",
      "metadata": {
        "id": "RFESzPj9bOSD",
        "outputId": "e816b12f-35f6-4dc8-96fb-d6df2921430e",
        "colab": {
          "base_uri": "https://localhost:8080/"
        }
      },
      "source": [
        "np.pad(array_2D, pad_width=((1, 2),(3, 1)), mode='constant', constant_values=(('X', 'Y'),('W', 'Z')))"
      ],
      "execution_count": 3,
      "outputs": [
        {
          "output_type": "execute_result",
          "data": {
            "text/plain": [
              "array([['W', 'W', 'W', 'X', 'X', 'X', 'Z'],\n",
              "       ['W', 'W', 'W', 'A', 'B', 'C', 'Z'],\n",
              "       ['W', 'W', 'W', 'D', 'E', 'F', 'Z'],\n",
              "       ['W', 'W', 'W', 'G', 'H', 'I', 'Z'],\n",
              "       ['W', 'W', 'W', 'Y', 'Y', 'Y', 'Z'],\n",
              "       ['W', 'W', 'W', 'Y', 'Y', 'Y', 'Z']], dtype='<U1')"
            ]
          },
          "metadata": {
            "tags": []
          },
          "execution_count": 3
        }
      ]
    },
    {
      "cell_type": "markdown",
      "metadata": {
        "id": "FmknRzgWbjlS"
      },
      "source": [
        "Pad with 'edge' mode"
      ]
    },
    {
      "cell_type": "code",
      "metadata": {
        "id": "uGDUwwiCbjAw",
        "outputId": "51de8ad9-1846-4fb1-bc53-ab6d7108a6f5",
        "colab": {
          "base_uri": "https://localhost:8080/"
        }
      },
      "source": [
        "np.pad(array_2D, ((1, 2),(3, 1)), 'edge')"
      ],
      "execution_count": 4,
      "outputs": [
        {
          "output_type": "execute_result",
          "data": {
            "text/plain": [
              "array([['A', 'A', 'A', 'A', 'B', 'C', 'C'],\n",
              "       ['A', 'A', 'A', 'A', 'B', 'C', 'C'],\n",
              "       ['D', 'D', 'D', 'D', 'E', 'F', 'F'],\n",
              "       ['G', 'G', 'G', 'G', 'H', 'I', 'I'],\n",
              "       ['G', 'G', 'G', 'G', 'H', 'I', 'I'],\n",
              "       ['G', 'G', 'G', 'G', 'H', 'I', 'I']], dtype='<U1')"
            ]
          },
          "metadata": {
            "tags": []
          },
          "execution_count": 4
        }
      ]
    },
    {
      "cell_type": "markdown",
      "metadata": {
        "id": "ALGnnH8cgpYF"
      },
      "source": [
        "# More Numpy Methods"
      ]
    },
    {
      "cell_type": "markdown",
      "metadata": {
        "id": "QPOaieYpwZ1M"
      },
      "source": [
        "### **`np.unique`**"
      ]
    },
    {
      "cell_type": "markdown",
      "metadata": {
        "id": "IbKMzujPwg6M"
      },
      "source": [
        "\n",
        "\n",
        "*   `np.unique(arr, return_index=False, return_inverse=False, return_counts=False, axis=None)`\n",
        "  *   Returns the sorted unique elements of an array.\n",
        "\n"
      ]
    },
    {
      "cell_type": "code",
      "metadata": {
        "id": "0o1oaX_xxAlS",
        "outputId": "357513f8-14df-46e0-a1bb-c25c26bd630d",
        "colab": {
          "base_uri": "https://localhost:8080/"
        }
      },
      "source": [
        "a = np.array([1, 3, 3, 1, 2, 1])\n",
        "np.unique(a)"
      ],
      "execution_count": 5,
      "outputs": [
        {
          "output_type": "execute_result",
          "data": {
            "text/plain": [
              "array([1, 2, 3])"
            ]
          },
          "metadata": {
            "tags": []
          },
          "execution_count": 5
        }
      ]
    },
    {
      "cell_type": "markdown",
      "metadata": {
        "id": "szulkWFNxXmx"
      },
      "source": [
        "* If `return_index = True`, it returns the indices of the first occurrences of the unique values in the original array, along with the unique sorted array."
      ]
    },
    {
      "cell_type": "code",
      "metadata": {
        "id": "plyINcdJxxxU",
        "outputId": "0d0a7002-eaa2-4512-d714-aea91159ef65",
        "colab": {
          "base_uri": "https://localhost:8080/"
        }
      },
      "source": [
        "unique_array, first_indices = np.unique(a, return_index = True)\n",
        "unique_array, first_indices"
      ],
      "execution_count": 6,
      "outputs": [
        {
          "output_type": "execute_result",
          "data": {
            "text/plain": [
              "(array([1, 2, 3]), array([0, 4, 1]))"
            ]
          },
          "metadata": {
            "tags": []
          },
          "execution_count": 6
        }
      ]
    },
    {
      "cell_type": "markdown",
      "metadata": {
        "id": "mKNAJbimzxsA"
      },
      "source": [
        "* If `return_counts = True`, it returns the number of times each of the unique values comes up in the original array. "
      ]
    },
    {
      "cell_type": "code",
      "metadata": {
        "id": "H3gddXV3z_nw",
        "outputId": "95076387-552f-4e5d-906a-d55b307e9d30",
        "colab": {
          "base_uri": "https://localhost:8080/"
        }
      },
      "source": [
        "a = np.array([1, 3, 3, 1, 2, 1])\n",
        "np.unique(a, return_counts = True)"
      ],
      "execution_count": 7,
      "outputs": [
        {
          "output_type": "execute_result",
          "data": {
            "text/plain": [
              "(array([1, 2, 3]), array([3, 1, 2]))"
            ]
          },
          "metadata": {
            "tags": []
          },
          "execution_count": 7
        }
      ]
    },
    {
      "cell_type": "markdown",
      "metadata": {
        "id": "OH5VcIRC0SnA"
      },
      "source": [
        "The following code returns the unique rows of a 2D array:"
      ]
    },
    {
      "cell_type": "code",
      "metadata": {
        "id": "75JIXI9e0V2Z",
        "outputId": "399192d2-4fa5-4da7-efaf-e55b5b82cad8",
        "colab": {
          "base_uri": "https://localhost:8080/"
        }
      },
      "source": [
        "a = np.array([[1, 2, 1],\n",
        "              [1, 2, 1],\n",
        "              [3, 2, 4]])\n",
        "\n",
        "np.unique(a, axis=0)"
      ],
      "execution_count": 8,
      "outputs": [
        {
          "output_type": "execute_result",
          "data": {
            "text/plain": [
              "array([[1, 2, 1],\n",
              "       [3, 2, 4]])"
            ]
          },
          "metadata": {
            "tags": []
          },
          "execution_count": 8
        }
      ]
    },
    {
      "cell_type": "markdown",
      "metadata": {
        "id": "IWORGEvxynZs"
      },
      "source": [
        "* If `return_inverse = True`, it returns the indices to reconstruct the original array from the unique array."
      ]
    },
    {
      "cell_type": "code",
      "metadata": {
        "id": "XcJ-afsMy9bT",
        "outputId": "504b3d04-5d8a-45a7-c982-a1a15245ebb9",
        "colab": {
          "base_uri": "https://localhost:8080/"
        }
      },
      "source": [
        "a = np.array([1, 3, 3, 1, 2, 1])\n",
        "unique_array, indices = np.unique(a, return_inverse = True)\n",
        "\n",
        "print(\"original array:\\n \", a, \"\\n\")\n",
        "print(\"indices:\\n\", indices, \"\\n\" )\n",
        "print(\"reconstructed original array using fancy indexing:\\n\", unique_array[indices])"
      ],
      "execution_count": 9,
      "outputs": [
        {
          "output_type": "stream",
          "text": [
            "original array:\n",
            "  [1 3 3 1 2 1] \n",
            "\n",
            "indices:\n",
            " [0 2 2 0 1 0] \n",
            "\n",
            "reconstructed original array using fancy indexing:\n",
            " [1 3 3 1 2 1]\n"
          ],
          "name": "stdout"
        }
      ]
    },
    {
      "cell_type": "markdown",
      "metadata": {
        "id": "eZd5VkA34sY3"
      },
      "source": [
        "### **`np.where`**"
      ]
    },
    {
      "cell_type": "markdown",
      "metadata": {
        "id": "EEm_1Exp45Zd"
      },
      "source": [
        "* `numpy.where(condition[, x, y])`\n",
        "  * For all the elements where the condition is `True`, the returned array has the corresponding elements chosen from `x`. \n",
        "  * For all the elements where the condition is `False`, the returned array has the corresponding elements chosen from `y`."
      ]
    },
    {
      "cell_type": "code",
      "metadata": {
        "id": "M7d-Yb8CioNG"
      },
      "source": [
        "np.where?"
      ],
      "execution_count": 10,
      "outputs": []
    },
    {
      "cell_type": "code",
      "metadata": {
        "id": "QEc3OIvK5hYg",
        "outputId": "5497e37b-9253-4c1e-d6e0-1c1ebbe46f50",
        "colab": {
          "base_uri": "https://localhost:8080/"
        }
      },
      "source": [
        "a = np.arange(5)\n",
        "np.where(a > 2, [11, 12, 13, 14, 15], [111, 222, 333, 444, 555])"
      ],
      "execution_count": 11,
      "outputs": [
        {
          "output_type": "execute_result",
          "data": {
            "text/plain": [
              "array([111, 222, 333,  14,  15])"
            ]
          },
          "metadata": {
            "tags": []
          },
          "execution_count": 11
        }
      ]
    },
    {
      "cell_type": "code",
      "metadata": {
        "id": "3a28dAFujeGQ",
        "outputId": "a7643759-1715-4c7b-847a-eb0e8d6c61ba",
        "colab": {
          "base_uri": "https://localhost:8080/"
        }
      },
      "source": [
        "a = np.arange(10)\n",
        "np.where(a > 7, 0, 100)"
      ],
      "execution_count": 12,
      "outputs": [
        {
          "output_type": "execute_result",
          "data": {
            "text/plain": [
              "array([100, 100, 100, 100, 100, 100, 100, 100,   0,   0])"
            ]
          },
          "metadata": {
            "tags": []
          },
          "execution_count": 12
        }
      ]
    },
    {
      "cell_type": "code",
      "metadata": {
        "id": "w3tWQnlXjl9H",
        "outputId": "072b6b43-eacc-47cf-a7b3-464a76e344ee",
        "colab": {
          "base_uri": "https://localhost:8080/"
        }
      },
      "source": [
        "a = np.arange(10)\n",
        "np.where(a > 5, a*2, a*a)"
      ],
      "execution_count": 13,
      "outputs": [
        {
          "output_type": "execute_result",
          "data": {
            "text/plain": [
              "array([ 0,  1,  4,  9, 16, 25, 12, 14, 16, 18])"
            ]
          },
          "metadata": {
            "tags": []
          },
          "execution_count": 13
        }
      ]
    },
    {
      "cell_type": "code",
      "metadata": {
        "id": "mGn4jQy56gtZ",
        "outputId": "f4cf141c-ac68-4c00-f0e4-3750e546ced1",
        "colab": {
          "base_uri": "https://localhost:8080/"
        }
      },
      "source": [
        "a = np.array([[1, 2, 3],\n",
        "              [4, 5, 6]])\n",
        "\n",
        "np.where(a < 5, a , 0)"
      ],
      "execution_count": 14,
      "outputs": [
        {
          "output_type": "execute_result",
          "data": {
            "text/plain": [
              "array([[1, 2, 3],\n",
              "       [4, 0, 0]])"
            ]
          },
          "metadata": {
            "tags": []
          },
          "execution_count": 14
        }
      ]
    },
    {
      "cell_type": "markdown",
      "metadata": {
        "id": "LVIvdngF9U_L"
      },
      "source": [
        "**Comparison can also be done between two different arrays**"
      ]
    },
    {
      "cell_type": "code",
      "metadata": {
        "id": "DeX3uOws9j-J",
        "outputId": "e1c68914-b7b8-4a45-8711-176604d85810",
        "colab": {
          "base_uri": "https://localhost:8080/"
        }
      },
      "source": [
        "a = np.array([[1, 2, 3],\n",
        "              [4, 5, 6]])\n",
        "\n",
        "b = np.ones([2, 3]) * 4\n",
        "\n",
        "print(\"a: \\n\", a, \"\\n\")\n",
        "print(\"b: \\n\", b, \"\\n\")\n",
        "\n",
        "print(\"np.where result:\\n\", np.where(a < b, a , 0))"
      ],
      "execution_count": 15,
      "outputs": [
        {
          "output_type": "stream",
          "text": [
            "a: \n",
            " [[1 2 3]\n",
            " [4 5 6]] \n",
            "\n",
            "b: \n",
            " [[4. 4. 4.]\n",
            " [4. 4. 4.]] \n",
            "\n",
            "np.where result:\n",
            " [[1 2 3]\n",
            " [0 0 0]]\n"
          ],
          "name": "stdout"
        }
      ]
    },
    {
      "cell_type": "markdown",
      "metadata": {
        "id": "atYBIrJ689BN"
      },
      "source": [
        "**When the two arrays are of different shapes, they are broadcast together before applying the operation**"
      ]
    },
    {
      "cell_type": "code",
      "metadata": {
        "id": "IBL3SbYW7oEQ",
        "outputId": "f9049b05-6006-4ca3-b3b7-a34c09e2e88f",
        "colab": {
          "base_uri": "https://localhost:8080/"
        }
      },
      "source": [
        "x = np.array([[0],\n",
        "              [1],\n",
        "              [2]])\n",
        "\n",
        "y = np.array([[3, 4, 5, 6]])\n",
        "\n",
        "np.where(x < y, x, 10 + y)"
      ],
      "execution_count": 16,
      "outputs": [
        {
          "output_type": "execute_result",
          "data": {
            "text/plain": [
              "array([[0, 0, 0, 0],\n",
              "       [1, 1, 1, 1],\n",
              "       [2, 2, 2, 2]])"
            ]
          },
          "metadata": {
            "tags": []
          },
          "execution_count": 16
        }
      ]
    },
    {
      "cell_type": "markdown",
      "metadata": {
        "id": "jJ-Pb46g_dgC"
      },
      "source": [
        "### **`np.any`**"
      ]
    },
    {
      "cell_type": "markdown",
      "metadata": {
        "id": "mRLtdzmH_gm6"
      },
      "source": [
        "* `numpy.any(a, axis=None)`\n",
        "  * Tests whether **any** of the array elements along the given `axis` evaluates to `True`.\n",
        "  * Returns a new boolean ndarray."
      ]
    },
    {
      "cell_type": "code",
      "metadata": {
        "id": "ovM_V3tHEEBa",
        "outputId": "871aacaf-0230-4007-853d-157be5626a88",
        "colab": {
          "base_uri": "https://localhost:8080/"
        }
      },
      "source": [
        "a = np.array([False, True, True, False])\n",
        "np.any(a)"
      ],
      "execution_count": 17,
      "outputs": [
        {
          "output_type": "execute_result",
          "data": {
            "text/plain": [
              "True"
            ]
          },
          "metadata": {
            "tags": []
          },
          "execution_count": 17
        }
      ]
    },
    {
      "cell_type": "code",
      "metadata": {
        "id": "4f1Ifc8rANDJ",
        "outputId": "efb0eb75-3670-42e9-a326-3ae2dc2888a8",
        "colab": {
          "base_uri": "https://localhost:8080/"
        }
      },
      "source": [
        "a = np.array([1, 0, 0, 2])\n",
        "np.any(a)"
      ],
      "execution_count": 18,
      "outputs": [
        {
          "output_type": "execute_result",
          "data": {
            "text/plain": [
              "True"
            ]
          },
          "metadata": {
            "tags": []
          },
          "execution_count": 18
        }
      ]
    },
    {
      "cell_type": "code",
      "metadata": {
        "id": "FVA0rHEbAWbc",
        "outputId": "01f18ece-8677-4ddc-8d12-0748f43d956f",
        "colab": {
          "base_uri": "https://localhost:8080/"
        }
      },
      "source": [
        "a = np.array([0, 0, 0, 0])\n",
        "np.any(a)"
      ],
      "execution_count": 19,
      "outputs": [
        {
          "output_type": "execute_result",
          "data": {
            "text/plain": [
              "False"
            ]
          },
          "metadata": {
            "tags": []
          },
          "execution_count": 19
        }
      ]
    },
    {
      "cell_type": "code",
      "metadata": {
        "id": "w0MULv5XAdWw",
        "outputId": "4848df6b-a5a3-43f4-f6b2-098ec929b4cd",
        "colab": {
          "base_uri": "https://localhost:8080/"
        }
      },
      "source": [
        "a = np.array([[1, 0, 3, 4],\n",
        "              [2, 0, 6, 5]])\n",
        "\n",
        "resultant_array_0 = np.any(a, axis=0)\n",
        "print(\"resultant array along axis 0:\\n\",resultant_array_0,\"\\n\")\n",
        "\n",
        "resultant_array_1 = np.any(a, axis=1)\n",
        "print(\"resultant array along axis 1:\\n\",resultant_array_1,\"\\n\")\n",
        "\n",
        "resultant_array_none = np.any(a)\n",
        "print(\"resultant array along axis none:\\n\",resultant_array_none,\"\\n\")"
      ],
      "execution_count": 20,
      "outputs": [
        {
          "output_type": "stream",
          "text": [
            "resultant array along axis 0:\n",
            " [ True False  True  True] \n",
            "\n",
            "resultant array along axis 1:\n",
            " [ True  True] \n",
            "\n",
            "resultant array along axis none:\n",
            " True \n",
            "\n"
          ],
          "name": "stdout"
        }
      ]
    },
    {
      "cell_type": "markdown",
      "metadata": {
        "id": "VLce1hO-Cifw"
      },
      "source": [
        "### **`np.all`**"
      ]
    },
    {
      "cell_type": "markdown",
      "metadata": {
        "id": "ivCP4PWKCmVY"
      },
      "source": [
        "\n",
        "\n",
        "*   `numpy.all(a, axis=None, out=None)`\n",
        "  *   Tests whether **all** of the array elements along the given `axis` evaluate to `True`.\n",
        "  *   Returns a new boolean ndarray.\n",
        "\n"
      ]
    },
    {
      "cell_type": "code",
      "metadata": {
        "id": "1nXMoTLpC8sL",
        "outputId": "6fe3f51e-62c1-467e-f3c5-604826103db6",
        "colab": {
          "base_uri": "https://localhost:8080/"
        }
      },
      "source": [
        "a = np.array([1, 2, 3, 0])\n",
        "\n",
        "result_any = np.any(a)\n",
        "result_all = np.all(a)\n",
        "\n",
        "print(\"result using any:\\n\", result_any, \"\\n\")\n",
        "print(\"result using all:\\n\", result_all, \"\\n\")"
      ],
      "execution_count": 21,
      "outputs": [
        {
          "output_type": "stream",
          "text": [
            "result using any:\n",
            " True \n",
            "\n",
            "result using all:\n",
            " False \n",
            "\n"
          ],
          "name": "stdout"
        }
      ]
    },
    {
      "cell_type": "code",
      "metadata": {
        "id": "JmHx2z1CDlUe",
        "outputId": "7ad9ec74-d409-4b59-f7ac-56b18fe1a706",
        "colab": {
          "base_uri": "https://localhost:8080/"
        }
      },
      "source": [
        "a = np.array([[1, 0, 3, 4],\n",
        "              [2, 0, 6, 5]])\n",
        "\n",
        "resultant_array_0 = np.all(a, axis=0)\n",
        "print(\"resultant_array_along_axis_0:\\n\",resultant_array_0,\"\\n\")\n",
        "\n",
        "resultant_array_1 = np.all(a, axis=1)\n",
        "print(\"resultant_array_along_axis_1:\\n\",resultant_array_1,\"\\n\")\n",
        "\n",
        "resultant_array_none = np.all(a)\n",
        "print(\"resultant_array_along_axis_none:\\n\",resultant_array_none,\"\\n\")"
      ],
      "execution_count": 22,
      "outputs": [
        {
          "output_type": "stream",
          "text": [
            "resultant_array_along_axis_0:\n",
            " [ True False  True  True] \n",
            "\n",
            "resultant_array_along_axis_1:\n",
            " [False False] \n",
            "\n",
            "resultant_array_along_axis_none:\n",
            " False \n",
            "\n"
          ],
          "name": "stdout"
        }
      ]
    },
    {
      "cell_type": "markdown",
      "metadata": {
        "id": "wLDR4ik0O7aj"
      },
      "source": [
        "### **np.nan**"
      ]
    },
    {
      "cell_type": "markdown",
      "metadata": {
        "id": "Bd9wC2pFO-s5"
      },
      "source": [
        "* `numpy.nan` \n",
        "  * IEEE 754 floating point representation of **N**ot **a** **N**umber(NaN)."
      ]
    },
    {
      "cell_type": "code",
      "metadata": {
        "id": "fa6B3_YfPrAr",
        "outputId": "678c592c-4f6f-43bf-f6c0-ec775acf1d7a",
        "colab": {
          "base_uri": "https://localhost:8080/"
        }
      },
      "source": [
        "a = np.array([0]) / 0\n",
        "a"
      ],
      "execution_count": 23,
      "outputs": [
        {
          "output_type": "stream",
          "text": [
            "/usr/local/lib/python3.6/dist-packages/ipykernel_launcher.py:1: RuntimeWarning: invalid value encountered in true_divide\n",
            "  \"\"\"Entry point for launching an IPython kernel.\n"
          ],
          "name": "stderr"
        },
        {
          "output_type": "execute_result",
          "data": {
            "text/plain": [
              "array([nan])"
            ]
          },
          "metadata": {
            "tags": []
          },
          "execution_count": 23
        }
      ]
    },
    {
      "cell_type": "markdown",
      "metadata": {
        "id": "x7y7_HyOQqhI"
      },
      "source": [
        "**We can not compare two NaNs**"
      ]
    },
    {
      "cell_type": "code",
      "metadata": {
        "id": "13rfHoJYQcVG",
        "outputId": "cc52f467-50ca-4701-eb30-070de5a65591",
        "colab": {
          "base_uri": "https://localhost:8080/"
        }
      },
      "source": [
        "np.nan == np.nan"
      ],
      "execution_count": 24,
      "outputs": [
        {
          "output_type": "execute_result",
          "data": {
            "text/plain": [
              "False"
            ]
          },
          "metadata": {
            "tags": []
          },
          "execution_count": 24
        }
      ]
    },
    {
      "cell_type": "markdown",
      "metadata": {
        "id": "oZnvFfxAP62p"
      },
      "source": [
        "### **np.inf**"
      ]
    },
    {
      "cell_type": "markdown",
      "metadata": {
        "id": "AkVKo0iLP_cX"
      },
      "source": [
        "* `numpy.inf` \n",
        "  * IEEE 754 floating point representation of **(positive) infinity**."
      ]
    },
    {
      "cell_type": "code",
      "metadata": {
        "id": "Uazm1vHWQQVy",
        "outputId": "a7d1633f-1e69-4339-f9d8-8d84bde59719",
        "colab": {
          "base_uri": "https://localhost:8080/"
        }
      },
      "source": [
        "a = np.array([1]) / 0\n",
        "a"
      ],
      "execution_count": 25,
      "outputs": [
        {
          "output_type": "stream",
          "text": [
            "/usr/local/lib/python3.6/dist-packages/ipykernel_launcher.py:1: RuntimeWarning: divide by zero encountered in true_divide\n",
            "  \"\"\"Entry point for launching an IPython kernel.\n"
          ],
          "name": "stderr"
        },
        {
          "output_type": "execute_result",
          "data": {
            "text/plain": [
              "array([inf])"
            ]
          },
          "metadata": {
            "tags": []
          },
          "execution_count": 25
        }
      ]
    },
    {
      "cell_type": "markdown",
      "metadata": {
        "id": "w0K23L-lQxQh"
      },
      "source": [
        "Comparing two inf numbers."
      ]
    },
    {
      "cell_type": "code",
      "metadata": {
        "id": "nof6Zu7KQjSD",
        "outputId": "341cc7aa-2129-45c9-caee-dabb11d937fa",
        "colab": {
          "base_uri": "https://localhost:8080/"
        }
      },
      "source": [
        "np.inf == np.inf"
      ],
      "execution_count": 26,
      "outputs": [
        {
          "output_type": "execute_result",
          "data": {
            "text/plain": [
              "True"
            ]
          },
          "metadata": {
            "tags": []
          },
          "execution_count": 26
        }
      ]
    }
  ]
}