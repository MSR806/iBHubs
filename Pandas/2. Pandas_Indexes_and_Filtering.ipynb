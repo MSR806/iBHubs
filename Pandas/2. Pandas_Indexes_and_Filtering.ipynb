{
  "nbformat": 4,
  "nbformat_minor": 0,
  "metadata": {
    "colab": {
      "name": "Pandas: Indexes and Filtering",
      "provenance": [],
      "collapsed_sections": [],
      "include_colab_link": true
    },
    "kernelspec": {
      "name": "python3",
      "display_name": "Python 3"
    }
  },
  "cells": [
    {
      "cell_type": "markdown",
      "metadata": {
        "id": "view-in-github",
        "colab_type": "text"
      },
      "source": [
        "<a href=\"https://colab.research.google.com/github/MSR806/iBHubs_AI/blob/main/Pandas/2.%20Pandas_Indexes_and_Filtering.ipynb\" target=\"_parent\"><img src=\"https://colab.research.google.com/assets/colab-badge.svg\" alt=\"Open In Colab\"/></a>"
      ]
    },
    {
      "cell_type": "code",
      "metadata": {
        "id": "Zxl281ROjclR"
      },
      "source": [
        "import pandas as pd"
      ],
      "execution_count": 10,
      "outputs": []
    },
    {
      "cell_type": "markdown",
      "metadata": {
        "id": "3WbfjufrlVw7"
      },
      "source": [
        "# Downloading and Loading Datasets\n",
        "Downloading all the required csv files and loading the data into the dataframes"
      ]
    },
    {
      "cell_type": "code",
      "metadata": {
        "id": "Pw5r5G-xldS6",
        "outputId": "8ad4aa28-4c17-4965-c745-518129222712",
        "colab": {
          "base_uri": "https://localhost:8080/"
        }
      },
      "source": [
        "# eCommerce Dataset\n",
        "!wget https://nkb-backend-otg-media-static.s3.ap-south-1.amazonaws.com/otg_prod/media/Tech_4.0/AI_ML/Datasets/shopping_data_v2.csv\n",
        "\n",
        "shopping_df = pd.read_csv('shopping_data_v2.csv')"
      ],
      "execution_count": 11,
      "outputs": [
        {
          "output_type": "stream",
          "text": [
            "--2021-01-04 10:47:24--  https://nkb-backend-otg-media-static.s3.ap-south-1.amazonaws.com/otg_prod/media/Tech_4.0/AI_ML/Datasets/shopping_data_v2.csv\n",
            "Resolving nkb-backend-otg-media-static.s3.ap-south-1.amazonaws.com (nkb-backend-otg-media-static.s3.ap-south-1.amazonaws.com)... 52.219.64.123\n",
            "Connecting to nkb-backend-otg-media-static.s3.ap-south-1.amazonaws.com (nkb-backend-otg-media-static.s3.ap-south-1.amazonaws.com)|52.219.64.123|:443... connected.\n",
            "HTTP request sent, awaiting response... 200 OK\n",
            "Length: 16278053 (16M) [text/csv]\n",
            "Saving to: ‘shopping_data_v2.csv’\n",
            "\n",
            "shopping_data_v2.cs 100%[===================>]  15.52M  5.82MB/s    in 2.7s    \n",
            "\n",
            "2021-01-04 10:47:27 (5.82 MB/s) - ‘shopping_data_v2.csv’ saved [16278053/16278053]\n",
            "\n"
          ],
          "name": "stdout"
        }
      ]
    },
    {
      "cell_type": "code",
      "metadata": {
        "id": "LIYeqaK_M8wZ",
        "colab": {
          "base_uri": "https://localhost:8080/"
        },
        "outputId": "e4874c98-b98c-497e-abf3-62505c99ff69"
      },
      "source": [
        "# Covid Dataset\n",
        "!wget https://nkb-backend-otg-media-static.s3.ap-south-1.amazonaws.com/otg_prod/media/Tech_4.0/AI_ML/Datasets/italy-covid-daywise.csv\n",
        "\n",
        "covid_df = pd.read_csv('italy-covid-daywise.csv')"
      ],
      "execution_count": 12,
      "outputs": [
        {
          "output_type": "stream",
          "text": [
            "--2021-01-04 10:47:28--  https://nkb-backend-otg-media-static.s3.ap-south-1.amazonaws.com/otg_prod/media/Tech_4.0/AI_ML/Datasets/italy-covid-daywise.csv\n",
            "Resolving nkb-backend-otg-media-static.s3.ap-south-1.amazonaws.com (nkb-backend-otg-media-static.s3.ap-south-1.amazonaws.com)... 52.219.64.34\n",
            "Connecting to nkb-backend-otg-media-static.s3.ap-south-1.amazonaws.com (nkb-backend-otg-media-static.s3.ap-south-1.amazonaws.com)|52.219.64.34|:443... connected.\n",
            "HTTP request sent, awaiting response... 200 OK\n",
            "Length: 6619 (6.5K) [text/csv]\n",
            "Saving to: ‘italy-covid-daywise.csv.2’\n",
            "\n",
            "italy-covid-daywise 100%[===================>]   6.46K  --.-KB/s    in 0s      \n",
            "\n",
            "2021-01-04 10:47:29 (245 MB/s) - ‘italy-covid-daywise.csv.2’ saved [6619/6619]\n",
            "\n"
          ],
          "name": "stdout"
        }
      ]
    },
    {
      "cell_type": "code",
      "metadata": {
        "id": "pNKwxH46M8lC",
        "outputId": "3162101f-e3e9-4878-c8bc-606190a7b1bd",
        "colab": {
          "base_uri": "https://localhost:8080/"
        }
      },
      "source": [
        "# Stackoverflow Survey Dataset\n",
        "!wget https://nkb-backend-otg-media-static.s3.ap-south-1.amazonaws.com/otg_prod/media/Tech_4.0/AI_ML/Datasets/survey_results_public.csv\n",
        "\n",
        "survey_df = pd.read_csv('survey_results_public.csv')"
      ],
      "execution_count": 13,
      "outputs": [
        {
          "output_type": "stream",
          "text": [
            "--2021-01-04 10:47:29--  https://nkb-backend-otg-media-static.s3.ap-south-1.amazonaws.com/otg_prod/media/Tech_4.0/AI_ML/Datasets/survey_results_public.csv\n",
            "Resolving nkb-backend-otg-media-static.s3.ap-south-1.amazonaws.com (nkb-backend-otg-media-static.s3.ap-south-1.amazonaws.com)... 52.219.64.34\n",
            "Connecting to nkb-backend-otg-media-static.s3.ap-south-1.amazonaws.com (nkb-backend-otg-media-static.s3.ap-south-1.amazonaws.com)|52.219.64.34|:443... connected.\n",
            "HTTP request sent, awaiting response... 200 OK\n",
            "Length: 94603888 (90M) [text/csv]\n",
            "Saving to: ‘survey_results_public.csv’\n",
            "\n",
            "survey_results_publ 100%[===================>]  90.22M  12.6MB/s    in 8.8s    \n",
            "\n",
            "2021-01-04 10:47:39 (10.3 MB/s) - ‘survey_results_public.csv’ saved [94603888/94603888]\n",
            "\n"
          ],
          "name": "stdout"
        }
      ]
    },
    {
      "cell_type": "code",
      "metadata": {
        "id": "2PuJZuRAM8Za",
        "colab": {
          "base_uri": "https://localhost:8080/"
        },
        "outputId": "406b0692-7551-4f61-ed35-dc06da94049a"
      },
      "source": [
        "# Film Dataset\n",
        "!wget https://nkb-backend-otg-media-static.s3.ap-south-1.amazonaws.com/otg_prod/media/Tech_4.0/AI_ML/Datasets/film.csv\n",
        " \n",
        "films_df = pd.read_csv('film.csv')"
      ],
      "execution_count": 14,
      "outputs": [
        {
          "output_type": "stream",
          "text": [
            "--2021-01-04 10:47:40--  https://nkb-backend-otg-media-static.s3.ap-south-1.amazonaws.com/otg_prod/media/Tech_4.0/AI_ML/Datasets/film.csv\n",
            "Resolving nkb-backend-otg-media-static.s3.ap-south-1.amazonaws.com (nkb-backend-otg-media-static.s3.ap-south-1.amazonaws.com)... 52.219.66.119\n",
            "Connecting to nkb-backend-otg-media-static.s3.ap-south-1.amazonaws.com (nkb-backend-otg-media-static.s3.ap-south-1.amazonaws.com)|52.219.66.119|:443... connected.\n",
            "HTTP request sent, awaiting response... 200 OK\n",
            "Length: 102889 (100K) [text/csv]\n",
            "Saving to: ‘film.csv’\n",
            "\n",
            "film.csv            100%[===================>] 100.48K   215KB/s    in 0.5s    \n",
            "\n",
            "2021-01-04 10:47:42 (215 KB/s) - ‘film.csv’ saved [102889/102889]\n",
            "\n"
          ],
          "name": "stdout"
        }
      ]
    },
    {
      "cell_type": "markdown",
      "metadata": {
        "id": "twOlZ1Wg7s0x"
      },
      "source": [
        "# Display Options"
      ]
    },
    {
      "cell_type": "code",
      "metadata": {
        "id": "-IKLqaw_JtHL",
        "outputId": "b3ba118a-6bf0-4517-96e7-61f908b47ab1",
        "colab": {
          "base_uri": "https://localhost:8080/",
          "height": 424
        }
      },
      "source": [
        "shopping_df"
      ],
      "execution_count": 15,
      "outputs": [
        {
          "output_type": "execute_result",
          "data": {
            "text/html": [
              "<div>\n",
              "<style scoped>\n",
              "    .dataframe tbody tr th:only-of-type {\n",
              "        vertical-align: middle;\n",
              "    }\n",
              "\n",
              "    .dataframe tbody tr th {\n",
              "        vertical-align: top;\n",
              "    }\n",
              "\n",
              "    .dataframe thead th {\n",
              "        text-align: right;\n",
              "    }\n",
              "</style>\n",
              "<table border=\"1\" class=\"dataframe\">\n",
              "  <thead>\n",
              "    <tr style=\"text-align: right;\">\n",
              "      <th></th>\n",
              "      <th>Order ID</th>\n",
              "      <th>Product</th>\n",
              "      <th>Quantity Ordered</th>\n",
              "      <th>Price Each</th>\n",
              "      <th>Order Date</th>\n",
              "      <th>Purchase Address</th>\n",
              "    </tr>\n",
              "  </thead>\n",
              "  <tbody>\n",
              "    <tr>\n",
              "      <th>0</th>\n",
              "      <td>176558</td>\n",
              "      <td>USB-C Charging Cable</td>\n",
              "      <td>2</td>\n",
              "      <td>11.95</td>\n",
              "      <td>04/19/19 08:46</td>\n",
              "      <td>917 1st St, Dallas, TX 75001</td>\n",
              "    </tr>\n",
              "    <tr>\n",
              "      <th>1</th>\n",
              "      <td>176559</td>\n",
              "      <td>Bose SoundSport Headphones</td>\n",
              "      <td>1</td>\n",
              "      <td>99.99</td>\n",
              "      <td>04/07/19 22:30</td>\n",
              "      <td>682 Chestnut St, Boston, MA 02215</td>\n",
              "    </tr>\n",
              "    <tr>\n",
              "      <th>2</th>\n",
              "      <td>176560</td>\n",
              "      <td>Google Phone</td>\n",
              "      <td>1</td>\n",
              "      <td>600.00</td>\n",
              "      <td>04/12/19 14:38</td>\n",
              "      <td>669 Spruce St, Los Angeles, CA 90001</td>\n",
              "    </tr>\n",
              "    <tr>\n",
              "      <th>3</th>\n",
              "      <td>176560</td>\n",
              "      <td>Wired Headphones</td>\n",
              "      <td>1</td>\n",
              "      <td>11.99</td>\n",
              "      <td>04/12/19 14:38</td>\n",
              "      <td>669 Spruce St, Los Angeles, CA 90001</td>\n",
              "    </tr>\n",
              "    <tr>\n",
              "      <th>4</th>\n",
              "      <td>176561</td>\n",
              "      <td>Wired Headphones</td>\n",
              "      <td>1</td>\n",
              "      <td>11.99</td>\n",
              "      <td>04/30/19 09:27</td>\n",
              "      <td>333 8th St, Los Angeles, CA 90001</td>\n",
              "    </tr>\n",
              "    <tr>\n",
              "      <th>...</th>\n",
              "      <td>...</td>\n",
              "      <td>...</td>\n",
              "      <td>...</td>\n",
              "      <td>...</td>\n",
              "      <td>...</td>\n",
              "      <td>...</td>\n",
              "    </tr>\n",
              "    <tr>\n",
              "      <th>185945</th>\n",
              "      <td>176554</td>\n",
              "      <td>Lightning Charging Cable</td>\n",
              "      <td>1</td>\n",
              "      <td>14.95</td>\n",
              "      <td>03/24/19 11:14</td>\n",
              "      <td>672 12th St, San Francisco, CA 94016</td>\n",
              "    </tr>\n",
              "    <tr>\n",
              "      <th>185946</th>\n",
              "      <td>176555</td>\n",
              "      <td>27in FHD Monitor</td>\n",
              "      <td>1</td>\n",
              "      <td>149.99</td>\n",
              "      <td>03/22/19 20:27</td>\n",
              "      <td>42 4th St, San Francisco, CA 94016</td>\n",
              "    </tr>\n",
              "    <tr>\n",
              "      <th>185947</th>\n",
              "      <td>176556</td>\n",
              "      <td>AAA Batteries (4-pack)</td>\n",
              "      <td>3</td>\n",
              "      <td>2.99</td>\n",
              "      <td>03/14/19 10:29</td>\n",
              "      <td>871 7th St, Los Angeles, CA 90001</td>\n",
              "    </tr>\n",
              "    <tr>\n",
              "      <th>185948</th>\n",
              "      <td>176557</td>\n",
              "      <td>iPhone</td>\n",
              "      <td>1</td>\n",
              "      <td>700.00</td>\n",
              "      <td>03/30/19 12:32</td>\n",
              "      <td>83 Washington St, San Francisco, CA 94016</td>\n",
              "    </tr>\n",
              "    <tr>\n",
              "      <th>185949</th>\n",
              "      <td>176557</td>\n",
              "      <td>Lightning Charging Cable</td>\n",
              "      <td>1</td>\n",
              "      <td>14.95</td>\n",
              "      <td>03/30/19 12:32</td>\n",
              "      <td>83 Washington St, San Francisco, CA 94016</td>\n",
              "    </tr>\n",
              "  </tbody>\n",
              "</table>\n",
              "<p>185950 rows × 6 columns</p>\n",
              "</div>"
            ],
            "text/plain": [
              "        Order ID  ...                           Purchase Address\n",
              "0         176558  ...               917 1st St, Dallas, TX 75001\n",
              "1         176559  ...          682 Chestnut St, Boston, MA 02215\n",
              "2         176560  ...       669 Spruce St, Los Angeles, CA 90001\n",
              "3         176560  ...       669 Spruce St, Los Angeles, CA 90001\n",
              "4         176561  ...          333 8th St, Los Angeles, CA 90001\n",
              "...          ...  ...                                        ...\n",
              "185945    176554  ...       672 12th St, San Francisco, CA 94016\n",
              "185946    176555  ...         42 4th St, San Francisco, CA 94016\n",
              "185947    176556  ...          871 7th St, Los Angeles, CA 90001\n",
              "185948    176557  ...  83 Washington St, San Francisco, CA 94016\n",
              "185949    176557  ...  83 Washington St, San Francisco, CA 94016\n",
              "\n",
              "[185950 rows x 6 columns]"
            ]
          },
          "metadata": {
            "tags": []
          },
          "execution_count": 15
        }
      ]
    },
    {
      "cell_type": "code",
      "metadata": {
        "id": "9iUgNtUk8ipW"
      },
      "source": [
        "pd.set_option('display.max_rows', 8)\n"
      ],
      "execution_count": 16,
      "outputs": []
    },
    {
      "cell_type": "code",
      "metadata": {
        "id": "149Rhr_-J6LG",
        "outputId": "6af70e7d-1b19-4189-a3b9-8f3a56ed8c94",
        "colab": {
          "base_uri": "https://localhost:8080/",
          "height": 361
        }
      },
      "source": [
        "shopping_df\n"
      ],
      "execution_count": 17,
      "outputs": [
        {
          "output_type": "execute_result",
          "data": {
            "text/html": [
              "<div>\n",
              "<style scoped>\n",
              "    .dataframe tbody tr th:only-of-type {\n",
              "        vertical-align: middle;\n",
              "    }\n",
              "\n",
              "    .dataframe tbody tr th {\n",
              "        vertical-align: top;\n",
              "    }\n",
              "\n",
              "    .dataframe thead th {\n",
              "        text-align: right;\n",
              "    }\n",
              "</style>\n",
              "<table border=\"1\" class=\"dataframe\">\n",
              "  <thead>\n",
              "    <tr style=\"text-align: right;\">\n",
              "      <th></th>\n",
              "      <th>Order ID</th>\n",
              "      <th>Product</th>\n",
              "      <th>Quantity Ordered</th>\n",
              "      <th>Price Each</th>\n",
              "      <th>Order Date</th>\n",
              "      <th>Purchase Address</th>\n",
              "    </tr>\n",
              "  </thead>\n",
              "  <tbody>\n",
              "    <tr>\n",
              "      <th>0</th>\n",
              "      <td>176558</td>\n",
              "      <td>USB-C Charging Cable</td>\n",
              "      <td>2</td>\n",
              "      <td>11.95</td>\n",
              "      <td>04/19/19 08:46</td>\n",
              "      <td>917 1st St, Dallas, TX 75001</td>\n",
              "    </tr>\n",
              "    <tr>\n",
              "      <th>1</th>\n",
              "      <td>176559</td>\n",
              "      <td>Bose SoundSport Headphones</td>\n",
              "      <td>1</td>\n",
              "      <td>99.99</td>\n",
              "      <td>04/07/19 22:30</td>\n",
              "      <td>682 Chestnut St, Boston, MA 02215</td>\n",
              "    </tr>\n",
              "    <tr>\n",
              "      <th>2</th>\n",
              "      <td>176560</td>\n",
              "      <td>Google Phone</td>\n",
              "      <td>1</td>\n",
              "      <td>600.00</td>\n",
              "      <td>04/12/19 14:38</td>\n",
              "      <td>669 Spruce St, Los Angeles, CA 90001</td>\n",
              "    </tr>\n",
              "    <tr>\n",
              "      <th>3</th>\n",
              "      <td>176560</td>\n",
              "      <td>Wired Headphones</td>\n",
              "      <td>1</td>\n",
              "      <td>11.99</td>\n",
              "      <td>04/12/19 14:38</td>\n",
              "      <td>669 Spruce St, Los Angeles, CA 90001</td>\n",
              "    </tr>\n",
              "    <tr>\n",
              "      <th>...</th>\n",
              "      <td>...</td>\n",
              "      <td>...</td>\n",
              "      <td>...</td>\n",
              "      <td>...</td>\n",
              "      <td>...</td>\n",
              "      <td>...</td>\n",
              "    </tr>\n",
              "    <tr>\n",
              "      <th>185946</th>\n",
              "      <td>176555</td>\n",
              "      <td>27in FHD Monitor</td>\n",
              "      <td>1</td>\n",
              "      <td>149.99</td>\n",
              "      <td>03/22/19 20:27</td>\n",
              "      <td>42 4th St, San Francisco, CA 94016</td>\n",
              "    </tr>\n",
              "    <tr>\n",
              "      <th>185947</th>\n",
              "      <td>176556</td>\n",
              "      <td>AAA Batteries (4-pack)</td>\n",
              "      <td>3</td>\n",
              "      <td>2.99</td>\n",
              "      <td>03/14/19 10:29</td>\n",
              "      <td>871 7th St, Los Angeles, CA 90001</td>\n",
              "    </tr>\n",
              "    <tr>\n",
              "      <th>185948</th>\n",
              "      <td>176557</td>\n",
              "      <td>iPhone</td>\n",
              "      <td>1</td>\n",
              "      <td>700.00</td>\n",
              "      <td>03/30/19 12:32</td>\n",
              "      <td>83 Washington St, San Francisco, CA 94016</td>\n",
              "    </tr>\n",
              "    <tr>\n",
              "      <th>185949</th>\n",
              "      <td>176557</td>\n",
              "      <td>Lightning Charging Cable</td>\n",
              "      <td>1</td>\n",
              "      <td>14.95</td>\n",
              "      <td>03/30/19 12:32</td>\n",
              "      <td>83 Washington St, San Francisco, CA 94016</td>\n",
              "    </tr>\n",
              "  </tbody>\n",
              "</table>\n",
              "<p>185950 rows × 6 columns</p>\n",
              "</div>"
            ],
            "text/plain": [
              "        Order ID  ...                           Purchase Address\n",
              "0         176558  ...               917 1st St, Dallas, TX 75001\n",
              "1         176559  ...          682 Chestnut St, Boston, MA 02215\n",
              "2         176560  ...       669 Spruce St, Los Angeles, CA 90001\n",
              "3         176560  ...       669 Spruce St, Los Angeles, CA 90001\n",
              "...          ...  ...                                        ...\n",
              "185946    176555  ...         42 4th St, San Francisco, CA 94016\n",
              "185947    176556  ...          871 7th St, Los Angeles, CA 90001\n",
              "185948    176557  ...  83 Washington St, San Francisco, CA 94016\n",
              "185949    176557  ...  83 Washington St, San Francisco, CA 94016\n",
              "\n",
              "[185950 rows x 6 columns]"
            ]
          },
          "metadata": {
            "tags": []
          },
          "execution_count": 17
        }
      ]
    },
    {
      "cell_type": "markdown",
      "metadata": {
        "id": "D4PrIhHJCufp"
      },
      "source": [
        "**To display more than 10 rows when the dataframe is truncated, set the `min_rows` option to be greater than 10.**"
      ]
    },
    {
      "cell_type": "code",
      "metadata": {
        "id": "a1NMbF7HB01Q",
        "outputId": "df62a27b-6e70-46fa-a795-976f0c895e9b",
        "colab": {
          "base_uri": "https://localhost:8080/",
          "height": 863
        }
      },
      "source": [
        "pd.set_option('display.min_rows', 25)\n",
        "pd.set_option('display.max_rows', 30)\n",
        "shopping_df"
      ],
      "execution_count": 18,
      "outputs": [
        {
          "output_type": "execute_result",
          "data": {
            "text/html": [
              "<div>\n",
              "<style scoped>\n",
              "    .dataframe tbody tr th:only-of-type {\n",
              "        vertical-align: middle;\n",
              "    }\n",
              "\n",
              "    .dataframe tbody tr th {\n",
              "        vertical-align: top;\n",
              "    }\n",
              "\n",
              "    .dataframe thead th {\n",
              "        text-align: right;\n",
              "    }\n",
              "</style>\n",
              "<table border=\"1\" class=\"dataframe\">\n",
              "  <thead>\n",
              "    <tr style=\"text-align: right;\">\n",
              "      <th></th>\n",
              "      <th>Order ID</th>\n",
              "      <th>Product</th>\n",
              "      <th>Quantity Ordered</th>\n",
              "      <th>Price Each</th>\n",
              "      <th>Order Date</th>\n",
              "      <th>Purchase Address</th>\n",
              "    </tr>\n",
              "  </thead>\n",
              "  <tbody>\n",
              "    <tr>\n",
              "      <th>0</th>\n",
              "      <td>176558</td>\n",
              "      <td>USB-C Charging Cable</td>\n",
              "      <td>2</td>\n",
              "      <td>11.95</td>\n",
              "      <td>04/19/19 08:46</td>\n",
              "      <td>917 1st St, Dallas, TX 75001</td>\n",
              "    </tr>\n",
              "    <tr>\n",
              "      <th>1</th>\n",
              "      <td>176559</td>\n",
              "      <td>Bose SoundSport Headphones</td>\n",
              "      <td>1</td>\n",
              "      <td>99.99</td>\n",
              "      <td>04/07/19 22:30</td>\n",
              "      <td>682 Chestnut St, Boston, MA 02215</td>\n",
              "    </tr>\n",
              "    <tr>\n",
              "      <th>2</th>\n",
              "      <td>176560</td>\n",
              "      <td>Google Phone</td>\n",
              "      <td>1</td>\n",
              "      <td>600.00</td>\n",
              "      <td>04/12/19 14:38</td>\n",
              "      <td>669 Spruce St, Los Angeles, CA 90001</td>\n",
              "    </tr>\n",
              "    <tr>\n",
              "      <th>3</th>\n",
              "      <td>176560</td>\n",
              "      <td>Wired Headphones</td>\n",
              "      <td>1</td>\n",
              "      <td>11.99</td>\n",
              "      <td>04/12/19 14:38</td>\n",
              "      <td>669 Spruce St, Los Angeles, CA 90001</td>\n",
              "    </tr>\n",
              "    <tr>\n",
              "      <th>4</th>\n",
              "      <td>176561</td>\n",
              "      <td>Wired Headphones</td>\n",
              "      <td>1</td>\n",
              "      <td>11.99</td>\n",
              "      <td>04/30/19 09:27</td>\n",
              "      <td>333 8th St, Los Angeles, CA 90001</td>\n",
              "    </tr>\n",
              "    <tr>\n",
              "      <th>5</th>\n",
              "      <td>176562</td>\n",
              "      <td>USB-C Charging Cable</td>\n",
              "      <td>1</td>\n",
              "      <td>11.95</td>\n",
              "      <td>04/29/19 13:03</td>\n",
              "      <td>381 Wilson St, San Francisco, CA 94016</td>\n",
              "    </tr>\n",
              "    <tr>\n",
              "      <th>6</th>\n",
              "      <td>176563</td>\n",
              "      <td>Bose SoundSport Headphones</td>\n",
              "      <td>1</td>\n",
              "      <td>99.99</td>\n",
              "      <td>04/02/19 07:46</td>\n",
              "      <td>668 Center St, Seattle, WA 98101</td>\n",
              "    </tr>\n",
              "    <tr>\n",
              "      <th>7</th>\n",
              "      <td>176564</td>\n",
              "      <td>USB-C Charging Cable</td>\n",
              "      <td>1</td>\n",
              "      <td>11.95</td>\n",
              "      <td>04/12/19 10:58</td>\n",
              "      <td>790 Ridge St, Atlanta, GA 30301</td>\n",
              "    </tr>\n",
              "    <tr>\n",
              "      <th>8</th>\n",
              "      <td>176565</td>\n",
              "      <td>Macbook Pro Laptop</td>\n",
              "      <td>1</td>\n",
              "      <td>1700.00</td>\n",
              "      <td>04/24/19 10:38</td>\n",
              "      <td>915 Willow St, San Francisco, CA 94016</td>\n",
              "    </tr>\n",
              "    <tr>\n",
              "      <th>9</th>\n",
              "      <td>176566</td>\n",
              "      <td>Wired Headphones</td>\n",
              "      <td>1</td>\n",
              "      <td>11.99</td>\n",
              "      <td>04/08/19 14:05</td>\n",
              "      <td>83 7th St, Boston, MA 02215</td>\n",
              "    </tr>\n",
              "    <tr>\n",
              "      <th>10</th>\n",
              "      <td>176567</td>\n",
              "      <td>Google Phone</td>\n",
              "      <td>1</td>\n",
              "      <td>600.00</td>\n",
              "      <td>04/18/19 17:18</td>\n",
              "      <td>444 7th St, Los Angeles, CA 90001</td>\n",
              "    </tr>\n",
              "    <tr>\n",
              "      <th>11</th>\n",
              "      <td>176568</td>\n",
              "      <td>Lightning Charging Cable</td>\n",
              "      <td>1</td>\n",
              "      <td>14.95</td>\n",
              "      <td>04/15/19 12:18</td>\n",
              "      <td>438 Elm St, Seattle, WA 98101</td>\n",
              "    </tr>\n",
              "    <tr>\n",
              "      <th>...</th>\n",
              "      <td>...</td>\n",
              "      <td>...</td>\n",
              "      <td>...</td>\n",
              "      <td>...</td>\n",
              "      <td>...</td>\n",
              "      <td>...</td>\n",
              "    </tr>\n",
              "    <tr>\n",
              "      <th>185938</th>\n",
              "      <td>176547</td>\n",
              "      <td>Wired Headphones</td>\n",
              "      <td>2</td>\n",
              "      <td>11.99</td>\n",
              "      <td>03/01/19 16:39</td>\n",
              "      <td>998 Pine St, Boston, MA 02215</td>\n",
              "    </tr>\n",
              "    <tr>\n",
              "      <th>185939</th>\n",
              "      <td>176548</td>\n",
              "      <td>AAA Batteries (4-pack)</td>\n",
              "      <td>1</td>\n",
              "      <td>2.99</td>\n",
              "      <td>03/16/19 15:36</td>\n",
              "      <td>9 Sunset St, Portland, OR 97035</td>\n",
              "    </tr>\n",
              "    <tr>\n",
              "      <th>185940</th>\n",
              "      <td>176549</td>\n",
              "      <td>iPhone</td>\n",
              "      <td>1</td>\n",
              "      <td>700.00</td>\n",
              "      <td>03/20/19 01:24</td>\n",
              "      <td>604 Park St, Los Angeles, CA 90001</td>\n",
              "    </tr>\n",
              "    <tr>\n",
              "      <th>185941</th>\n",
              "      <td>176550</td>\n",
              "      <td>Wired Headphones</td>\n",
              "      <td>1</td>\n",
              "      <td>11.99</td>\n",
              "      <td>03/01/19 22:30</td>\n",
              "      <td>16 Sunset St, San Francisco, CA 94016</td>\n",
              "    </tr>\n",
              "    <tr>\n",
              "      <th>185942</th>\n",
              "      <td>176551</td>\n",
              "      <td>LG Washing Machine</td>\n",
              "      <td>1</td>\n",
              "      <td>600.00</td>\n",
              "      <td>03/20/19 23:49</td>\n",
              "      <td>567 River St, San Francisco, CA 94016</td>\n",
              "    </tr>\n",
              "    <tr>\n",
              "      <th>185943</th>\n",
              "      <td>176552</td>\n",
              "      <td>Apple Airpods Headphones</td>\n",
              "      <td>1</td>\n",
              "      <td>150.00</td>\n",
              "      <td>03/08/19 14:07</td>\n",
              "      <td>578 Main St, Los Angeles, CA 90001</td>\n",
              "    </tr>\n",
              "    <tr>\n",
              "      <th>185944</th>\n",
              "      <td>176553</td>\n",
              "      <td>USB-C Charging Cable</td>\n",
              "      <td>1</td>\n",
              "      <td>11.95</td>\n",
              "      <td>03/02/19 22:27</td>\n",
              "      <td>437 Washington St, New York City, NY 10001</td>\n",
              "    </tr>\n",
              "    <tr>\n",
              "      <th>185945</th>\n",
              "      <td>176554</td>\n",
              "      <td>Lightning Charging Cable</td>\n",
              "      <td>1</td>\n",
              "      <td>14.95</td>\n",
              "      <td>03/24/19 11:14</td>\n",
              "      <td>672 12th St, San Francisco, CA 94016</td>\n",
              "    </tr>\n",
              "    <tr>\n",
              "      <th>185946</th>\n",
              "      <td>176555</td>\n",
              "      <td>27in FHD Monitor</td>\n",
              "      <td>1</td>\n",
              "      <td>149.99</td>\n",
              "      <td>03/22/19 20:27</td>\n",
              "      <td>42 4th St, San Francisco, CA 94016</td>\n",
              "    </tr>\n",
              "    <tr>\n",
              "      <th>185947</th>\n",
              "      <td>176556</td>\n",
              "      <td>AAA Batteries (4-pack)</td>\n",
              "      <td>3</td>\n",
              "      <td>2.99</td>\n",
              "      <td>03/14/19 10:29</td>\n",
              "      <td>871 7th St, Los Angeles, CA 90001</td>\n",
              "    </tr>\n",
              "    <tr>\n",
              "      <th>185948</th>\n",
              "      <td>176557</td>\n",
              "      <td>iPhone</td>\n",
              "      <td>1</td>\n",
              "      <td>700.00</td>\n",
              "      <td>03/30/19 12:32</td>\n",
              "      <td>83 Washington St, San Francisco, CA 94016</td>\n",
              "    </tr>\n",
              "    <tr>\n",
              "      <th>185949</th>\n",
              "      <td>176557</td>\n",
              "      <td>Lightning Charging Cable</td>\n",
              "      <td>1</td>\n",
              "      <td>14.95</td>\n",
              "      <td>03/30/19 12:32</td>\n",
              "      <td>83 Washington St, San Francisco, CA 94016</td>\n",
              "    </tr>\n",
              "  </tbody>\n",
              "</table>\n",
              "<p>185950 rows × 6 columns</p>\n",
              "</div>"
            ],
            "text/plain": [
              "        Order ID  ...                            Purchase Address\n",
              "0         176558  ...                917 1st St, Dallas, TX 75001\n",
              "1         176559  ...           682 Chestnut St, Boston, MA 02215\n",
              "2         176560  ...        669 Spruce St, Los Angeles, CA 90001\n",
              "3         176560  ...        669 Spruce St, Los Angeles, CA 90001\n",
              "4         176561  ...           333 8th St, Los Angeles, CA 90001\n",
              "5         176562  ...      381 Wilson St, San Francisco, CA 94016\n",
              "6         176563  ...            668 Center St, Seattle, WA 98101\n",
              "7         176564  ...             790 Ridge St, Atlanta, GA 30301\n",
              "8         176565  ...      915 Willow St, San Francisco, CA 94016\n",
              "9         176566  ...                 83 7th St, Boston, MA 02215\n",
              "10        176567  ...           444 7th St, Los Angeles, CA 90001\n",
              "11        176568  ...               438 Elm St, Seattle, WA 98101\n",
              "...          ...  ...                                         ...\n",
              "185938    176547  ...               998 Pine St, Boston, MA 02215\n",
              "185939    176548  ...             9 Sunset St, Portland, OR 97035\n",
              "185940    176549  ...          604 Park St, Los Angeles, CA 90001\n",
              "185941    176550  ...       16 Sunset St, San Francisco, CA 94016\n",
              "185942    176551  ...       567 River St, San Francisco, CA 94016\n",
              "185943    176552  ...          578 Main St, Los Angeles, CA 90001\n",
              "185944    176553  ...  437 Washington St, New York City, NY 10001\n",
              "185945    176554  ...        672 12th St, San Francisco, CA 94016\n",
              "185946    176555  ...          42 4th St, San Francisco, CA 94016\n",
              "185947    176556  ...           871 7th St, Los Angeles, CA 90001\n",
              "185948    176557  ...   83 Washington St, San Francisco, CA 94016\n",
              "185949    176557  ...   83 Washington St, San Francisco, CA 94016\n",
              "\n",
              "[185950 rows x 6 columns]"
            ]
          },
          "metadata": {
            "tags": []
          },
          "execution_count": 18
        }
      ]
    },
    {
      "cell_type": "code",
      "metadata": {
        "id": "kge-8co29gzw"
      },
      "source": [
        "pd.set_option('display.max_columns', 2)"
      ],
      "execution_count": 19,
      "outputs": []
    },
    {
      "cell_type": "code",
      "metadata": {
        "id": "AUFbbt2g9UTU",
        "outputId": "6d1bdb3c-a3aa-449e-c035-0ff3d79b865b",
        "colab": {
          "base_uri": "https://localhost:8080/",
          "height": 863
        }
      },
      "source": [
        "shopping_df"
      ],
      "execution_count": 20,
      "outputs": [
        {
          "output_type": "execute_result",
          "data": {
            "text/html": [
              "<div>\n",
              "<style scoped>\n",
              "    .dataframe tbody tr th:only-of-type {\n",
              "        vertical-align: middle;\n",
              "    }\n",
              "\n",
              "    .dataframe tbody tr th {\n",
              "        vertical-align: top;\n",
              "    }\n",
              "\n",
              "    .dataframe thead th {\n",
              "        text-align: right;\n",
              "    }\n",
              "</style>\n",
              "<table border=\"1\" class=\"dataframe\">\n",
              "  <thead>\n",
              "    <tr style=\"text-align: right;\">\n",
              "      <th></th>\n",
              "      <th>Order ID</th>\n",
              "      <th>...</th>\n",
              "      <th>Purchase Address</th>\n",
              "    </tr>\n",
              "  </thead>\n",
              "  <tbody>\n",
              "    <tr>\n",
              "      <th>0</th>\n",
              "      <td>176558</td>\n",
              "      <td>...</td>\n",
              "      <td>917 1st St, Dallas, TX 75001</td>\n",
              "    </tr>\n",
              "    <tr>\n",
              "      <th>1</th>\n",
              "      <td>176559</td>\n",
              "      <td>...</td>\n",
              "      <td>682 Chestnut St, Boston, MA 02215</td>\n",
              "    </tr>\n",
              "    <tr>\n",
              "      <th>2</th>\n",
              "      <td>176560</td>\n",
              "      <td>...</td>\n",
              "      <td>669 Spruce St, Los Angeles, CA 90001</td>\n",
              "    </tr>\n",
              "    <tr>\n",
              "      <th>3</th>\n",
              "      <td>176560</td>\n",
              "      <td>...</td>\n",
              "      <td>669 Spruce St, Los Angeles, CA 90001</td>\n",
              "    </tr>\n",
              "    <tr>\n",
              "      <th>4</th>\n",
              "      <td>176561</td>\n",
              "      <td>...</td>\n",
              "      <td>333 8th St, Los Angeles, CA 90001</td>\n",
              "    </tr>\n",
              "    <tr>\n",
              "      <th>5</th>\n",
              "      <td>176562</td>\n",
              "      <td>...</td>\n",
              "      <td>381 Wilson St, San Francisco, CA 94016</td>\n",
              "    </tr>\n",
              "    <tr>\n",
              "      <th>6</th>\n",
              "      <td>176563</td>\n",
              "      <td>...</td>\n",
              "      <td>668 Center St, Seattle, WA 98101</td>\n",
              "    </tr>\n",
              "    <tr>\n",
              "      <th>7</th>\n",
              "      <td>176564</td>\n",
              "      <td>...</td>\n",
              "      <td>790 Ridge St, Atlanta, GA 30301</td>\n",
              "    </tr>\n",
              "    <tr>\n",
              "      <th>8</th>\n",
              "      <td>176565</td>\n",
              "      <td>...</td>\n",
              "      <td>915 Willow St, San Francisco, CA 94016</td>\n",
              "    </tr>\n",
              "    <tr>\n",
              "      <th>9</th>\n",
              "      <td>176566</td>\n",
              "      <td>...</td>\n",
              "      <td>83 7th St, Boston, MA 02215</td>\n",
              "    </tr>\n",
              "    <tr>\n",
              "      <th>10</th>\n",
              "      <td>176567</td>\n",
              "      <td>...</td>\n",
              "      <td>444 7th St, Los Angeles, CA 90001</td>\n",
              "    </tr>\n",
              "    <tr>\n",
              "      <th>11</th>\n",
              "      <td>176568</td>\n",
              "      <td>...</td>\n",
              "      <td>438 Elm St, Seattle, WA 98101</td>\n",
              "    </tr>\n",
              "    <tr>\n",
              "      <th>...</th>\n",
              "      <td>...</td>\n",
              "      <td>...</td>\n",
              "      <td>...</td>\n",
              "    </tr>\n",
              "    <tr>\n",
              "      <th>185938</th>\n",
              "      <td>176547</td>\n",
              "      <td>...</td>\n",
              "      <td>998 Pine St, Boston, MA 02215</td>\n",
              "    </tr>\n",
              "    <tr>\n",
              "      <th>185939</th>\n",
              "      <td>176548</td>\n",
              "      <td>...</td>\n",
              "      <td>9 Sunset St, Portland, OR 97035</td>\n",
              "    </tr>\n",
              "    <tr>\n",
              "      <th>185940</th>\n",
              "      <td>176549</td>\n",
              "      <td>...</td>\n",
              "      <td>604 Park St, Los Angeles, CA 90001</td>\n",
              "    </tr>\n",
              "    <tr>\n",
              "      <th>185941</th>\n",
              "      <td>176550</td>\n",
              "      <td>...</td>\n",
              "      <td>16 Sunset St, San Francisco, CA 94016</td>\n",
              "    </tr>\n",
              "    <tr>\n",
              "      <th>185942</th>\n",
              "      <td>176551</td>\n",
              "      <td>...</td>\n",
              "      <td>567 River St, San Francisco, CA 94016</td>\n",
              "    </tr>\n",
              "    <tr>\n",
              "      <th>185943</th>\n",
              "      <td>176552</td>\n",
              "      <td>...</td>\n",
              "      <td>578 Main St, Los Angeles, CA 90001</td>\n",
              "    </tr>\n",
              "    <tr>\n",
              "      <th>185944</th>\n",
              "      <td>176553</td>\n",
              "      <td>...</td>\n",
              "      <td>437 Washington St, New York City, NY 10001</td>\n",
              "    </tr>\n",
              "    <tr>\n",
              "      <th>185945</th>\n",
              "      <td>176554</td>\n",
              "      <td>...</td>\n",
              "      <td>672 12th St, San Francisco, CA 94016</td>\n",
              "    </tr>\n",
              "    <tr>\n",
              "      <th>185946</th>\n",
              "      <td>176555</td>\n",
              "      <td>...</td>\n",
              "      <td>42 4th St, San Francisco, CA 94016</td>\n",
              "    </tr>\n",
              "    <tr>\n",
              "      <th>185947</th>\n",
              "      <td>176556</td>\n",
              "      <td>...</td>\n",
              "      <td>871 7th St, Los Angeles, CA 90001</td>\n",
              "    </tr>\n",
              "    <tr>\n",
              "      <th>185948</th>\n",
              "      <td>176557</td>\n",
              "      <td>...</td>\n",
              "      <td>83 Washington St, San Francisco, CA 94016</td>\n",
              "    </tr>\n",
              "    <tr>\n",
              "      <th>185949</th>\n",
              "      <td>176557</td>\n",
              "      <td>...</td>\n",
              "      <td>83 Washington St, San Francisco, CA 94016</td>\n",
              "    </tr>\n",
              "  </tbody>\n",
              "</table>\n",
              "<p>185950 rows × 6 columns</p>\n",
              "</div>"
            ],
            "text/plain": [
              "        Order ID  ...                            Purchase Address\n",
              "0         176558  ...                917 1st St, Dallas, TX 75001\n",
              "1         176559  ...           682 Chestnut St, Boston, MA 02215\n",
              "2         176560  ...        669 Spruce St, Los Angeles, CA 90001\n",
              "3         176560  ...        669 Spruce St, Los Angeles, CA 90001\n",
              "4         176561  ...           333 8th St, Los Angeles, CA 90001\n",
              "5         176562  ...      381 Wilson St, San Francisco, CA 94016\n",
              "6         176563  ...            668 Center St, Seattle, WA 98101\n",
              "7         176564  ...             790 Ridge St, Atlanta, GA 30301\n",
              "8         176565  ...      915 Willow St, San Francisco, CA 94016\n",
              "9         176566  ...                 83 7th St, Boston, MA 02215\n",
              "10        176567  ...           444 7th St, Los Angeles, CA 90001\n",
              "11        176568  ...               438 Elm St, Seattle, WA 98101\n",
              "...          ...  ...                                         ...\n",
              "185938    176547  ...               998 Pine St, Boston, MA 02215\n",
              "185939    176548  ...             9 Sunset St, Portland, OR 97035\n",
              "185940    176549  ...          604 Park St, Los Angeles, CA 90001\n",
              "185941    176550  ...       16 Sunset St, San Francisco, CA 94016\n",
              "185942    176551  ...       567 River St, San Francisco, CA 94016\n",
              "185943    176552  ...          578 Main St, Los Angeles, CA 90001\n",
              "185944    176553  ...  437 Washington St, New York City, NY 10001\n",
              "185945    176554  ...        672 12th St, San Francisco, CA 94016\n",
              "185946    176555  ...          42 4th St, San Francisco, CA 94016\n",
              "185947    176556  ...           871 7th St, Los Angeles, CA 90001\n",
              "185948    176557  ...   83 Washington St, San Francisco, CA 94016\n",
              "185949    176557  ...   83 Washington St, San Francisco, CA 94016\n",
              "\n",
              "[185950 rows x 6 columns]"
            ]
          },
          "metadata": {
            "tags": []
          },
          "execution_count": 20
        }
      ]
    },
    {
      "cell_type": "markdown",
      "metadata": {
        "id": "gSo4IWS2C-8O"
      },
      "source": [
        "**To display all the rows, set max_rows to None.**"
      ]
    },
    {
      "cell_type": "code",
      "metadata": {
        "id": "XvBM2xN8-ru9"
      },
      "source": [
        "pd.set_option(\"display.max_rows\", None)\n",
        "shopping_df"
      ],
      "execution_count": 21,
      "outputs": []
    },
    {
      "cell_type": "markdown",
      "metadata": {
        "id": "li4K8kPYG8UZ"
      },
      "source": [
        "**To reset all the display options**"
      ]
    },
    {
      "cell_type": "code",
      "metadata": {
        "id": "UBV9KA9S_bAg"
      },
      "source": [
        "pd.reset_option('display')"
      ],
      "execution_count": 22,
      "outputs": []
    },
    {
      "cell_type": "code",
      "metadata": {
        "id": "-ICINaZC_RsM"
      },
      "source": [
        "shopping_df"
      ],
      "execution_count": 23,
      "outputs": []
    },
    {
      "cell_type": "markdown",
      "metadata": {
        "id": "sXnugr2lllQM"
      },
      "source": [
        "# Index\n",
        "\n",
        "\n",
        "*   An index contains **identifiers for rows**. These are usually unique, but pandas doesn't enforce the uniqueness.\n",
        "*   Each identifier is also called a **label**.\n",
        "\n"
      ]
    },
    {
      "cell_type": "code",
      "metadata": {
        "id": "QOWFnqWGzmW6"
      },
      "source": [
        "print(shopping_df.index)\n",
        "\n",
        "print(shopping_df.index.name)"
      ],
      "execution_count": 24,
      "outputs": []
    },
    {
      "cell_type": "markdown",
      "metadata": {
        "id": "lTmDspATTuh6"
      },
      "source": [
        "## Changing the Index"
      ]
    },
    {
      "cell_type": "markdown",
      "metadata": {
        "id": "47Z7q2sgj9WR"
      },
      "source": [
        "### pd.DataFrame.set_index\n",
        "* **`pd.DataFrame.set_index(keys, inplace=False)`**\n",
        "  * Set the DataFrame index (row labels) using one or more existing columns or arrays (of appropriate length).\n",
        "  * The index can replace the existing index or expand on it. "
      ]
    },
    {
      "cell_type": "code",
      "metadata": {
        "id": "UbNtx9H6z33b"
      },
      "source": [
        "shopping_df.columns"
      ],
      "execution_count": null,
      "outputs": []
    },
    {
      "cell_type": "code",
      "metadata": {
        "id": "oTnTw70FnM75"
      },
      "source": [
        "shopping_df.set_index('Order ID')"
      ],
      "execution_count": null,
      "outputs": []
    },
    {
      "cell_type": "code",
      "metadata": {
        "id": "5YgLyxxjtTNA"
      },
      "source": [
        "shopping_df"
      ],
      "execution_count": null,
      "outputs": []
    },
    {
      "cell_type": "markdown",
      "metadata": {
        "id": "oyWgxkf7rcDc"
      },
      "source": [
        "**Create a Multi-Index using the columns `Order ID` and `Product`:**"
      ]
    },
    {
      "cell_type": "code",
      "metadata": {
        "id": "KuBGAw1NrsKz"
      },
      "source": [
        "shopping_df = pd.read_csv('shopping_data_v2.csv')\n",
        "\n",
        "shopping_df.set_index(['Order ID', 'Product'])"
      ],
      "execution_count": null,
      "outputs": []
    },
    {
      "cell_type": "markdown",
      "metadata": {
        "id": "LfuFXsXMtXN3"
      },
      "source": [
        "**Use `inplace = True` to modify the DataFrame in place.**"
      ]
    },
    {
      "cell_type": "code",
      "metadata": {
        "id": "7c2pV73Etm1f"
      },
      "source": [
        "shopping_df.set_index('Order ID', inplace = True)"
      ],
      "execution_count": null,
      "outputs": []
    },
    {
      "cell_type": "code",
      "metadata": {
        "id": "COmSk2gyt6Lm"
      },
      "source": [
        "shopping_df"
      ],
      "execution_count": null,
      "outputs": []
    },
    {
      "cell_type": "markdown",
      "metadata": {
        "id": "CV53jXL-x4OS"
      },
      "source": [
        "### Setting the index while reading the csv file"
      ]
    },
    {
      "cell_type": "code",
      "metadata": {
        "id": "o2oYYOlnzEKs"
      },
      "source": [
        "shopping_df = pd.read_csv('shopping_data_v2.csv', index_col = 'Order ID')\n",
        "shopping_df"
      ],
      "execution_count": null,
      "outputs": []
    },
    {
      "cell_type": "markdown",
      "metadata": {
        "id": "5mMFHsoJTMj6"
      },
      "source": [
        "### pd.DataFrame.reset_index\n",
        "\n",
        "* `pd.DataFrame.reset_index(drop=False, inplace=False)`\n",
        "  * Returns a DataFrame with the `new index` or `None` if `inplace=True`.\n",
        "  * Reset the index of the DataFrame, and use the default one instead."
      ]
    },
    {
      "cell_type": "code",
      "metadata": {
        "id": "eI30bI69pXkP"
      },
      "source": [
        "shopping_df.reset_index()"
      ],
      "execution_count": null,
      "outputs": []
    },
    {
      "cell_type": "markdown",
      "metadata": {
        "id": "B9WymMsrtsqp"
      },
      "source": [
        "**We can use the `drop` parameter to avoid the old index being added as a column:**\n"
      ]
    },
    {
      "cell_type": "code",
      "metadata": {
        "id": "KF4EAxZFtrvp"
      },
      "source": [
        "shopping_df.reset_index(drop=True)"
      ],
      "execution_count": null,
      "outputs": []
    },
    {
      "cell_type": "code",
      "metadata": {
        "id": "PWGR2qO0qGj6"
      },
      "source": [
        "shopping_df"
      ],
      "execution_count": null,
      "outputs": []
    },
    {
      "cell_type": "code",
      "metadata": {
        "id": "aW8aQJ7-r7_d"
      },
      "source": [
        "shopping_df.reset_index(inplace=True)"
      ],
      "execution_count": null,
      "outputs": []
    },
    {
      "cell_type": "code",
      "metadata": {
        "id": "gFxxJhB6sA-r"
      },
      "source": [
        "shopping_df"
      ],
      "execution_count": null,
      "outputs": []
    },
    {
      "cell_type": "markdown",
      "metadata": {
        "id": "T8imYu5lTgby"
      },
      "source": [
        "## Accessing data with updated Index: `loc`"
      ]
    },
    {
      "cell_type": "markdown",
      "metadata": {
        "id": "2akRlLxXVQJ2"
      },
      "source": [
        "**Changing the index changes the way we access the data with `loc`**"
      ]
    },
    {
      "cell_type": "code",
      "metadata": {
        "id": "GX7vwJpXVNE9"
      },
      "source": [
        "shopping_df.set_index(\"Order ID\", inplace=True)"
      ],
      "execution_count": null,
      "outputs": []
    },
    {
      "cell_type": "code",
      "metadata": {
        "id": "h33yKtCteQSY",
        "colab": {
          "base_uri": "https://localhost:8080/",
          "height": 637
        },
        "outputId": "7a9e220d-a06a-469d-c42b-c898e0949b4a"
      },
      "source": [
        "# The following code throws error\n",
        "\n",
        "shopping_df.loc[2, 'Product': 'Order Date']"
      ],
      "execution_count": 39,
      "outputs": [
        {
          "output_type": "error",
          "ename": "KeyError",
          "evalue": "ignored",
          "traceback": [
            "\u001b[0;31m---------------------------------------------------------------------------\u001b[0m",
            "\u001b[0;31mKeyError\u001b[0m                                  Traceback (most recent call last)",
            "\u001b[0;32m/usr/local/lib/python3.6/dist-packages/pandas/core/indexes/base.py\u001b[0m in \u001b[0;36mget_loc\u001b[0;34m(self, key, method, tolerance)\u001b[0m\n\u001b[1;32m   2897\u001b[0m             \u001b[0;32mtry\u001b[0m\u001b[0;34m:\u001b[0m\u001b[0;34m\u001b[0m\u001b[0;34m\u001b[0m\u001b[0m\n\u001b[0;32m-> 2898\u001b[0;31m                 \u001b[0;32mreturn\u001b[0m \u001b[0mself\u001b[0m\u001b[0;34m.\u001b[0m\u001b[0m_engine\u001b[0m\u001b[0;34m.\u001b[0m\u001b[0mget_loc\u001b[0m\u001b[0;34m(\u001b[0m\u001b[0mcasted_key\u001b[0m\u001b[0;34m)\u001b[0m\u001b[0;34m\u001b[0m\u001b[0;34m\u001b[0m\u001b[0m\n\u001b[0m\u001b[1;32m   2899\u001b[0m             \u001b[0;32mexcept\u001b[0m \u001b[0mKeyError\u001b[0m \u001b[0;32mas\u001b[0m \u001b[0merr\u001b[0m\u001b[0;34m:\u001b[0m\u001b[0;34m\u001b[0m\u001b[0;34m\u001b[0m\u001b[0m\n",
            "\u001b[0;32mpandas/_libs/index.pyx\u001b[0m in \u001b[0;36mpandas._libs.index.IndexEngine.get_loc\u001b[0;34m()\u001b[0m\n",
            "\u001b[0;32mpandas/_libs/index.pyx\u001b[0m in \u001b[0;36mpandas._libs.index.IndexEngine.get_loc\u001b[0;34m()\u001b[0m\n",
            "\u001b[0;32mpandas/_libs/index.pyx\u001b[0m in \u001b[0;36mpandas._libs.index.IndexEngine._get_loc_duplicates\u001b[0;34m()\u001b[0m\n",
            "\u001b[0;32mpandas/_libs/index_class_helper.pxi\u001b[0m in \u001b[0;36mpandas._libs.index.Int64Engine._maybe_get_bool_indexer\u001b[0;34m()\u001b[0m\n",
            "\u001b[0;32mpandas/_libs/index.pyx\u001b[0m in \u001b[0;36mpandas._libs.index.IndexEngine._unpack_bool_indexer\u001b[0;34m()\u001b[0m\n",
            "\u001b[0;31mKeyError\u001b[0m: 2",
            "\nThe above exception was the direct cause of the following exception:\n",
            "\u001b[0;31mKeyError\u001b[0m                                  Traceback (most recent call last)",
            "\u001b[0;32m<ipython-input-39-3b53b8e375a1>\u001b[0m in \u001b[0;36m<module>\u001b[0;34m()\u001b[0m\n\u001b[1;32m      1\u001b[0m \u001b[0;31m# The following code throws error\u001b[0m\u001b[0;34m\u001b[0m\u001b[0;34m\u001b[0m\u001b[0;34m\u001b[0m\u001b[0m\n\u001b[1;32m      2\u001b[0m \u001b[0;34m\u001b[0m\u001b[0m\n\u001b[0;32m----> 3\u001b[0;31m \u001b[0mshopping_df\u001b[0m\u001b[0;34m.\u001b[0m\u001b[0mloc\u001b[0m\u001b[0;34m[\u001b[0m\u001b[0;36m2\u001b[0m\u001b[0;34m,\u001b[0m \u001b[0;34m'Product'\u001b[0m\u001b[0;34m:\u001b[0m \u001b[0;34m'Order Date'\u001b[0m\u001b[0;34m]\u001b[0m\u001b[0;34m\u001b[0m\u001b[0;34m\u001b[0m\u001b[0m\n\u001b[0m",
            "\u001b[0;32m/usr/local/lib/python3.6/dist-packages/pandas/core/indexing.py\u001b[0m in \u001b[0;36m__getitem__\u001b[0;34m(self, key)\u001b[0m\n\u001b[1;32m    871\u001b[0m                     \u001b[0;31m# AttributeError for IntervalTree get_value\u001b[0m\u001b[0;34m\u001b[0m\u001b[0;34m\u001b[0m\u001b[0;34m\u001b[0m\u001b[0m\n\u001b[1;32m    872\u001b[0m                     \u001b[0;32mpass\u001b[0m\u001b[0;34m\u001b[0m\u001b[0;34m\u001b[0m\u001b[0m\n\u001b[0;32m--> 873\u001b[0;31m             \u001b[0;32mreturn\u001b[0m \u001b[0mself\u001b[0m\u001b[0;34m.\u001b[0m\u001b[0m_getitem_tuple\u001b[0m\u001b[0;34m(\u001b[0m\u001b[0mkey\u001b[0m\u001b[0;34m)\u001b[0m\u001b[0;34m\u001b[0m\u001b[0;34m\u001b[0m\u001b[0m\n\u001b[0m\u001b[1;32m    874\u001b[0m         \u001b[0;32melse\u001b[0m\u001b[0;34m:\u001b[0m\u001b[0;34m\u001b[0m\u001b[0;34m\u001b[0m\u001b[0m\n\u001b[1;32m    875\u001b[0m             \u001b[0;31m# we by definition only have the 0th axis\u001b[0m\u001b[0;34m\u001b[0m\u001b[0;34m\u001b[0m\u001b[0;34m\u001b[0m\u001b[0m\n",
            "\u001b[0;32m/usr/local/lib/python3.6/dist-packages/pandas/core/indexing.py\u001b[0m in \u001b[0;36m_getitem_tuple\u001b[0;34m(self, tup)\u001b[0m\n\u001b[1;32m   1042\u001b[0m     \u001b[0;32mdef\u001b[0m \u001b[0m_getitem_tuple\u001b[0m\u001b[0;34m(\u001b[0m\u001b[0mself\u001b[0m\u001b[0;34m,\u001b[0m \u001b[0mtup\u001b[0m\u001b[0;34m:\u001b[0m \u001b[0mTuple\u001b[0m\u001b[0;34m)\u001b[0m\u001b[0;34m:\u001b[0m\u001b[0;34m\u001b[0m\u001b[0;34m\u001b[0m\u001b[0m\n\u001b[1;32m   1043\u001b[0m         \u001b[0;32mtry\u001b[0m\u001b[0;34m:\u001b[0m\u001b[0;34m\u001b[0m\u001b[0;34m\u001b[0m\u001b[0m\n\u001b[0;32m-> 1044\u001b[0;31m             \u001b[0;32mreturn\u001b[0m \u001b[0mself\u001b[0m\u001b[0;34m.\u001b[0m\u001b[0m_getitem_lowerdim\u001b[0m\u001b[0;34m(\u001b[0m\u001b[0mtup\u001b[0m\u001b[0;34m)\u001b[0m\u001b[0;34m\u001b[0m\u001b[0;34m\u001b[0m\u001b[0m\n\u001b[0m\u001b[1;32m   1045\u001b[0m         \u001b[0;32mexcept\u001b[0m \u001b[0mIndexingError\u001b[0m\u001b[0;34m:\u001b[0m\u001b[0;34m\u001b[0m\u001b[0;34m\u001b[0m\u001b[0m\n\u001b[1;32m   1046\u001b[0m             \u001b[0;32mpass\u001b[0m\u001b[0;34m\u001b[0m\u001b[0;34m\u001b[0m\u001b[0m\n",
            "\u001b[0;32m/usr/local/lib/python3.6/dist-packages/pandas/core/indexing.py\u001b[0m in \u001b[0;36m_getitem_lowerdim\u001b[0;34m(self, tup)\u001b[0m\n\u001b[1;32m    784\u001b[0m                 \u001b[0;31m# We don't need to check for tuples here because those are\u001b[0m\u001b[0;34m\u001b[0m\u001b[0;34m\u001b[0m\u001b[0;34m\u001b[0m\u001b[0m\n\u001b[1;32m    785\u001b[0m                 \u001b[0;31m#  caught by the _is_nested_tuple_indexer check above.\u001b[0m\u001b[0;34m\u001b[0m\u001b[0;34m\u001b[0m\u001b[0;34m\u001b[0m\u001b[0m\n\u001b[0;32m--> 786\u001b[0;31m                 \u001b[0msection\u001b[0m \u001b[0;34m=\u001b[0m \u001b[0mself\u001b[0m\u001b[0;34m.\u001b[0m\u001b[0m_getitem_axis\u001b[0m\u001b[0;34m(\u001b[0m\u001b[0mkey\u001b[0m\u001b[0;34m,\u001b[0m \u001b[0maxis\u001b[0m\u001b[0;34m=\u001b[0m\u001b[0mi\u001b[0m\u001b[0;34m)\u001b[0m\u001b[0;34m\u001b[0m\u001b[0;34m\u001b[0m\u001b[0m\n\u001b[0m\u001b[1;32m    787\u001b[0m \u001b[0;34m\u001b[0m\u001b[0m\n\u001b[1;32m    788\u001b[0m                 \u001b[0;31m# We should never have a scalar section here, because\u001b[0m\u001b[0;34m\u001b[0m\u001b[0;34m\u001b[0m\u001b[0;34m\u001b[0m\u001b[0m\n",
            "\u001b[0;32m/usr/local/lib/python3.6/dist-packages/pandas/core/indexing.py\u001b[0m in \u001b[0;36m_getitem_axis\u001b[0;34m(self, key, axis)\u001b[0m\n\u001b[1;32m   1108\u001b[0m         \u001b[0;31m# fall thru to straight lookup\u001b[0m\u001b[0;34m\u001b[0m\u001b[0;34m\u001b[0m\u001b[0;34m\u001b[0m\u001b[0m\n\u001b[1;32m   1109\u001b[0m         \u001b[0mself\u001b[0m\u001b[0;34m.\u001b[0m\u001b[0m_validate_key\u001b[0m\u001b[0;34m(\u001b[0m\u001b[0mkey\u001b[0m\u001b[0;34m,\u001b[0m \u001b[0maxis\u001b[0m\u001b[0;34m)\u001b[0m\u001b[0;34m\u001b[0m\u001b[0;34m\u001b[0m\u001b[0m\n\u001b[0;32m-> 1110\u001b[0;31m         \u001b[0;32mreturn\u001b[0m \u001b[0mself\u001b[0m\u001b[0;34m.\u001b[0m\u001b[0m_get_label\u001b[0m\u001b[0;34m(\u001b[0m\u001b[0mkey\u001b[0m\u001b[0;34m,\u001b[0m \u001b[0maxis\u001b[0m\u001b[0;34m=\u001b[0m\u001b[0maxis\u001b[0m\u001b[0;34m)\u001b[0m\u001b[0;34m\u001b[0m\u001b[0;34m\u001b[0m\u001b[0m\n\u001b[0m\u001b[1;32m   1111\u001b[0m \u001b[0;34m\u001b[0m\u001b[0m\n\u001b[1;32m   1112\u001b[0m     \u001b[0;32mdef\u001b[0m \u001b[0m_get_slice_axis\u001b[0m\u001b[0;34m(\u001b[0m\u001b[0mself\u001b[0m\u001b[0;34m,\u001b[0m \u001b[0mslice_obj\u001b[0m\u001b[0;34m:\u001b[0m \u001b[0mslice\u001b[0m\u001b[0;34m,\u001b[0m \u001b[0maxis\u001b[0m\u001b[0;34m:\u001b[0m \u001b[0mint\u001b[0m\u001b[0;34m)\u001b[0m\u001b[0;34m:\u001b[0m\u001b[0;34m\u001b[0m\u001b[0;34m\u001b[0m\u001b[0m\n",
            "\u001b[0;32m/usr/local/lib/python3.6/dist-packages/pandas/core/indexing.py\u001b[0m in \u001b[0;36m_get_label\u001b[0;34m(self, label, axis)\u001b[0m\n\u001b[1;32m   1057\u001b[0m     \u001b[0;32mdef\u001b[0m \u001b[0m_get_label\u001b[0m\u001b[0;34m(\u001b[0m\u001b[0mself\u001b[0m\u001b[0;34m,\u001b[0m \u001b[0mlabel\u001b[0m\u001b[0;34m,\u001b[0m \u001b[0maxis\u001b[0m\u001b[0;34m:\u001b[0m \u001b[0mint\u001b[0m\u001b[0;34m)\u001b[0m\u001b[0;34m:\u001b[0m\u001b[0;34m\u001b[0m\u001b[0;34m\u001b[0m\u001b[0m\n\u001b[1;32m   1058\u001b[0m         \u001b[0;31m# GH#5667 this will fail if the label is not present in the axis.\u001b[0m\u001b[0;34m\u001b[0m\u001b[0;34m\u001b[0m\u001b[0;34m\u001b[0m\u001b[0m\n\u001b[0;32m-> 1059\u001b[0;31m         \u001b[0;32mreturn\u001b[0m \u001b[0mself\u001b[0m\u001b[0;34m.\u001b[0m\u001b[0mobj\u001b[0m\u001b[0;34m.\u001b[0m\u001b[0mxs\u001b[0m\u001b[0;34m(\u001b[0m\u001b[0mlabel\u001b[0m\u001b[0;34m,\u001b[0m \u001b[0maxis\u001b[0m\u001b[0;34m=\u001b[0m\u001b[0maxis\u001b[0m\u001b[0;34m)\u001b[0m\u001b[0;34m\u001b[0m\u001b[0;34m\u001b[0m\u001b[0m\n\u001b[0m\u001b[1;32m   1060\u001b[0m \u001b[0;34m\u001b[0m\u001b[0m\n\u001b[1;32m   1061\u001b[0m     \u001b[0;32mdef\u001b[0m \u001b[0m_handle_lowerdim_multi_index_axis0\u001b[0m\u001b[0;34m(\u001b[0m\u001b[0mself\u001b[0m\u001b[0;34m,\u001b[0m \u001b[0mtup\u001b[0m\u001b[0;34m:\u001b[0m \u001b[0mTuple\u001b[0m\u001b[0;34m)\u001b[0m\u001b[0;34m:\u001b[0m\u001b[0;34m\u001b[0m\u001b[0;34m\u001b[0m\u001b[0m\n",
            "\u001b[0;32m/usr/local/lib/python3.6/dist-packages/pandas/core/generic.py\u001b[0m in \u001b[0;36mxs\u001b[0;34m(self, key, axis, level, drop_level)\u001b[0m\n\u001b[1;32m   3491\u001b[0m             \u001b[0mloc\u001b[0m\u001b[0;34m,\u001b[0m \u001b[0mnew_index\u001b[0m \u001b[0;34m=\u001b[0m \u001b[0mself\u001b[0m\u001b[0;34m.\u001b[0m\u001b[0mindex\u001b[0m\u001b[0;34m.\u001b[0m\u001b[0mget_loc_level\u001b[0m\u001b[0;34m(\u001b[0m\u001b[0mkey\u001b[0m\u001b[0;34m,\u001b[0m \u001b[0mdrop_level\u001b[0m\u001b[0;34m=\u001b[0m\u001b[0mdrop_level\u001b[0m\u001b[0;34m)\u001b[0m\u001b[0;34m\u001b[0m\u001b[0;34m\u001b[0m\u001b[0m\n\u001b[1;32m   3492\u001b[0m         \u001b[0;32melse\u001b[0m\u001b[0;34m:\u001b[0m\u001b[0;34m\u001b[0m\u001b[0;34m\u001b[0m\u001b[0m\n\u001b[0;32m-> 3493\u001b[0;31m             \u001b[0mloc\u001b[0m \u001b[0;34m=\u001b[0m \u001b[0mself\u001b[0m\u001b[0;34m.\u001b[0m\u001b[0mindex\u001b[0m\u001b[0;34m.\u001b[0m\u001b[0mget_loc\u001b[0m\u001b[0;34m(\u001b[0m\u001b[0mkey\u001b[0m\u001b[0;34m)\u001b[0m\u001b[0;34m\u001b[0m\u001b[0;34m\u001b[0m\u001b[0m\n\u001b[0m\u001b[1;32m   3494\u001b[0m \u001b[0;34m\u001b[0m\u001b[0m\n\u001b[1;32m   3495\u001b[0m             \u001b[0;32mif\u001b[0m \u001b[0misinstance\u001b[0m\u001b[0;34m(\u001b[0m\u001b[0mloc\u001b[0m\u001b[0;34m,\u001b[0m \u001b[0mnp\u001b[0m\u001b[0;34m.\u001b[0m\u001b[0mndarray\u001b[0m\u001b[0;34m)\u001b[0m\u001b[0;34m:\u001b[0m\u001b[0;34m\u001b[0m\u001b[0;34m\u001b[0m\u001b[0m\n",
            "\u001b[0;32m/usr/local/lib/python3.6/dist-packages/pandas/core/indexes/base.py\u001b[0m in \u001b[0;36mget_loc\u001b[0;34m(self, key, method, tolerance)\u001b[0m\n\u001b[1;32m   2898\u001b[0m                 \u001b[0;32mreturn\u001b[0m \u001b[0mself\u001b[0m\u001b[0;34m.\u001b[0m\u001b[0m_engine\u001b[0m\u001b[0;34m.\u001b[0m\u001b[0mget_loc\u001b[0m\u001b[0;34m(\u001b[0m\u001b[0mcasted_key\u001b[0m\u001b[0;34m)\u001b[0m\u001b[0;34m\u001b[0m\u001b[0;34m\u001b[0m\u001b[0m\n\u001b[1;32m   2899\u001b[0m             \u001b[0;32mexcept\u001b[0m \u001b[0mKeyError\u001b[0m \u001b[0;32mas\u001b[0m \u001b[0merr\u001b[0m\u001b[0;34m:\u001b[0m\u001b[0;34m\u001b[0m\u001b[0;34m\u001b[0m\u001b[0m\n\u001b[0;32m-> 2900\u001b[0;31m                 \u001b[0;32mraise\u001b[0m \u001b[0mKeyError\u001b[0m\u001b[0;34m(\u001b[0m\u001b[0mkey\u001b[0m\u001b[0;34m)\u001b[0m \u001b[0;32mfrom\u001b[0m \u001b[0merr\u001b[0m\u001b[0;34m\u001b[0m\u001b[0;34m\u001b[0m\u001b[0m\n\u001b[0m\u001b[1;32m   2901\u001b[0m \u001b[0;34m\u001b[0m\u001b[0m\n\u001b[1;32m   2902\u001b[0m         \u001b[0;32mif\u001b[0m \u001b[0mtolerance\u001b[0m \u001b[0;32mis\u001b[0m \u001b[0;32mnot\u001b[0m \u001b[0;32mNone\u001b[0m\u001b[0;34m:\u001b[0m\u001b[0;34m\u001b[0m\u001b[0;34m\u001b[0m\u001b[0m\n",
            "\u001b[0;31mKeyError\u001b[0m: 2"
          ]
        }
      ]
    },
    {
      "cell_type": "code",
      "metadata": {
        "id": "H0lP3QEAVtSc",
        "colab": {
          "base_uri": "https://localhost:8080/",
          "height": 143
        },
        "outputId": "da667345-3fe6-41fa-e257-356d5fa1a011"
      },
      "source": [
        "shopping_df.loc[176560, 'Product': 'Order Date']"
      ],
      "execution_count": 40,
      "outputs": [
        {
          "output_type": "execute_result",
          "data": {
            "text/html": [
              "<div>\n",
              "<style scoped>\n",
              "    .dataframe tbody tr th:only-of-type {\n",
              "        vertical-align: middle;\n",
              "    }\n",
              "\n",
              "    .dataframe tbody tr th {\n",
              "        vertical-align: top;\n",
              "    }\n",
              "\n",
              "    .dataframe thead th {\n",
              "        text-align: right;\n",
              "    }\n",
              "</style>\n",
              "<table border=\"1\" class=\"dataframe\">\n",
              "  <thead>\n",
              "    <tr style=\"text-align: right;\">\n",
              "      <th></th>\n",
              "      <th>Product</th>\n",
              "      <th>Quantity Ordered</th>\n",
              "      <th>Price Each</th>\n",
              "      <th>Order Date</th>\n",
              "    </tr>\n",
              "    <tr>\n",
              "      <th>Order ID</th>\n",
              "      <th></th>\n",
              "      <th></th>\n",
              "      <th></th>\n",
              "      <th></th>\n",
              "    </tr>\n",
              "  </thead>\n",
              "  <tbody>\n",
              "    <tr>\n",
              "      <th>176560</th>\n",
              "      <td>Google Phone</td>\n",
              "      <td>1</td>\n",
              "      <td>600.00</td>\n",
              "      <td>04/12/19 14:38</td>\n",
              "    </tr>\n",
              "    <tr>\n",
              "      <th>176560</th>\n",
              "      <td>Wired Headphones</td>\n",
              "      <td>1</td>\n",
              "      <td>11.99</td>\n",
              "      <td>04/12/19 14:38</td>\n",
              "    </tr>\n",
              "  </tbody>\n",
              "</table>\n",
              "</div>"
            ],
            "text/plain": [
              "                   Product  Quantity Ordered  Price Each      Order Date\n",
              "Order ID                                                                \n",
              "176560        Google Phone                 1      600.00  04/12/19 14:38\n",
              "176560    Wired Headphones                 1       11.99  04/12/19 14:38"
            ]
          },
          "metadata": {
            "tags": []
          },
          "execution_count": 40
        }
      ]
    },
    {
      "cell_type": "markdown",
      "metadata": {
        "id": "rQNeTEK-UKVl"
      },
      "source": [
        "## Using methods based on Index"
      ]
    },
    {
      "cell_type": "markdown",
      "metadata": {
        "id": "iczNN3UWwu5U"
      },
      "source": [
        "### pd.DataFrame.sort_index\n",
        "\n",
        "* `pd.DataFrame.sort_index(axis=0, ascending=True, inplace=False, key=None)`\n",
        "  * Returns a new DataFrame sorted by the label if `inplace=False`, otherwise updates the original DataFrame and returns None."
      ]
    },
    {
      "cell_type": "code",
      "metadata": {
        "id": "jvmRcRQHxbhX",
        "colab": {
          "base_uri": "https://localhost:8080/",
          "height": 455
        },
        "outputId": "4b3e7211-100f-4177-96c4-c5a2fbc77e98"
      },
      "source": [
        "shopping_df.sort_index()"
      ],
      "execution_count": 41,
      "outputs": [
        {
          "output_type": "execute_result",
          "data": {
            "text/html": [
              "<div>\n",
              "<style scoped>\n",
              "    .dataframe tbody tr th:only-of-type {\n",
              "        vertical-align: middle;\n",
              "    }\n",
              "\n",
              "    .dataframe tbody tr th {\n",
              "        vertical-align: top;\n",
              "    }\n",
              "\n",
              "    .dataframe thead th {\n",
              "        text-align: right;\n",
              "    }\n",
              "</style>\n",
              "<table border=\"1\" class=\"dataframe\">\n",
              "  <thead>\n",
              "    <tr style=\"text-align: right;\">\n",
              "      <th></th>\n",
              "      <th>Product</th>\n",
              "      <th>Quantity Ordered</th>\n",
              "      <th>Price Each</th>\n",
              "      <th>Order Date</th>\n",
              "      <th>Purchase Address</th>\n",
              "    </tr>\n",
              "    <tr>\n",
              "      <th>Order ID</th>\n",
              "      <th></th>\n",
              "      <th></th>\n",
              "      <th></th>\n",
              "      <th></th>\n",
              "      <th></th>\n",
              "    </tr>\n",
              "  </thead>\n",
              "  <tbody>\n",
              "    <tr>\n",
              "      <th>141234</th>\n",
              "      <td>iPhone</td>\n",
              "      <td>1</td>\n",
              "      <td>700.00</td>\n",
              "      <td>01/22/19 21:25</td>\n",
              "      <td>944 Walnut St, Boston, MA 02215</td>\n",
              "    </tr>\n",
              "    <tr>\n",
              "      <th>141235</th>\n",
              "      <td>Lightning Charging Cable</td>\n",
              "      <td>1</td>\n",
              "      <td>14.95</td>\n",
              "      <td>01/28/19 14:15</td>\n",
              "      <td>185 Maple St, Portland, OR 97035</td>\n",
              "    </tr>\n",
              "    <tr>\n",
              "      <th>141236</th>\n",
              "      <td>Wired Headphones</td>\n",
              "      <td>2</td>\n",
              "      <td>11.99</td>\n",
              "      <td>01/17/19 13:33</td>\n",
              "      <td>538 Adams St, San Francisco, CA 94016</td>\n",
              "    </tr>\n",
              "    <tr>\n",
              "      <th>141237</th>\n",
              "      <td>27in FHD Monitor</td>\n",
              "      <td>1</td>\n",
              "      <td>149.99</td>\n",
              "      <td>01/05/19 20:33</td>\n",
              "      <td>738 10th St, Los Angeles, CA 90001</td>\n",
              "    </tr>\n",
              "    <tr>\n",
              "      <th>141238</th>\n",
              "      <td>Wired Headphones</td>\n",
              "      <td>1</td>\n",
              "      <td>11.99</td>\n",
              "      <td>01/25/19 11:59</td>\n",
              "      <td>387 10th St, Austin, TX 73301</td>\n",
              "    </tr>\n",
              "    <tr>\n",
              "      <th>...</th>\n",
              "      <td>...</td>\n",
              "      <td>...</td>\n",
              "      <td>...</td>\n",
              "      <td>...</td>\n",
              "      <td>...</td>\n",
              "    </tr>\n",
              "    <tr>\n",
              "      <th>319666</th>\n",
              "      <td>Lightning Charging Cable</td>\n",
              "      <td>1</td>\n",
              "      <td>14.95</td>\n",
              "      <td>12/11/19 20:58</td>\n",
              "      <td>14 Madison St, San Francisco, CA 94016</td>\n",
              "    </tr>\n",
              "    <tr>\n",
              "      <th>319667</th>\n",
              "      <td>AA Batteries (4-pack)</td>\n",
              "      <td>2</td>\n",
              "      <td>3.84</td>\n",
              "      <td>12/01/19 12:01</td>\n",
              "      <td>549 Willow St, Los Angeles, CA 90001</td>\n",
              "    </tr>\n",
              "    <tr>\n",
              "      <th>319668</th>\n",
              "      <td>Vareebadd Phone</td>\n",
              "      <td>1</td>\n",
              "      <td>400.00</td>\n",
              "      <td>12/09/19 06:43</td>\n",
              "      <td>273 Wilson St, Seattle, WA 98101</td>\n",
              "    </tr>\n",
              "    <tr>\n",
              "      <th>319669</th>\n",
              "      <td>Wired Headphones</td>\n",
              "      <td>1</td>\n",
              "      <td>11.99</td>\n",
              "      <td>12/03/19 10:39</td>\n",
              "      <td>778 River St, Dallas, TX 75001</td>\n",
              "    </tr>\n",
              "    <tr>\n",
              "      <th>319670</th>\n",
              "      <td>Bose SoundSport Headphones</td>\n",
              "      <td>1</td>\n",
              "      <td>99.99</td>\n",
              "      <td>12/21/19 21:45</td>\n",
              "      <td>747 Chestnut St, Los Angeles, CA 90001</td>\n",
              "    </tr>\n",
              "  </tbody>\n",
              "</table>\n",
              "<p>185950 rows × 5 columns</p>\n",
              "</div>"
            ],
            "text/plain": [
              "                             Product  ...                        Purchase Address\n",
              "Order ID                              ...                                        \n",
              "141234                        iPhone  ...         944 Walnut St, Boston, MA 02215\n",
              "141235      Lightning Charging Cable  ...        185 Maple St, Portland, OR 97035\n",
              "141236              Wired Headphones  ...   538 Adams St, San Francisco, CA 94016\n",
              "141237              27in FHD Monitor  ...      738 10th St, Los Angeles, CA 90001\n",
              "141238              Wired Headphones  ...           387 10th St, Austin, TX 73301\n",
              "...                              ...  ...                                     ...\n",
              "319666      Lightning Charging Cable  ...  14 Madison St, San Francisco, CA 94016\n",
              "319667         AA Batteries (4-pack)  ...    549 Willow St, Los Angeles, CA 90001\n",
              "319668               Vareebadd Phone  ...        273 Wilson St, Seattle, WA 98101\n",
              "319669              Wired Headphones  ...          778 River St, Dallas, TX 75001\n",
              "319670    Bose SoundSport Headphones  ...  747 Chestnut St, Los Angeles, CA 90001\n",
              "\n",
              "[185950 rows x 5 columns]"
            ]
          },
          "metadata": {
            "tags": []
          },
          "execution_count": 41
        }
      ]
    },
    {
      "cell_type": "markdown",
      "metadata": {
        "id": "SAh1eO-2xp4l"
      },
      "source": [
        "* By default, it sorts in ascending order, to sort in descending order, use `ascending=False`"
      ]
    },
    {
      "cell_type": "code",
      "metadata": {
        "id": "hrALbNhmxyKK",
        "colab": {
          "base_uri": "https://localhost:8080/",
          "height": 455
        },
        "outputId": "2da1839d-fcd6-4401-da91-6485ad6475ea"
      },
      "source": [
        "shopping_df.sort_index(ascending=False)"
      ],
      "execution_count": 42,
      "outputs": [
        {
          "output_type": "execute_result",
          "data": {
            "text/html": [
              "<div>\n",
              "<style scoped>\n",
              "    .dataframe tbody tr th:only-of-type {\n",
              "        vertical-align: middle;\n",
              "    }\n",
              "\n",
              "    .dataframe tbody tr th {\n",
              "        vertical-align: top;\n",
              "    }\n",
              "\n",
              "    .dataframe thead th {\n",
              "        text-align: right;\n",
              "    }\n",
              "</style>\n",
              "<table border=\"1\" class=\"dataframe\">\n",
              "  <thead>\n",
              "    <tr style=\"text-align: right;\">\n",
              "      <th></th>\n",
              "      <th>Product</th>\n",
              "      <th>Quantity Ordered</th>\n",
              "      <th>Price Each</th>\n",
              "      <th>Order Date</th>\n",
              "      <th>Purchase Address</th>\n",
              "    </tr>\n",
              "    <tr>\n",
              "      <th>Order ID</th>\n",
              "      <th></th>\n",
              "      <th></th>\n",
              "      <th></th>\n",
              "      <th></th>\n",
              "      <th></th>\n",
              "    </tr>\n",
              "  </thead>\n",
              "  <tbody>\n",
              "    <tr>\n",
              "      <th>319670</th>\n",
              "      <td>Bose SoundSport Headphones</td>\n",
              "      <td>1</td>\n",
              "      <td>99.99</td>\n",
              "      <td>12/21/19 21:45</td>\n",
              "      <td>747 Chestnut St, Los Angeles, CA 90001</td>\n",
              "    </tr>\n",
              "    <tr>\n",
              "      <th>319669</th>\n",
              "      <td>Wired Headphones</td>\n",
              "      <td>1</td>\n",
              "      <td>11.99</td>\n",
              "      <td>12/03/19 10:39</td>\n",
              "      <td>778 River St, Dallas, TX 75001</td>\n",
              "    </tr>\n",
              "    <tr>\n",
              "      <th>319668</th>\n",
              "      <td>Vareebadd Phone</td>\n",
              "      <td>1</td>\n",
              "      <td>400.00</td>\n",
              "      <td>12/09/19 06:43</td>\n",
              "      <td>273 Wilson St, Seattle, WA 98101</td>\n",
              "    </tr>\n",
              "    <tr>\n",
              "      <th>319667</th>\n",
              "      <td>AA Batteries (4-pack)</td>\n",
              "      <td>2</td>\n",
              "      <td>3.84</td>\n",
              "      <td>12/01/19 12:01</td>\n",
              "      <td>549 Willow St, Los Angeles, CA 90001</td>\n",
              "    </tr>\n",
              "    <tr>\n",
              "      <th>319666</th>\n",
              "      <td>Lightning Charging Cable</td>\n",
              "      <td>1</td>\n",
              "      <td>14.95</td>\n",
              "      <td>12/11/19 20:58</td>\n",
              "      <td>14 Madison St, San Francisco, CA 94016</td>\n",
              "    </tr>\n",
              "    <tr>\n",
              "      <th>...</th>\n",
              "      <td>...</td>\n",
              "      <td>...</td>\n",
              "      <td>...</td>\n",
              "      <td>...</td>\n",
              "      <td>...</td>\n",
              "    </tr>\n",
              "    <tr>\n",
              "      <th>141238</th>\n",
              "      <td>Wired Headphones</td>\n",
              "      <td>1</td>\n",
              "      <td>11.99</td>\n",
              "      <td>01/25/19 11:59</td>\n",
              "      <td>387 10th St, Austin, TX 73301</td>\n",
              "    </tr>\n",
              "    <tr>\n",
              "      <th>141237</th>\n",
              "      <td>27in FHD Monitor</td>\n",
              "      <td>1</td>\n",
              "      <td>149.99</td>\n",
              "      <td>01/05/19 20:33</td>\n",
              "      <td>738 10th St, Los Angeles, CA 90001</td>\n",
              "    </tr>\n",
              "    <tr>\n",
              "      <th>141236</th>\n",
              "      <td>Wired Headphones</td>\n",
              "      <td>2</td>\n",
              "      <td>11.99</td>\n",
              "      <td>01/17/19 13:33</td>\n",
              "      <td>538 Adams St, San Francisco, CA 94016</td>\n",
              "    </tr>\n",
              "    <tr>\n",
              "      <th>141235</th>\n",
              "      <td>Lightning Charging Cable</td>\n",
              "      <td>1</td>\n",
              "      <td>14.95</td>\n",
              "      <td>01/28/19 14:15</td>\n",
              "      <td>185 Maple St, Portland, OR 97035</td>\n",
              "    </tr>\n",
              "    <tr>\n",
              "      <th>141234</th>\n",
              "      <td>iPhone</td>\n",
              "      <td>1</td>\n",
              "      <td>700.00</td>\n",
              "      <td>01/22/19 21:25</td>\n",
              "      <td>944 Walnut St, Boston, MA 02215</td>\n",
              "    </tr>\n",
              "  </tbody>\n",
              "</table>\n",
              "<p>185950 rows × 5 columns</p>\n",
              "</div>"
            ],
            "text/plain": [
              "                             Product  ...                        Purchase Address\n",
              "Order ID                              ...                                        \n",
              "319670    Bose SoundSport Headphones  ...  747 Chestnut St, Los Angeles, CA 90001\n",
              "319669              Wired Headphones  ...          778 River St, Dallas, TX 75001\n",
              "319668               Vareebadd Phone  ...        273 Wilson St, Seattle, WA 98101\n",
              "319667         AA Batteries (4-pack)  ...    549 Willow St, Los Angeles, CA 90001\n",
              "319666      Lightning Charging Cable  ...  14 Madison St, San Francisco, CA 94016\n",
              "...                              ...  ...                                     ...\n",
              "141238              Wired Headphones  ...           387 10th St, Austin, TX 73301\n",
              "141237              27in FHD Monitor  ...      738 10th St, Los Angeles, CA 90001\n",
              "141236              Wired Headphones  ...   538 Adams St, San Francisco, CA 94016\n",
              "141235      Lightning Charging Cable  ...        185 Maple St, Portland, OR 97035\n",
              "141234                        iPhone  ...         944 Walnut St, Boston, MA 02215\n",
              "\n",
              "[185950 rows x 5 columns]"
            ]
          },
          "metadata": {
            "tags": []
          },
          "execution_count": 42
        }
      ]
    },
    {
      "cell_type": "markdown",
      "metadata": {
        "id": "eLXww2zDSpmx"
      },
      "source": [
        "* A `key` function can be specified which is applied to the index before sorting."
      ]
    },
    {
      "cell_type": "code",
      "metadata": {
        "id": "BeA4IONSSxMf",
        "colab": {
          "base_uri": "https://localhost:8080/",
          "height": 175
        },
        "outputId": "0a3f3dea-4b6e-4621-81cc-d42bf6d71b02"
      },
      "source": [
        "sort_df = pd.DataFrame({\"int_values\": [1, 2, 3, 4]}, index=['a', 'E', 'F', 'g'])\n",
        "sort_df.sort_index(key=lambda x: x.str.lower())"
      ],
      "execution_count": 43,
      "outputs": [
        {
          "output_type": "execute_result",
          "data": {
            "text/html": [
              "<div>\n",
              "<style scoped>\n",
              "    .dataframe tbody tr th:only-of-type {\n",
              "        vertical-align: middle;\n",
              "    }\n",
              "\n",
              "    .dataframe tbody tr th {\n",
              "        vertical-align: top;\n",
              "    }\n",
              "\n",
              "    .dataframe thead th {\n",
              "        text-align: right;\n",
              "    }\n",
              "</style>\n",
              "<table border=\"1\" class=\"dataframe\">\n",
              "  <thead>\n",
              "    <tr style=\"text-align: right;\">\n",
              "      <th></th>\n",
              "      <th>int_values</th>\n",
              "    </tr>\n",
              "  </thead>\n",
              "  <tbody>\n",
              "    <tr>\n",
              "      <th>a</th>\n",
              "      <td>1</td>\n",
              "    </tr>\n",
              "    <tr>\n",
              "      <th>E</th>\n",
              "      <td>2</td>\n",
              "    </tr>\n",
              "    <tr>\n",
              "      <th>F</th>\n",
              "      <td>3</td>\n",
              "    </tr>\n",
              "    <tr>\n",
              "      <th>g</th>\n",
              "      <td>4</td>\n",
              "    </tr>\n",
              "  </tbody>\n",
              "</table>\n",
              "</div>"
            ],
            "text/plain": [
              "   int_values\n",
              "a           1\n",
              "E           2\n",
              "F           3\n",
              "g           4"
            ]
          },
          "metadata": {
            "tags": []
          },
          "execution_count": 43
        }
      ]
    },
    {
      "cell_type": "markdown",
      "metadata": {
        "id": "7e6WYE6qs9Lx"
      },
      "source": [
        "### pd.DataFrame.first_valid_index\n",
        "\n",
        "* Returns the `index` of the first non-NA/null value."
      ]
    },
    {
      "cell_type": "code",
      "metadata": {
        "id": "ghjtFy9Du448",
        "colab": {
          "base_uri": "https://localhost:8080/",
          "height": 143
        },
        "outputId": "1ee46b1b-75c6-475b-bfaa-03b05058a071"
      },
      "source": [
        "import numpy as np\n",
        "df1 = pd.DataFrame({\n",
        "    \"name\":[np.nan, \"Sonu\", \"Raj\"],\n",
        "    \"place\":[np.nan, \"Bangalore\", \"Vijayawada\"]\n",
        "})\n",
        "df1"
      ],
      "execution_count": 44,
      "outputs": [
        {
          "output_type": "execute_result",
          "data": {
            "text/html": [
              "<div>\n",
              "<style scoped>\n",
              "    .dataframe tbody tr th:only-of-type {\n",
              "        vertical-align: middle;\n",
              "    }\n",
              "\n",
              "    .dataframe tbody tr th {\n",
              "        vertical-align: top;\n",
              "    }\n",
              "\n",
              "    .dataframe thead th {\n",
              "        text-align: right;\n",
              "    }\n",
              "</style>\n",
              "<table border=\"1\" class=\"dataframe\">\n",
              "  <thead>\n",
              "    <tr style=\"text-align: right;\">\n",
              "      <th></th>\n",
              "      <th>name</th>\n",
              "      <th>place</th>\n",
              "    </tr>\n",
              "  </thead>\n",
              "  <tbody>\n",
              "    <tr>\n",
              "      <th>0</th>\n",
              "      <td>NaN</td>\n",
              "      <td>NaN</td>\n",
              "    </tr>\n",
              "    <tr>\n",
              "      <th>1</th>\n",
              "      <td>Sonu</td>\n",
              "      <td>Bangalore</td>\n",
              "    </tr>\n",
              "    <tr>\n",
              "      <th>2</th>\n",
              "      <td>Raj</td>\n",
              "      <td>Vijayawada</td>\n",
              "    </tr>\n",
              "  </tbody>\n",
              "</table>\n",
              "</div>"
            ],
            "text/plain": [
              "   name       place\n",
              "0   NaN         NaN\n",
              "1  Sonu   Bangalore\n",
              "2   Raj  Vijayawada"
            ]
          },
          "metadata": {
            "tags": []
          },
          "execution_count": 44
        }
      ]
    },
    {
      "cell_type": "code",
      "metadata": {
        "id": "wvk5vPPavc_V",
        "colab": {
          "base_uri": "https://localhost:8080/"
        },
        "outputId": "1a1e2856-3417-4dc1-97bf-00e6da845646"
      },
      "source": [
        "df1.first_valid_index()"
      ],
      "execution_count": 45,
      "outputs": [
        {
          "output_type": "execute_result",
          "data": {
            "text/plain": [
              "1"
            ]
          },
          "metadata": {
            "tags": []
          },
          "execution_count": 45
        }
      ]
    },
    {
      "cell_type": "markdown",
      "metadata": {
        "id": "wCksK-CXlwsE"
      },
      "source": [
        "# Filtering"
      ]
    },
    {
      "cell_type": "markdown",
      "metadata": {
        "id": "_aHbpsmCl0Pi"
      },
      "source": [
        "## Creating Masks"
      ]
    },
    {
      "cell_type": "code",
      "metadata": {
        "id": "i8gIqyu3QtQI",
        "colab": {
          "base_uri": "https://localhost:8080/"
        },
        "outputId": "e644b22b-8d74-4e1e-9751-076f8ac939ff"
      },
      "source": [
        "shopping_df['Price Each']"
      ],
      "execution_count": 46,
      "outputs": [
        {
          "output_type": "execute_result",
          "data": {
            "text/plain": [
              "Order ID\n",
              "176558     11.95\n",
              "176559     99.99\n",
              "176560    600.00\n",
              "176560     11.99\n",
              "176561     11.99\n",
              "           ...  \n",
              "176554     14.95\n",
              "176555    149.99\n",
              "176556      2.99\n",
              "176557    700.00\n",
              "176557     14.95\n",
              "Name: Price Each, Length: 185950, dtype: float64"
            ]
          },
          "metadata": {
            "tags": []
          },
          "execution_count": 46
        }
      ]
    },
    {
      "cell_type": "code",
      "metadata": {
        "id": "2RMdhZpb0L7i",
        "colab": {
          "base_uri": "https://localhost:8080/"
        },
        "outputId": "4aacb418-0805-4861-d0c5-53ed4d40ad1c"
      },
      "source": [
        "price_filter = shopping_df['Price Each'] > 100\n",
        "price_filter"
      ],
      "execution_count": 47,
      "outputs": [
        {
          "output_type": "execute_result",
          "data": {
            "text/plain": [
              "Order ID\n",
              "176558    False\n",
              "176559    False\n",
              "176560     True\n",
              "176560    False\n",
              "176561    False\n",
              "          ...  \n",
              "176554    False\n",
              "176555     True\n",
              "176556    False\n",
              "176557     True\n",
              "176557    False\n",
              "Name: Price Each, Length: 185950, dtype: bool"
            ]
          },
          "metadata": {
            "tags": []
          },
          "execution_count": 47
        }
      ]
    },
    {
      "cell_type": "markdown",
      "metadata": {
        "id": "NAb3orq_1s0z"
      },
      "source": [
        "- The boolean expression returns a series containing `True` and `False` boolean values.\n",
        "- You can use this series to select a subset of rows from the original dataframe, corresponding to the `True` values in the series."
      ]
    },
    {
      "cell_type": "code",
      "metadata": {
        "id": "r13ZP4wW1EFM",
        "colab": {
          "base_uri": "https://localhost:8080/",
          "height": 455
        },
        "outputId": "f071d26e-f37c-4e74-b8e8-fcf4bfaf4636"
      },
      "source": [
        "shopping_df[price_filter]"
      ],
      "execution_count": 48,
      "outputs": [
        {
          "output_type": "execute_result",
          "data": {
            "text/html": [
              "<div>\n",
              "<style scoped>\n",
              "    .dataframe tbody tr th:only-of-type {\n",
              "        vertical-align: middle;\n",
              "    }\n",
              "\n",
              "    .dataframe tbody tr th {\n",
              "        vertical-align: top;\n",
              "    }\n",
              "\n",
              "    .dataframe thead th {\n",
              "        text-align: right;\n",
              "    }\n",
              "</style>\n",
              "<table border=\"1\" class=\"dataframe\">\n",
              "  <thead>\n",
              "    <tr style=\"text-align: right;\">\n",
              "      <th></th>\n",
              "      <th>Product</th>\n",
              "      <th>Quantity Ordered</th>\n",
              "      <th>Price Each</th>\n",
              "      <th>Order Date</th>\n",
              "      <th>Purchase Address</th>\n",
              "    </tr>\n",
              "    <tr>\n",
              "      <th>Order ID</th>\n",
              "      <th></th>\n",
              "      <th></th>\n",
              "      <th></th>\n",
              "      <th></th>\n",
              "      <th></th>\n",
              "    </tr>\n",
              "  </thead>\n",
              "  <tbody>\n",
              "    <tr>\n",
              "      <th>176560</th>\n",
              "      <td>Google Phone</td>\n",
              "      <td>1</td>\n",
              "      <td>600.00</td>\n",
              "      <td>04/12/19 14:38</td>\n",
              "      <td>669 Spruce St, Los Angeles, CA 90001</td>\n",
              "    </tr>\n",
              "    <tr>\n",
              "      <th>176565</th>\n",
              "      <td>Macbook Pro Laptop</td>\n",
              "      <td>1</td>\n",
              "      <td>1700.00</td>\n",
              "      <td>04/24/19 10:38</td>\n",
              "      <td>915 Willow St, San Francisco, CA 94016</td>\n",
              "    </tr>\n",
              "    <tr>\n",
              "      <th>176567</th>\n",
              "      <td>Google Phone</td>\n",
              "      <td>1</td>\n",
              "      <td>600.00</td>\n",
              "      <td>04/18/19 17:18</td>\n",
              "      <td>444 7th St, Los Angeles, CA 90001</td>\n",
              "    </tr>\n",
              "    <tr>\n",
              "      <th>176569</th>\n",
              "      <td>27in 4K Gaming Monitor</td>\n",
              "      <td>1</td>\n",
              "      <td>389.99</td>\n",
              "      <td>04/16/19 19:23</td>\n",
              "      <td>657 Hill St, Dallas, TX 75001</td>\n",
              "    </tr>\n",
              "    <tr>\n",
              "      <th>176572</th>\n",
              "      <td>Apple Airpods Headphones</td>\n",
              "      <td>1</td>\n",
              "      <td>150.00</td>\n",
              "      <td>04/04/19 20:30</td>\n",
              "      <td>149 Dogwood St, New York City, NY 10001</td>\n",
              "    </tr>\n",
              "    <tr>\n",
              "      <th>...</th>\n",
              "      <td>...</td>\n",
              "      <td>...</td>\n",
              "      <td>...</td>\n",
              "      <td>...</td>\n",
              "      <td>...</td>\n",
              "    </tr>\n",
              "    <tr>\n",
              "      <th>176549</th>\n",
              "      <td>iPhone</td>\n",
              "      <td>1</td>\n",
              "      <td>700.00</td>\n",
              "      <td>03/20/19 01:24</td>\n",
              "      <td>604 Park St, Los Angeles, CA 90001</td>\n",
              "    </tr>\n",
              "    <tr>\n",
              "      <th>176551</th>\n",
              "      <td>LG Washing Machine</td>\n",
              "      <td>1</td>\n",
              "      <td>600.00</td>\n",
              "      <td>03/20/19 23:49</td>\n",
              "      <td>567 River St, San Francisco, CA 94016</td>\n",
              "    </tr>\n",
              "    <tr>\n",
              "      <th>176552</th>\n",
              "      <td>Apple Airpods Headphones</td>\n",
              "      <td>1</td>\n",
              "      <td>150.00</td>\n",
              "      <td>03/08/19 14:07</td>\n",
              "      <td>578 Main St, Los Angeles, CA 90001</td>\n",
              "    </tr>\n",
              "    <tr>\n",
              "      <th>176555</th>\n",
              "      <td>27in FHD Monitor</td>\n",
              "      <td>1</td>\n",
              "      <td>149.99</td>\n",
              "      <td>03/22/19 20:27</td>\n",
              "      <td>42 4th St, San Francisco, CA 94016</td>\n",
              "    </tr>\n",
              "    <tr>\n",
              "      <th>176557</th>\n",
              "      <td>iPhone</td>\n",
              "      <td>1</td>\n",
              "      <td>700.00</td>\n",
              "      <td>03/30/19 12:32</td>\n",
              "      <td>83 Washington St, San Francisco, CA 94016</td>\n",
              "    </tr>\n",
              "  </tbody>\n",
              "</table>\n",
              "<p>68964 rows × 5 columns</p>\n",
              "</div>"
            ],
            "text/plain": [
              "                           Product  ...                           Purchase Address\n",
              "Order ID                            ...                                           \n",
              "176560                Google Phone  ...       669 Spruce St, Los Angeles, CA 90001\n",
              "176565          Macbook Pro Laptop  ...     915 Willow St, San Francisco, CA 94016\n",
              "176567                Google Phone  ...          444 7th St, Los Angeles, CA 90001\n",
              "176569      27in 4K Gaming Monitor  ...              657 Hill St, Dallas, TX 75001\n",
              "176572    Apple Airpods Headphones  ...    149 Dogwood St, New York City, NY 10001\n",
              "...                            ...  ...                                        ...\n",
              "176549                      iPhone  ...         604 Park St, Los Angeles, CA 90001\n",
              "176551          LG Washing Machine  ...      567 River St, San Francisco, CA 94016\n",
              "176552    Apple Airpods Headphones  ...         578 Main St, Los Angeles, CA 90001\n",
              "176555            27in FHD Monitor  ...         42 4th St, San Francisco, CA 94016\n",
              "176557                      iPhone  ...  83 Washington St, San Francisco, CA 94016\n",
              "\n",
              "[68964 rows x 5 columns]"
            ]
          },
          "metadata": {
            "tags": []
          },
          "execution_count": 48
        }
      ]
    },
    {
      "cell_type": "code",
      "metadata": {
        "id": "1bImsdTc33NL",
        "colab": {
          "base_uri": "https://localhost:8080/"
        },
        "outputId": "5915ce7d-e2c0-4e58-8e66-146bde374a61"
      },
      "source": [
        "shopping_df.loc[price_filter, 'Price Each']"
      ],
      "execution_count": 49,
      "outputs": [
        {
          "output_type": "execute_result",
          "data": {
            "text/plain": [
              "Order ID\n",
              "176560     600.00\n",
              "176565    1700.00\n",
              "176567     600.00\n",
              "176569     389.99\n",
              "176572     150.00\n",
              "           ...   \n",
              "176549     700.00\n",
              "176551     600.00\n",
              "176552     150.00\n",
              "176555     149.99\n",
              "176557     700.00\n",
              "Name: Price Each, Length: 68964, dtype: float64"
            ]
          },
          "metadata": {
            "tags": []
          },
          "execution_count": 49
        }
      ]
    },
    {
      "cell_type": "code",
      "metadata": {
        "id": "i8cO6xjQ4IrK",
        "colab": {
          "base_uri": "https://localhost:8080/",
          "height": 455
        },
        "outputId": "db61326a-2829-4b60-9152-14be1b289d3e"
      },
      "source": [
        "shopping_df.loc[price_filter, 'Price Each':'Purchase Address']"
      ],
      "execution_count": 50,
      "outputs": [
        {
          "output_type": "execute_result",
          "data": {
            "text/html": [
              "<div>\n",
              "<style scoped>\n",
              "    .dataframe tbody tr th:only-of-type {\n",
              "        vertical-align: middle;\n",
              "    }\n",
              "\n",
              "    .dataframe tbody tr th {\n",
              "        vertical-align: top;\n",
              "    }\n",
              "\n",
              "    .dataframe thead th {\n",
              "        text-align: right;\n",
              "    }\n",
              "</style>\n",
              "<table border=\"1\" class=\"dataframe\">\n",
              "  <thead>\n",
              "    <tr style=\"text-align: right;\">\n",
              "      <th></th>\n",
              "      <th>Price Each</th>\n",
              "      <th>Order Date</th>\n",
              "      <th>Purchase Address</th>\n",
              "    </tr>\n",
              "    <tr>\n",
              "      <th>Order ID</th>\n",
              "      <th></th>\n",
              "      <th></th>\n",
              "      <th></th>\n",
              "    </tr>\n",
              "  </thead>\n",
              "  <tbody>\n",
              "    <tr>\n",
              "      <th>176560</th>\n",
              "      <td>600.00</td>\n",
              "      <td>04/12/19 14:38</td>\n",
              "      <td>669 Spruce St, Los Angeles, CA 90001</td>\n",
              "    </tr>\n",
              "    <tr>\n",
              "      <th>176565</th>\n",
              "      <td>1700.00</td>\n",
              "      <td>04/24/19 10:38</td>\n",
              "      <td>915 Willow St, San Francisco, CA 94016</td>\n",
              "    </tr>\n",
              "    <tr>\n",
              "      <th>176567</th>\n",
              "      <td>600.00</td>\n",
              "      <td>04/18/19 17:18</td>\n",
              "      <td>444 7th St, Los Angeles, CA 90001</td>\n",
              "    </tr>\n",
              "    <tr>\n",
              "      <th>176569</th>\n",
              "      <td>389.99</td>\n",
              "      <td>04/16/19 19:23</td>\n",
              "      <td>657 Hill St, Dallas, TX 75001</td>\n",
              "    </tr>\n",
              "    <tr>\n",
              "      <th>176572</th>\n",
              "      <td>150.00</td>\n",
              "      <td>04/04/19 20:30</td>\n",
              "      <td>149 Dogwood St, New York City, NY 10001</td>\n",
              "    </tr>\n",
              "    <tr>\n",
              "      <th>...</th>\n",
              "      <td>...</td>\n",
              "      <td>...</td>\n",
              "      <td>...</td>\n",
              "    </tr>\n",
              "    <tr>\n",
              "      <th>176549</th>\n",
              "      <td>700.00</td>\n",
              "      <td>03/20/19 01:24</td>\n",
              "      <td>604 Park St, Los Angeles, CA 90001</td>\n",
              "    </tr>\n",
              "    <tr>\n",
              "      <th>176551</th>\n",
              "      <td>600.00</td>\n",
              "      <td>03/20/19 23:49</td>\n",
              "      <td>567 River St, San Francisco, CA 94016</td>\n",
              "    </tr>\n",
              "    <tr>\n",
              "      <th>176552</th>\n",
              "      <td>150.00</td>\n",
              "      <td>03/08/19 14:07</td>\n",
              "      <td>578 Main St, Los Angeles, CA 90001</td>\n",
              "    </tr>\n",
              "    <tr>\n",
              "      <th>176555</th>\n",
              "      <td>149.99</td>\n",
              "      <td>03/22/19 20:27</td>\n",
              "      <td>42 4th St, San Francisco, CA 94016</td>\n",
              "    </tr>\n",
              "    <tr>\n",
              "      <th>176557</th>\n",
              "      <td>700.00</td>\n",
              "      <td>03/30/19 12:32</td>\n",
              "      <td>83 Washington St, San Francisco, CA 94016</td>\n",
              "    </tr>\n",
              "  </tbody>\n",
              "</table>\n",
              "<p>68964 rows × 3 columns</p>\n",
              "</div>"
            ],
            "text/plain": [
              "          Price Each      Order Date                           Purchase Address\n",
              "Order ID                                                                       \n",
              "176560        600.00  04/12/19 14:38       669 Spruce St, Los Angeles, CA 90001\n",
              "176565       1700.00  04/24/19 10:38     915 Willow St, San Francisco, CA 94016\n",
              "176567        600.00  04/18/19 17:18          444 7th St, Los Angeles, CA 90001\n",
              "176569        389.99  04/16/19 19:23              657 Hill St, Dallas, TX 75001\n",
              "176572        150.00  04/04/19 20:30    149 Dogwood St, New York City, NY 10001\n",
              "...              ...             ...                                        ...\n",
              "176549        700.00  03/20/19 01:24         604 Park St, Los Angeles, CA 90001\n",
              "176551        600.00  03/20/19 23:49      567 River St, San Francisco, CA 94016\n",
              "176552        150.00  03/08/19 14:07         578 Main St, Los Angeles, CA 90001\n",
              "176555        149.99  03/22/19 20:27         42 4th St, San Francisco, CA 94016\n",
              "176557        700.00  03/30/19 12:32  83 Washington St, San Francisco, CA 94016\n",
              "\n",
              "[68964 rows x 3 columns]"
            ]
          },
          "metadata": {
            "tags": []
          },
          "execution_count": 50
        }
      ]
    },
    {
      "cell_type": "markdown",
      "metadata": {
        "id": "yHn6zTRBl5uo"
      },
      "source": [
        "## Using Logical and Relational Operators"
      ]
    },
    {
      "cell_type": "code",
      "metadata": {
        "id": "SSLjdBsf4hRY",
        "colab": {
          "base_uri": "https://localhost:8080/",
          "height": 455
        },
        "outputId": "ac1f56d9-309e-4ff9-f56f-d8d197b7eb3f"
      },
      "source": [
        "price_range_filter = (shopping_df['Price Each'] > 10) & (shopping_df['Price Each'] < 20)\n",
        "shopping_df.loc[price_range_filter]"
      ],
      "execution_count": 51,
      "outputs": [
        {
          "output_type": "execute_result",
          "data": {
            "text/html": [
              "<div>\n",
              "<style scoped>\n",
              "    .dataframe tbody tr th:only-of-type {\n",
              "        vertical-align: middle;\n",
              "    }\n",
              "\n",
              "    .dataframe tbody tr th {\n",
              "        vertical-align: top;\n",
              "    }\n",
              "\n",
              "    .dataframe thead th {\n",
              "        text-align: right;\n",
              "    }\n",
              "</style>\n",
              "<table border=\"1\" class=\"dataframe\">\n",
              "  <thead>\n",
              "    <tr style=\"text-align: right;\">\n",
              "      <th></th>\n",
              "      <th>Product</th>\n",
              "      <th>Quantity Ordered</th>\n",
              "      <th>Price Each</th>\n",
              "      <th>Order Date</th>\n",
              "      <th>Purchase Address</th>\n",
              "    </tr>\n",
              "    <tr>\n",
              "      <th>Order ID</th>\n",
              "      <th></th>\n",
              "      <th></th>\n",
              "      <th></th>\n",
              "      <th></th>\n",
              "      <th></th>\n",
              "    </tr>\n",
              "  </thead>\n",
              "  <tbody>\n",
              "    <tr>\n",
              "      <th>176558</th>\n",
              "      <td>USB-C Charging Cable</td>\n",
              "      <td>2</td>\n",
              "      <td>11.95</td>\n",
              "      <td>04/19/19 08:46</td>\n",
              "      <td>917 1st St, Dallas, TX 75001</td>\n",
              "    </tr>\n",
              "    <tr>\n",
              "      <th>176560</th>\n",
              "      <td>Wired Headphones</td>\n",
              "      <td>1</td>\n",
              "      <td>11.99</td>\n",
              "      <td>04/12/19 14:38</td>\n",
              "      <td>669 Spruce St, Los Angeles, CA 90001</td>\n",
              "    </tr>\n",
              "    <tr>\n",
              "      <th>176561</th>\n",
              "      <td>Wired Headphones</td>\n",
              "      <td>1</td>\n",
              "      <td>11.99</td>\n",
              "      <td>04/30/19 09:27</td>\n",
              "      <td>333 8th St, Los Angeles, CA 90001</td>\n",
              "    </tr>\n",
              "    <tr>\n",
              "      <th>176562</th>\n",
              "      <td>USB-C Charging Cable</td>\n",
              "      <td>1</td>\n",
              "      <td>11.95</td>\n",
              "      <td>04/29/19 13:03</td>\n",
              "      <td>381 Wilson St, San Francisco, CA 94016</td>\n",
              "    </tr>\n",
              "    <tr>\n",
              "      <th>176564</th>\n",
              "      <td>USB-C Charging Cable</td>\n",
              "      <td>1</td>\n",
              "      <td>11.95</td>\n",
              "      <td>04/12/19 10:58</td>\n",
              "      <td>790 Ridge St, Atlanta, GA 30301</td>\n",
              "    </tr>\n",
              "    <tr>\n",
              "      <th>...</th>\n",
              "      <td>...</td>\n",
              "      <td>...</td>\n",
              "      <td>...</td>\n",
              "      <td>...</td>\n",
              "      <td>...</td>\n",
              "    </tr>\n",
              "    <tr>\n",
              "      <th>176547</th>\n",
              "      <td>Wired Headphones</td>\n",
              "      <td>2</td>\n",
              "      <td>11.99</td>\n",
              "      <td>03/01/19 16:39</td>\n",
              "      <td>998 Pine St, Boston, MA 02215</td>\n",
              "    </tr>\n",
              "    <tr>\n",
              "      <th>176550</th>\n",
              "      <td>Wired Headphones</td>\n",
              "      <td>1</td>\n",
              "      <td>11.99</td>\n",
              "      <td>03/01/19 22:30</td>\n",
              "      <td>16 Sunset St, San Francisco, CA 94016</td>\n",
              "    </tr>\n",
              "    <tr>\n",
              "      <th>176553</th>\n",
              "      <td>USB-C Charging Cable</td>\n",
              "      <td>1</td>\n",
              "      <td>11.95</td>\n",
              "      <td>03/02/19 22:27</td>\n",
              "      <td>437 Washington St, New York City, NY 10001</td>\n",
              "    </tr>\n",
              "    <tr>\n",
              "      <th>176554</th>\n",
              "      <td>Lightning Charging Cable</td>\n",
              "      <td>1</td>\n",
              "      <td>14.95</td>\n",
              "      <td>03/24/19 11:14</td>\n",
              "      <td>672 12th St, San Francisco, CA 94016</td>\n",
              "    </tr>\n",
              "    <tr>\n",
              "      <th>176557</th>\n",
              "      <td>Lightning Charging Cable</td>\n",
              "      <td>1</td>\n",
              "      <td>14.95</td>\n",
              "      <td>03/30/19 12:32</td>\n",
              "      <td>83 Washington St, San Francisco, CA 94016</td>\n",
              "    </tr>\n",
              "  </tbody>\n",
              "</table>\n",
              "<p>62443 rows × 5 columns</p>\n",
              "</div>"
            ],
            "text/plain": [
              "                           Product  ...                            Purchase Address\n",
              "Order ID                            ...                                            \n",
              "176558        USB-C Charging Cable  ...                917 1st St, Dallas, TX 75001\n",
              "176560            Wired Headphones  ...        669 Spruce St, Los Angeles, CA 90001\n",
              "176561            Wired Headphones  ...           333 8th St, Los Angeles, CA 90001\n",
              "176562        USB-C Charging Cable  ...      381 Wilson St, San Francisco, CA 94016\n",
              "176564        USB-C Charging Cable  ...             790 Ridge St, Atlanta, GA 30301\n",
              "...                            ...  ...                                         ...\n",
              "176547            Wired Headphones  ...               998 Pine St, Boston, MA 02215\n",
              "176550            Wired Headphones  ...       16 Sunset St, San Francisco, CA 94016\n",
              "176553        USB-C Charging Cable  ...  437 Washington St, New York City, NY 10001\n",
              "176554    Lightning Charging Cable  ...        672 12th St, San Francisco, CA 94016\n",
              "176557    Lightning Charging Cable  ...   83 Washington St, San Francisco, CA 94016\n",
              "\n",
              "[62443 rows x 5 columns]"
            ]
          },
          "metadata": {
            "tags": []
          },
          "execution_count": 51
        }
      ]
    },
    {
      "cell_type": "markdown",
      "metadata": {
        "id": "TlZDIrcX5KX5"
      },
      "source": [
        "**Excluding the rows which satisfy the given condition**"
      ]
    },
    {
      "cell_type": "code",
      "metadata": {
        "id": "AXAAKE0F4214",
        "colab": {
          "base_uri": "https://localhost:8080/",
          "height": 455
        },
        "outputId": "ef610bf9-a549-45ee-9150-d3904c86efe4"
      },
      "source": [
        "neg_filter = (shopping_df['Price Each'] >= 10)\n",
        "shopping_df[~neg_filter]"
      ],
      "execution_count": 52,
      "outputs": [
        {
          "output_type": "execute_result",
          "data": {
            "text/html": [
              "<div>\n",
              "<style scoped>\n",
              "    .dataframe tbody tr th:only-of-type {\n",
              "        vertical-align: middle;\n",
              "    }\n",
              "\n",
              "    .dataframe tbody tr th {\n",
              "        vertical-align: top;\n",
              "    }\n",
              "\n",
              "    .dataframe thead th {\n",
              "        text-align: right;\n",
              "    }\n",
              "</style>\n",
              "<table border=\"1\" class=\"dataframe\">\n",
              "  <thead>\n",
              "    <tr style=\"text-align: right;\">\n",
              "      <th></th>\n",
              "      <th>Product</th>\n",
              "      <th>Quantity Ordered</th>\n",
              "      <th>Price Each</th>\n",
              "      <th>Order Date</th>\n",
              "      <th>Purchase Address</th>\n",
              "    </tr>\n",
              "    <tr>\n",
              "      <th>Order ID</th>\n",
              "      <th></th>\n",
              "      <th></th>\n",
              "      <th></th>\n",
              "      <th></th>\n",
              "      <th></th>\n",
              "    </tr>\n",
              "  </thead>\n",
              "  <tbody>\n",
              "    <tr>\n",
              "      <th>176570</th>\n",
              "      <td>AA Batteries (4-pack)</td>\n",
              "      <td>1</td>\n",
              "      <td>3.84</td>\n",
              "      <td>04/22/19 15:09</td>\n",
              "      <td>186 12th St, Dallas, TX 75001</td>\n",
              "    </tr>\n",
              "    <tr>\n",
              "      <th>176575</th>\n",
              "      <td>AAA Batteries (4-pack)</td>\n",
              "      <td>1</td>\n",
              "      <td>2.99</td>\n",
              "      <td>04/27/19 00:30</td>\n",
              "      <td>433 Hill St, New York City, NY 10001</td>\n",
              "    </tr>\n",
              "    <tr>\n",
              "      <th>176579</th>\n",
              "      <td>AA Batteries (4-pack)</td>\n",
              "      <td>1</td>\n",
              "      <td>3.84</td>\n",
              "      <td>04/11/19 10:23</td>\n",
              "      <td>886 Jefferson St, New York City, NY 10001</td>\n",
              "    </tr>\n",
              "    <tr>\n",
              "      <th>176583</th>\n",
              "      <td>AAA Batteries (4-pack)</td>\n",
              "      <td>2</td>\n",
              "      <td>2.99</td>\n",
              "      <td>04/20/19 12:00</td>\n",
              "      <td>146 Jackson St, Portland, OR 97035</td>\n",
              "    </tr>\n",
              "    <tr>\n",
              "      <th>176586</th>\n",
              "      <td>AAA Batteries (4-pack)</td>\n",
              "      <td>2</td>\n",
              "      <td>2.99</td>\n",
              "      <td>04/10/19 17:00</td>\n",
              "      <td>365 Center St, San Francisco, CA 94016</td>\n",
              "    </tr>\n",
              "    <tr>\n",
              "      <th>...</th>\n",
              "      <td>...</td>\n",
              "      <td>...</td>\n",
              "      <td>...</td>\n",
              "      <td>...</td>\n",
              "      <td>...</td>\n",
              "    </tr>\n",
              "    <tr>\n",
              "      <th>176529</th>\n",
              "      <td>AA Batteries (4-pack)</td>\n",
              "      <td>1</td>\n",
              "      <td>3.84</td>\n",
              "      <td>03/04/19 21:40</td>\n",
              "      <td>227 4th St, San Francisco, CA 94016</td>\n",
              "    </tr>\n",
              "    <tr>\n",
              "      <th>176539</th>\n",
              "      <td>AAA Batteries (4-pack)</td>\n",
              "      <td>3</td>\n",
              "      <td>2.99</td>\n",
              "      <td>03/23/19 09:46</td>\n",
              "      <td>460 4th St, Dallas, TX 75001</td>\n",
              "    </tr>\n",
              "    <tr>\n",
              "      <th>176545</th>\n",
              "      <td>AAA Batteries (4-pack)</td>\n",
              "      <td>2</td>\n",
              "      <td>2.99</td>\n",
              "      <td>03/21/19 10:59</td>\n",
              "      <td>515 Center St, San Francisco, CA 94016</td>\n",
              "    </tr>\n",
              "    <tr>\n",
              "      <th>176548</th>\n",
              "      <td>AAA Batteries (4-pack)</td>\n",
              "      <td>1</td>\n",
              "      <td>2.99</td>\n",
              "      <td>03/16/19 15:36</td>\n",
              "      <td>9 Sunset St, Portland, OR 97035</td>\n",
              "    </tr>\n",
              "    <tr>\n",
              "      <th>176556</th>\n",
              "      <td>AAA Batteries (4-pack)</td>\n",
              "      <td>3</td>\n",
              "      <td>2.99</td>\n",
              "      <td>03/14/19 10:29</td>\n",
              "      <td>871 7th St, Los Angeles, CA 90001</td>\n",
              "    </tr>\n",
              "  </tbody>\n",
              "</table>\n",
              "<p>41218 rows × 5 columns</p>\n",
              "</div>"
            ],
            "text/plain": [
              "                         Product  ...                           Purchase Address\n",
              "Order ID                          ...                                           \n",
              "176570     AA Batteries (4-pack)  ...              186 12th St, Dallas, TX 75001\n",
              "176575    AAA Batteries (4-pack)  ...       433 Hill St, New York City, NY 10001\n",
              "176579     AA Batteries (4-pack)  ...  886 Jefferson St, New York City, NY 10001\n",
              "176583    AAA Batteries (4-pack)  ...         146 Jackson St, Portland, OR 97035\n",
              "176586    AAA Batteries (4-pack)  ...     365 Center St, San Francisco, CA 94016\n",
              "...                          ...  ...                                        ...\n",
              "176529     AA Batteries (4-pack)  ...        227 4th St, San Francisco, CA 94016\n",
              "176539    AAA Batteries (4-pack)  ...               460 4th St, Dallas, TX 75001\n",
              "176545    AAA Batteries (4-pack)  ...     515 Center St, San Francisco, CA 94016\n",
              "176548    AAA Batteries (4-pack)  ...            9 Sunset St, Portland, OR 97035\n",
              "176556    AAA Batteries (4-pack)  ...          871 7th St, Los Angeles, CA 90001\n",
              "\n",
              "[41218 rows x 5 columns]"
            ]
          },
          "metadata": {
            "tags": []
          },
          "execution_count": 52
        }
      ]
    },
    {
      "cell_type": "markdown",
      "metadata": {
        "id": "yPEqpwqq5Zlq"
      },
      "source": [
        "## Using `str` methods"
      ]
    },
    {
      "cell_type": "code",
      "metadata": {
        "id": "SVmA0nMaSCeT",
        "colab": {
          "base_uri": "https://localhost:8080/"
        },
        "outputId": "d6e00b47-b8d7-45dc-ce08-bfa8eedabc49"
      },
      "source": [
        "shopping_df['Product']"
      ],
      "execution_count": 53,
      "outputs": [
        {
          "output_type": "execute_result",
          "data": {
            "text/plain": [
              "Order ID\n",
              "176558          USB-C Charging Cable\n",
              "176559    Bose SoundSport Headphones\n",
              "176560                  Google Phone\n",
              "176560              Wired Headphones\n",
              "176561              Wired Headphones\n",
              "                     ...            \n",
              "176554      Lightning Charging Cable\n",
              "176555              27in FHD Monitor\n",
              "176556        AAA Batteries (4-pack)\n",
              "176557                        iPhone\n",
              "176557      Lightning Charging Cable\n",
              "Name: Product, Length: 185950, dtype: object"
            ]
          },
          "metadata": {
            "tags": []
          },
          "execution_count": 53
        }
      ]
    },
    {
      "cell_type": "code",
      "metadata": {
        "id": "vGHh4-Ov5dKc",
        "colab": {
          "base_uri": "https://localhost:8080/",
          "height": 455
        },
        "outputId": "fb1b3113-00b9-4beb-f2a9-c843f839a095"
      },
      "source": [
        "filter = shopping_df['Product'].str.contains('Headphones')\n",
        "shopping_df[filter]"
      ],
      "execution_count": 54,
      "outputs": [
        {
          "output_type": "execute_result",
          "data": {
            "text/html": [
              "<div>\n",
              "<style scoped>\n",
              "    .dataframe tbody tr th:only-of-type {\n",
              "        vertical-align: middle;\n",
              "    }\n",
              "\n",
              "    .dataframe tbody tr th {\n",
              "        vertical-align: top;\n",
              "    }\n",
              "\n",
              "    .dataframe thead th {\n",
              "        text-align: right;\n",
              "    }\n",
              "</style>\n",
              "<table border=\"1\" class=\"dataframe\">\n",
              "  <thead>\n",
              "    <tr style=\"text-align: right;\">\n",
              "      <th></th>\n",
              "      <th>Product</th>\n",
              "      <th>Quantity Ordered</th>\n",
              "      <th>Price Each</th>\n",
              "      <th>Order Date</th>\n",
              "      <th>Purchase Address</th>\n",
              "    </tr>\n",
              "    <tr>\n",
              "      <th>Order ID</th>\n",
              "      <th></th>\n",
              "      <th></th>\n",
              "      <th></th>\n",
              "      <th></th>\n",
              "      <th></th>\n",
              "    </tr>\n",
              "  </thead>\n",
              "  <tbody>\n",
              "    <tr>\n",
              "      <th>176559</th>\n",
              "      <td>Bose SoundSport Headphones</td>\n",
              "      <td>1</td>\n",
              "      <td>99.99</td>\n",
              "      <td>04/07/19 22:30</td>\n",
              "      <td>682 Chestnut St, Boston, MA 02215</td>\n",
              "    </tr>\n",
              "    <tr>\n",
              "      <th>176560</th>\n",
              "      <td>Wired Headphones</td>\n",
              "      <td>1</td>\n",
              "      <td>11.99</td>\n",
              "      <td>04/12/19 14:38</td>\n",
              "      <td>669 Spruce St, Los Angeles, CA 90001</td>\n",
              "    </tr>\n",
              "    <tr>\n",
              "      <th>176561</th>\n",
              "      <td>Wired Headphones</td>\n",
              "      <td>1</td>\n",
              "      <td>11.99</td>\n",
              "      <td>04/30/19 09:27</td>\n",
              "      <td>333 8th St, Los Angeles, CA 90001</td>\n",
              "    </tr>\n",
              "    <tr>\n",
              "      <th>176563</th>\n",
              "      <td>Bose SoundSport Headphones</td>\n",
              "      <td>1</td>\n",
              "      <td>99.99</td>\n",
              "      <td>04/02/19 07:46</td>\n",
              "      <td>668 Center St, Seattle, WA 98101</td>\n",
              "    </tr>\n",
              "    <tr>\n",
              "      <th>176566</th>\n",
              "      <td>Wired Headphones</td>\n",
              "      <td>1</td>\n",
              "      <td>11.99</td>\n",
              "      <td>04/08/19 14:05</td>\n",
              "      <td>83 7th St, Boston, MA 02215</td>\n",
              "    </tr>\n",
              "    <tr>\n",
              "      <th>...</th>\n",
              "      <td>...</td>\n",
              "      <td>...</td>\n",
              "      <td>...</td>\n",
              "      <td>...</td>\n",
              "      <td>...</td>\n",
              "    </tr>\n",
              "    <tr>\n",
              "      <th>176542</th>\n",
              "      <td>Apple Airpods Headphones</td>\n",
              "      <td>1</td>\n",
              "      <td>150.00</td>\n",
              "      <td>03/26/19 15:34</td>\n",
              "      <td>802 Lakeview St, Los Angeles, CA 90001</td>\n",
              "    </tr>\n",
              "    <tr>\n",
              "      <th>176546</th>\n",
              "      <td>Wired Headphones</td>\n",
              "      <td>1</td>\n",
              "      <td>11.99</td>\n",
              "      <td>03/21/19 16:06</td>\n",
              "      <td>3 Church St, Los Angeles, CA 90001</td>\n",
              "    </tr>\n",
              "    <tr>\n",
              "      <th>176547</th>\n",
              "      <td>Wired Headphones</td>\n",
              "      <td>2</td>\n",
              "      <td>11.99</td>\n",
              "      <td>03/01/19 16:39</td>\n",
              "      <td>998 Pine St, Boston, MA 02215</td>\n",
              "    </tr>\n",
              "    <tr>\n",
              "      <th>176550</th>\n",
              "      <td>Wired Headphones</td>\n",
              "      <td>1</td>\n",
              "      <td>11.99</td>\n",
              "      <td>03/01/19 22:30</td>\n",
              "      <td>16 Sunset St, San Francisco, CA 94016</td>\n",
              "    </tr>\n",
              "    <tr>\n",
              "      <th>176552</th>\n",
              "      <td>Apple Airpods Headphones</td>\n",
              "      <td>1</td>\n",
              "      <td>150.00</td>\n",
              "      <td>03/08/19 14:07</td>\n",
              "      <td>578 Main St, Los Angeles, CA 90001</td>\n",
              "    </tr>\n",
              "  </tbody>\n",
              "</table>\n",
              "<p>47756 rows × 5 columns</p>\n",
              "</div>"
            ],
            "text/plain": [
              "                             Product  ...                        Purchase Address\n",
              "Order ID                              ...                                        \n",
              "176559    Bose SoundSport Headphones  ...       682 Chestnut St, Boston, MA 02215\n",
              "176560              Wired Headphones  ...    669 Spruce St, Los Angeles, CA 90001\n",
              "176561              Wired Headphones  ...       333 8th St, Los Angeles, CA 90001\n",
              "176563    Bose SoundSport Headphones  ...        668 Center St, Seattle, WA 98101\n",
              "176566              Wired Headphones  ...             83 7th St, Boston, MA 02215\n",
              "...                              ...  ...                                     ...\n",
              "176542      Apple Airpods Headphones  ...  802 Lakeview St, Los Angeles, CA 90001\n",
              "176546              Wired Headphones  ...      3 Church St, Los Angeles, CA 90001\n",
              "176547              Wired Headphones  ...           998 Pine St, Boston, MA 02215\n",
              "176550              Wired Headphones  ...   16 Sunset St, San Francisco, CA 94016\n",
              "176552      Apple Airpods Headphones  ...      578 Main St, Los Angeles, CA 90001\n",
              "\n",
              "[47756 rows x 5 columns]"
            ]
          },
          "metadata": {
            "tags": []
          },
          "execution_count": 54
        }
      ]
    },
    {
      "cell_type": "code",
      "metadata": {
        "id": "gUCgECHV51fJ",
        "colab": {
          "base_uri": "https://localhost:8080/",
          "height": 455
        },
        "outputId": "77082c59-d204-420b-ae7e-0e7b3a00948a"
      },
      "source": [
        "filter = shopping_df['Product'].str.endswith('Cable')\n",
        "shopping_df[filter]"
      ],
      "execution_count": 55,
      "outputs": [
        {
          "output_type": "execute_result",
          "data": {
            "text/html": [
              "<div>\n",
              "<style scoped>\n",
              "    .dataframe tbody tr th:only-of-type {\n",
              "        vertical-align: middle;\n",
              "    }\n",
              "\n",
              "    .dataframe tbody tr th {\n",
              "        vertical-align: top;\n",
              "    }\n",
              "\n",
              "    .dataframe thead th {\n",
              "        text-align: right;\n",
              "    }\n",
              "</style>\n",
              "<table border=\"1\" class=\"dataframe\">\n",
              "  <thead>\n",
              "    <tr style=\"text-align: right;\">\n",
              "      <th></th>\n",
              "      <th>Product</th>\n",
              "      <th>Quantity Ordered</th>\n",
              "      <th>Price Each</th>\n",
              "      <th>Order Date</th>\n",
              "      <th>Purchase Address</th>\n",
              "    </tr>\n",
              "    <tr>\n",
              "      <th>Order ID</th>\n",
              "      <th></th>\n",
              "      <th></th>\n",
              "      <th></th>\n",
              "      <th></th>\n",
              "      <th></th>\n",
              "    </tr>\n",
              "  </thead>\n",
              "  <tbody>\n",
              "    <tr>\n",
              "      <th>176558</th>\n",
              "      <td>USB-C Charging Cable</td>\n",
              "      <td>2</td>\n",
              "      <td>11.95</td>\n",
              "      <td>04/19/19 08:46</td>\n",
              "      <td>917 1st St, Dallas, TX 75001</td>\n",
              "    </tr>\n",
              "    <tr>\n",
              "      <th>176562</th>\n",
              "      <td>USB-C Charging Cable</td>\n",
              "      <td>1</td>\n",
              "      <td>11.95</td>\n",
              "      <td>04/29/19 13:03</td>\n",
              "      <td>381 Wilson St, San Francisco, CA 94016</td>\n",
              "    </tr>\n",
              "    <tr>\n",
              "      <th>176564</th>\n",
              "      <td>USB-C Charging Cable</td>\n",
              "      <td>1</td>\n",
              "      <td>11.95</td>\n",
              "      <td>04/12/19 10:58</td>\n",
              "      <td>790 Ridge St, Atlanta, GA 30301</td>\n",
              "    </tr>\n",
              "    <tr>\n",
              "      <th>176568</th>\n",
              "      <td>Lightning Charging Cable</td>\n",
              "      <td>1</td>\n",
              "      <td>14.95</td>\n",
              "      <td>04/15/19 12:18</td>\n",
              "      <td>438 Elm St, Seattle, WA 98101</td>\n",
              "    </tr>\n",
              "    <tr>\n",
              "      <th>176571</th>\n",
              "      <td>Lightning Charging Cable</td>\n",
              "      <td>1</td>\n",
              "      <td>14.95</td>\n",
              "      <td>04/19/19 14:29</td>\n",
              "      <td>253 Johnson St, Atlanta, GA 30301</td>\n",
              "    </tr>\n",
              "    <tr>\n",
              "      <th>...</th>\n",
              "      <td>...</td>\n",
              "      <td>...</td>\n",
              "      <td>...</td>\n",
              "      <td>...</td>\n",
              "      <td>...</td>\n",
              "    </tr>\n",
              "    <tr>\n",
              "      <th>176540</th>\n",
              "      <td>Lightning Charging Cable</td>\n",
              "      <td>1</td>\n",
              "      <td>14.95</td>\n",
              "      <td>03/23/19 15:16</td>\n",
              "      <td>142 4th St, Austin, TX 73301</td>\n",
              "    </tr>\n",
              "    <tr>\n",
              "      <th>176544</th>\n",
              "      <td>Lightning Charging Cable</td>\n",
              "      <td>2</td>\n",
              "      <td>14.95</td>\n",
              "      <td>03/15/19 11:08</td>\n",
              "      <td>436 8th St, Dallas, TX 75001</td>\n",
              "    </tr>\n",
              "    <tr>\n",
              "      <th>176553</th>\n",
              "      <td>USB-C Charging Cable</td>\n",
              "      <td>1</td>\n",
              "      <td>11.95</td>\n",
              "      <td>03/02/19 22:27</td>\n",
              "      <td>437 Washington St, New York City, NY 10001</td>\n",
              "    </tr>\n",
              "    <tr>\n",
              "      <th>176554</th>\n",
              "      <td>Lightning Charging Cable</td>\n",
              "      <td>1</td>\n",
              "      <td>14.95</td>\n",
              "      <td>03/24/19 11:14</td>\n",
              "      <td>672 12th St, San Francisco, CA 94016</td>\n",
              "    </tr>\n",
              "    <tr>\n",
              "      <th>176557</th>\n",
              "      <td>Lightning Charging Cable</td>\n",
              "      <td>1</td>\n",
              "      <td>14.95</td>\n",
              "      <td>03/30/19 12:32</td>\n",
              "      <td>83 Washington St, San Francisco, CA 94016</td>\n",
              "    </tr>\n",
              "  </tbody>\n",
              "</table>\n",
              "<p>43561 rows × 5 columns</p>\n",
              "</div>"
            ],
            "text/plain": [
              "                           Product  ...                            Purchase Address\n",
              "Order ID                            ...                                            \n",
              "176558        USB-C Charging Cable  ...                917 1st St, Dallas, TX 75001\n",
              "176562        USB-C Charging Cable  ...      381 Wilson St, San Francisco, CA 94016\n",
              "176564        USB-C Charging Cable  ...             790 Ridge St, Atlanta, GA 30301\n",
              "176568    Lightning Charging Cable  ...               438 Elm St, Seattle, WA 98101\n",
              "176571    Lightning Charging Cable  ...           253 Johnson St, Atlanta, GA 30301\n",
              "...                            ...  ...                                         ...\n",
              "176540    Lightning Charging Cable  ...                142 4th St, Austin, TX 73301\n",
              "176544    Lightning Charging Cable  ...                436 8th St, Dallas, TX 75001\n",
              "176553        USB-C Charging Cable  ...  437 Washington St, New York City, NY 10001\n",
              "176554    Lightning Charging Cable  ...        672 12th St, San Francisco, CA 94016\n",
              "176557    Lightning Charging Cable  ...   83 Washington St, San Francisco, CA 94016\n",
              "\n",
              "[43561 rows x 5 columns]"
            ]
          },
          "metadata": {
            "tags": []
          },
          "execution_count": 55
        }
      ]
    },
    {
      "cell_type": "markdown",
      "metadata": {
        "id": "hEhHBhb76WoE"
      },
      "source": [
        "## pd.DataFrame.query\n",
        "\n",
        "* `pd.DataFrame.query(expr, inplace=False, **kwargs)`\n",
        "  * Returns a DataFrame resulting from the provided query expression."
      ]
    },
    {
      "cell_type": "code",
      "metadata": {
        "id": "gNSi074ZDfBF"
      },
      "source": [
        "pd.DataFrame.query?"
      ],
      "execution_count": 56,
      "outputs": []
    },
    {
      "cell_type": "code",
      "metadata": {
        "id": "Po5HQ8sH6yKL",
        "colab": {
          "base_uri": "https://localhost:8080/",
          "height": 81
        },
        "outputId": "ab1a0ec0-bace-4627-eb21-dfe2f9af26dd"
      },
      "source": [
        "df = pd.DataFrame({'A': [1, 6],\n",
        "\n",
        "                   'B': [10, 3],\n",
        "\n",
        "                   'C': [10, 5]})\n",
        "\n",
        "df.query('B == C & A < B')"
      ],
      "execution_count": 57,
      "outputs": [
        {
          "output_type": "execute_result",
          "data": {
            "text/html": [
              "<div>\n",
              "<style scoped>\n",
              "    .dataframe tbody tr th:only-of-type {\n",
              "        vertical-align: middle;\n",
              "    }\n",
              "\n",
              "    .dataframe tbody tr th {\n",
              "        vertical-align: top;\n",
              "    }\n",
              "\n",
              "    .dataframe thead th {\n",
              "        text-align: right;\n",
              "    }\n",
              "</style>\n",
              "<table border=\"1\" class=\"dataframe\">\n",
              "  <thead>\n",
              "    <tr style=\"text-align: right;\">\n",
              "      <th></th>\n",
              "      <th>A</th>\n",
              "      <th>B</th>\n",
              "      <th>C</th>\n",
              "    </tr>\n",
              "  </thead>\n",
              "  <tbody>\n",
              "    <tr>\n",
              "      <th>0</th>\n",
              "      <td>1</td>\n",
              "      <td>10</td>\n",
              "      <td>10</td>\n",
              "    </tr>\n",
              "  </tbody>\n",
              "</table>\n",
              "</div>"
            ],
            "text/plain": [
              "   A   B   C\n",
              "0  1  10  10"
            ]
          },
          "metadata": {
            "tags": []
          },
          "execution_count": 57
        }
      ]
    },
    {
      "cell_type": "markdown",
      "metadata": {
        "id": "RGoXBFO49dH2"
      },
      "source": [
        "The above expression is also equivalent to:"
      ]
    },
    {
      "cell_type": "code",
      "metadata": {
        "id": "4rBPstnW9QQY",
        "colab": {
          "base_uri": "https://localhost:8080/",
          "height": 81
        },
        "outputId": "4e97e6e0-6757-42cf-a5bd-8b6352aeeb1d"
      },
      "source": [
        "df[(df.B == df.C) & (df.A < df.B)]"
      ],
      "execution_count": 58,
      "outputs": [
        {
          "output_type": "execute_result",
          "data": {
            "text/html": [
              "<div>\n",
              "<style scoped>\n",
              "    .dataframe tbody tr th:only-of-type {\n",
              "        vertical-align: middle;\n",
              "    }\n",
              "\n",
              "    .dataframe tbody tr th {\n",
              "        vertical-align: top;\n",
              "    }\n",
              "\n",
              "    .dataframe thead th {\n",
              "        text-align: right;\n",
              "    }\n",
              "</style>\n",
              "<table border=\"1\" class=\"dataframe\">\n",
              "  <thead>\n",
              "    <tr style=\"text-align: right;\">\n",
              "      <th></th>\n",
              "      <th>A</th>\n",
              "      <th>B</th>\n",
              "      <th>C</th>\n",
              "    </tr>\n",
              "  </thead>\n",
              "  <tbody>\n",
              "    <tr>\n",
              "      <th>0</th>\n",
              "      <td>1</td>\n",
              "      <td>10</td>\n",
              "      <td>10</td>\n",
              "    </tr>\n",
              "  </tbody>\n",
              "</table>\n",
              "</div>"
            ],
            "text/plain": [
              "   A   B   C\n",
              "0  1  10  10"
            ]
          },
          "metadata": {
            "tags": []
          },
          "execution_count": 58
        }
      ]
    },
    {
      "cell_type": "markdown",
      "metadata": {
        "id": "bakJjjilmWl8"
      },
      "source": [
        "\n",
        "\n",
        "---\n",
        "\n",
        "\n"
      ]
    },
    {
      "cell_type": "markdown",
      "metadata": {
        "id": "lqtW00tvmeQv"
      },
      "source": [
        "# Try It Yourself\n",
        "\n",
        "For the following questions, use the **covid** dataset.\n",
        "\n",
        "0.   Load the dataset into a dataframe using `read_csv`\n",
        "1.   Make the `date` column as the index.\n",
        "2.   Sort the records in the dataset based on the `date` column.\n",
        "3.   Find out on which days more than 1000 cases were reported.\n",
        "4.   Fetch the `new_cases` and `new_tests` reported in the month of June.\n",
        "5.   Find the first row in which valid `new_tests` were reported.\n",
        "\n",
        "\n",
        "For the following questions, use the **film** dataset\n",
        "\n",
        "6.  Make the '`year` and `title` as indices.\n",
        "7.  Fetch the films where the `actor` name contains `Jasen` and the `popularity` is greater than 50.\n",
        "\n"
      ]
    },
    {
      "cell_type": "markdown",
      "metadata": {
        "id": "or1Y6vpvogm8"
      },
      "source": [
        "## For the following questions, use the **covid** dataset."
      ]
    },
    {
      "cell_type": "markdown",
      "metadata": {
        "id": "T9trvoTDnlns"
      },
      "source": [
        "### **0.   Load the dataset into a dataframe using `read_csv`**"
      ]
    },
    {
      "cell_type": "code",
      "metadata": {
        "id": "nHNErvMLd4EX"
      },
      "source": [
        "covid_df = pd.read_csv('italy-covid-daywise.csv')"
      ],
      "execution_count": 59,
      "outputs": []
    },
    {
      "cell_type": "code",
      "metadata": {
        "id": "n4W_30Olo4_T",
        "colab": {
          "base_uri": "https://localhost:8080/",
          "height": 206
        },
        "outputId": "538e784e-5237-46ec-91bc-178510896d3d"
      },
      "source": [
        "covid_df.head()"
      ],
      "execution_count": 60,
      "outputs": [
        {
          "output_type": "execute_result",
          "data": {
            "text/html": [
              "<div>\n",
              "<style scoped>\n",
              "    .dataframe tbody tr th:only-of-type {\n",
              "        vertical-align: middle;\n",
              "    }\n",
              "\n",
              "    .dataframe tbody tr th {\n",
              "        vertical-align: top;\n",
              "    }\n",
              "\n",
              "    .dataframe thead th {\n",
              "        text-align: right;\n",
              "    }\n",
              "</style>\n",
              "<table border=\"1\" class=\"dataframe\">\n",
              "  <thead>\n",
              "    <tr style=\"text-align: right;\">\n",
              "      <th></th>\n",
              "      <th>date</th>\n",
              "      <th>new_cases</th>\n",
              "      <th>new_deaths</th>\n",
              "      <th>new_tests</th>\n",
              "    </tr>\n",
              "  </thead>\n",
              "  <tbody>\n",
              "    <tr>\n",
              "      <th>0</th>\n",
              "      <td>2019-12-31</td>\n",
              "      <td>0.0</td>\n",
              "      <td>0.0</td>\n",
              "      <td>NaN</td>\n",
              "    </tr>\n",
              "    <tr>\n",
              "      <th>1</th>\n",
              "      <td>2020-01-01</td>\n",
              "      <td>0.0</td>\n",
              "      <td>0.0</td>\n",
              "      <td>NaN</td>\n",
              "    </tr>\n",
              "    <tr>\n",
              "      <th>2</th>\n",
              "      <td>2020-01-02</td>\n",
              "      <td>0.0</td>\n",
              "      <td>0.0</td>\n",
              "      <td>NaN</td>\n",
              "    </tr>\n",
              "    <tr>\n",
              "      <th>3</th>\n",
              "      <td>2020-01-03</td>\n",
              "      <td>0.0</td>\n",
              "      <td>0.0</td>\n",
              "      <td>NaN</td>\n",
              "    </tr>\n",
              "    <tr>\n",
              "      <th>4</th>\n",
              "      <td>2020-01-04</td>\n",
              "      <td>0.0</td>\n",
              "      <td>0.0</td>\n",
              "      <td>NaN</td>\n",
              "    </tr>\n",
              "  </tbody>\n",
              "</table>\n",
              "</div>"
            ],
            "text/plain": [
              "         date  new_cases  new_deaths  new_tests\n",
              "0  2019-12-31        0.0         0.0        NaN\n",
              "1  2020-01-01        0.0         0.0        NaN\n",
              "2  2020-01-02        0.0         0.0        NaN\n",
              "3  2020-01-03        0.0         0.0        NaN\n",
              "4  2020-01-04        0.0         0.0        NaN"
            ]
          },
          "metadata": {
            "tags": []
          },
          "execution_count": 60
        }
      ]
    },
    {
      "cell_type": "markdown",
      "metadata": {
        "id": "rjIhdU_DnrJE"
      },
      "source": [
        "### **1.   Make the `date` column as the index.**"
      ]
    },
    {
      "cell_type": "code",
      "metadata": {
        "id": "I4Yv7pIIeA0R",
        "colab": {
          "base_uri": "https://localhost:8080/",
          "height": 455
        },
        "outputId": "3201d578-6ef6-4f29-9a7a-1790e0b84cb9"
      },
      "source": [
        "covid_df.set_index('date', inplace=True)\r\n",
        "covid_df"
      ],
      "execution_count": 61,
      "outputs": [
        {
          "output_type": "execute_result",
          "data": {
            "text/html": [
              "<div>\n",
              "<style scoped>\n",
              "    .dataframe tbody tr th:only-of-type {\n",
              "        vertical-align: middle;\n",
              "    }\n",
              "\n",
              "    .dataframe tbody tr th {\n",
              "        vertical-align: top;\n",
              "    }\n",
              "\n",
              "    .dataframe thead th {\n",
              "        text-align: right;\n",
              "    }\n",
              "</style>\n",
              "<table border=\"1\" class=\"dataframe\">\n",
              "  <thead>\n",
              "    <tr style=\"text-align: right;\">\n",
              "      <th></th>\n",
              "      <th>new_cases</th>\n",
              "      <th>new_deaths</th>\n",
              "      <th>new_tests</th>\n",
              "    </tr>\n",
              "    <tr>\n",
              "      <th>date</th>\n",
              "      <th></th>\n",
              "      <th></th>\n",
              "      <th></th>\n",
              "    </tr>\n",
              "  </thead>\n",
              "  <tbody>\n",
              "    <tr>\n",
              "      <th>2019-12-31</th>\n",
              "      <td>0.0</td>\n",
              "      <td>0.0</td>\n",
              "      <td>NaN</td>\n",
              "    </tr>\n",
              "    <tr>\n",
              "      <th>2020-01-01</th>\n",
              "      <td>0.0</td>\n",
              "      <td>0.0</td>\n",
              "      <td>NaN</td>\n",
              "    </tr>\n",
              "    <tr>\n",
              "      <th>2020-01-02</th>\n",
              "      <td>0.0</td>\n",
              "      <td>0.0</td>\n",
              "      <td>NaN</td>\n",
              "    </tr>\n",
              "    <tr>\n",
              "      <th>2020-01-03</th>\n",
              "      <td>0.0</td>\n",
              "      <td>0.0</td>\n",
              "      <td>NaN</td>\n",
              "    </tr>\n",
              "    <tr>\n",
              "      <th>2020-01-04</th>\n",
              "      <td>0.0</td>\n",
              "      <td>0.0</td>\n",
              "      <td>NaN</td>\n",
              "    </tr>\n",
              "    <tr>\n",
              "      <th>...</th>\n",
              "      <td>...</td>\n",
              "      <td>...</td>\n",
              "      <td>...</td>\n",
              "    </tr>\n",
              "    <tr>\n",
              "      <th>2020-08-30</th>\n",
              "      <td>1444.0</td>\n",
              "      <td>1.0</td>\n",
              "      <td>53541.0</td>\n",
              "    </tr>\n",
              "    <tr>\n",
              "      <th>2020-08-31</th>\n",
              "      <td>1365.0</td>\n",
              "      <td>4.0</td>\n",
              "      <td>42583.0</td>\n",
              "    </tr>\n",
              "    <tr>\n",
              "      <th>2020-09-01</th>\n",
              "      <td>996.0</td>\n",
              "      <td>6.0</td>\n",
              "      <td>54395.0</td>\n",
              "    </tr>\n",
              "    <tr>\n",
              "      <th>2020-09-02</th>\n",
              "      <td>975.0</td>\n",
              "      <td>8.0</td>\n",
              "      <td>NaN</td>\n",
              "    </tr>\n",
              "    <tr>\n",
              "      <th>2020-09-03</th>\n",
              "      <td>1326.0</td>\n",
              "      <td>6.0</td>\n",
              "      <td>NaN</td>\n",
              "    </tr>\n",
              "  </tbody>\n",
              "</table>\n",
              "<p>248 rows × 3 columns</p>\n",
              "</div>"
            ],
            "text/plain": [
              "            new_cases  new_deaths  new_tests\n",
              "date                                        \n",
              "2019-12-31        0.0         0.0        NaN\n",
              "2020-01-01        0.0         0.0        NaN\n",
              "2020-01-02        0.0         0.0        NaN\n",
              "2020-01-03        0.0         0.0        NaN\n",
              "2020-01-04        0.0         0.0        NaN\n",
              "...               ...         ...        ...\n",
              "2020-08-30     1444.0         1.0    53541.0\n",
              "2020-08-31     1365.0         4.0    42583.0\n",
              "2020-09-01      996.0         6.0    54395.0\n",
              "2020-09-02      975.0         8.0        NaN\n",
              "2020-09-03     1326.0         6.0        NaN\n",
              "\n",
              "[248 rows x 3 columns]"
            ]
          },
          "metadata": {
            "tags": []
          },
          "execution_count": 61
        }
      ]
    },
    {
      "cell_type": "markdown",
      "metadata": {
        "id": "E5JEaRPtoCeP"
      },
      "source": [
        "### **2.   Sort the records in the dataset based on the `date` column.**"
      ]
    },
    {
      "cell_type": "code",
      "metadata": {
        "id": "m9KDXtrqeMs6"
      },
      "source": [
        "covid_df.sort_index(inplace=True)"
      ],
      "execution_count": 62,
      "outputs": []
    },
    {
      "cell_type": "markdown",
      "metadata": {
        "id": "ZSCH_q6DoIM2"
      },
      "source": [
        "### **3.   Find out on which days more than 1000 cases were reported.**"
      ]
    },
    {
      "cell_type": "code",
      "metadata": {
        "id": "RwOiwQm4eV61",
        "colab": {
          "base_uri": "https://localhost:8080/"
        },
        "outputId": "1d694c2a-be89-4c2d-cd94-1c8dd75cd8aa"
      },
      "source": [
        "covid_df[covid_df.new_cases>1000].index"
      ],
      "execution_count": 63,
      "outputs": [
        {
          "output_type": "execute_result",
          "data": {
            "text/plain": [
              "Index(['2020-03-08', '2020-03-09', '2020-03-10', '2020-03-12', '2020-03-13',\n",
              "       '2020-03-14', '2020-03-15', '2020-03-16', '2020-03-17', '2020-03-18',\n",
              "       '2020-03-19', '2020-03-20', '2020-03-21', '2020-03-22', '2020-03-23',\n",
              "       '2020-03-24', '2020-03-25', '2020-03-26', '2020-03-27', '2020-03-28',\n",
              "       '2020-03-29', '2020-03-30', '2020-03-31', '2020-04-01', '2020-04-02',\n",
              "       '2020-04-03', '2020-04-04', '2020-04-05', '2020-04-06', '2020-04-07',\n",
              "       '2020-04-08', '2020-04-09', '2020-04-10', '2020-04-11', '2020-04-12',\n",
              "       '2020-04-13', '2020-04-14', '2020-04-15', '2020-04-16', '2020-04-17',\n",
              "       '2020-04-18', '2020-04-19', '2020-04-20', '2020-04-21', '2020-04-22',\n",
              "       '2020-04-23', '2020-04-24', '2020-04-25', '2020-04-26', '2020-04-27',\n",
              "       '2020-04-28', '2020-04-29', '2020-04-30', '2020-05-01', '2020-05-02',\n",
              "       '2020-05-03', '2020-05-04', '2020-05-05', '2020-05-06', '2020-05-07',\n",
              "       '2020-05-08', '2020-05-09', '2020-05-10', '2020-05-13', '2020-08-23',\n",
              "       '2020-08-24', '2020-08-27', '2020-08-28', '2020-08-29', '2020-08-30',\n",
              "       '2020-08-31', '2020-09-03'],\n",
              "      dtype='object', name='date')"
            ]
          },
          "metadata": {
            "tags": []
          },
          "execution_count": 63
        }
      ]
    },
    {
      "cell_type": "markdown",
      "metadata": {
        "id": "i01Ixk9HoRsj"
      },
      "source": [
        "### **4.   Fetch the `new_cases` and `new_tests` reported in the month of June.**"
      ]
    },
    {
      "cell_type": "code",
      "metadata": {
        "id": "mZ4pwHDre7E0",
        "colab": {
          "base_uri": "https://localhost:8080/",
          "height": 1000
        },
        "outputId": "6285577b-023d-4945-9675-12dd962dfbb9"
      },
      "source": [
        "covid_df.loc['2020-06-01':'2020-06-31']"
      ],
      "execution_count": 64,
      "outputs": [
        {
          "output_type": "execute_result",
          "data": {
            "text/html": [
              "<div>\n",
              "<style scoped>\n",
              "    .dataframe tbody tr th:only-of-type {\n",
              "        vertical-align: middle;\n",
              "    }\n",
              "\n",
              "    .dataframe tbody tr th {\n",
              "        vertical-align: top;\n",
              "    }\n",
              "\n",
              "    .dataframe thead th {\n",
              "        text-align: right;\n",
              "    }\n",
              "</style>\n",
              "<table border=\"1\" class=\"dataframe\">\n",
              "  <thead>\n",
              "    <tr style=\"text-align: right;\">\n",
              "      <th></th>\n",
              "      <th>new_cases</th>\n",
              "      <th>new_deaths</th>\n",
              "      <th>new_tests</th>\n",
              "    </tr>\n",
              "    <tr>\n",
              "      <th>date</th>\n",
              "      <th></th>\n",
              "      <th></th>\n",
              "      <th></th>\n",
              "    </tr>\n",
              "  </thead>\n",
              "  <tbody>\n",
              "    <tr>\n",
              "      <th>2020-06-01</th>\n",
              "      <td>355.0</td>\n",
              "      <td>75.0</td>\n",
              "      <td>18053.0</td>\n",
              "    </tr>\n",
              "    <tr>\n",
              "      <th>2020-06-02</th>\n",
              "      <td>178.0</td>\n",
              "      <td>60.0</td>\n",
              "      <td>25628.0</td>\n",
              "    </tr>\n",
              "    <tr>\n",
              "      <th>2020-06-03</th>\n",
              "      <td>318.0</td>\n",
              "      <td>55.0</td>\n",
              "      <td>20035.0</td>\n",
              "    </tr>\n",
              "    <tr>\n",
              "      <th>2020-06-04</th>\n",
              "      <td>321.0</td>\n",
              "      <td>71.0</td>\n",
              "      <td>27451.0</td>\n",
              "    </tr>\n",
              "    <tr>\n",
              "      <th>2020-06-05</th>\n",
              "      <td>177.0</td>\n",
              "      <td>88.0</td>\n",
              "      <td>40470.0</td>\n",
              "    </tr>\n",
              "    <tr>\n",
              "      <th>2020-06-06</th>\n",
              "      <td>518.0</td>\n",
              "      <td>85.0</td>\n",
              "      <td>34036.0</td>\n",
              "    </tr>\n",
              "    <tr>\n",
              "      <th>2020-06-07</th>\n",
              "      <td>270.0</td>\n",
              "      <td>72.0</td>\n",
              "      <td>27894.0</td>\n",
              "    </tr>\n",
              "    <tr>\n",
              "      <th>2020-06-08</th>\n",
              "      <td>197.0</td>\n",
              "      <td>53.0</td>\n",
              "      <td>16301.0</td>\n",
              "    </tr>\n",
              "    <tr>\n",
              "      <th>2020-06-09</th>\n",
              "      <td>280.0</td>\n",
              "      <td>65.0</td>\n",
              "      <td>32200.0</td>\n",
              "    </tr>\n",
              "    <tr>\n",
              "      <th>2020-06-10</th>\n",
              "      <td>283.0</td>\n",
              "      <td>79.0</td>\n",
              "      <td>37865.0</td>\n",
              "    </tr>\n",
              "    <tr>\n",
              "      <th>2020-06-11</th>\n",
              "      <td>202.0</td>\n",
              "      <td>71.0</td>\n",
              "      <td>32991.0</td>\n",
              "    </tr>\n",
              "    <tr>\n",
              "      <th>2020-06-12</th>\n",
              "      <td>379.0</td>\n",
              "      <td>53.0</td>\n",
              "      <td>37651.0</td>\n",
              "    </tr>\n",
              "    <tr>\n",
              "      <th>2020-06-13</th>\n",
              "      <td>163.0</td>\n",
              "      <td>56.0</td>\n",
              "      <td>32880.0</td>\n",
              "    </tr>\n",
              "    <tr>\n",
              "      <th>2020-06-14</th>\n",
              "      <td>346.0</td>\n",
              "      <td>78.0</td>\n",
              "      <td>29545.0</td>\n",
              "    </tr>\n",
              "    <tr>\n",
              "      <th>2020-06-15</th>\n",
              "      <td>338.0</td>\n",
              "      <td>44.0</td>\n",
              "      <td>17463.0</td>\n",
              "    </tr>\n",
              "    <tr>\n",
              "      <th>2020-06-16</th>\n",
              "      <td>301.0</td>\n",
              "      <td>26.0</td>\n",
              "      <td>27762.0</td>\n",
              "    </tr>\n",
              "    <tr>\n",
              "      <th>2020-06-17</th>\n",
              "      <td>210.0</td>\n",
              "      <td>34.0</td>\n",
              "      <td>33957.0</td>\n",
              "    </tr>\n",
              "    <tr>\n",
              "      <th>2020-06-18</th>\n",
              "      <td>328.0</td>\n",
              "      <td>43.0</td>\n",
              "      <td>32921.0</td>\n",
              "    </tr>\n",
              "    <tr>\n",
              "      <th>2020-06-19</th>\n",
              "      <td>331.0</td>\n",
              "      <td>66.0</td>\n",
              "      <td>28570.0</td>\n",
              "    </tr>\n",
              "    <tr>\n",
              "      <th>2020-06-20</th>\n",
              "      <td>-148.0</td>\n",
              "      <td>47.0</td>\n",
              "      <td>29875.0</td>\n",
              "    </tr>\n",
              "    <tr>\n",
              "      <th>2020-06-21</th>\n",
              "      <td>264.0</td>\n",
              "      <td>49.0</td>\n",
              "      <td>24581.0</td>\n",
              "    </tr>\n",
              "    <tr>\n",
              "      <th>2020-06-22</th>\n",
              "      <td>224.0</td>\n",
              "      <td>24.0</td>\n",
              "      <td>16152.0</td>\n",
              "    </tr>\n",
              "    <tr>\n",
              "      <th>2020-06-23</th>\n",
              "      <td>221.0</td>\n",
              "      <td>23.0</td>\n",
              "      <td>23225.0</td>\n",
              "    </tr>\n",
              "    <tr>\n",
              "      <th>2020-06-24</th>\n",
              "      <td>113.0</td>\n",
              "      <td>18.0</td>\n",
              "      <td>30237.0</td>\n",
              "    </tr>\n",
              "    <tr>\n",
              "      <th>2020-06-25</th>\n",
              "      <td>577.0</td>\n",
              "      <td>-31.0</td>\n",
              "      <td>29421.0</td>\n",
              "    </tr>\n",
              "    <tr>\n",
              "      <th>2020-06-26</th>\n",
              "      <td>296.0</td>\n",
              "      <td>34.0</td>\n",
              "      <td>28331.0</td>\n",
              "    </tr>\n",
              "    <tr>\n",
              "      <th>2020-06-27</th>\n",
              "      <td>255.0</td>\n",
              "      <td>30.0</td>\n",
              "      <td>29721.0</td>\n",
              "    </tr>\n",
              "    <tr>\n",
              "      <th>2020-06-28</th>\n",
              "      <td>175.0</td>\n",
              "      <td>8.0</td>\n",
              "      <td>21183.0</td>\n",
              "    </tr>\n",
              "    <tr>\n",
              "      <th>2020-06-29</th>\n",
              "      <td>174.0</td>\n",
              "      <td>22.0</td>\n",
              "      <td>15484.0</td>\n",
              "    </tr>\n",
              "    <tr>\n",
              "      <th>2020-06-30</th>\n",
              "      <td>126.0</td>\n",
              "      <td>6.0</td>\n",
              "      <td>28471.0</td>\n",
              "    </tr>\n",
              "  </tbody>\n",
              "</table>\n",
              "</div>"
            ],
            "text/plain": [
              "            new_cases  new_deaths  new_tests\n",
              "date                                        \n",
              "2020-06-01      355.0        75.0    18053.0\n",
              "2020-06-02      178.0        60.0    25628.0\n",
              "2020-06-03      318.0        55.0    20035.0\n",
              "2020-06-04      321.0        71.0    27451.0\n",
              "2020-06-05      177.0        88.0    40470.0\n",
              "2020-06-06      518.0        85.0    34036.0\n",
              "2020-06-07      270.0        72.0    27894.0\n",
              "2020-06-08      197.0        53.0    16301.0\n",
              "2020-06-09      280.0        65.0    32200.0\n",
              "2020-06-10      283.0        79.0    37865.0\n",
              "2020-06-11      202.0        71.0    32991.0\n",
              "2020-06-12      379.0        53.0    37651.0\n",
              "2020-06-13      163.0        56.0    32880.0\n",
              "2020-06-14      346.0        78.0    29545.0\n",
              "2020-06-15      338.0        44.0    17463.0\n",
              "2020-06-16      301.0        26.0    27762.0\n",
              "2020-06-17      210.0        34.0    33957.0\n",
              "2020-06-18      328.0        43.0    32921.0\n",
              "2020-06-19      331.0        66.0    28570.0\n",
              "2020-06-20     -148.0        47.0    29875.0\n",
              "2020-06-21      264.0        49.0    24581.0\n",
              "2020-06-22      224.0        24.0    16152.0\n",
              "2020-06-23      221.0        23.0    23225.0\n",
              "2020-06-24      113.0        18.0    30237.0\n",
              "2020-06-25      577.0       -31.0    29421.0\n",
              "2020-06-26      296.0        34.0    28331.0\n",
              "2020-06-27      255.0        30.0    29721.0\n",
              "2020-06-28      175.0         8.0    21183.0\n",
              "2020-06-29      174.0        22.0    15484.0\n",
              "2020-06-30      126.0         6.0    28471.0"
            ]
          },
          "metadata": {
            "tags": []
          },
          "execution_count": 64
        }
      ]
    },
    {
      "cell_type": "markdown",
      "metadata": {
        "id": "T_dLCiOCoVt7"
      },
      "source": [
        "### **5.   Find the first row in which valid `new_tests` were reported.**"
      ]
    },
    {
      "cell_type": "code",
      "metadata": {
        "id": "1IvQ9rJxfylm",
        "colab": {
          "base_uri": "https://localhost:8080/"
        },
        "outputId": "9599cc5c-69c5-4db0-e55d-27386a3cd6ba"
      },
      "source": [
        "covid_df.apply(lambda series: series.first_valid_index())"
      ],
      "execution_count": 65,
      "outputs": [
        {
          "output_type": "execute_result",
          "data": {
            "text/plain": [
              "new_cases     2019-12-31\n",
              "new_deaths    2019-12-31\n",
              "new_tests     2020-04-20\n",
              "dtype: object"
            ]
          },
          "metadata": {
            "tags": []
          },
          "execution_count": 65
        }
      ]
    },
    {
      "cell_type": "code",
      "metadata": {
        "id": "h-2I58m-ANV1",
        "outputId": "0267ab75-4380-4364-a68c-3862542c34ba",
        "colab": {
          "base_uri": "https://localhost:8080/"
        }
      },
      "source": [
        "first_valid_new_tests = covid_df.new_tests.first_valid_index()\r\n",
        "covid_df.loc[first_valid_new_tests]"
      ],
      "execution_count": 66,
      "outputs": [
        {
          "output_type": "execute_result",
          "data": {
            "text/plain": [
              "new_cases     3047.0\n",
              "new_deaths     433.0\n",
              "new_tests     7841.0\n",
              "Name: 2020-04-20, dtype: float64"
            ]
          },
          "metadata": {
            "tags": []
          },
          "execution_count": 66
        }
      ]
    },
    {
      "cell_type": "markdown",
      "metadata": {
        "id": "cs6TnufKoaST"
      },
      "source": [
        "## For the following questions, use the **film** dataset"
      ]
    },
    {
      "cell_type": "markdown",
      "metadata": {
        "id": "OyEy8NSnojd4"
      },
      "source": [
        "### **6.  Make the '`year` and `title` as indices.**"
      ]
    },
    {
      "cell_type": "code",
      "metadata": {
        "id": "nWCihQlspz3J"
      },
      "source": [
        "films_df = pd.read_csv('film.csv')"
      ],
      "execution_count": 67,
      "outputs": []
    },
    {
      "cell_type": "code",
      "metadata": {
        "id": "8Opqd-rgorAm",
        "colab": {
          "base_uri": "https://localhost:8080/",
          "height": 206
        },
        "outputId": "ac491300-15a9-495f-c030-58f21d56d7d8"
      },
      "source": [
        "films_df.head()"
      ],
      "execution_count": 68,
      "outputs": [
        {
          "output_type": "execute_result",
          "data": {
            "text/html": [
              "<div>\n",
              "<style scoped>\n",
              "    .dataframe tbody tr th:only-of-type {\n",
              "        vertical-align: middle;\n",
              "    }\n",
              "\n",
              "    .dataframe tbody tr th {\n",
              "        vertical-align: top;\n",
              "    }\n",
              "\n",
              "    .dataframe thead th {\n",
              "        text-align: right;\n",
              "    }\n",
              "</style>\n",
              "<table border=\"1\" class=\"dataframe\">\n",
              "  <thead>\n",
              "    <tr style=\"text-align: right;\">\n",
              "      <th></th>\n",
              "      <th>Year</th>\n",
              "      <th>Length</th>\n",
              "      <th>Title</th>\n",
              "      <th>Subject</th>\n",
              "      <th>Actor</th>\n",
              "      <th>Actress</th>\n",
              "      <th>Director</th>\n",
              "      <th>Popularity</th>\n",
              "      <th>Awards</th>\n",
              "    </tr>\n",
              "  </thead>\n",
              "  <tbody>\n",
              "    <tr>\n",
              "      <th>0</th>\n",
              "      <td>1990</td>\n",
              "      <td>111</td>\n",
              "      <td>Tie Me Up! Tie Me Down!</td>\n",
              "      <td>Comedy</td>\n",
              "      <td>Banderas, Antonio</td>\n",
              "      <td>Abril, Victoria</td>\n",
              "      <td>Almodóvar, Pedro</td>\n",
              "      <td>68</td>\n",
              "      <td>No</td>\n",
              "    </tr>\n",
              "    <tr>\n",
              "      <th>1</th>\n",
              "      <td>1991</td>\n",
              "      <td>113</td>\n",
              "      <td>High Heels</td>\n",
              "      <td>Comedy</td>\n",
              "      <td>Bosé, Miguel</td>\n",
              "      <td>Abril, Victoria</td>\n",
              "      <td>Almodóvar, Pedro</td>\n",
              "      <td>68</td>\n",
              "      <td>No</td>\n",
              "    </tr>\n",
              "    <tr>\n",
              "      <th>2</th>\n",
              "      <td>1983</td>\n",
              "      <td>104</td>\n",
              "      <td>Dead Zone, The</td>\n",
              "      <td>Horror</td>\n",
              "      <td>Walken, Christopher</td>\n",
              "      <td>Adams, Brooke</td>\n",
              "      <td>Cronenberg, David</td>\n",
              "      <td>79</td>\n",
              "      <td>No</td>\n",
              "    </tr>\n",
              "    <tr>\n",
              "      <th>3</th>\n",
              "      <td>1979</td>\n",
              "      <td>122</td>\n",
              "      <td>Cuba</td>\n",
              "      <td>Action</td>\n",
              "      <td>Connery, Sean</td>\n",
              "      <td>Adams, Brooke</td>\n",
              "      <td>Lester, Richard</td>\n",
              "      <td>6</td>\n",
              "      <td>No</td>\n",
              "    </tr>\n",
              "    <tr>\n",
              "      <th>4</th>\n",
              "      <td>1978</td>\n",
              "      <td>94</td>\n",
              "      <td>Days of Heaven</td>\n",
              "      <td>Drama</td>\n",
              "      <td>Gere, Richard</td>\n",
              "      <td>Adams, Brooke</td>\n",
              "      <td>Malick, Terrence</td>\n",
              "      <td>14</td>\n",
              "      <td>No</td>\n",
              "    </tr>\n",
              "  </tbody>\n",
              "</table>\n",
              "</div>"
            ],
            "text/plain": [
              "   Year  Length                    Title  ...           Director Popularity Awards\n",
              "0  1990     111  Tie Me Up! Tie Me Down!  ...   Almodóvar, Pedro         68     No\n",
              "1  1991     113               High Heels  ...   Almodóvar, Pedro         68     No\n",
              "2  1983     104           Dead Zone, The  ...  Cronenberg, David         79     No\n",
              "3  1979     122                     Cuba  ...    Lester, Richard          6     No\n",
              "4  1978      94           Days of Heaven  ...   Malick, Terrence         14     No\n",
              "\n",
              "[5 rows x 9 columns]"
            ]
          },
          "metadata": {
            "tags": []
          },
          "execution_count": 68
        }
      ]
    },
    {
      "cell_type": "code",
      "metadata": {
        "id": "ppQelmNngsHD",
        "colab": {
          "base_uri": "https://localhost:8080/",
          "height": 455
        },
        "outputId": "a4137cf2-2433-4d0b-8789-079e25190ad7"
      },
      "source": [
        "films_df.set_index(['Year', 'Title'], inplace=True)\r\n",
        "films_df"
      ],
      "execution_count": 69,
      "outputs": [
        {
          "output_type": "execute_result",
          "data": {
            "text/html": [
              "<div>\n",
              "<style scoped>\n",
              "    .dataframe tbody tr th:only-of-type {\n",
              "        vertical-align: middle;\n",
              "    }\n",
              "\n",
              "    .dataframe tbody tr th {\n",
              "        vertical-align: top;\n",
              "    }\n",
              "\n",
              "    .dataframe thead th {\n",
              "        text-align: right;\n",
              "    }\n",
              "</style>\n",
              "<table border=\"1\" class=\"dataframe\">\n",
              "  <thead>\n",
              "    <tr style=\"text-align: right;\">\n",
              "      <th></th>\n",
              "      <th></th>\n",
              "      <th>Length</th>\n",
              "      <th>Subject</th>\n",
              "      <th>Actor</th>\n",
              "      <th>Actress</th>\n",
              "      <th>Director</th>\n",
              "      <th>Popularity</th>\n",
              "      <th>Awards</th>\n",
              "    </tr>\n",
              "    <tr>\n",
              "      <th>Year</th>\n",
              "      <th>Title</th>\n",
              "      <th></th>\n",
              "      <th></th>\n",
              "      <th></th>\n",
              "      <th></th>\n",
              "      <th></th>\n",
              "      <th></th>\n",
              "      <th></th>\n",
              "    </tr>\n",
              "  </thead>\n",
              "  <tbody>\n",
              "    <tr>\n",
              "      <th>1990</th>\n",
              "      <th>Tie Me Up! Tie Me Down!</th>\n",
              "      <td>111</td>\n",
              "      <td>Comedy</td>\n",
              "      <td>Banderas, Antonio</td>\n",
              "      <td>Abril, Victoria</td>\n",
              "      <td>Almodóvar, Pedro</td>\n",
              "      <td>68</td>\n",
              "      <td>No</td>\n",
              "    </tr>\n",
              "    <tr>\n",
              "      <th>1991</th>\n",
              "      <th>High Heels</th>\n",
              "      <td>113</td>\n",
              "      <td>Comedy</td>\n",
              "      <td>Bosé, Miguel</td>\n",
              "      <td>Abril, Victoria</td>\n",
              "      <td>Almodóvar, Pedro</td>\n",
              "      <td>68</td>\n",
              "      <td>No</td>\n",
              "    </tr>\n",
              "    <tr>\n",
              "      <th>1983</th>\n",
              "      <th>Dead Zone, The</th>\n",
              "      <td>104</td>\n",
              "      <td>Horror</td>\n",
              "      <td>Walken, Christopher</td>\n",
              "      <td>Adams, Brooke</td>\n",
              "      <td>Cronenberg, David</td>\n",
              "      <td>79</td>\n",
              "      <td>No</td>\n",
              "    </tr>\n",
              "    <tr>\n",
              "      <th>1979</th>\n",
              "      <th>Cuba</th>\n",
              "      <td>122</td>\n",
              "      <td>Action</td>\n",
              "      <td>Connery, Sean</td>\n",
              "      <td>Adams, Brooke</td>\n",
              "      <td>Lester, Richard</td>\n",
              "      <td>6</td>\n",
              "      <td>No</td>\n",
              "    </tr>\n",
              "    <tr>\n",
              "      <th>1978</th>\n",
              "      <th>Days of Heaven</th>\n",
              "      <td>94</td>\n",
              "      <td>Drama</td>\n",
              "      <td>Gere, Richard</td>\n",
              "      <td>Adams, Brooke</td>\n",
              "      <td>Malick, Terrence</td>\n",
              "      <td>14</td>\n",
              "      <td>No</td>\n",
              "    </tr>\n",
              "    <tr>\n",
              "      <th>...</th>\n",
              "      <th>...</th>\n",
              "      <td>...</td>\n",
              "      <td>...</td>\n",
              "      <td>...</td>\n",
              "      <td>...</td>\n",
              "      <td>...</td>\n",
              "      <td>...</td>\n",
              "      <td>...</td>\n",
              "    </tr>\n",
              "    <tr>\n",
              "      <th>1975</th>\n",
              "      <th>That Lucky Touch</th>\n",
              "      <td>93</td>\n",
              "      <td>Action</td>\n",
              "      <td>Moore, Roger</td>\n",
              "      <td>York, Susannah</td>\n",
              "      <td>Miles, Christopher</td>\n",
              "      <td>85</td>\n",
              "      <td>No</td>\n",
              "    </tr>\n",
              "    <tr>\n",
              "      <th>1949</th>\n",
              "      <th>Lust for Gold</th>\n",
              "      <td>90</td>\n",
              "      <td>Drama</td>\n",
              "      <td>Ford, Glenn</td>\n",
              "      <td>Young, Gig</td>\n",
              "      <td>Simon, S. Sylvan</td>\n",
              "      <td>57</td>\n",
              "      <td>No</td>\n",
              "    </tr>\n",
              "    <tr>\n",
              "      <th>1987</th>\n",
              "      <th>Heat</th>\n",
              "      <td>103</td>\n",
              "      <td>Mystery</td>\n",
              "      <td>Reynolds, Burt</td>\n",
              "      <td>Young, Karen</td>\n",
              "      <td>Jameson, Jerry</td>\n",
              "      <td>69</td>\n",
              "      <td>No</td>\n",
              "    </tr>\n",
              "    <tr>\n",
              "      <th>1947</th>\n",
              "      <th>Night Is My Future</th>\n",
              "      <td>87</td>\n",
              "      <td>Drama</td>\n",
              "      <td>Malmsten, Birger</td>\n",
              "      <td>Zetterling, Mai</td>\n",
              "      <td>Bergman, Ingmar</td>\n",
              "      <td>17</td>\n",
              "      <td>No</td>\n",
              "    </tr>\n",
              "    <tr>\n",
              "      <th>1990</th>\n",
              "      <th>Witches, The</th>\n",
              "      <td>92</td>\n",
              "      <td>Science Fiction</td>\n",
              "      <td>Fisher, Jasen</td>\n",
              "      <td>Zetterling, Mai</td>\n",
              "      <td>Roeg, Nicolas</td>\n",
              "      <td>18</td>\n",
              "      <td>No</td>\n",
              "    </tr>\n",
              "  </tbody>\n",
              "</table>\n",
              "<p>1128 rows × 7 columns</p>\n",
              "</div>"
            ],
            "text/plain": [
              "                              Length          Subject  ... Popularity Awards\n",
              "Year Title                                             ...                  \n",
              "1990 Tie Me Up! Tie Me Down!     111           Comedy  ...         68     No\n",
              "1991 High Heels                  113           Comedy  ...         68     No\n",
              "1983 Dead Zone, The              104           Horror  ...         79     No\n",
              "1979 Cuba                        122           Action  ...          6     No\n",
              "1978 Days of Heaven               94            Drama  ...         14     No\n",
              "...                              ...              ...  ...        ...    ...\n",
              "1975 That Lucky Touch             93           Action  ...         85     No\n",
              "1949 Lust for Gold                90            Drama  ...         57     No\n",
              "1987 Heat                        103          Mystery  ...         69     No\n",
              "1947 Night Is My Future           87            Drama  ...         17     No\n",
              "1990 Witches, The                 92  Science Fiction  ...         18     No\n",
              "\n",
              "[1128 rows x 7 columns]"
            ]
          },
          "metadata": {
            "tags": []
          },
          "execution_count": 69
        }
      ]
    },
    {
      "cell_type": "markdown",
      "metadata": {
        "id": "LykHGHCnonXT"
      },
      "source": [
        "### **7.  Fetch the films where the `actor` name contains `Jasen` and the `popularity` is greater than 50.**"
      ]
    },
    {
      "cell_type": "code",
      "metadata": {
        "id": "z7luAx-AhvH-",
        "colab": {
          "base_uri": "https://localhost:8080/",
          "height": 81
        },
        "outputId": "d9148e2f-8a04-4008-d0d1-aae76a46a9d4"
      },
      "source": [
        "films_df[(films_df.Actor.str.contains('Jasen')) & (films_df.Popularity > 50)]"
      ],
      "execution_count": 70,
      "outputs": [
        {
          "output_type": "execute_result",
          "data": {
            "text/html": [
              "<div>\n",
              "<style scoped>\n",
              "    .dataframe tbody tr th:only-of-type {\n",
              "        vertical-align: middle;\n",
              "    }\n",
              "\n",
              "    .dataframe tbody tr th {\n",
              "        vertical-align: top;\n",
              "    }\n",
              "\n",
              "    .dataframe thead th {\n",
              "        text-align: right;\n",
              "    }\n",
              "</style>\n",
              "<table border=\"1\" class=\"dataframe\">\n",
              "  <thead>\n",
              "    <tr style=\"text-align: right;\">\n",
              "      <th></th>\n",
              "      <th></th>\n",
              "      <th>Length</th>\n",
              "      <th>Subject</th>\n",
              "      <th>Actor</th>\n",
              "      <th>Actress</th>\n",
              "      <th>Director</th>\n",
              "      <th>Popularity</th>\n",
              "      <th>Awards</th>\n",
              "    </tr>\n",
              "    <tr>\n",
              "      <th>Year</th>\n",
              "      <th>Title</th>\n",
              "      <th></th>\n",
              "      <th></th>\n",
              "      <th></th>\n",
              "      <th></th>\n",
              "      <th></th>\n",
              "      <th></th>\n",
              "      <th></th>\n",
              "    </tr>\n",
              "  </thead>\n",
              "  <tbody>\n",
              "  </tbody>\n",
              "</table>\n",
              "</div>"
            ],
            "text/plain": [
              "Empty DataFrame\n",
              "Columns: [Length, Subject, Actor, Actress, Director, Popularity, Awards]\n",
              "Index: []"
            ]
          },
          "metadata": {
            "tags": []
          },
          "execution_count": 70
        }
      ]
    }
  ]
}