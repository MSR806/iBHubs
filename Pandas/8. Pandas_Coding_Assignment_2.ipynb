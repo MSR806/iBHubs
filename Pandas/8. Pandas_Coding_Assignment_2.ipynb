{
  "nbformat": 4,
  "nbformat_minor": 0,
  "metadata": {
    "colab": {
      "name": "Pandas Coding Assignment - 2.ipynb",
      "provenance": [],
      "collapsed_sections": [
        "yxyjxnhvxu6T",
        "81yF31X3mNY9",
        "I_BSEGVjUFNt",
        "2uNMRTEV59Ty",
        "XwxXs4uZ4uFb"
      ],
      "toc_visible": true,
      "include_colab_link": true
    },
    "kernelspec": {
      "name": "python3",
      "display_name": "Python 3"
    }
  },
  "cells": [
    {
      "cell_type": "markdown",
      "metadata": {
        "id": "view-in-github",
        "colab_type": "text"
      },
      "source": [
        "<a href=\"https://colab.research.google.com/github/MSR806/iBHubs_AI/blob/main/Pandas/8.%20Pandas_Coding_Assignment_2.ipynb\" target=\"_parent\"><img src=\"https://colab.research.google.com/assets/colab-badge.svg\" alt=\"Open In Colab\"/></a>"
      ]
    },
    {
      "cell_type": "code",
      "metadata": {
        "id": "HULmAWvWL_w-"
      },
      "source": [
        "import pandas as pd\n",
        "import numpy as np"
      ],
      "execution_count": 1,
      "outputs": []
    },
    {
      "cell_type": "markdown",
      "metadata": {
        "id": "yxyjxnhvxu6T"
      },
      "source": [
        "# Data Analysis Process\n",
        "\n",
        "Broadly, data analysis involves the following phases:\n",
        "1. Question Phase - Asking questions\n",
        "2. Wrangling Phase\n",
        "  - Data Acquisition - Acquiring the data required to answer the question by various means\n",
        "  - Data Cleaning - Cleaning the data so it can be used for further analysis\n",
        "3. Data Exploration Phase - Getting familiar with the data, building intuition and finding patterns.\n",
        "4. Drawing Conclusions Phase  - Arriving at conclusions based on the data or making some predictions. This phase usually involves statisitics or Machine Learning.\n",
        "5. Communication Phase - Communicating your findings with the help of PPTs, blog posts etc. Data visualization can be very useful here.\n",
        "\n",
        "\n",
        "**This process is not always done in this order.**\n",
        "\n",
        "There can be a lot of going back and forth between the different phases. Especially the Wrangling Phase and Data Exploration Phase.\n",
        "  - To clean problems in the data, you first need to explore the data to see what problems are there.\n",
        "  - When you think you are done cleaning the data and you start exploring, you are likely to find more problems in the data, and you'll have to go back and clean the data.\n",
        "\n",
        "Also, throughout the process, as you become more familiar with the dataset, you may need to go back and refine the question you're asking."
      ]
    },
    {
      "cell_type": "markdown",
      "metadata": {
        "id": "E-jBt7D1nngK"
      },
      "source": [
        "# Analysis On the Shopping Dataset"
      ]
    },
    {
      "cell_type": "markdown",
      "metadata": {
        "id": "HVrVdUXn5QCt"
      },
      "source": [
        "\n",
        "Sometimes data acquistion may come before you pose a question. If a new dataset is released, you may acquire the data first and then think of some questions that can be answered with the data. \n",
        "\n",
        "In this assignment, you'll be answering some interesting questions on the shopping dataset."
      ]
    },
    {
      "cell_type": "code",
      "metadata": {
        "id": "RNXEhKt3tkiV",
        "outputId": "2479b665-092f-4955-ee9c-ab49c410641c",
        "colab": {
          "base_uri": "https://localhost:8080/"
        }
      },
      "source": [
        "!wget https://nkb-backend-otg-media-static.s3.ap-south-1.amazonaws.com/otg_prod/media/Tech_4.0/AI_ML/Datasets/sales_data.csv"
      ],
      "execution_count": 2,
      "outputs": [
        {
          "output_type": "stream",
          "text": [
            "--2021-01-07 11:14:28--  https://nkb-backend-otg-media-static.s3.ap-south-1.amazonaws.com/otg_prod/media/Tech_4.0/AI_ML/Datasets/sales_data.csv\n",
            "Resolving nkb-backend-otg-media-static.s3.ap-south-1.amazonaws.com (nkb-backend-otg-media-static.s3.ap-south-1.amazonaws.com)... 52.219.64.26\n",
            "Connecting to nkb-backend-otg-media-static.s3.ap-south-1.amazonaws.com (nkb-backend-otg-media-static.s3.ap-south-1.amazonaws.com)|52.219.64.26|:443... connected.\n",
            "HTTP request sent, awaiting response... 200 OK\n",
            "Length: 32406147 (31M) [text/csv]\n",
            "Saving to: ‘sales_data.csv’\n",
            "\n",
            "sales_data.csv      100%[===================>]  30.90M  17.7MB/s    in 1.7s    \n",
            "\n",
            "2021-01-07 11:14:30 (17.7 MB/s) - ‘sales_data.csv’ saved [32406147/32406147]\n",
            "\n"
          ],
          "name": "stdout"
        }
      ]
    },
    {
      "cell_type": "code",
      "metadata": {
        "id": "MS6bNNRXnngK",
        "outputId": "516b2d57-446a-4576-d549-f39e66f092af",
        "colab": {
          "base_uri": "https://localhost:8080/",
          "height": 424
        }
      },
      "source": [
        "shopping_df = pd.read_csv(\"sales_data.csv\")\n",
        "shopping_df"
      ],
      "execution_count": 3,
      "outputs": [
        {
          "output_type": "execute_result",
          "data": {
            "text/html": [
              "<div>\n",
              "<style scoped>\n",
              "    .dataframe tbody tr th:only-of-type {\n",
              "        vertical-align: middle;\n",
              "    }\n",
              "\n",
              "    .dataframe tbody tr th {\n",
              "        vertical-align: top;\n",
              "    }\n",
              "\n",
              "    .dataframe thead th {\n",
              "        text-align: right;\n",
              "    }\n",
              "</style>\n",
              "<table border=\"1\" class=\"dataframe\">\n",
              "  <thead>\n",
              "    <tr style=\"text-align: right;\">\n",
              "      <th></th>\n",
              "      <th>Order ID</th>\n",
              "      <th>Product</th>\n",
              "      <th>Quantity Ordered</th>\n",
              "      <th>Price Each</th>\n",
              "      <th>Order Date</th>\n",
              "      <th>Purchase Address</th>\n",
              "    </tr>\n",
              "  </thead>\n",
              "  <tbody>\n",
              "    <tr>\n",
              "      <th>0</th>\n",
              "      <td>150502.0</td>\n",
              "      <td>iPhone</td>\n",
              "      <td>1.0</td>\n",
              "      <td>700.00</td>\n",
              "      <td>02/18/19 01:35</td>\n",
              "      <td>866 Spruce St, Portland, ME 04101</td>\n",
              "    </tr>\n",
              "    <tr>\n",
              "      <th>1</th>\n",
              "      <td>150503.0</td>\n",
              "      <td>AA Batteries (4-pack)</td>\n",
              "      <td>1.0</td>\n",
              "      <td>3.84</td>\n",
              "      <td>02/13/19 07:24</td>\n",
              "      <td>18 13th St, San Francisco, CA 94016</td>\n",
              "    </tr>\n",
              "    <tr>\n",
              "      <th>2</th>\n",
              "      <td>150504.0</td>\n",
              "      <td>27in 4K Gaming Monitor</td>\n",
              "      <td>1.0</td>\n",
              "      <td>389.99</td>\n",
              "      <td>02/18/19 09:46</td>\n",
              "      <td>52 6th St, New York City, NY 10001</td>\n",
              "    </tr>\n",
              "    <tr>\n",
              "      <th>3</th>\n",
              "      <td>150505.0</td>\n",
              "      <td>Lightning Charging Cable</td>\n",
              "      <td>1.0</td>\n",
              "      <td>14.95</td>\n",
              "      <td>02/02/19 16:47</td>\n",
              "      <td>129 Cherry St, Atlanta, GA 30301</td>\n",
              "    </tr>\n",
              "    <tr>\n",
              "      <th>4</th>\n",
              "      <td>150506.0</td>\n",
              "      <td>AA Batteries (4-pack)</td>\n",
              "      <td>2.0</td>\n",
              "      <td>3.84</td>\n",
              "      <td>02/28/19 20:32</td>\n",
              "      <td>548 Lincoln St, Seattle, WA 98101</td>\n",
              "    </tr>\n",
              "    <tr>\n",
              "      <th>...</th>\n",
              "      <td>...</td>\n",
              "      <td>...</td>\n",
              "      <td>...</td>\n",
              "      <td>...</td>\n",
              "      <td>...</td>\n",
              "      <td>...</td>\n",
              "    </tr>\n",
              "    <tr>\n",
              "      <th>372985</th>\n",
              "      <td>295660.0</td>\n",
              "      <td>AAA Batteries (4-pack)</td>\n",
              "      <td>2.0</td>\n",
              "      <td>2.99</td>\n",
              "      <td>11/04/19 14:17</td>\n",
              "      <td>574 4th St, Los Angeles, CA 90001</td>\n",
              "    </tr>\n",
              "    <tr>\n",
              "      <th>372986</th>\n",
              "      <td>295661.0</td>\n",
              "      <td>USB-C Charging Cable</td>\n",
              "      <td>1.0</td>\n",
              "      <td>11.95</td>\n",
              "      <td>11/23/19 07:22</td>\n",
              "      <td>359 1st St, Austin, TX 73301</td>\n",
              "    </tr>\n",
              "    <tr>\n",
              "      <th>372987</th>\n",
              "      <td>295662.0</td>\n",
              "      <td>Lightning Charging Cable</td>\n",
              "      <td>1.0</td>\n",
              "      <td>14.95</td>\n",
              "      <td>11/13/19 16:12</td>\n",
              "      <td>900 10th St, Boston, MA 02215</td>\n",
              "    </tr>\n",
              "    <tr>\n",
              "      <th>372988</th>\n",
              "      <td>295663.0</td>\n",
              "      <td>AAA Batteries (4-pack)</td>\n",
              "      <td>1.0</td>\n",
              "      <td>2.99</td>\n",
              "      <td>11/17/19 17:08</td>\n",
              "      <td>592 Sunset St, Boston, MA 02215</td>\n",
              "    </tr>\n",
              "    <tr>\n",
              "      <th>372989</th>\n",
              "      <td>295664.0</td>\n",
              "      <td>Google Phone</td>\n",
              "      <td>1.0</td>\n",
              "      <td>600.00</td>\n",
              "      <td>11/17/19 16:13</td>\n",
              "      <td>428 Jackson St, Boston, MA 02215</td>\n",
              "    </tr>\n",
              "  </tbody>\n",
              "</table>\n",
              "<p>372990 rows × 6 columns</p>\n",
              "</div>"
            ],
            "text/plain": [
              "        Order ID  ...                     Purchase Address\n",
              "0       150502.0  ...    866 Spruce St, Portland, ME 04101\n",
              "1       150503.0  ...  18 13th St, San Francisco, CA 94016\n",
              "2       150504.0  ...   52 6th St, New York City, NY 10001\n",
              "3       150505.0  ...     129 Cherry St, Atlanta, GA 30301\n",
              "4       150506.0  ...    548 Lincoln St, Seattle, WA 98101\n",
              "...          ...  ...                                  ...\n",
              "372985  295660.0  ...    574 4th St, Los Angeles, CA 90001\n",
              "372986  295661.0  ...         359 1st St, Austin, TX 73301\n",
              "372987  295662.0  ...        900 10th St, Boston, MA 02215\n",
              "372988  295663.0  ...      592 Sunset St, Boston, MA 02215\n",
              "372989  295664.0  ...     428 Jackson St, Boston, MA 02215\n",
              "\n",
              "[372990 rows x 6 columns]"
            ]
          },
          "metadata": {
            "tags": []
          },
          "execution_count": 3
        }
      ]
    },
    {
      "cell_type": "markdown",
      "metadata": {
        "id": "81yF31X3mNY9"
      },
      "source": [
        "# Getting Started with Matplotlib"
      ]
    },
    {
      "cell_type": "markdown",
      "metadata": {
        "id": "gkkH6vrzlw_2"
      },
      "source": [
        "* **plt.bar():** Make a bar plot.\n",
        "* **plt.plot():** Can be used to make a line graph.\n",
        "\n",
        "_____________________________________________________________________________\n",
        "* **plt.xticks():** A list of positions at which ticks should be placed.\n",
        "* **plt.xlabel(label_name):** Set the label for the x-axis.\n",
        "* **plt.ylabel(label_name):** Set the label for the y-axis.\n",
        "\n",
        "* **plt.show():** Display a figure.\n",
        "* **plt.grid():** Configure the grid lines.\n",
        "\n",
        "______________________________________________________________________________\n",
        "\n",
        "* **plt.subplots():** Add a subplot to the current figure. It returns two arguments fig and ax where fig is figure and ax can be either a single Axes object or an array of Axes objects.\n",
        "* **ax.twinx():** Creates a twin Axes sharing the xaxis.\n",
        "* **ax.set_xlabel():** Set the label for the x-axis.\n",
        "* **ax.set_ylabel():** Set the label for the y-axis.\n",
        "* **ax.set_xticklabels():** Set the xaxis' labels with list of string labels.\n",
        "\n"
      ]
    },
    {
      "cell_type": "markdown",
      "metadata": {
        "id": "iqEanbtAUMZL"
      },
      "source": [
        "### ***Refer to the [matplotlib documentation](https://matplotlib.org/3.3.3/tutorials/index.html) for more details.***"
      ]
    },
    {
      "cell_type": "markdown",
      "metadata": {
        "id": "L36hRux9T0Y1"
      },
      "source": [
        "## **Example 1**"
      ]
    },
    {
      "cell_type": "markdown",
      "metadata": {
        "id": "OgdDV0fblw_2"
      },
      "source": [
        "\n",
        "5 students' marks are plotted on a bar graph."
      ]
    },
    {
      "cell_type": "code",
      "metadata": {
        "colab": {
          "base_uri": "https://localhost:8080/",
          "height": 279
        },
        "id": "fu8E_e3Ylw_2",
        "outputId": "ca7bfdbf-d9a3-4449-bf48-e7123d8b7ccf"
      },
      "source": [
        "import matplotlib.pyplot as plt\n",
        "marks_scored = [34, 98, 67, 89, 100]\n",
        "roll_no = range(1, 6)\n",
        "plt.bar(roll_no, marks_scored)\n",
        "plt.xticks(roll_no)\n",
        "plt.xlabel('roll no')\n",
        "plt.ylabel('Marks scored')\n",
        "plt.show()"
      ],
      "execution_count": 4,
      "outputs": [
        {
          "output_type": "display_data",
          "data": {
            "image/png": "[encoded data removed]",
            "text/plain": [
              "<Figure size 432x288 with 1 Axes>"
            ]
          },
          "metadata": {
            "tags": [],
            "needs_background": "light"
          }
        }
      ]
    },
    {
      "cell_type": "markdown",
      "metadata": {
        "id": "I_BSEGVjUFNt"
      },
      "source": [
        "## **Example 2**"
      ]
    },
    {
      "cell_type": "markdown",
      "metadata": {
        "id": "xX5UkyBYPSqL"
      },
      "source": [
        "Plot y versus x as lines and/or markers."
      ]
    },
    {
      "cell_type": "code",
      "metadata": {
        "id": "O0gD03iXUJ1x",
        "colab": {
          "base_uri": "https://localhost:8080/",
          "height": 279
        },
        "outputId": "2be3905f-d8d5-479d-8ae8-4a3e98d99049"
      },
      "source": [
        "classes = [1,2,3,4,5]\n",
        "performance = [4, 7, 9, 8, 10]\n",
        "\n",
        "plt.plot(classes, performance)\n",
        "plt.xticks(classes)\n",
        "plt.xlabel('classes')\n",
        "plt.ylabel('performance')\n",
        "plt.grid()\n",
        "plt.show()"
      ],
      "execution_count": 5,
      "outputs": [
        {
          "output_type": "display_data",
          "data": {
            "image/png": "[encoded data removed]",
            "text/plain": [
              "<Figure size 432x288 with 1 Axes>"
            ]
          },
          "metadata": {
            "tags": [],
            "needs_background": "light"
          }
        }
      ]
    },
    {
      "cell_type": "markdown",
      "metadata": {
        "id": "EujW-708UFY3"
      },
      "source": [
        "## **Example 3**"
      ]
    },
    {
      "cell_type": "markdown",
      "metadata": {
        "id": "S1tQt6aMN-SZ"
      },
      "source": [
        "Create a set of subplots in a single graph"
      ]
    },
    {
      "cell_type": "code",
      "metadata": {
        "id": "qdtEsiq8ULcr",
        "colab": {
          "base_uri": "https://localhost:8080/",
          "height": 305
        },
        "outputId": "67cc1f35-a12f-4c7f-b029-abda2f65f7c8"
      },
      "source": [
        "prices = [50, 60, 33, 45, 72, 100]\n",
        "quantity = [2, 5, 10, 12, 20, 8]\n",
        "products = ['pens', 'pencils', 'book', 'box', 'map', 'globe']\n",
        "\n",
        "fig, ax1 = plt.subplots()\n",
        "ax2 = ax1.twinx()\n",
        "\n",
        "ax1.bar(products, quantity, color='g')\n",
        "ax2.plot(products, prices, 'b')\n",
        "\n",
        "ax1.set_xlabel('Product Name')\n",
        "ax1.set_ylabel('Quantity Ordered', color='g')\n",
        "ax2.set_ylabel('Price ($)', color='b')\n",
        "\n",
        "ax1.set_xticklabels(products, rotation='vertical')\n",
        "\n",
        "plt.show()"
      ],
      "execution_count": 6,
      "outputs": [
        {
          "output_type": "display_data",
          "data": {
            "image/png": "[encoded data removed]",
            "text/plain": [
              "<Figure size 432x288 with 2 Axes>"
            ]
          },
          "metadata": {
            "tags": [],
            "needs_background": "light"
          }
        }
      ]
    },
    {
      "cell_type": "markdown",
      "metadata": {
        "id": "hxngnHtr09wL"
      },
      "source": [
        "#**Question 1:** \n",
        "\n",
        "**What is the best time to display advertisements to maximize the likelihood of customers' buying products?**"
      ]
    },
    {
      "cell_type": "markdown",
      "metadata": {
        "id": "PAJwKgrP22YR"
      },
      "source": [
        " ## Cleaning the data: \n",
        "* Ensure that there are no rows that contain all NaN values in the data\n",
        "* Ensure that the columns are of the appropriate data types\n",
        "* Add appropriate new columns if needed"
      ]
    },
    {
      "cell_type": "code",
      "metadata": {
        "id": "u6Bn248BjyWr",
        "outputId": "13ae4c27-fdce-43b8-bee0-51c4bb1a52b6",
        "colab": {
          "base_uri": "https://localhost:8080/"
        }
      },
      "source": [
        "shopping_df.dtypes"
      ],
      "execution_count": 7,
      "outputs": [
        {
          "output_type": "execute_result",
          "data": {
            "text/plain": [
              "Order ID            float64\n",
              "Product              object\n",
              "Quantity Ordered    float64\n",
              "Price Each          float64\n",
              "Order Date           object\n",
              "Purchase Address     object\n",
              "dtype: object"
            ]
          },
          "metadata": {
            "tags": []
          },
          "execution_count": 7
        }
      ]
    },
    {
      "cell_type": "code",
      "metadata": {
        "id": "d11a5zkb22YR"
      },
      "source": [
        "shopping_df = shopping_df.dropna(how='all')\r\n",
        "\r\n",
        "shopping_df['Quantity Ordered'] = shopping_df['Quantity Ordered'].astype(dtype=int)\r\n",
        "shopping_df['Order ID'] = shopping_df['Order ID'].astype(dtype=int)\r\n",
        "shopping_df['Price Each'] = shopping_df['Price Each'].astype(dtype=float)\r\n",
        "shopping_df['Order Date'] = pd.to_datetime(shopping_df['Order Date'])\r\n",
        "\r\n",
        "shopping_df['Hour'] = shopping_df['Order Date'].dt.hour"
      ],
      "execution_count": 12,
      "outputs": []
    },
    {
      "cell_type": "markdown",
      "metadata": {
        "id": "LDwM7DNr3XRo"
      },
      "source": [
        "##Analysis:\n",
        "* Find the total number of orders made each hour.\n",
        "* Find the hour with the highest number of orders."
      ]
    },
    {
      "cell_type": "code",
      "metadata": {
        "id": "UMoOf5gX3XRq",
        "outputId": "5deaccb9-90fe-46a5-f7f4-37d06f92d890",
        "colab": {
          "base_uri": "https://localhost:8080/"
        }
      },
      "source": [
        "orders_in_hour = shopping_df.groupby('Hour')['Quantity Ordered']\r\n",
        "print(\"Max Orders was in \",orders_in_hour.sum().idxmax(), ' Hour, which is :-', orders_in_hour.sum().max())"
      ],
      "execution_count": 17,
      "outputs": [
        {
          "output_type": "stream",
          "text": [
            "Max Orders was in  19 th Hour, which is :- 28940\n"
          ],
          "name": "stdout"
        }
      ]
    },
    {
      "cell_type": "markdown",
      "metadata": {
        "id": "Kj4FMIHC36vv"
      },
      "source": [
        " ## Plotting:\n",
        "* Plot a line graph between hours and the number of orders to get a visual understanding of what the best time to display advertisements is.\n",
        "\n",
        "**Note:** To plot the graph, you can use the matplotlib library. Refer to the section **_Getting Started with Matplotlib_** for further details."
      ]
    },
    {
      "cell_type": "code",
      "metadata": {
        "id": "iYpbwcs2PSOq",
        "outputId": "b0d2b3aa-b665-4084-b661-dbc363f97c47",
        "colab": {
          "base_uri": "https://localhost:8080/",
          "height": 281
        }
      },
      "source": [
        "import matplotlib.pyplot as plt\r\n",
        "hours = list(orders_in_hour.groups.keys())\r\n",
        "orders = orders_in_hour.sum()\r\n",
        "\r\n",
        "plt.plot(hours, orders)\r\n",
        "plt.xticks(hours)\r\n",
        "plt.xlabel('Hours')\r\n",
        "plt.ylabel('Orders')\r\n",
        "plt.grid()\r\n",
        "plt.show()"
      ],
      "execution_count": 18,
      "outputs": [
        {
          "output_type": "display_data",
          "data": {
            "image/png": "[encoded data removed]",
            "text/plain": [
              "<Figure size 432x288 with 1 Axes>"
            ]
          },
          "metadata": {
            "tags": [],
            "needs_background": "light"
          }
        }
      ]
    },
    {
      "cell_type": "markdown",
      "metadata": {
        "id": "2uNMRTEV59Ty"
      },
      "source": [
        "#**Question 2:** \n",
        "\n",
        "**What products are most often sold together?** "
      ]
    },
    {
      "cell_type": "markdown",
      "metadata": {
        "id": "fGguAOCO1FFK"
      },
      "source": [
        "##Analysis -1:\n",
        "* Find the set of products(`Grouped orders`) ordered together.\n",
        "\n",
        "**Hint**:\n",
        "* If an iPhone, Macbook Pro Laptop and Lightning Charging Cable were ordered together, the `Grouped Orders` column should contain the string 'iPhone,Macbook Pro Laptop,Lightning Charging Cable' for the corresponding order_id in the dataframe.\n",
        "* Use `pandas.core.groupby.DataFrameGroupBy.transform` to concatenate the product names.\n",
        "\n"
      ]
    },
    {
      "cell_type": "code",
      "metadata": {
        "id": "xGBzPQ7_bZ-F"
      },
      "source": [
        "# WRITE YOUR CODE HERE"
      ],
      "execution_count": null,
      "outputs": []
    },
    {
      "cell_type": "markdown",
      "metadata": {
        "id": "Ea0trnOb1pkM"
      },
      "source": [
        "## Cleaning Data\n",
        "\n",
        "* Remove any duplicate `Grouped Orders` that have the same `Order ID`."
      ]
    },
    {
      "cell_type": "code",
      "metadata": {
        "id": "uEnGQu2p17ig"
      },
      "source": [
        "# WRITE YOUR CODE HERE"
      ],
      "execution_count": null,
      "outputs": []
    },
    {
      "cell_type": "markdown",
      "metadata": {
        "id": "F9r0oxZDbRyS"
      },
      "source": [
        "##Analysis -2:"
      ]
    },
    {
      "cell_type": "markdown",
      "metadata": {
        "id": "0rsXWFyk25q8"
      },
      "source": [
        "* Find the most common `Grouped Orders`."
      ]
    },
    {
      "cell_type": "code",
      "metadata": {
        "id": "AIcgGH-NgYjh"
      },
      "source": [
        "# WRITE YOUR CODE HERE"
      ],
      "execution_count": null,
      "outputs": []
    },
    {
      "cell_type": "markdown",
      "metadata": {
        "id": "6MheoQeP_mQK"
      },
      "source": [
        "#**Question 3:** \n",
        "\n",
        "**Which product has the highest sales(based on quantity)? Why do you think it has the highest sales?**"
      ]
    },
    {
      "cell_type": "markdown",
      "metadata": {
        "id": "tLC3kSncvv8v"
      },
      "source": [
        "##Analysis:\n",
        "* Find the total quantity ordered for each product.\n",
        "* Find the product with the highest sales.\n"
      ]
    },
    {
      "cell_type": "code",
      "metadata": {
        "id": "AG9kj1_fvv8v"
      },
      "source": [
        "# WRITE YOUR CODE HERE"
      ],
      "execution_count": null,
      "outputs": []
    },
    {
      "cell_type": "markdown",
      "metadata": {
        "id": "XeBMj8CFvv8v"
      },
      "source": [
        "## Plotting:\n",
        "* Plot a bar graph(GRAPH-1) between the total quantity ordered and products to get a visual understanding of which product is sold the most.\n",
        "* Plot a graph(GRAPH-2) with the products on the x-axis and the total quantity ordered and average price of each product on the y-axis to understand if a product's price is related to the quantity sold.\n",
        "  \n",
        "\n",
        "\n",
        "**Note:** To plot the graph, you can use the matplotlib library. Refer to the section **_Getting Started with Matplotlib_** for further details."
      ]
    },
    {
      "cell_type": "code",
      "metadata": {
        "id": "SI0nbhdyz8yD"
      },
      "source": [
        "# WRITE YOUR CODE HERE FOR GRAPH-1"
      ],
      "execution_count": null,
      "outputs": []
    },
    {
      "cell_type": "code",
      "metadata": {
        "id": "dL5RwQC6vv81"
      },
      "source": [
        "# WRITE YOUR CODE HERE FOR GRAPH-2"
      ],
      "execution_count": null,
      "outputs": []
    },
    {
      "cell_type": "markdown",
      "metadata": {
        "id": "XwxXs4uZ4uFb"
      },
      "source": [
        "# **Question 4**\n",
        "\n",
        "\n",
        "**Find the products with the highest popularity in each month of the year 2019.**\n",
        "\n",
        "\n",
        "\n",
        "\n"
      ]
    },
    {
      "cell_type": "markdown",
      "metadata": {
        "id": "vkrD-Am2RWay"
      },
      "source": [
        " ## Cleaning the data: \n",
        "* Add new columns if needed\n",
        "\n"
      ]
    },
    {
      "cell_type": "code",
      "metadata": {
        "id": "-cJBoMu69MJ2"
      },
      "source": [
        "# WRITE YOUR CODE HERE"
      ],
      "execution_count": null,
      "outputs": []
    },
    {
      "cell_type": "markdown",
      "metadata": {
        "id": "MdQk9HxVT798"
      },
      "source": [
        "##Analysis:\n",
        "* Find the total quantity ordered for each product in each month.\n",
        "* Find the product with the maximum quantity ordered for each month.\n",
        "\n",
        "**Hints:**\n",
        "* Use `DataFrame.idxmax()` to get the indices of the rows with the maximum quantity ordered.\n",
        "* You may need to use additional arguments of [ `pd.DataFrame.groupby`](https://pandas.pydata.org/pandas-docs/stable/reference/api/pandas.DataFrame.groupby.html?highlight=groupby#pandas.DataFrame.groupby)."
      ]
    },
    {
      "cell_type": "code",
      "metadata": {
        "id": "cD6QBm3oApvH"
      },
      "source": [
        "# WRITE YOUR CODE HERE"
      ],
      "execution_count": null,
      "outputs": []
    }
  ]
}