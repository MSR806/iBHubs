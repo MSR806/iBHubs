{
  "nbformat": 4,
  "nbformat_minor": 0,
  "metadata": {
    "colab": {
      "name": "Intro to Pandas",
      "provenance": [],
      "collapsed_sections": [],
      "include_colab_link": true
    },
    "kernelspec": {
      "name": "python3",
      "display_name": "Python 3"
    }
  },
  "cells": [
    {
      "cell_type": "markdown",
      "metadata": {
        "id": "view-in-github",
        "colab_type": "text"
      },
      "source": [
        "<a href=\"https://colab.research.google.com/github/MSR806/iBHubs_AI/blob/main/pandas/check_Intro_to_Pandas.ipynb\" target=\"_parent\"><img src=\"https://colab.research.google.com/assets/colab-badge.svg\" alt=\"Open In Colab\"/></a>"
      ]
    },
    {
      "cell_type": "code",
      "metadata": {
        "id": "d82QhOMqFOMI"
      },
      "source": [
        "import pandas as pd"
      ],
      "execution_count": 1,
      "outputs": []
    },
    {
      "cell_type": "markdown",
      "metadata": {
        "id": "5JUifSBjeMsy"
      },
      "source": [
        "# Pandas - Brief Intro\n",
        "\n",
        "1. Data Analysis library which makes it easy to read and work with different types of data\n",
        " * Load large amounts of data into python\n",
        " * Work with different file formats (csv, sql, excel, etc.)\n",
        " * Work with time-series data (stock prices, sales data, etc.)\n",
        "\n",
        "2. Cleaning the Data and Handling Missing Values\n",
        "3. Built on top of NumPy and has great performance\n",
        "\n",
        "\n",
        "> **Essential for everyone working with data (Data Science, ML, Analytics, etc.)**\n",
        "\n"
      ]
    },
    {
      "cell_type": "markdown",
      "metadata": {
        "id": "icLP1CG8dfh9"
      },
      "source": [
        "# Walkthrough of Datasets"
      ]
    },
    {
      "cell_type": "markdown",
      "metadata": {
        "id": "P3LPmzhZdrR1"
      },
      "source": [
        "## Stack Overflow Dataset"
      ]
    },
    {
      "cell_type": "markdown",
      "metadata": {
        "id": "ggy7u_x0fNNr"
      },
      "source": [
        "With nearly 65,000 responses fielded from over 180 countries and dependent territories, the 2020 Annual Developer Survey by Stack Overflow examines all aspects of the developer experience from career satisfaction and job search to education and opinions on open source software.\n",
        "\n",
        "**Source**: https://insights.stackoverflow.com/survey"
      ]
    },
    {
      "cell_type": "code",
      "metadata": {
        "id": "NwGmug24dyT3",
        "colab": {
          "base_uri": "https://localhost:8080/"
        },
        "outputId": "d692f81a-16e1-4cbe-f355-5b97c29ef7d8"
      },
      "source": [
        "!wget https://nkb-backend-otg-media-static.s3.ap-south-1.amazonaws.com/otg_prod/media/Tech_4.0/AI_ML/Datasets/survey_results_public.csv"
      ],
      "execution_count": 2,
      "outputs": [
        {
          "output_type": "stream",
          "text": [
            "--2021-01-02 03:18:54--  https://nkb-backend-otg-media-static.s3.ap-south-1.amazonaws.com/otg_prod/media/Tech_4.0/AI_ML/Datasets/survey_results_public.csv\n",
            "Resolving nkb-backend-otg-media-static.s3.ap-south-1.amazonaws.com (nkb-backend-otg-media-static.s3.ap-south-1.amazonaws.com)... 52.219.66.23\n",
            "Connecting to nkb-backend-otg-media-static.s3.ap-south-1.amazonaws.com (nkb-backend-otg-media-static.s3.ap-south-1.amazonaws.com)|52.219.66.23|:443... connected.\n",
            "HTTP request sent, awaiting response... 200 OK\n",
            "Length: 94603888 (90M) [text/csv]\n",
            "Saving to: ‘survey_results_public.csv’\n",
            "\n",
            "survey_results_publ 100%[===================>]  90.22M  12.6MB/s    in 8.7s    \n",
            "\n",
            "2021-01-02 03:19:04 (10.4 MB/s) - ‘survey_results_public.csv’ saved [94603888/94603888]\n",
            "\n"
          ],
          "name": "stdout"
        }
      ]
    },
    {
      "cell_type": "markdown",
      "metadata": {
        "id": "A8Fc7qsedwTB"
      },
      "source": [
        "## Covid Dataset"
      ]
    },
    {
      "cell_type": "markdown",
      "metadata": {
        "id": "HsieTUyrf5ar"
      },
      "source": [
        "This dataset provides day-wise metric of COVID-19 in Italy for around 200 days.\n",
        "\n",
        "**Source**: https://hub.jovian.ml/wp-content/uploads/2020/09/italy-covid-daywise.csv"
      ]
    },
    {
      "cell_type": "code",
      "metadata": {
        "id": "ZEWNmCe0fGSy",
        "colab": {
          "base_uri": "https://localhost:8080/"
        },
        "outputId": "861765e1-7b67-4fd7-d7f2-d603f2f27b47"
      },
      "source": [
        "!wget https://nkb-backend-otg-media-static.s3.ap-south-1.amazonaws.com/otg_prod/media/Tech_4.0/AI_ML/Datasets/italy-covid-daywise.csv"
      ],
      "execution_count": 3,
      "outputs": [
        {
          "output_type": "stream",
          "text": [
            "--2021-01-02 03:19:18--  https://nkb-backend-otg-media-static.s3.ap-south-1.amazonaws.com/otg_prod/media/Tech_4.0/AI_ML/Datasets/italy-covid-daywise.csv\n",
            "Resolving nkb-backend-otg-media-static.s3.ap-south-1.amazonaws.com (nkb-backend-otg-media-static.s3.ap-south-1.amazonaws.com)... 52.219.62.67\n",
            "Connecting to nkb-backend-otg-media-static.s3.ap-south-1.amazonaws.com (nkb-backend-otg-media-static.s3.ap-south-1.amazonaws.com)|52.219.62.67|:443... connected.\n",
            "HTTP request sent, awaiting response... 200 OK\n",
            "Length: 6619 (6.5K) [text/csv]\n",
            "Saving to: ‘italy-covid-daywise.csv’\n",
            "\n",
            "italy-covid-daywise 100%[===================>]   6.46K  --.-KB/s    in 0s      \n",
            "\n",
            "2021-01-02 03:19:19 (183 MB/s) - ‘italy-covid-daywise.csv’ saved [6619/6619]\n",
            "\n"
          ],
          "name": "stdout"
        }
      ]
    },
    {
      "cell_type": "markdown",
      "metadata": {
        "id": "aseq3VasfCjm"
      },
      "source": [
        "## Film Dataset\n"
      ]
    },
    {
      "cell_type": "markdown",
      "metadata": {
        "id": "MtG0O7FGgVOv"
      },
      "source": [
        "About 1000 movies with properties such as length, main actor and actress, director and popularity.\n",
        "\n",
        "**Source**: https://perso.telecom-paristech.fr/eagan/class/igr204/datasets"
      ]
    },
    {
      "cell_type": "code",
      "metadata": {
        "id": "9pgBPLZJfG62",
        "colab": {
          "base_uri": "https://localhost:8080/"
        },
        "outputId": "ca10f324-9ffe-40e8-b16a-07ce93ca40c5"
      },
      "source": [
        "!wget https://nkb-backend-otg-media-static.s3.ap-south-1.amazonaws.com/otg_prod/media/Tech_4.0/AI_ML/Datasets/film.csv"
      ],
      "execution_count": 4,
      "outputs": [
        {
          "output_type": "stream",
          "text": [
            "--2021-01-02 03:19:29--  https://nkb-backend-otg-media-static.s3.ap-south-1.amazonaws.com/otg_prod/media/Tech_4.0/AI_ML/Datasets/film.csv\n",
            "Resolving nkb-backend-otg-media-static.s3.ap-south-1.amazonaws.com (nkb-backend-otg-media-static.s3.ap-south-1.amazonaws.com)... 52.219.62.91\n",
            "Connecting to nkb-backend-otg-media-static.s3.ap-south-1.amazonaws.com (nkb-backend-otg-media-static.s3.ap-south-1.amazonaws.com)|52.219.62.91|:443... connected.\n",
            "HTTP request sent, awaiting response... 200 OK\n",
            "Length: 102889 (100K) [text/csv]\n",
            "Saving to: ‘film.csv’\n",
            "\n",
            "film.csv            100%[===================>] 100.48K   218KB/s    in 0.5s    \n",
            "\n",
            "2021-01-02 03:19:30 (218 KB/s) - ‘film.csv’ saved [102889/102889]\n",
            "\n"
          ],
          "name": "stdout"
        }
      ]
    },
    {
      "cell_type": "markdown",
      "metadata": {
        "id": "SSYpReI7fH1h"
      },
      "source": [
        "## eCommerce Dataset\n"
      ]
    },
    {
      "cell_type": "markdown",
      "metadata": {
        "id": "xp0mWGyxlco1"
      },
      "source": [
        "This dataset provides shopping data related to various products and orders over the course of a year.\n",
        "\n",
        "**Source**: https://github.com/KeithGalli/Pandas-Data-Science-Tasks"
      ]
    },
    {
      "cell_type": "code",
      "metadata": {
        "id": "2ynPh7yvfiYw",
        "colab": {
          "base_uri": "https://localhost:8080/"
        },
        "outputId": "8adbc71c-ed37-48d2-9d65-0f19d14fafe7"
      },
      "source": [
        "!wget https://nkb-backend-otg-media-static.s3.ap-south-1.amazonaws.com/otg_prod/media/Tech_4.0/AI_ML/Datasets/shopping_data_v2.csv"
      ],
      "execution_count": 5,
      "outputs": [
        {
          "output_type": "stream",
          "text": [
            "--2021-01-02 03:19:34--  https://nkb-backend-otg-media-static.s3.ap-south-1.amazonaws.com/otg_prod/media/Tech_4.0/AI_ML/Datasets/shopping_data_v2.csv\n",
            "Resolving nkb-backend-otg-media-static.s3.ap-south-1.amazonaws.com (nkb-backend-otg-media-static.s3.ap-south-1.amazonaws.com)... 52.219.66.11\n",
            "Connecting to nkb-backend-otg-media-static.s3.ap-south-1.amazonaws.com (nkb-backend-otg-media-static.s3.ap-south-1.amazonaws.com)|52.219.66.11|:443... connected.\n",
            "HTTP request sent, awaiting response... 200 OK\n",
            "Length: 16278053 (16M) [text/csv]\n",
            "Saving to: ‘shopping_data_v2.csv’\n",
            "\n",
            "shopping_data_v2.cs 100%[===================>]  15.52M  6.14MB/s    in 2.5s    \n",
            "\n",
            "2021-01-02 03:19:37 (6.14 MB/s) - ‘shopping_data_v2.csv’ saved [16278053/16278053]\n",
            "\n"
          ],
          "name": "stdout"
        }
      ]
    },
    {
      "cell_type": "markdown",
      "metadata": {
        "id": "kroTtEc5LaSK"
      },
      "source": [
        "# Loading Data\n",
        "\n",
        "Loading the data from a csv file into python"
      ]
    },
    {
      "cell_type": "code",
      "metadata": {
        "id": "I8etmCzJjtbI"
      },
      "source": [
        "shopping_df = pd.read_csv('shopping_data_v2.csv')"
      ],
      "execution_count": 6,
      "outputs": []
    },
    {
      "cell_type": "markdown",
      "metadata": {
        "id": "mkhGzdE3gqIY"
      },
      "source": [
        "# Dataframe\n",
        "**A dataframe is like a dictionary of lists, but with much more functionality**\n",
        "\n",
        "*   A table of data (Rows and Columns)\n",
        "*   2 Dimensional Data Structure\n"
      ]
    },
    {
      "cell_type": "markdown",
      "metadata": {
        "id": "uZ6vFCtPhNl2"
      },
      "source": [
        "## Properties of a Dataframe"
      ]
    },
    {
      "cell_type": "markdown",
      "metadata": {
        "id": "_g8YGz_KFltM"
      },
      "source": [
        "**Shape of a dataframe**\n",
        "\n"
      ]
    },
    {
      "cell_type": "code",
      "metadata": {
        "id": "c1mgJ1g9FSwZ",
        "colab": {
          "base_uri": "https://localhost:8080/"
        },
        "outputId": "859c46de-37bd-474f-daeb-a2d3621e30d0"
      },
      "source": [
        "shopping_df.shape"
      ],
      "execution_count": 7,
      "outputs": [
        {
          "output_type": "execute_result",
          "data": {
            "text/plain": [
              "(185950, 6)"
            ]
          },
          "metadata": {
            "tags": []
          },
          "execution_count": 7
        }
      ]
    },
    {
      "cell_type": "markdown",
      "metadata": {
        "id": "IJ8tWQ3g-jaI"
      },
      "source": [
        "**`df.columns` returns the column labels of a DataFrame**\n"
      ]
    },
    {
      "cell_type": "code",
      "metadata": {
        "id": "gFtZkUUDG5hO",
        "colab": {
          "base_uri": "https://localhost:8080/"
        },
        "outputId": "587096fd-2b59-4ba7-a9de-4b32d517ef24"
      },
      "source": [
        "shopping_df.columns"
      ],
      "execution_count": 20,
      "outputs": [
        {
          "output_type": "execute_result",
          "data": {
            "text/plain": [
              "Index(['Order ID', 'Product', 'Quantity Ordered', 'Price Each', 'Order Date',\n",
              "       'Purchase Address'],\n",
              "      dtype='object')"
            ]
          },
          "metadata": {
            "tags": []
          },
          "execution_count": 20
        }
      ]
    },
    {
      "cell_type": "markdown",
      "metadata": {
        "id": "h4VleS98Hdvx"
      },
      "source": [
        "**`df.dtypes` returns the datatypes of each column in a DataFrame**\n"
      ]
    },
    {
      "cell_type": "code",
      "metadata": {
        "id": "bXfc5O3YHF0O",
        "colab": {
          "base_uri": "https://localhost:8080/"
        },
        "outputId": "59cd11d4-283e-4ca9-9e57-0ce5fa85863b"
      },
      "source": [
        "shopping_df.dtypes"
      ],
      "execution_count": 21,
      "outputs": [
        {
          "output_type": "execute_result",
          "data": {
            "text/plain": [
              "Order ID              int64\n",
              "Product              object\n",
              "Quantity Ordered      int64\n",
              "Price Each          float64\n",
              "Order Date           object\n",
              "Purchase Address     object\n",
              "dtype: object"
            ]
          },
          "metadata": {
            "tags": []
          },
          "execution_count": 21
        }
      ]
    },
    {
      "cell_type": "markdown",
      "metadata": {
        "id": "DTt3-_gYkJoD"
      },
      "source": [
        "### df.head\n",
        "* `df.head(n=5)`\n",
        "  *   Returns the first `n` rows.\n",
        "  * For negative values of `n`, this function returns all the rows except for the last `n` rows.\n"
      ]
    },
    {
      "cell_type": "code",
      "metadata": {
        "id": "pRYCsZc_kJoD",
        "colab": {
          "base_uri": "https://localhost:8080/",
          "height": 206
        },
        "outputId": "2abcf208-4f4d-4576-e8e7-887794482c65"
      },
      "source": [
        "shopping_df.head()"
      ],
      "execution_count": 22,
      "outputs": [
        {
          "output_type": "execute_result",
          "data": {
            "text/html": [
              "<div>\n",
              "<style scoped>\n",
              "    .dataframe tbody tr th:only-of-type {\n",
              "        vertical-align: middle;\n",
              "    }\n",
              "\n",
              "    .dataframe tbody tr th {\n",
              "        vertical-align: top;\n",
              "    }\n",
              "\n",
              "    .dataframe thead th {\n",
              "        text-align: right;\n",
              "    }\n",
              "</style>\n",
              "<table border=\"1\" class=\"dataframe\">\n",
              "  <thead>\n",
              "    <tr style=\"text-align: right;\">\n",
              "      <th></th>\n",
              "      <th>Order ID</th>\n",
              "      <th>Product</th>\n",
              "      <th>Quantity Ordered</th>\n",
              "      <th>Price Each</th>\n",
              "      <th>Order Date</th>\n",
              "      <th>Purchase Address</th>\n",
              "    </tr>\n",
              "  </thead>\n",
              "  <tbody>\n",
              "    <tr>\n",
              "      <th>0</th>\n",
              "      <td>176558</td>\n",
              "      <td>USB-C Charging Cable</td>\n",
              "      <td>2</td>\n",
              "      <td>11.95</td>\n",
              "      <td>04/19/19 08:46</td>\n",
              "      <td>917 1st St, Dallas, TX 75001</td>\n",
              "    </tr>\n",
              "    <tr>\n",
              "      <th>1</th>\n",
              "      <td>176559</td>\n",
              "      <td>Bose SoundSport Headphones</td>\n",
              "      <td>1</td>\n",
              "      <td>99.99</td>\n",
              "      <td>04/07/19 22:30</td>\n",
              "      <td>682 Chestnut St, Boston, MA 02215</td>\n",
              "    </tr>\n",
              "    <tr>\n",
              "      <th>2</th>\n",
              "      <td>176560</td>\n",
              "      <td>Google Phone</td>\n",
              "      <td>1</td>\n",
              "      <td>600.00</td>\n",
              "      <td>04/12/19 14:38</td>\n",
              "      <td>669 Spruce St, Los Angeles, CA 90001</td>\n",
              "    </tr>\n",
              "    <tr>\n",
              "      <th>3</th>\n",
              "      <td>176560</td>\n",
              "      <td>Wired Headphones</td>\n",
              "      <td>1</td>\n",
              "      <td>11.99</td>\n",
              "      <td>04/12/19 14:38</td>\n",
              "      <td>669 Spruce St, Los Angeles, CA 90001</td>\n",
              "    </tr>\n",
              "    <tr>\n",
              "      <th>4</th>\n",
              "      <td>176561</td>\n",
              "      <td>Wired Headphones</td>\n",
              "      <td>1</td>\n",
              "      <td>11.99</td>\n",
              "      <td>04/30/19 09:27</td>\n",
              "      <td>333 8th St, Los Angeles, CA 90001</td>\n",
              "    </tr>\n",
              "  </tbody>\n",
              "</table>\n",
              "</div>"
            ],
            "text/plain": [
              "   Order ID  ...                      Purchase Address\n",
              "0    176558  ...          917 1st St, Dallas, TX 75001\n",
              "1    176559  ...     682 Chestnut St, Boston, MA 02215\n",
              "2    176560  ...  669 Spruce St, Los Angeles, CA 90001\n",
              "3    176560  ...  669 Spruce St, Los Angeles, CA 90001\n",
              "4    176561  ...     333 8th St, Los Angeles, CA 90001\n",
              "\n",
              "[5 rows x 6 columns]"
            ]
          },
          "metadata": {
            "tags": []
          },
          "execution_count": 22
        }
      ]
    },
    {
      "cell_type": "code",
      "metadata": {
        "id": "uGz_eJbMkJoE",
        "colab": {
          "base_uri": "https://localhost:8080/",
          "height": 363
        },
        "outputId": "eed554ca-2ef4-41be-d6da-039f962c3188"
      },
      "source": [
        "shopping_df.head(10)"
      ],
      "execution_count": 23,
      "outputs": [
        {
          "output_type": "execute_result",
          "data": {
            "text/html": [
              "<div>\n",
              "<style scoped>\n",
              "    .dataframe tbody tr th:only-of-type {\n",
              "        vertical-align: middle;\n",
              "    }\n",
              "\n",
              "    .dataframe tbody tr th {\n",
              "        vertical-align: top;\n",
              "    }\n",
              "\n",
              "    .dataframe thead th {\n",
              "        text-align: right;\n",
              "    }\n",
              "</style>\n",
              "<table border=\"1\" class=\"dataframe\">\n",
              "  <thead>\n",
              "    <tr style=\"text-align: right;\">\n",
              "      <th></th>\n",
              "      <th>Order ID</th>\n",
              "      <th>Product</th>\n",
              "      <th>Quantity Ordered</th>\n",
              "      <th>Price Each</th>\n",
              "      <th>Order Date</th>\n",
              "      <th>Purchase Address</th>\n",
              "    </tr>\n",
              "  </thead>\n",
              "  <tbody>\n",
              "    <tr>\n",
              "      <th>0</th>\n",
              "      <td>176558</td>\n",
              "      <td>USB-C Charging Cable</td>\n",
              "      <td>2</td>\n",
              "      <td>11.95</td>\n",
              "      <td>04/19/19 08:46</td>\n",
              "      <td>917 1st St, Dallas, TX 75001</td>\n",
              "    </tr>\n",
              "    <tr>\n",
              "      <th>1</th>\n",
              "      <td>176559</td>\n",
              "      <td>Bose SoundSport Headphones</td>\n",
              "      <td>1</td>\n",
              "      <td>99.99</td>\n",
              "      <td>04/07/19 22:30</td>\n",
              "      <td>682 Chestnut St, Boston, MA 02215</td>\n",
              "    </tr>\n",
              "    <tr>\n",
              "      <th>2</th>\n",
              "      <td>176560</td>\n",
              "      <td>Google Phone</td>\n",
              "      <td>1</td>\n",
              "      <td>600.00</td>\n",
              "      <td>04/12/19 14:38</td>\n",
              "      <td>669 Spruce St, Los Angeles, CA 90001</td>\n",
              "    </tr>\n",
              "    <tr>\n",
              "      <th>3</th>\n",
              "      <td>176560</td>\n",
              "      <td>Wired Headphones</td>\n",
              "      <td>1</td>\n",
              "      <td>11.99</td>\n",
              "      <td>04/12/19 14:38</td>\n",
              "      <td>669 Spruce St, Los Angeles, CA 90001</td>\n",
              "    </tr>\n",
              "    <tr>\n",
              "      <th>4</th>\n",
              "      <td>176561</td>\n",
              "      <td>Wired Headphones</td>\n",
              "      <td>1</td>\n",
              "      <td>11.99</td>\n",
              "      <td>04/30/19 09:27</td>\n",
              "      <td>333 8th St, Los Angeles, CA 90001</td>\n",
              "    </tr>\n",
              "    <tr>\n",
              "      <th>5</th>\n",
              "      <td>176562</td>\n",
              "      <td>USB-C Charging Cable</td>\n",
              "      <td>1</td>\n",
              "      <td>11.95</td>\n",
              "      <td>04/29/19 13:03</td>\n",
              "      <td>381 Wilson St, San Francisco, CA 94016</td>\n",
              "    </tr>\n",
              "    <tr>\n",
              "      <th>6</th>\n",
              "      <td>176563</td>\n",
              "      <td>Bose SoundSport Headphones</td>\n",
              "      <td>1</td>\n",
              "      <td>99.99</td>\n",
              "      <td>04/02/19 07:46</td>\n",
              "      <td>668 Center St, Seattle, WA 98101</td>\n",
              "    </tr>\n",
              "    <tr>\n",
              "      <th>7</th>\n",
              "      <td>176564</td>\n",
              "      <td>USB-C Charging Cable</td>\n",
              "      <td>1</td>\n",
              "      <td>11.95</td>\n",
              "      <td>04/12/19 10:58</td>\n",
              "      <td>790 Ridge St, Atlanta, GA 30301</td>\n",
              "    </tr>\n",
              "    <tr>\n",
              "      <th>8</th>\n",
              "      <td>176565</td>\n",
              "      <td>Macbook Pro Laptop</td>\n",
              "      <td>1</td>\n",
              "      <td>1700.00</td>\n",
              "      <td>04/24/19 10:38</td>\n",
              "      <td>915 Willow St, San Francisco, CA 94016</td>\n",
              "    </tr>\n",
              "    <tr>\n",
              "      <th>9</th>\n",
              "      <td>176566</td>\n",
              "      <td>Wired Headphones</td>\n",
              "      <td>1</td>\n",
              "      <td>11.99</td>\n",
              "      <td>04/08/19 14:05</td>\n",
              "      <td>83 7th St, Boston, MA 02215</td>\n",
              "    </tr>\n",
              "  </tbody>\n",
              "</table>\n",
              "</div>"
            ],
            "text/plain": [
              "   Order ID  ...                        Purchase Address\n",
              "0    176558  ...            917 1st St, Dallas, TX 75001\n",
              "1    176559  ...       682 Chestnut St, Boston, MA 02215\n",
              "2    176560  ...    669 Spruce St, Los Angeles, CA 90001\n",
              "3    176560  ...    669 Spruce St, Los Angeles, CA 90001\n",
              "4    176561  ...       333 8th St, Los Angeles, CA 90001\n",
              "5    176562  ...  381 Wilson St, San Francisco, CA 94016\n",
              "6    176563  ...        668 Center St, Seattle, WA 98101\n",
              "7    176564  ...         790 Ridge St, Atlanta, GA 30301\n",
              "8    176565  ...  915 Willow St, San Francisco, CA 94016\n",
              "9    176566  ...             83 7th St, Boston, MA 02215\n",
              "\n",
              "[10 rows x 6 columns]"
            ]
          },
          "metadata": {
            "tags": []
          },
          "execution_count": 23
        }
      ]
    },
    {
      "cell_type": "code",
      "metadata": {
        "id": "MTgwcgT4kJoE",
        "colab": {
          "base_uri": "https://localhost:8080/",
          "height": 424
        },
        "outputId": "c74de2a9-20d7-4447-88a1-126ff62dbbbd"
      },
      "source": [
        "shopping_df.head(-1000)"
      ],
      "execution_count": 24,
      "outputs": [
        {
          "output_type": "execute_result",
          "data": {
            "text/html": [
              "<div>\n",
              "<style scoped>\n",
              "    .dataframe tbody tr th:only-of-type {\n",
              "        vertical-align: middle;\n",
              "    }\n",
              "\n",
              "    .dataframe tbody tr th {\n",
              "        vertical-align: top;\n",
              "    }\n",
              "\n",
              "    .dataframe thead th {\n",
              "        text-align: right;\n",
              "    }\n",
              "</style>\n",
              "<table border=\"1\" class=\"dataframe\">\n",
              "  <thead>\n",
              "    <tr style=\"text-align: right;\">\n",
              "      <th></th>\n",
              "      <th>Order ID</th>\n",
              "      <th>Product</th>\n",
              "      <th>Quantity Ordered</th>\n",
              "      <th>Price Each</th>\n",
              "      <th>Order Date</th>\n",
              "      <th>Purchase Address</th>\n",
              "    </tr>\n",
              "  </thead>\n",
              "  <tbody>\n",
              "    <tr>\n",
              "      <th>0</th>\n",
              "      <td>176558</td>\n",
              "      <td>USB-C Charging Cable</td>\n",
              "      <td>2</td>\n",
              "      <td>11.95</td>\n",
              "      <td>04/19/19 08:46</td>\n",
              "      <td>917 1st St, Dallas, TX 75001</td>\n",
              "    </tr>\n",
              "    <tr>\n",
              "      <th>1</th>\n",
              "      <td>176559</td>\n",
              "      <td>Bose SoundSport Headphones</td>\n",
              "      <td>1</td>\n",
              "      <td>99.99</td>\n",
              "      <td>04/07/19 22:30</td>\n",
              "      <td>682 Chestnut St, Boston, MA 02215</td>\n",
              "    </tr>\n",
              "    <tr>\n",
              "      <th>2</th>\n",
              "      <td>176560</td>\n",
              "      <td>Google Phone</td>\n",
              "      <td>1</td>\n",
              "      <td>600.00</td>\n",
              "      <td>04/12/19 14:38</td>\n",
              "      <td>669 Spruce St, Los Angeles, CA 90001</td>\n",
              "    </tr>\n",
              "    <tr>\n",
              "      <th>3</th>\n",
              "      <td>176560</td>\n",
              "      <td>Wired Headphones</td>\n",
              "      <td>1</td>\n",
              "      <td>11.99</td>\n",
              "      <td>04/12/19 14:38</td>\n",
              "      <td>669 Spruce St, Los Angeles, CA 90001</td>\n",
              "    </tr>\n",
              "    <tr>\n",
              "      <th>4</th>\n",
              "      <td>176561</td>\n",
              "      <td>Wired Headphones</td>\n",
              "      <td>1</td>\n",
              "      <td>11.99</td>\n",
              "      <td>04/30/19 09:27</td>\n",
              "      <td>333 8th St, Los Angeles, CA 90001</td>\n",
              "    </tr>\n",
              "    <tr>\n",
              "      <th>...</th>\n",
              "      <td>...</td>\n",
              "      <td>...</td>\n",
              "      <td>...</td>\n",
              "      <td>...</td>\n",
              "      <td>...</td>\n",
              "      <td>...</td>\n",
              "    </tr>\n",
              "    <tr>\n",
              "      <th>184945</th>\n",
              "      <td>175590</td>\n",
              "      <td>Apple Airpods Headphones</td>\n",
              "      <td>1</td>\n",
              "      <td>150.00</td>\n",
              "      <td>03/04/19 09:51</td>\n",
              "      <td>566 Dogwood St, Atlanta, GA 30301</td>\n",
              "    </tr>\n",
              "    <tr>\n",
              "      <th>184946</th>\n",
              "      <td>175591</td>\n",
              "      <td>iPhone</td>\n",
              "      <td>1</td>\n",
              "      <td>700.00</td>\n",
              "      <td>03/20/19 12:47</td>\n",
              "      <td>903 South St, Los Angeles, CA 90001</td>\n",
              "    </tr>\n",
              "    <tr>\n",
              "      <th>184947</th>\n",
              "      <td>175592</td>\n",
              "      <td>Google Phone</td>\n",
              "      <td>1</td>\n",
              "      <td>600.00</td>\n",
              "      <td>03/29/19 22:12</td>\n",
              "      <td>177 Johnson St, Los Angeles, CA 90001</td>\n",
              "    </tr>\n",
              "    <tr>\n",
              "      <th>184948</th>\n",
              "      <td>175592</td>\n",
              "      <td>USB-C Charging Cable</td>\n",
              "      <td>1</td>\n",
              "      <td>11.95</td>\n",
              "      <td>03/29/19 22:12</td>\n",
              "      <td>177 Johnson St, Los Angeles, CA 90001</td>\n",
              "    </tr>\n",
              "    <tr>\n",
              "      <th>184949</th>\n",
              "      <td>175592</td>\n",
              "      <td>Bose SoundSport Headphones</td>\n",
              "      <td>1</td>\n",
              "      <td>99.99</td>\n",
              "      <td>03/29/19 22:12</td>\n",
              "      <td>177 Johnson St, Los Angeles, CA 90001</td>\n",
              "    </tr>\n",
              "  </tbody>\n",
              "</table>\n",
              "<p>184950 rows × 6 columns</p>\n",
              "</div>"
            ],
            "text/plain": [
              "        Order ID  ...                       Purchase Address\n",
              "0         176558  ...           917 1st St, Dallas, TX 75001\n",
              "1         176559  ...      682 Chestnut St, Boston, MA 02215\n",
              "2         176560  ...   669 Spruce St, Los Angeles, CA 90001\n",
              "3         176560  ...   669 Spruce St, Los Angeles, CA 90001\n",
              "4         176561  ...      333 8th St, Los Angeles, CA 90001\n",
              "...          ...  ...                                    ...\n",
              "184945    175590  ...      566 Dogwood St, Atlanta, GA 30301\n",
              "184946    175591  ...    903 South St, Los Angeles, CA 90001\n",
              "184947    175592  ...  177 Johnson St, Los Angeles, CA 90001\n",
              "184948    175592  ...  177 Johnson St, Los Angeles, CA 90001\n",
              "184949    175592  ...  177 Johnson St, Los Angeles, CA 90001\n",
              "\n",
              "[184950 rows x 6 columns]"
            ]
          },
          "metadata": {
            "tags": []
          },
          "execution_count": 24
        }
      ]
    },
    {
      "cell_type": "markdown",
      "metadata": {
        "id": "dfWw4KbCkJoF"
      },
      "source": [
        "### df.tail\n",
        "* `df.tail(n=5)`\n",
        "  *   Returns the last `n` rows.\n",
        "  * For negative values of `n`, this function returns all rows except for the first `n` rows."
      ]
    },
    {
      "cell_type": "code",
      "metadata": {
        "id": "fqXe_37ZkJoF",
        "colab": {
          "base_uri": "https://localhost:8080/",
          "height": 206
        },
        "outputId": "6350a96b-3757-4889-9093-5cf0b8eb1945"
      },
      "source": [
        "shopping_df.tail()"
      ],
      "execution_count": 25,
      "outputs": [
        {
          "output_type": "execute_result",
          "data": {
            "text/html": [
              "<div>\n",
              "<style scoped>\n",
              "    .dataframe tbody tr th:only-of-type {\n",
              "        vertical-align: middle;\n",
              "    }\n",
              "\n",
              "    .dataframe tbody tr th {\n",
              "        vertical-align: top;\n",
              "    }\n",
              "\n",
              "    .dataframe thead th {\n",
              "        text-align: right;\n",
              "    }\n",
              "</style>\n",
              "<table border=\"1\" class=\"dataframe\">\n",
              "  <thead>\n",
              "    <tr style=\"text-align: right;\">\n",
              "      <th></th>\n",
              "      <th>Order ID</th>\n",
              "      <th>Product</th>\n",
              "      <th>Quantity Ordered</th>\n",
              "      <th>Price Each</th>\n",
              "      <th>Order Date</th>\n",
              "      <th>Purchase Address</th>\n",
              "    </tr>\n",
              "  </thead>\n",
              "  <tbody>\n",
              "    <tr>\n",
              "      <th>185945</th>\n",
              "      <td>176554</td>\n",
              "      <td>Lightning Charging Cable</td>\n",
              "      <td>1</td>\n",
              "      <td>14.95</td>\n",
              "      <td>03/24/19 11:14</td>\n",
              "      <td>672 12th St, San Francisco, CA 94016</td>\n",
              "    </tr>\n",
              "    <tr>\n",
              "      <th>185946</th>\n",
              "      <td>176555</td>\n",
              "      <td>27in FHD Monitor</td>\n",
              "      <td>1</td>\n",
              "      <td>149.99</td>\n",
              "      <td>03/22/19 20:27</td>\n",
              "      <td>42 4th St, San Francisco, CA 94016</td>\n",
              "    </tr>\n",
              "    <tr>\n",
              "      <th>185947</th>\n",
              "      <td>176556</td>\n",
              "      <td>AAA Batteries (4-pack)</td>\n",
              "      <td>3</td>\n",
              "      <td>2.99</td>\n",
              "      <td>03/14/19 10:29</td>\n",
              "      <td>871 7th St, Los Angeles, CA 90001</td>\n",
              "    </tr>\n",
              "    <tr>\n",
              "      <th>185948</th>\n",
              "      <td>176557</td>\n",
              "      <td>iPhone</td>\n",
              "      <td>1</td>\n",
              "      <td>700.00</td>\n",
              "      <td>03/30/19 12:32</td>\n",
              "      <td>83 Washington St, San Francisco, CA 94016</td>\n",
              "    </tr>\n",
              "    <tr>\n",
              "      <th>185949</th>\n",
              "      <td>176557</td>\n",
              "      <td>Lightning Charging Cable</td>\n",
              "      <td>1</td>\n",
              "      <td>14.95</td>\n",
              "      <td>03/30/19 12:32</td>\n",
              "      <td>83 Washington St, San Francisco, CA 94016</td>\n",
              "    </tr>\n",
              "  </tbody>\n",
              "</table>\n",
              "</div>"
            ],
            "text/plain": [
              "        Order ID  ...                           Purchase Address\n",
              "185945    176554  ...       672 12th St, San Francisco, CA 94016\n",
              "185946    176555  ...         42 4th St, San Francisco, CA 94016\n",
              "185947    176556  ...          871 7th St, Los Angeles, CA 90001\n",
              "185948    176557  ...  83 Washington St, San Francisco, CA 94016\n",
              "185949    176557  ...  83 Washington St, San Francisco, CA 94016\n",
              "\n",
              "[5 rows x 6 columns]"
            ]
          },
          "metadata": {
            "tags": []
          },
          "execution_count": 25
        }
      ]
    },
    {
      "cell_type": "code",
      "metadata": {
        "id": "NWHZv6tKkJoF",
        "colab": {
          "base_uri": "https://localhost:8080/",
          "height": 520
        },
        "outputId": "ec67bfe6-64cb-4c30-fcc4-86a578395f28"
      },
      "source": [
        "shopping_df.tail(15)"
      ],
      "execution_count": 26,
      "outputs": [
        {
          "output_type": "execute_result",
          "data": {
            "text/html": [
              "<div>\n",
              "<style scoped>\n",
              "    .dataframe tbody tr th:only-of-type {\n",
              "        vertical-align: middle;\n",
              "    }\n",
              "\n",
              "    .dataframe tbody tr th {\n",
              "        vertical-align: top;\n",
              "    }\n",
              "\n",
              "    .dataframe thead th {\n",
              "        text-align: right;\n",
              "    }\n",
              "</style>\n",
              "<table border=\"1\" class=\"dataframe\">\n",
              "  <thead>\n",
              "    <tr style=\"text-align: right;\">\n",
              "      <th></th>\n",
              "      <th>Order ID</th>\n",
              "      <th>Product</th>\n",
              "      <th>Quantity Ordered</th>\n",
              "      <th>Price Each</th>\n",
              "      <th>Order Date</th>\n",
              "      <th>Purchase Address</th>\n",
              "    </tr>\n",
              "  </thead>\n",
              "  <tbody>\n",
              "    <tr>\n",
              "      <th>185935</th>\n",
              "      <td>176544</td>\n",
              "      <td>Lightning Charging Cable</td>\n",
              "      <td>2</td>\n",
              "      <td>14.95</td>\n",
              "      <td>03/15/19 11:08</td>\n",
              "      <td>436 8th St, Dallas, TX 75001</td>\n",
              "    </tr>\n",
              "    <tr>\n",
              "      <th>185936</th>\n",
              "      <td>176545</td>\n",
              "      <td>AAA Batteries (4-pack)</td>\n",
              "      <td>2</td>\n",
              "      <td>2.99</td>\n",
              "      <td>03/21/19 10:59</td>\n",
              "      <td>515 Center St, San Francisco, CA 94016</td>\n",
              "    </tr>\n",
              "    <tr>\n",
              "      <th>185937</th>\n",
              "      <td>176546</td>\n",
              "      <td>Wired Headphones</td>\n",
              "      <td>1</td>\n",
              "      <td>11.99</td>\n",
              "      <td>03/21/19 16:06</td>\n",
              "      <td>3 Church St, Los Angeles, CA 90001</td>\n",
              "    </tr>\n",
              "    <tr>\n",
              "      <th>185938</th>\n",
              "      <td>176547</td>\n",
              "      <td>Wired Headphones</td>\n",
              "      <td>2</td>\n",
              "      <td>11.99</td>\n",
              "      <td>03/01/19 16:39</td>\n",
              "      <td>998 Pine St, Boston, MA 02215</td>\n",
              "    </tr>\n",
              "    <tr>\n",
              "      <th>185939</th>\n",
              "      <td>176548</td>\n",
              "      <td>AAA Batteries (4-pack)</td>\n",
              "      <td>1</td>\n",
              "      <td>2.99</td>\n",
              "      <td>03/16/19 15:36</td>\n",
              "      <td>9 Sunset St, Portland, OR 97035</td>\n",
              "    </tr>\n",
              "    <tr>\n",
              "      <th>185940</th>\n",
              "      <td>176549</td>\n",
              "      <td>iPhone</td>\n",
              "      <td>1</td>\n",
              "      <td>700.00</td>\n",
              "      <td>03/20/19 01:24</td>\n",
              "      <td>604 Park St, Los Angeles, CA 90001</td>\n",
              "    </tr>\n",
              "    <tr>\n",
              "      <th>185941</th>\n",
              "      <td>176550</td>\n",
              "      <td>Wired Headphones</td>\n",
              "      <td>1</td>\n",
              "      <td>11.99</td>\n",
              "      <td>03/01/19 22:30</td>\n",
              "      <td>16 Sunset St, San Francisco, CA 94016</td>\n",
              "    </tr>\n",
              "    <tr>\n",
              "      <th>185942</th>\n",
              "      <td>176551</td>\n",
              "      <td>LG Washing Machine</td>\n",
              "      <td>1</td>\n",
              "      <td>600.00</td>\n",
              "      <td>03/20/19 23:49</td>\n",
              "      <td>567 River St, San Francisco, CA 94016</td>\n",
              "    </tr>\n",
              "    <tr>\n",
              "      <th>185943</th>\n",
              "      <td>176552</td>\n",
              "      <td>Apple Airpods Headphones</td>\n",
              "      <td>1</td>\n",
              "      <td>150.00</td>\n",
              "      <td>03/08/19 14:07</td>\n",
              "      <td>578 Main St, Los Angeles, CA 90001</td>\n",
              "    </tr>\n",
              "    <tr>\n",
              "      <th>185944</th>\n",
              "      <td>176553</td>\n",
              "      <td>USB-C Charging Cable</td>\n",
              "      <td>1</td>\n",
              "      <td>11.95</td>\n",
              "      <td>03/02/19 22:27</td>\n",
              "      <td>437 Washington St, New York City, NY 10001</td>\n",
              "    </tr>\n",
              "    <tr>\n",
              "      <th>185945</th>\n",
              "      <td>176554</td>\n",
              "      <td>Lightning Charging Cable</td>\n",
              "      <td>1</td>\n",
              "      <td>14.95</td>\n",
              "      <td>03/24/19 11:14</td>\n",
              "      <td>672 12th St, San Francisco, CA 94016</td>\n",
              "    </tr>\n",
              "    <tr>\n",
              "      <th>185946</th>\n",
              "      <td>176555</td>\n",
              "      <td>27in FHD Monitor</td>\n",
              "      <td>1</td>\n",
              "      <td>149.99</td>\n",
              "      <td>03/22/19 20:27</td>\n",
              "      <td>42 4th St, San Francisco, CA 94016</td>\n",
              "    </tr>\n",
              "    <tr>\n",
              "      <th>185947</th>\n",
              "      <td>176556</td>\n",
              "      <td>AAA Batteries (4-pack)</td>\n",
              "      <td>3</td>\n",
              "      <td>2.99</td>\n",
              "      <td>03/14/19 10:29</td>\n",
              "      <td>871 7th St, Los Angeles, CA 90001</td>\n",
              "    </tr>\n",
              "    <tr>\n",
              "      <th>185948</th>\n",
              "      <td>176557</td>\n",
              "      <td>iPhone</td>\n",
              "      <td>1</td>\n",
              "      <td>700.00</td>\n",
              "      <td>03/30/19 12:32</td>\n",
              "      <td>83 Washington St, San Francisco, CA 94016</td>\n",
              "    </tr>\n",
              "    <tr>\n",
              "      <th>185949</th>\n",
              "      <td>176557</td>\n",
              "      <td>Lightning Charging Cable</td>\n",
              "      <td>1</td>\n",
              "      <td>14.95</td>\n",
              "      <td>03/30/19 12:32</td>\n",
              "      <td>83 Washington St, San Francisco, CA 94016</td>\n",
              "    </tr>\n",
              "  </tbody>\n",
              "</table>\n",
              "</div>"
            ],
            "text/plain": [
              "        Order ID  ...                            Purchase Address\n",
              "185935    176544  ...                436 8th St, Dallas, TX 75001\n",
              "185936    176545  ...      515 Center St, San Francisco, CA 94016\n",
              "185937    176546  ...          3 Church St, Los Angeles, CA 90001\n",
              "185938    176547  ...               998 Pine St, Boston, MA 02215\n",
              "185939    176548  ...             9 Sunset St, Portland, OR 97035\n",
              "185940    176549  ...          604 Park St, Los Angeles, CA 90001\n",
              "185941    176550  ...       16 Sunset St, San Francisco, CA 94016\n",
              "185942    176551  ...       567 River St, San Francisco, CA 94016\n",
              "185943    176552  ...          578 Main St, Los Angeles, CA 90001\n",
              "185944    176553  ...  437 Washington St, New York City, NY 10001\n",
              "185945    176554  ...        672 12th St, San Francisco, CA 94016\n",
              "185946    176555  ...          42 4th St, San Francisco, CA 94016\n",
              "185947    176556  ...           871 7th St, Los Angeles, CA 90001\n",
              "185948    176557  ...   83 Washington St, San Francisco, CA 94016\n",
              "185949    176557  ...   83 Washington St, San Francisco, CA 94016\n",
              "\n",
              "[15 rows x 6 columns]"
            ]
          },
          "metadata": {
            "tags": []
          },
          "execution_count": 26
        }
      ]
    },
    {
      "cell_type": "code",
      "metadata": {
        "id": "bVhUcSBBkJoG",
        "colab": {
          "base_uri": "https://localhost:8080/",
          "height": 424
        },
        "outputId": "33a672b4-35dc-4446-e424-084324bde85e"
      },
      "source": [
        "shopping_df.tail(-100)"
      ],
      "execution_count": 27,
      "outputs": [
        {
          "output_type": "execute_result",
          "data": {
            "text/html": [
              "<div>\n",
              "<style scoped>\n",
              "    .dataframe tbody tr th:only-of-type {\n",
              "        vertical-align: middle;\n",
              "    }\n",
              "\n",
              "    .dataframe tbody tr th {\n",
              "        vertical-align: top;\n",
              "    }\n",
              "\n",
              "    .dataframe thead th {\n",
              "        text-align: right;\n",
              "    }\n",
              "</style>\n",
              "<table border=\"1\" class=\"dataframe\">\n",
              "  <thead>\n",
              "    <tr style=\"text-align: right;\">\n",
              "      <th></th>\n",
              "      <th>Order ID</th>\n",
              "      <th>Product</th>\n",
              "      <th>Quantity Ordered</th>\n",
              "      <th>Price Each</th>\n",
              "      <th>Order Date</th>\n",
              "      <th>Purchase Address</th>\n",
              "    </tr>\n",
              "  </thead>\n",
              "  <tbody>\n",
              "    <tr>\n",
              "      <th>100</th>\n",
              "      <td>176654</td>\n",
              "      <td>USB-C Charging Cable</td>\n",
              "      <td>1</td>\n",
              "      <td>11.95</td>\n",
              "      <td>04/15/19 19:35</td>\n",
              "      <td>880 Lakeview St, Seattle, WA 98101</td>\n",
              "    </tr>\n",
              "    <tr>\n",
              "      <th>101</th>\n",
              "      <td>176655</td>\n",
              "      <td>Apple Airpods Headphones</td>\n",
              "      <td>1</td>\n",
              "      <td>150.00</td>\n",
              "      <td>04/11/19 19:36</td>\n",
              "      <td>848 Center St, San Francisco, CA 94016</td>\n",
              "    </tr>\n",
              "    <tr>\n",
              "      <th>102</th>\n",
              "      <td>176656</td>\n",
              "      <td>Google Phone</td>\n",
              "      <td>1</td>\n",
              "      <td>600.00</td>\n",
              "      <td>04/12/19 16:42</td>\n",
              "      <td>12 Lakeview St, New York City, NY 10001</td>\n",
              "    </tr>\n",
              "    <tr>\n",
              "      <th>103</th>\n",
              "      <td>176657</td>\n",
              "      <td>ThinkPad Laptop</td>\n",
              "      <td>1</td>\n",
              "      <td>999.99</td>\n",
              "      <td>04/23/19 10:16</td>\n",
              "      <td>774 Forest St, Los Angeles, CA 90001</td>\n",
              "    </tr>\n",
              "    <tr>\n",
              "      <th>104</th>\n",
              "      <td>176658</td>\n",
              "      <td>AAA Batteries (4-pack)</td>\n",
              "      <td>2</td>\n",
              "      <td>2.99</td>\n",
              "      <td>04/22/19 08:51</td>\n",
              "      <td>573 Pine St, San Francisco, CA 94016</td>\n",
              "    </tr>\n",
              "    <tr>\n",
              "      <th>...</th>\n",
              "      <td>...</td>\n",
              "      <td>...</td>\n",
              "      <td>...</td>\n",
              "      <td>...</td>\n",
              "      <td>...</td>\n",
              "      <td>...</td>\n",
              "    </tr>\n",
              "    <tr>\n",
              "      <th>185945</th>\n",
              "      <td>176554</td>\n",
              "      <td>Lightning Charging Cable</td>\n",
              "      <td>1</td>\n",
              "      <td>14.95</td>\n",
              "      <td>03/24/19 11:14</td>\n",
              "      <td>672 12th St, San Francisco, CA 94016</td>\n",
              "    </tr>\n",
              "    <tr>\n",
              "      <th>185946</th>\n",
              "      <td>176555</td>\n",
              "      <td>27in FHD Monitor</td>\n",
              "      <td>1</td>\n",
              "      <td>149.99</td>\n",
              "      <td>03/22/19 20:27</td>\n",
              "      <td>42 4th St, San Francisco, CA 94016</td>\n",
              "    </tr>\n",
              "    <tr>\n",
              "      <th>185947</th>\n",
              "      <td>176556</td>\n",
              "      <td>AAA Batteries (4-pack)</td>\n",
              "      <td>3</td>\n",
              "      <td>2.99</td>\n",
              "      <td>03/14/19 10:29</td>\n",
              "      <td>871 7th St, Los Angeles, CA 90001</td>\n",
              "    </tr>\n",
              "    <tr>\n",
              "      <th>185948</th>\n",
              "      <td>176557</td>\n",
              "      <td>iPhone</td>\n",
              "      <td>1</td>\n",
              "      <td>700.00</td>\n",
              "      <td>03/30/19 12:32</td>\n",
              "      <td>83 Washington St, San Francisco, CA 94016</td>\n",
              "    </tr>\n",
              "    <tr>\n",
              "      <th>185949</th>\n",
              "      <td>176557</td>\n",
              "      <td>Lightning Charging Cable</td>\n",
              "      <td>1</td>\n",
              "      <td>14.95</td>\n",
              "      <td>03/30/19 12:32</td>\n",
              "      <td>83 Washington St, San Francisco, CA 94016</td>\n",
              "    </tr>\n",
              "  </tbody>\n",
              "</table>\n",
              "<p>185850 rows × 6 columns</p>\n",
              "</div>"
            ],
            "text/plain": [
              "        Order ID  ...                           Purchase Address\n",
              "100       176654  ...         880 Lakeview St, Seattle, WA 98101\n",
              "101       176655  ...     848 Center St, San Francisco, CA 94016\n",
              "102       176656  ...    12 Lakeview St, New York City, NY 10001\n",
              "103       176657  ...       774 Forest St, Los Angeles, CA 90001\n",
              "104       176658  ...       573 Pine St, San Francisco, CA 94016\n",
              "...          ...  ...                                        ...\n",
              "185945    176554  ...       672 12th St, San Francisco, CA 94016\n",
              "185946    176555  ...         42 4th St, San Francisco, CA 94016\n",
              "185947    176556  ...          871 7th St, Los Angeles, CA 90001\n",
              "185948    176557  ...  83 Washington St, San Francisco, CA 94016\n",
              "185949    176557  ...  83 Washington St, San Francisco, CA 94016\n",
              "\n",
              "[185850 rows x 6 columns]"
            ]
          },
          "metadata": {
            "tags": []
          },
          "execution_count": 27
        }
      ]
    },
    {
      "cell_type": "markdown",
      "metadata": {
        "id": "0Qk02AV1kJoG"
      },
      "source": [
        "### df.describe\n",
        "* `df.describe(include=None, exclude=None)`\n",
        "  * Generates descriptive statistics.\n",
        "  * Analyzes both numeric and object series as well as mixed data types.\n",
        "  * `include`: A list of data types to include in the result.\n",
        "  * `exclude`:  A list of data types to omit from the result."
      ]
    },
    {
      "cell_type": "code",
      "metadata": {
        "id": "yM6oOrYmkJoG",
        "colab": {
          "base_uri": "https://localhost:8080/",
          "height": 300
        },
        "outputId": "2d1a4cca-1ddc-4eb5-80bd-fb23db90963b"
      },
      "source": [
        "shopping_df.describe()"
      ],
      "execution_count": 28,
      "outputs": [
        {
          "output_type": "execute_result",
          "data": {
            "text/html": [
              "<div>\n",
              "<style scoped>\n",
              "    .dataframe tbody tr th:only-of-type {\n",
              "        vertical-align: middle;\n",
              "    }\n",
              "\n",
              "    .dataframe tbody tr th {\n",
              "        vertical-align: top;\n",
              "    }\n",
              "\n",
              "    .dataframe thead th {\n",
              "        text-align: right;\n",
              "    }\n",
              "</style>\n",
              "<table border=\"1\" class=\"dataframe\">\n",
              "  <thead>\n",
              "    <tr style=\"text-align: right;\">\n",
              "      <th></th>\n",
              "      <th>Order ID</th>\n",
              "      <th>Quantity Ordered</th>\n",
              "      <th>Price Each</th>\n",
              "    </tr>\n",
              "  </thead>\n",
              "  <tbody>\n",
              "    <tr>\n",
              "      <th>count</th>\n",
              "      <td>185950.000000</td>\n",
              "      <td>185950.000000</td>\n",
              "      <td>185950.000000</td>\n",
              "    </tr>\n",
              "    <tr>\n",
              "      <th>mean</th>\n",
              "      <td>230417.569379</td>\n",
              "      <td>1.124383</td>\n",
              "      <td>184.399735</td>\n",
              "    </tr>\n",
              "    <tr>\n",
              "      <th>std</th>\n",
              "      <td>51512.737110</td>\n",
              "      <td>0.442793</td>\n",
              "      <td>332.731330</td>\n",
              "    </tr>\n",
              "    <tr>\n",
              "      <th>min</th>\n",
              "      <td>141234.000000</td>\n",
              "      <td>1.000000</td>\n",
              "      <td>2.990000</td>\n",
              "    </tr>\n",
              "    <tr>\n",
              "      <th>25%</th>\n",
              "      <td>185831.250000</td>\n",
              "      <td>1.000000</td>\n",
              "      <td>11.950000</td>\n",
              "    </tr>\n",
              "    <tr>\n",
              "      <th>50%</th>\n",
              "      <td>230367.500000</td>\n",
              "      <td>1.000000</td>\n",
              "      <td>14.950000</td>\n",
              "    </tr>\n",
              "    <tr>\n",
              "      <th>75%</th>\n",
              "      <td>275035.750000</td>\n",
              "      <td>1.000000</td>\n",
              "      <td>150.000000</td>\n",
              "    </tr>\n",
              "    <tr>\n",
              "      <th>max</th>\n",
              "      <td>319670.000000</td>\n",
              "      <td>9.000000</td>\n",
              "      <td>1700.000000</td>\n",
              "    </tr>\n",
              "  </tbody>\n",
              "</table>\n",
              "</div>"
            ],
            "text/plain": [
              "            Order ID  Quantity Ordered     Price Each\n",
              "count  185950.000000     185950.000000  185950.000000\n",
              "mean   230417.569379          1.124383     184.399735\n",
              "std     51512.737110          0.442793     332.731330\n",
              "min    141234.000000          1.000000       2.990000\n",
              "25%    185831.250000          1.000000      11.950000\n",
              "50%    230367.500000          1.000000      14.950000\n",
              "75%    275035.750000          1.000000     150.000000\n",
              "max    319670.000000          9.000000    1700.000000"
            ]
          },
          "metadata": {
            "tags": []
          },
          "execution_count": 28
        }
      ]
    },
    {
      "cell_type": "code",
      "metadata": {
        "id": "avyCk0nNkJoG",
        "colab": {
          "base_uri": "https://localhost:8080/",
          "height": 175
        },
        "outputId": "3945fc6a-80df-463e-a01c-74ba06a1d576"
      },
      "source": [
        "shopping_df.describe(include=[object])"
      ],
      "execution_count": 29,
      "outputs": [
        {
          "output_type": "execute_result",
          "data": {
            "text/html": [
              "<div>\n",
              "<style scoped>\n",
              "    .dataframe tbody tr th:only-of-type {\n",
              "        vertical-align: middle;\n",
              "    }\n",
              "\n",
              "    .dataframe tbody tr th {\n",
              "        vertical-align: top;\n",
              "    }\n",
              "\n",
              "    .dataframe thead th {\n",
              "        text-align: right;\n",
              "    }\n",
              "</style>\n",
              "<table border=\"1\" class=\"dataframe\">\n",
              "  <thead>\n",
              "    <tr style=\"text-align: right;\">\n",
              "      <th></th>\n",
              "      <th>Product</th>\n",
              "      <th>Order Date</th>\n",
              "      <th>Purchase Address</th>\n",
              "    </tr>\n",
              "  </thead>\n",
              "  <tbody>\n",
              "    <tr>\n",
              "      <th>count</th>\n",
              "      <td>185950</td>\n",
              "      <td>185950</td>\n",
              "      <td>185950</td>\n",
              "    </tr>\n",
              "    <tr>\n",
              "      <th>unique</th>\n",
              "      <td>19</td>\n",
              "      <td>142395</td>\n",
              "      <td>140787</td>\n",
              "    </tr>\n",
              "    <tr>\n",
              "      <th>top</th>\n",
              "      <td>USB-C Charging Cable</td>\n",
              "      <td>12/15/19 20:16</td>\n",
              "      <td>193 Forest St, San Francisco, CA 94016</td>\n",
              "    </tr>\n",
              "    <tr>\n",
              "      <th>freq</th>\n",
              "      <td>21903</td>\n",
              "      <td>8</td>\n",
              "      <td>9</td>\n",
              "    </tr>\n",
              "  </tbody>\n",
              "</table>\n",
              "</div>"
            ],
            "text/plain": [
              "                     Product  ...                        Purchase Address\n",
              "count                 185950  ...                                  185950\n",
              "unique                    19  ...                                  140787\n",
              "top     USB-C Charging Cable  ...  193 Forest St, San Francisco, CA 94016\n",
              "freq                   21903  ...                                       9\n",
              "\n",
              "[4 rows x 3 columns]"
            ]
          },
          "metadata": {
            "tags": []
          },
          "execution_count": 29
        }
      ]
    },
    {
      "cell_type": "code",
      "metadata": {
        "id": "5ET6uEnVkJoH",
        "colab": {
          "base_uri": "https://localhost:8080/",
          "height": 394
        },
        "outputId": "2cc0a884-3004-4763-9b62-bc7bfe5933ed"
      },
      "source": [
        "shopping_df.describe(include=\"all\")"
      ],
      "execution_count": 30,
      "outputs": [
        {
          "output_type": "execute_result",
          "data": {
            "text/html": [
              "<div>\n",
              "<style scoped>\n",
              "    .dataframe tbody tr th:only-of-type {\n",
              "        vertical-align: middle;\n",
              "    }\n",
              "\n",
              "    .dataframe tbody tr th {\n",
              "        vertical-align: top;\n",
              "    }\n",
              "\n",
              "    .dataframe thead th {\n",
              "        text-align: right;\n",
              "    }\n",
              "</style>\n",
              "<table border=\"1\" class=\"dataframe\">\n",
              "  <thead>\n",
              "    <tr style=\"text-align: right;\">\n",
              "      <th></th>\n",
              "      <th>Order ID</th>\n",
              "      <th>Product</th>\n",
              "      <th>Quantity Ordered</th>\n",
              "      <th>Price Each</th>\n",
              "      <th>Order Date</th>\n",
              "      <th>Purchase Address</th>\n",
              "    </tr>\n",
              "  </thead>\n",
              "  <tbody>\n",
              "    <tr>\n",
              "      <th>count</th>\n",
              "      <td>185950.000000</td>\n",
              "      <td>185950</td>\n",
              "      <td>185950.000000</td>\n",
              "      <td>185950.000000</td>\n",
              "      <td>185950</td>\n",
              "      <td>185950</td>\n",
              "    </tr>\n",
              "    <tr>\n",
              "      <th>unique</th>\n",
              "      <td>NaN</td>\n",
              "      <td>19</td>\n",
              "      <td>NaN</td>\n",
              "      <td>NaN</td>\n",
              "      <td>142395</td>\n",
              "      <td>140787</td>\n",
              "    </tr>\n",
              "    <tr>\n",
              "      <th>top</th>\n",
              "      <td>NaN</td>\n",
              "      <td>USB-C Charging Cable</td>\n",
              "      <td>NaN</td>\n",
              "      <td>NaN</td>\n",
              "      <td>12/15/19 20:16</td>\n",
              "      <td>193 Forest St, San Francisco, CA 94016</td>\n",
              "    </tr>\n",
              "    <tr>\n",
              "      <th>freq</th>\n",
              "      <td>NaN</td>\n",
              "      <td>21903</td>\n",
              "      <td>NaN</td>\n",
              "      <td>NaN</td>\n",
              "      <td>8</td>\n",
              "      <td>9</td>\n",
              "    </tr>\n",
              "    <tr>\n",
              "      <th>mean</th>\n",
              "      <td>230417.569379</td>\n",
              "      <td>NaN</td>\n",
              "      <td>1.124383</td>\n",
              "      <td>184.399735</td>\n",
              "      <td>NaN</td>\n",
              "      <td>NaN</td>\n",
              "    </tr>\n",
              "    <tr>\n",
              "      <th>std</th>\n",
              "      <td>51512.737110</td>\n",
              "      <td>NaN</td>\n",
              "      <td>0.442793</td>\n",
              "      <td>332.731330</td>\n",
              "      <td>NaN</td>\n",
              "      <td>NaN</td>\n",
              "    </tr>\n",
              "    <tr>\n",
              "      <th>min</th>\n",
              "      <td>141234.000000</td>\n",
              "      <td>NaN</td>\n",
              "      <td>1.000000</td>\n",
              "      <td>2.990000</td>\n",
              "      <td>NaN</td>\n",
              "      <td>NaN</td>\n",
              "    </tr>\n",
              "    <tr>\n",
              "      <th>25%</th>\n",
              "      <td>185831.250000</td>\n",
              "      <td>NaN</td>\n",
              "      <td>1.000000</td>\n",
              "      <td>11.950000</td>\n",
              "      <td>NaN</td>\n",
              "      <td>NaN</td>\n",
              "    </tr>\n",
              "    <tr>\n",
              "      <th>50%</th>\n",
              "      <td>230367.500000</td>\n",
              "      <td>NaN</td>\n",
              "      <td>1.000000</td>\n",
              "      <td>14.950000</td>\n",
              "      <td>NaN</td>\n",
              "      <td>NaN</td>\n",
              "    </tr>\n",
              "    <tr>\n",
              "      <th>75%</th>\n",
              "      <td>275035.750000</td>\n",
              "      <td>NaN</td>\n",
              "      <td>1.000000</td>\n",
              "      <td>150.000000</td>\n",
              "      <td>NaN</td>\n",
              "      <td>NaN</td>\n",
              "    </tr>\n",
              "    <tr>\n",
              "      <th>max</th>\n",
              "      <td>319670.000000</td>\n",
              "      <td>NaN</td>\n",
              "      <td>9.000000</td>\n",
              "      <td>1700.000000</td>\n",
              "      <td>NaN</td>\n",
              "      <td>NaN</td>\n",
              "    </tr>\n",
              "  </tbody>\n",
              "</table>\n",
              "</div>"
            ],
            "text/plain": [
              "             Order ID  ...                        Purchase Address\n",
              "count   185950.000000  ...                                  185950\n",
              "unique            NaN  ...                                  140787\n",
              "top               NaN  ...  193 Forest St, San Francisco, CA 94016\n",
              "freq              NaN  ...                                       9\n",
              "mean    230417.569379  ...                                     NaN\n",
              "std      51512.737110  ...                                     NaN\n",
              "min     141234.000000  ...                                     NaN\n",
              "25%     185831.250000  ...                                     NaN\n",
              "50%     230367.500000  ...                                     NaN\n",
              "75%     275035.750000  ...                                     NaN\n",
              "max     319670.000000  ...                                     NaN\n",
              "\n",
              "[11 rows x 6 columns]"
            ]
          },
          "metadata": {
            "tags": []
          },
          "execution_count": 30
        }
      ]
    },
    {
      "cell_type": "code",
      "metadata": {
        "id": "v950PgDikJoH",
        "colab": {
          "base_uri": "https://localhost:8080/",
          "height": 300
        },
        "outputId": "45a9fe22-be87-4d15-9e7f-637845e5bf47"
      },
      "source": [
        "shopping_df.describe(exclude=[object])"
      ],
      "execution_count": 32,
      "outputs": [
        {
          "output_type": "execute_result",
          "data": {
            "text/html": [
              "<div>\n",
              "<style scoped>\n",
              "    .dataframe tbody tr th:only-of-type {\n",
              "        vertical-align: middle;\n",
              "    }\n",
              "\n",
              "    .dataframe tbody tr th {\n",
              "        vertical-align: top;\n",
              "    }\n",
              "\n",
              "    .dataframe thead th {\n",
              "        text-align: right;\n",
              "    }\n",
              "</style>\n",
              "<table border=\"1\" class=\"dataframe\">\n",
              "  <thead>\n",
              "    <tr style=\"text-align: right;\">\n",
              "      <th></th>\n",
              "      <th>Order ID</th>\n",
              "      <th>Quantity Ordered</th>\n",
              "      <th>Price Each</th>\n",
              "    </tr>\n",
              "  </thead>\n",
              "  <tbody>\n",
              "    <tr>\n",
              "      <th>count</th>\n",
              "      <td>185950.000000</td>\n",
              "      <td>185950.000000</td>\n",
              "      <td>185950.000000</td>\n",
              "    </tr>\n",
              "    <tr>\n",
              "      <th>mean</th>\n",
              "      <td>230417.569379</td>\n",
              "      <td>1.124383</td>\n",
              "      <td>184.399735</td>\n",
              "    </tr>\n",
              "    <tr>\n",
              "      <th>std</th>\n",
              "      <td>51512.737110</td>\n",
              "      <td>0.442793</td>\n",
              "      <td>332.731330</td>\n",
              "    </tr>\n",
              "    <tr>\n",
              "      <th>min</th>\n",
              "      <td>141234.000000</td>\n",
              "      <td>1.000000</td>\n",
              "      <td>2.990000</td>\n",
              "    </tr>\n",
              "    <tr>\n",
              "      <th>25%</th>\n",
              "      <td>185831.250000</td>\n",
              "      <td>1.000000</td>\n",
              "      <td>11.950000</td>\n",
              "    </tr>\n",
              "    <tr>\n",
              "      <th>50%</th>\n",
              "      <td>230367.500000</td>\n",
              "      <td>1.000000</td>\n",
              "      <td>14.950000</td>\n",
              "    </tr>\n",
              "    <tr>\n",
              "      <th>75%</th>\n",
              "      <td>275035.750000</td>\n",
              "      <td>1.000000</td>\n",
              "      <td>150.000000</td>\n",
              "    </tr>\n",
              "    <tr>\n",
              "      <th>max</th>\n",
              "      <td>319670.000000</td>\n",
              "      <td>9.000000</td>\n",
              "      <td>1700.000000</td>\n",
              "    </tr>\n",
              "  </tbody>\n",
              "</table>\n",
              "</div>"
            ],
            "text/plain": [
              "            Order ID  Quantity Ordered     Price Each\n",
              "count  185950.000000     185950.000000  185950.000000\n",
              "mean   230417.569379          1.124383     184.399735\n",
              "std     51512.737110          0.442793     332.731330\n",
              "min    141234.000000          1.000000       2.990000\n",
              "25%    185831.250000          1.000000      11.950000\n",
              "50%    230367.500000          1.000000      14.950000\n",
              "75%    275035.750000          1.000000     150.000000\n",
              "max    319670.000000          9.000000    1700.000000"
            ]
          },
          "metadata": {
            "tags": []
          },
          "execution_count": 32
        }
      ]
    },
    {
      "cell_type": "markdown",
      "metadata": {
        "id": "XP6JGf-7kJoH"
      },
      "source": [
        "### df.info\n",
        "* `df.info()`\n",
        "  * Print a concise summary of a DataFrame including the dtypes of the columns, memory usage, etc."
      ]
    },
    {
      "cell_type": "code",
      "metadata": {
        "id": "fikrrJ7BkJoH",
        "colab": {
          "base_uri": "https://localhost:8080/"
        },
        "outputId": "66d3dd07-2772-414d-c61e-948f6ad315cc"
      },
      "source": [
        "shopping_df.info()"
      ],
      "execution_count": 34,
      "outputs": [
        {
          "output_type": "stream",
          "text": [
            "<class 'pandas.core.frame.DataFrame'>\n",
            "RangeIndex: 185950 entries, 0 to 185949\n",
            "Data columns (total 6 columns):\n",
            " #   Column            Non-Null Count   Dtype  \n",
            "---  ------            --------------   -----  \n",
            " 0   Order ID          185950 non-null  int64  \n",
            " 1   Product           185950 non-null  object \n",
            " 2   Quantity Ordered  185950 non-null  int64  \n",
            " 3   Price Each        185950 non-null  float64\n",
            " 4   Order Date        185950 non-null  object \n",
            " 5   Purchase Address  185950 non-null  object \n",
            "dtypes: float64(1), int64(2), object(3)\n",
            "memory usage: 8.5+ MB\n"
          ],
          "name": "stdout"
        }
      ]
    },
    {
      "cell_type": "markdown",
      "metadata": {
        "id": "U_T14PSZhbVN"
      },
      "source": [
        "## Comparision with Dictionary of Lists"
      ]
    },
    {
      "cell_type": "code",
      "metadata": {
        "id": "PCVSDNqAkPZW"
      },
      "source": [
        "people = {\n",
        "    \"first\": [\"Kristen\", 'Maxine', 'John'], \n",
        "    \"last\": [\"Carol\", 'Willians', 'Smith'], \n",
        "    \"email\": [\"KristenC@gmail.com\", 'Maxine.Williams@email.com', 'JohnSmith@email.com']\n",
        "}"
      ],
      "execution_count": 35,
      "outputs": []
    },
    {
      "cell_type": "markdown",
      "metadata": {
        "id": "EvgFEa-K_45v"
      },
      "source": [
        "Creating DataFrame from a dictionary of lists"
      ]
    },
    {
      "cell_type": "code",
      "metadata": {
        "id": "gPZfwZWqkPgY",
        "colab": {
          "base_uri": "https://localhost:8080/"
        },
        "outputId": "06d6dfab-78f8-4fc2-a33e-3646a13065a3"
      },
      "source": [
        "df = pd.DataFrame(people)\n",
        "print(df)"
      ],
      "execution_count": 36,
      "outputs": [
        {
          "output_type": "stream",
          "text": [
            "     first      last                      email\n",
            "0  Kristen     Carol         KristenC@gmail.com\n",
            "1   Maxine  Willians  Maxine.Williams@email.com\n",
            "2     John     Smith        JohnSmith@email.com\n"
          ],
          "name": "stdout"
        }
      ]
    },
    {
      "cell_type": "code",
      "metadata": {
        "id": "nZXbxrqKBZdI",
        "colab": {
          "base_uri": "https://localhost:8080/"
        },
        "outputId": "40bf21ca-95cc-4400-ed27-e8070b7b3b83"
      },
      "source": [
        "people[\"first\"]"
      ],
      "execution_count": 37,
      "outputs": [
        {
          "output_type": "execute_result",
          "data": {
            "text/plain": [
              "['Kristen', 'Maxine', 'John']"
            ]
          },
          "metadata": {
            "tags": []
          },
          "execution_count": 37
        }
      ]
    },
    {
      "cell_type": "code",
      "metadata": {
        "id": "_TVLllW9BdNG",
        "colab": {
          "base_uri": "https://localhost:8080/"
        },
        "outputId": "eb4f376e-8888-404a-be24-e532b64c9b36"
      },
      "source": [
        "df[\"last\"]"
      ],
      "execution_count": 38,
      "outputs": [
        {
          "output_type": "execute_result",
          "data": {
            "text/plain": [
              "0       Carol\n",
              "1    Willians\n",
              "2       Smith\n",
              "Name: last, dtype: object"
            ]
          },
          "metadata": {
            "tags": []
          },
          "execution_count": 38
        }
      ]
    },
    {
      "cell_type": "code",
      "metadata": {
        "id": "Kjmh5es1Bh1Q",
        "colab": {
          "base_uri": "https://localhost:8080/"
        },
        "outputId": "eea165e9-c39d-45fb-8ac2-047153e29f7a"
      },
      "source": [
        "type(df[\"first\"])"
      ],
      "execution_count": 39,
      "outputs": [
        {
          "output_type": "execute_result",
          "data": {
            "text/plain": [
              "pandas.core.series.Series"
            ]
          },
          "metadata": {
            "tags": []
          },
          "execution_count": 39
        }
      ]
    },
    {
      "cell_type": "markdown",
      "metadata": {
        "id": "4H4mO18fgt20"
      },
      "source": [
        "# Series\n",
        "**A Series is like a list of data, but with much more functionality**\n"
      ]
    },
    {
      "cell_type": "markdown",
      "metadata": {
        "id": "SilqWR5t_-il"
      },
      "source": [
        "Creating Series from a List of Data"
      ]
    },
    {
      "cell_type": "code",
      "metadata": {
        "id": "UV7fClgEkZIN",
        "colab": {
          "base_uri": "https://localhost:8080/"
        },
        "outputId": "a5e2b150-0033-46a9-f5f3-b122b81d98ba"
      },
      "source": [
        "pd.Series([1, 2, 3, 4, \"asdf\"])"
      ],
      "execution_count": 40,
      "outputs": [
        {
          "output_type": "execute_result",
          "data": {
            "text/plain": [
              "0       1\n",
              "1       2\n",
              "2       3\n",
              "3       4\n",
              "4    asdf\n",
              "dtype: object"
            ]
          },
          "metadata": {
            "tags": []
          },
          "execution_count": 40
        }
      ]
    },
    {
      "cell_type": "code",
      "metadata": {
        "id": "MaAAJfUzkmB9",
        "colab": {
          "base_uri": "https://localhost:8080/"
        },
        "outputId": "b84abcc3-1f59-493e-a825-6b5053dbf672"
      },
      "source": [
        "type(shopping_df['Product'])"
      ],
      "execution_count": 41,
      "outputs": [
        {
          "output_type": "execute_result",
          "data": {
            "text/plain": [
              "pandas.core.series.Series"
            ]
          },
          "metadata": {
            "tags": []
          },
          "execution_count": 41
        }
      ]
    },
    {
      "cell_type": "markdown",
      "metadata": {
        "id": "Qpjlw0BVgw_d"
      },
      "source": [
        "# Accessing Data"
      ]
    },
    {
      "cell_type": "markdown",
      "metadata": {
        "id": "8VQb5qa0g3_4"
      },
      "source": [
        "## Indexing"
      ]
    },
    {
      "cell_type": "markdown",
      "metadata": {
        "id": "EASL2LOCMREQ"
      },
      "source": [
        "We can retrieve a specific value from a series using the indexing notation **`[]`**\n"
      ]
    },
    {
      "cell_type": "code",
      "metadata": {
        "id": "VKrb23wXMgLi",
        "colab": {
          "base_uri": "https://localhost:8080/",
          "height": 36
        },
        "outputId": "31d36364-6f97-40b8-eb81-827a4bd178d0"
      },
      "source": [
        "shopping_df['Product'][200]"
      ],
      "execution_count": 42,
      "outputs": [
        {
          "output_type": "execute_result",
          "data": {
            "application/vnd.google.colaboratory.intrinsic+json": {
              "type": "string"
            },
            "text/plain": [
              "'AA Batteries (4-pack)'"
            ]
          },
          "metadata": {
            "tags": []
          },
          "execution_count": 42
        }
      ]
    },
    {
      "cell_type": "markdown",
      "metadata": {
        "id": "KKtREbOxD3cs"
      },
      "source": [
        "### df.iloc\n",
        "\n",
        "**Accessing by position numbers**\n",
        "\n",
        "* `df.iloc()`\n",
        "\n",
        "  * Purely integer-location based indexing for selection by position.\n",
        "  * Unlike in `loc`, if a slice object with indices is passed then **stop is excluded**"
      ]
    },
    {
      "cell_type": "code",
      "metadata": {
        "id": "-J3ivWXys4rn",
        "colab": {
          "base_uri": "https://localhost:8080/",
          "height": 112
        },
        "outputId": "65815dc5-fcf6-4317-98bb-c3f0d87d4773"
      },
      "source": [
        "shopping_df.iloc[[0, 289], [1, 4]]"
      ],
      "execution_count": 59,
      "outputs": [
        {
          "output_type": "execute_result",
          "data": {
            "text/html": [
              "<div>\n",
              "<style scoped>\n",
              "    .dataframe tbody tr th:only-of-type {\n",
              "        vertical-align: middle;\n",
              "    }\n",
              "\n",
              "    .dataframe tbody tr th {\n",
              "        vertical-align: top;\n",
              "    }\n",
              "\n",
              "    .dataframe thead th {\n",
              "        text-align: right;\n",
              "    }\n",
              "</style>\n",
              "<table border=\"1\" class=\"dataframe\">\n",
              "  <thead>\n",
              "    <tr style=\"text-align: right;\">\n",
              "      <th></th>\n",
              "      <th>Product</th>\n",
              "      <th>Order Date</th>\n",
              "    </tr>\n",
              "  </thead>\n",
              "  <tbody>\n",
              "    <tr>\n",
              "      <th>0</th>\n",
              "      <td>USB-C Charging Cable</td>\n",
              "      <td>04/19/19 08:46</td>\n",
              "    </tr>\n",
              "    <tr>\n",
              "      <th>289</th>\n",
              "      <td>Apple Airpods Headphones</td>\n",
              "      <td>04/19/19 20:21</td>\n",
              "    </tr>\n",
              "  </tbody>\n",
              "</table>\n",
              "</div>"
            ],
            "text/plain": [
              "                      Product      Order Date\n",
              "0        USB-C Charging Cable  04/19/19 08:46\n",
              "289  Apple Airpods Headphones  04/19/19 20:21"
            ]
          },
          "metadata": {
            "tags": []
          },
          "execution_count": 59
        }
      ]
    },
    {
      "cell_type": "code",
      "metadata": {
        "id": "RpZeuiS9pmcj",
        "colab": {
          "base_uri": "https://localhost:8080/",
          "height": 36
        },
        "outputId": "8eb3e0ac-defe-40cb-8132-edf777d86832"
      },
      "source": [
        "shopping_df.iloc[289, 1]"
      ],
      "execution_count": 52,
      "outputs": [
        {
          "output_type": "execute_result",
          "data": {
            "application/vnd.google.colaboratory.intrinsic+json": {
              "type": "string"
            },
            "text/plain": [
              "'Apple Airpods Headphones'"
            ]
          },
          "metadata": {
            "tags": []
          },
          "execution_count": 52
        }
      ]
    },
    {
      "cell_type": "markdown",
      "metadata": {
        "id": "pxKV40oWJCn1"
      },
      "source": [
        "### df.loc\n",
        "\n",
        "**Accessing by label / name**\n",
        "\n",
        "* `df.loc()`\n",
        "\n",
        "  * Access a group of rows and columns by label(s) or a boolean array\n",
        "  * Allowed inputs are:\n",
        "    * single label\n",
        "    * list or array of labels\n",
        "    * slice object with labels (**both start and stop are included**)\n",
        "    * boolean array of the same length as the axis being sliced"
      ]
    },
    {
      "cell_type": "code",
      "metadata": {
        "id": "ieiN-S01mTkO",
        "colab": {
          "base_uri": "https://localhost:8080/"
        },
        "outputId": "c45fdfa8-6a50-46b2-e4ad-888439c2d4f4"
      },
      "source": [
        "shopping_df.loc[980]"
      ],
      "execution_count": 53,
      "outputs": [
        {
          "output_type": "execute_result",
          "data": {
            "text/plain": [
              "Order ID                                     177494\n",
              "Product                       AA Batteries (4-pack)\n",
              "Quantity Ordered                                  1\n",
              "Price Each                                     3.84\n",
              "Order Date                           04/22/19 05:37\n",
              "Purchase Address    480 North St, Seattle, WA 98101\n",
              "Name: 980, dtype: object"
            ]
          },
          "metadata": {
            "tags": []
          },
          "execution_count": 53
        }
      ]
    },
    {
      "cell_type": "code",
      "metadata": {
        "id": "-6ZE7YlsDt_y",
        "colab": {
          "base_uri": "https://localhost:8080/",
          "height": 112
        },
        "outputId": "634640db-c5b9-4948-8ad7-b83eb7fe0cb7"
      },
      "source": [
        "shopping_df.loc[[980, 456]]"
      ],
      "execution_count": 54,
      "outputs": [
        {
          "output_type": "execute_result",
          "data": {
            "text/html": [
              "<div>\n",
              "<style scoped>\n",
              "    .dataframe tbody tr th:only-of-type {\n",
              "        vertical-align: middle;\n",
              "    }\n",
              "\n",
              "    .dataframe tbody tr th {\n",
              "        vertical-align: top;\n",
              "    }\n",
              "\n",
              "    .dataframe thead th {\n",
              "        text-align: right;\n",
              "    }\n",
              "</style>\n",
              "<table border=\"1\" class=\"dataframe\">\n",
              "  <thead>\n",
              "    <tr style=\"text-align: right;\">\n",
              "      <th></th>\n",
              "      <th>Order ID</th>\n",
              "      <th>Product</th>\n",
              "      <th>Quantity Ordered</th>\n",
              "      <th>Price Each</th>\n",
              "      <th>Order Date</th>\n",
              "      <th>Purchase Address</th>\n",
              "    </tr>\n",
              "  </thead>\n",
              "  <tbody>\n",
              "    <tr>\n",
              "      <th>980</th>\n",
              "      <td>177494</td>\n",
              "      <td>AA Batteries (4-pack)</td>\n",
              "      <td>1</td>\n",
              "      <td>3.84</td>\n",
              "      <td>04/22/19 05:37</td>\n",
              "      <td>480 North St, Seattle, WA 98101</td>\n",
              "    </tr>\n",
              "    <tr>\n",
              "      <th>456</th>\n",
              "      <td>176995</td>\n",
              "      <td>AA Batteries (4-pack)</td>\n",
              "      <td>2</td>\n",
              "      <td>3.84</td>\n",
              "      <td>04/20/19 23:12</td>\n",
              "      <td>964 8th St, San Francisco, CA 94016</td>\n",
              "    </tr>\n",
              "  </tbody>\n",
              "</table>\n",
              "</div>"
            ],
            "text/plain": [
              "     Order ID  ...                     Purchase Address\n",
              "980    177494  ...      480 North St, Seattle, WA 98101\n",
              "456    176995  ...  964 8th St, San Francisco, CA 94016\n",
              "\n",
              "[2 rows x 6 columns]"
            ]
          },
          "metadata": {
            "tags": []
          },
          "execution_count": 54
        }
      ]
    },
    {
      "cell_type": "code",
      "metadata": {
        "id": "XehvgpPfUNke",
        "colab": {
          "base_uri": "https://localhost:8080/",
          "height": 112
        },
        "outputId": "0aa3f70f-545c-4771-b565-8f982f137fc7"
      },
      "source": [
        "shopping_df.loc[[980, 456], ['Product', 'Order Date']]"
      ],
      "execution_count": 55,
      "outputs": [
        {
          "output_type": "execute_result",
          "data": {
            "text/html": [
              "<div>\n",
              "<style scoped>\n",
              "    .dataframe tbody tr th:only-of-type {\n",
              "        vertical-align: middle;\n",
              "    }\n",
              "\n",
              "    .dataframe tbody tr th {\n",
              "        vertical-align: top;\n",
              "    }\n",
              "\n",
              "    .dataframe thead th {\n",
              "        text-align: right;\n",
              "    }\n",
              "</style>\n",
              "<table border=\"1\" class=\"dataframe\">\n",
              "  <thead>\n",
              "    <tr style=\"text-align: right;\">\n",
              "      <th></th>\n",
              "      <th>Product</th>\n",
              "      <th>Order Date</th>\n",
              "    </tr>\n",
              "  </thead>\n",
              "  <tbody>\n",
              "    <tr>\n",
              "      <th>980</th>\n",
              "      <td>AA Batteries (4-pack)</td>\n",
              "      <td>04/22/19 05:37</td>\n",
              "    </tr>\n",
              "    <tr>\n",
              "      <th>456</th>\n",
              "      <td>AA Batteries (4-pack)</td>\n",
              "      <td>04/20/19 23:12</td>\n",
              "    </tr>\n",
              "  </tbody>\n",
              "</table>\n",
              "</div>"
            ],
            "text/plain": [
              "                   Product      Order Date\n",
              "980  AA Batteries (4-pack)  04/22/19 05:37\n",
              "456  AA Batteries (4-pack)  04/20/19 23:12"
            ]
          },
          "metadata": {
            "tags": []
          },
          "execution_count": 55
        }
      ]
    },
    {
      "cell_type": "code",
      "metadata": {
        "id": "Zfz82eQoqKJY",
        "colab": {
          "base_uri": "https://localhost:8080/",
          "height": 36
        },
        "outputId": "42ef6cad-aee3-4eac-d952-90df570530bf"
      },
      "source": [
        "shopping_df.loc[45, 'Product']"
      ],
      "execution_count": 56,
      "outputs": [
        {
          "output_type": "execute_result",
          "data": {
            "application/vnd.google.colaboratory.intrinsic+json": {
              "type": "string"
            },
            "text/plain": [
              "'Lightning Charging Cable'"
            ]
          },
          "metadata": {
            "tags": []
          },
          "execution_count": 56
        }
      ]
    },
    {
      "cell_type": "code",
      "metadata": {
        "id": "GtWuBXhnqwnR",
        "colab": {
          "base_uri": "https://localhost:8080/",
          "height": 143
        },
        "outputId": "f6f25332-003e-497d-ef56-d0b838795843"
      },
      "source": [
        "shopping_df[0:3]"
      ],
      "execution_count": 60,
      "outputs": [
        {
          "output_type": "execute_result",
          "data": {
            "text/html": [
              "<div>\n",
              "<style scoped>\n",
              "    .dataframe tbody tr th:only-of-type {\n",
              "        vertical-align: middle;\n",
              "    }\n",
              "\n",
              "    .dataframe tbody tr th {\n",
              "        vertical-align: top;\n",
              "    }\n",
              "\n",
              "    .dataframe thead th {\n",
              "        text-align: right;\n",
              "    }\n",
              "</style>\n",
              "<table border=\"1\" class=\"dataframe\">\n",
              "  <thead>\n",
              "    <tr style=\"text-align: right;\">\n",
              "      <th></th>\n",
              "      <th>Order ID</th>\n",
              "      <th>Product</th>\n",
              "      <th>Quantity Ordered</th>\n",
              "      <th>Price Each</th>\n",
              "      <th>Order Date</th>\n",
              "      <th>Purchase Address</th>\n",
              "    </tr>\n",
              "  </thead>\n",
              "  <tbody>\n",
              "    <tr>\n",
              "      <th>0</th>\n",
              "      <td>176558</td>\n",
              "      <td>USB-C Charging Cable</td>\n",
              "      <td>2</td>\n",
              "      <td>11.95</td>\n",
              "      <td>04/19/19 08:46</td>\n",
              "      <td>917 1st St, Dallas, TX 75001</td>\n",
              "    </tr>\n",
              "    <tr>\n",
              "      <th>1</th>\n",
              "      <td>176559</td>\n",
              "      <td>Bose SoundSport Headphones</td>\n",
              "      <td>1</td>\n",
              "      <td>99.99</td>\n",
              "      <td>04/07/19 22:30</td>\n",
              "      <td>682 Chestnut St, Boston, MA 02215</td>\n",
              "    </tr>\n",
              "    <tr>\n",
              "      <th>2</th>\n",
              "      <td>176560</td>\n",
              "      <td>Google Phone</td>\n",
              "      <td>1</td>\n",
              "      <td>600.00</td>\n",
              "      <td>04/12/19 14:38</td>\n",
              "      <td>669 Spruce St, Los Angeles, CA 90001</td>\n",
              "    </tr>\n",
              "  </tbody>\n",
              "</table>\n",
              "</div>"
            ],
            "text/plain": [
              "   Order ID  ...                      Purchase Address\n",
              "0    176558  ...          917 1st St, Dallas, TX 75001\n",
              "1    176559  ...     682 Chestnut St, Boston, MA 02215\n",
              "2    176560  ...  669 Spruce St, Los Angeles, CA 90001\n",
              "\n",
              "[3 rows x 6 columns]"
            ]
          },
          "metadata": {
            "tags": []
          },
          "execution_count": 60
        }
      ]
    },
    {
      "cell_type": "markdown",
      "metadata": {
        "id": "XPXjuJwCAX02"
      },
      "source": [
        "### df.at\n",
        "* `df.at()`\n",
        "  * Access a single value for a row/column label pair.\n",
        "  * Can also set/update a value at a specified row/column pair\n",
        "  * Use `at` only if you need to get or set a single value in a DataFrame or Series.\n"
      ]
    },
    {
      "cell_type": "code",
      "metadata": {
        "id": "UWuEygxWtgBv",
        "colab": {
          "base_uri": "https://localhost:8080/",
          "height": 36
        },
        "outputId": "44654a99-88a1-403d-a3e1-0c98867f5042"
      },
      "source": [
        "shopping_df.at[50000, 'Product']"
      ],
      "execution_count": 64,
      "outputs": [
        {
          "output_type": "execute_result",
          "data": {
            "application/vnd.google.colaboratory.intrinsic+json": {
              "type": "string"
            },
            "text/plain": [
              "'AA Batteries (4-pack)'"
            ]
          },
          "metadata": {
            "tags": []
          },
          "execution_count": 64
        }
      ]
    },
    {
      "cell_type": "code",
      "metadata": {
        "id": "eHqVJygMy-tz"
      },
      "source": [
        "df_copy = shopping_df.copy()"
      ],
      "execution_count": 65,
      "outputs": []
    },
    {
      "cell_type": "code",
      "metadata": {
        "id": "ARzJ2xhvtnVX",
        "colab": {
          "base_uri": "https://localhost:8080/"
        },
        "outputId": "9b3d7627-c388-42c4-f431-ff223fb5ff07"
      },
      "source": [
        "print(df_copy.at[50000, 'Product'])\n",
        "df_copy.at[50000, 'Product'] = \"Micro USB Cable\"\n",
        "print(df_copy.at[50000, 'Product'], \"\\n\")\n",
        "\n",
        "print(shopping_df.at[50000, 'Product'])"
      ],
      "execution_count": 66,
      "outputs": [
        {
          "output_type": "stream",
          "text": [
            "AA Batteries (4-pack)\n",
            "Micro USB Cable \n",
            "\n",
            "AA Batteries (4-pack)\n"
          ],
          "name": "stdout"
        }
      ]
    },
    {
      "cell_type": "markdown",
      "metadata": {
        "id": "_O80Dd2ml6-B"
      },
      "source": [
        "## Slicing\n"
      ]
    },
    {
      "cell_type": "code",
      "metadata": {
        "id": "Mcl8lF-mqDew",
        "colab": {
          "base_uri": "https://localhost:8080/",
          "height": 143
        },
        "outputId": "3cb80af2-e130-4326-9b3e-55d3099d0cb9"
      },
      "source": [
        "shopping_df[0:3]"
      ],
      "execution_count": 67,
      "outputs": [
        {
          "output_type": "execute_result",
          "data": {
            "text/html": [
              "<div>\n",
              "<style scoped>\n",
              "    .dataframe tbody tr th:only-of-type {\n",
              "        vertical-align: middle;\n",
              "    }\n",
              "\n",
              "    .dataframe tbody tr th {\n",
              "        vertical-align: top;\n",
              "    }\n",
              "\n",
              "    .dataframe thead th {\n",
              "        text-align: right;\n",
              "    }\n",
              "</style>\n",
              "<table border=\"1\" class=\"dataframe\">\n",
              "  <thead>\n",
              "    <tr style=\"text-align: right;\">\n",
              "      <th></th>\n",
              "      <th>Order ID</th>\n",
              "      <th>Product</th>\n",
              "      <th>Quantity Ordered</th>\n",
              "      <th>Price Each</th>\n",
              "      <th>Order Date</th>\n",
              "      <th>Purchase Address</th>\n",
              "    </tr>\n",
              "  </thead>\n",
              "  <tbody>\n",
              "    <tr>\n",
              "      <th>0</th>\n",
              "      <td>176558</td>\n",
              "      <td>USB-C Charging Cable</td>\n",
              "      <td>2</td>\n",
              "      <td>11.95</td>\n",
              "      <td>04/19/19 08:46</td>\n",
              "      <td>917 1st St, Dallas, TX 75001</td>\n",
              "    </tr>\n",
              "    <tr>\n",
              "      <th>1</th>\n",
              "      <td>176559</td>\n",
              "      <td>Bose SoundSport Headphones</td>\n",
              "      <td>1</td>\n",
              "      <td>99.99</td>\n",
              "      <td>04/07/19 22:30</td>\n",
              "      <td>682 Chestnut St, Boston, MA 02215</td>\n",
              "    </tr>\n",
              "    <tr>\n",
              "      <th>2</th>\n",
              "      <td>176560</td>\n",
              "      <td>Google Phone</td>\n",
              "      <td>1</td>\n",
              "      <td>600.00</td>\n",
              "      <td>04/12/19 14:38</td>\n",
              "      <td>669 Spruce St, Los Angeles, CA 90001</td>\n",
              "    </tr>\n",
              "  </tbody>\n",
              "</table>\n",
              "</div>"
            ],
            "text/plain": [
              "   Order ID  ...                      Purchase Address\n",
              "0    176558  ...          917 1st St, Dallas, TX 75001\n",
              "1    176559  ...     682 Chestnut St, Boston, MA 02215\n",
              "2    176560  ...  669 Spruce St, Los Angeles, CA 90001\n",
              "\n",
              "[3 rows x 6 columns]"
            ]
          },
          "metadata": {
            "tags": []
          },
          "execution_count": 67
        }
      ]
    },
    {
      "cell_type": "markdown",
      "metadata": {
        "id": "KLhZpS71mMS1"
      },
      "source": [
        "When slicing using **loc** the start and stop indices are **included**."
      ]
    },
    {
      "cell_type": "code",
      "metadata": {
        "id": "OMlvIPcGrOVo",
        "colab": {
          "base_uri": "https://localhost:8080/",
          "height": 143
        },
        "outputId": "69df4508-4dee-49e0-8de7-f562c946f904"
      },
      "source": [
        "shopping_df.loc[7:9]"
      ],
      "execution_count": 68,
      "outputs": [
        {
          "output_type": "execute_result",
          "data": {
            "text/html": [
              "<div>\n",
              "<style scoped>\n",
              "    .dataframe tbody tr th:only-of-type {\n",
              "        vertical-align: middle;\n",
              "    }\n",
              "\n",
              "    .dataframe tbody tr th {\n",
              "        vertical-align: top;\n",
              "    }\n",
              "\n",
              "    .dataframe thead th {\n",
              "        text-align: right;\n",
              "    }\n",
              "</style>\n",
              "<table border=\"1\" class=\"dataframe\">\n",
              "  <thead>\n",
              "    <tr style=\"text-align: right;\">\n",
              "      <th></th>\n",
              "      <th>Order ID</th>\n",
              "      <th>Product</th>\n",
              "      <th>Quantity Ordered</th>\n",
              "      <th>Price Each</th>\n",
              "      <th>Order Date</th>\n",
              "      <th>Purchase Address</th>\n",
              "    </tr>\n",
              "  </thead>\n",
              "  <tbody>\n",
              "    <tr>\n",
              "      <th>7</th>\n",
              "      <td>176564</td>\n",
              "      <td>USB-C Charging Cable</td>\n",
              "      <td>1</td>\n",
              "      <td>11.95</td>\n",
              "      <td>04/12/19 10:58</td>\n",
              "      <td>790 Ridge St, Atlanta, GA 30301</td>\n",
              "    </tr>\n",
              "    <tr>\n",
              "      <th>8</th>\n",
              "      <td>176565</td>\n",
              "      <td>Macbook Pro Laptop</td>\n",
              "      <td>1</td>\n",
              "      <td>1700.00</td>\n",
              "      <td>04/24/19 10:38</td>\n",
              "      <td>915 Willow St, San Francisco, CA 94016</td>\n",
              "    </tr>\n",
              "    <tr>\n",
              "      <th>9</th>\n",
              "      <td>176566</td>\n",
              "      <td>Wired Headphones</td>\n",
              "      <td>1</td>\n",
              "      <td>11.99</td>\n",
              "      <td>04/08/19 14:05</td>\n",
              "      <td>83 7th St, Boston, MA 02215</td>\n",
              "    </tr>\n",
              "  </tbody>\n",
              "</table>\n",
              "</div>"
            ],
            "text/plain": [
              "   Order ID  ...                        Purchase Address\n",
              "7    176564  ...         790 Ridge St, Atlanta, GA 30301\n",
              "8    176565  ...  915 Willow St, San Francisco, CA 94016\n",
              "9    176566  ...             83 7th St, Boston, MA 02215\n",
              "\n",
              "[3 rows x 6 columns]"
            ]
          },
          "metadata": {
            "tags": []
          },
          "execution_count": 68
        }
      ]
    },
    {
      "cell_type": "code",
      "metadata": {
        "id": "mDOAivlRqgHw",
        "colab": {
          "base_uri": "https://localhost:8080/"
        },
        "outputId": "9382f5ac-fa56-46aa-cd5d-f909bfd0ea66"
      },
      "source": [
        "shopping_df.loc[23:45, 'Product']"
      ],
      "execution_count": 69,
      "outputs": [
        {
          "output_type": "execute_result",
          "data": {
            "text/plain": [
              "23         AA Batteries (4-pack)\n",
              "24          USB-C Charging Cable\n",
              "25                        iPhone\n",
              "26    Bose SoundSport Headphones\n",
              "27        AAA Batteries (4-pack)\n",
              "28                 Flatscreen TV\n",
              "29    Bose SoundSport Headphones\n",
              "30    Bose SoundSport Headphones\n",
              "31        AAA Batteries (4-pack)\n",
              "32                  Google Phone\n",
              "33              27in FHD Monitor\n",
              "34                  20in Monitor\n",
              "35      Lightning Charging Cable\n",
              "36                  Google Phone\n",
              "37      Apple Airpods Headphones\n",
              "38          USB-C Charging Cable\n",
              "39      Lightning Charging Cable\n",
              "40              Wired Headphones\n",
              "41              Wired Headphones\n",
              "42      Apple Airpods Headphones\n",
              "43          USB-C Charging Cable\n",
              "44        AAA Batteries (4-pack)\n",
              "45      Lightning Charging Cable\n",
              "Name: Product, dtype: object"
            ]
          },
          "metadata": {
            "tags": []
          },
          "execution_count": 69
        }
      ]
    },
    {
      "cell_type": "code",
      "metadata": {
        "id": "Xgm_oy4uSyAX",
        "colab": {
          "base_uri": "https://localhost:8080/",
          "height": 394
        },
        "outputId": "99db1af2-004f-4b80-9c2f-1dcd8f9c17bc"
      },
      "source": [
        "shopping_df.loc[10:20, 'Product':'Order Date']"
      ],
      "execution_count": 70,
      "outputs": [
        {
          "output_type": "execute_result",
          "data": {
            "text/html": [
              "<div>\n",
              "<style scoped>\n",
              "    .dataframe tbody tr th:only-of-type {\n",
              "        vertical-align: middle;\n",
              "    }\n",
              "\n",
              "    .dataframe tbody tr th {\n",
              "        vertical-align: top;\n",
              "    }\n",
              "\n",
              "    .dataframe thead th {\n",
              "        text-align: right;\n",
              "    }\n",
              "</style>\n",
              "<table border=\"1\" class=\"dataframe\">\n",
              "  <thead>\n",
              "    <tr style=\"text-align: right;\">\n",
              "      <th></th>\n",
              "      <th>Product</th>\n",
              "      <th>Quantity Ordered</th>\n",
              "      <th>Price Each</th>\n",
              "      <th>Order Date</th>\n",
              "    </tr>\n",
              "  </thead>\n",
              "  <tbody>\n",
              "    <tr>\n",
              "      <th>10</th>\n",
              "      <td>Google Phone</td>\n",
              "      <td>1</td>\n",
              "      <td>600.00</td>\n",
              "      <td>04/18/19 17:18</td>\n",
              "    </tr>\n",
              "    <tr>\n",
              "      <th>11</th>\n",
              "      <td>Lightning Charging Cable</td>\n",
              "      <td>1</td>\n",
              "      <td>14.95</td>\n",
              "      <td>04/15/19 12:18</td>\n",
              "    </tr>\n",
              "    <tr>\n",
              "      <th>12</th>\n",
              "      <td>27in 4K Gaming Monitor</td>\n",
              "      <td>1</td>\n",
              "      <td>389.99</td>\n",
              "      <td>04/16/19 19:23</td>\n",
              "    </tr>\n",
              "    <tr>\n",
              "      <th>13</th>\n",
              "      <td>AA Batteries (4-pack)</td>\n",
              "      <td>1</td>\n",
              "      <td>3.84</td>\n",
              "      <td>04/22/19 15:09</td>\n",
              "    </tr>\n",
              "    <tr>\n",
              "      <th>14</th>\n",
              "      <td>Lightning Charging Cable</td>\n",
              "      <td>1</td>\n",
              "      <td>14.95</td>\n",
              "      <td>04/19/19 14:29</td>\n",
              "    </tr>\n",
              "    <tr>\n",
              "      <th>15</th>\n",
              "      <td>Apple Airpods Headphones</td>\n",
              "      <td>1</td>\n",
              "      <td>150.00</td>\n",
              "      <td>04/04/19 20:30</td>\n",
              "    </tr>\n",
              "    <tr>\n",
              "      <th>16</th>\n",
              "      <td>USB-C Charging Cable</td>\n",
              "      <td>1</td>\n",
              "      <td>11.95</td>\n",
              "      <td>04/27/19 18:41</td>\n",
              "    </tr>\n",
              "    <tr>\n",
              "      <th>17</th>\n",
              "      <td>Google Phone</td>\n",
              "      <td>1</td>\n",
              "      <td>600.00</td>\n",
              "      <td>04/03/19 19:42</td>\n",
              "    </tr>\n",
              "    <tr>\n",
              "      <th>18</th>\n",
              "      <td>USB-C Charging Cable</td>\n",
              "      <td>1</td>\n",
              "      <td>11.95</td>\n",
              "      <td>04/03/19 19:42</td>\n",
              "    </tr>\n",
              "    <tr>\n",
              "      <th>19</th>\n",
              "      <td>AAA Batteries (4-pack)</td>\n",
              "      <td>1</td>\n",
              "      <td>2.99</td>\n",
              "      <td>04/27/19 00:30</td>\n",
              "    </tr>\n",
              "    <tr>\n",
              "      <th>20</th>\n",
              "      <td>Apple Airpods Headphones</td>\n",
              "      <td>1</td>\n",
              "      <td>150.00</td>\n",
              "      <td>04/28/19 11:42</td>\n",
              "    </tr>\n",
              "  </tbody>\n",
              "</table>\n",
              "</div>"
            ],
            "text/plain": [
              "                     Product  Quantity Ordered  Price Each      Order Date\n",
              "10              Google Phone                 1      600.00  04/18/19 17:18\n",
              "11  Lightning Charging Cable                 1       14.95  04/15/19 12:18\n",
              "12    27in 4K Gaming Monitor                 1      389.99  04/16/19 19:23\n",
              "13     AA Batteries (4-pack)                 1        3.84  04/22/19 15:09\n",
              "14  Lightning Charging Cable                 1       14.95  04/19/19 14:29\n",
              "15  Apple Airpods Headphones                 1      150.00  04/04/19 20:30\n",
              "16      USB-C Charging Cable                 1       11.95  04/27/19 18:41\n",
              "17              Google Phone                 1      600.00  04/03/19 19:42\n",
              "18      USB-C Charging Cable                 1       11.95  04/03/19 19:42\n",
              "19    AAA Batteries (4-pack)                 1        2.99  04/27/19 00:30\n",
              "20  Apple Airpods Headphones                 1      150.00  04/28/19 11:42"
            ]
          },
          "metadata": {
            "tags": []
          },
          "execution_count": 70
        }
      ]
    },
    {
      "cell_type": "markdown",
      "metadata": {
        "id": "GBsCc9bMmVWB"
      },
      "source": [
        "When slicing using **iloc** the stop index is **excluded**."
      ]
    },
    {
      "cell_type": "code",
      "metadata": {
        "id": "6etlpzhitIVS",
        "colab": {
          "base_uri": "https://localhost:8080/",
          "height": 81
        },
        "outputId": "5c27e0d8-6a3c-427a-a93e-dcbdaf37ad37"
      },
      "source": [
        "shopping_df.iloc[1:2, 0:3]"
      ],
      "execution_count": 71,
      "outputs": [
        {
          "output_type": "execute_result",
          "data": {
            "text/html": [
              "<div>\n",
              "<style scoped>\n",
              "    .dataframe tbody tr th:only-of-type {\n",
              "        vertical-align: middle;\n",
              "    }\n",
              "\n",
              "    .dataframe tbody tr th {\n",
              "        vertical-align: top;\n",
              "    }\n",
              "\n",
              "    .dataframe thead th {\n",
              "        text-align: right;\n",
              "    }\n",
              "</style>\n",
              "<table border=\"1\" class=\"dataframe\">\n",
              "  <thead>\n",
              "    <tr style=\"text-align: right;\">\n",
              "      <th></th>\n",
              "      <th>Order ID</th>\n",
              "      <th>Product</th>\n",
              "      <th>Quantity Ordered</th>\n",
              "    </tr>\n",
              "  </thead>\n",
              "  <tbody>\n",
              "    <tr>\n",
              "      <th>1</th>\n",
              "      <td>176559</td>\n",
              "      <td>Bose SoundSport Headphones</td>\n",
              "      <td>1</td>\n",
              "    </tr>\n",
              "  </tbody>\n",
              "</table>\n",
              "</div>"
            ],
            "text/plain": [
              "   Order ID                     Product  Quantity Ordered\n",
              "1    176559  Bose SoundSport Headphones                 1"
            ]
          },
          "metadata": {
            "tags": []
          },
          "execution_count": 71
        }
      ]
    },
    {
      "cell_type": "code",
      "metadata": {
        "id": "ozCV0hLEU4fG",
        "colab": {
          "base_uri": "https://localhost:8080/"
        },
        "outputId": "87052f9b-7bf0-451f-b588-7a948879bf09"
      },
      "source": [
        "shopping_df.iloc[1, 0:3]"
      ],
      "execution_count": 72,
      "outputs": [
        {
          "output_type": "execute_result",
          "data": {
            "text/plain": [
              "Order ID                                176559\n",
              "Product             Bose SoundSport Headphones\n",
              "Quantity Ordered                             1\n",
              "Name: 1, dtype: object"
            ]
          },
          "metadata": {
            "tags": []
          },
          "execution_count": 72
        }
      ]
    },
    {
      "cell_type": "markdown",
      "metadata": {
        "id": "FtK-wZKNyZhA"
      },
      "source": [
        "# Try It Yourself\n"
      ]
    },
    {
      "cell_type": "markdown",
      "metadata": {
        "id": "2SA4Z5daycLG"
      },
      "source": [
        "For the following questions, use the **film** dataset. \n",
        "0. Load the dataset into a dataframe using `read_csv`\n",
        "1. Get the shape of the dataset.\n",
        "2. Get the names of the first 6 films. \n",
        "3. Generate descriptive statistics for the dataset, including all datatypes.\n",
        "4. Change the 'Popularity' at the third index to 70.\n",
        "5. Get the data in the first two columns for the last five rows in the dataset."
      ]
    },
    {
      "cell_type": "code",
      "metadata": {
        "id": "59iVEgm_Nnie"
      },
      "source": [
        "films_df = pd.read_csv('film.csv')"
      ],
      "execution_count": 89,
      "outputs": []
    },
    {
      "cell_type": "code",
      "metadata": {
        "colab": {
          "base_uri": "https://localhost:8080/"
        },
        "id": "67Bf_Be-Nu4f",
        "outputId": "fccca7e3-9d38-4b1d-d274-f8380b2c855c"
      },
      "source": [
        "films_df.shape"
      ],
      "execution_count": 90,
      "outputs": [
        {
          "output_type": "execute_result",
          "data": {
            "text/plain": [
              "(1128, 9)"
            ]
          },
          "metadata": {
            "tags": []
          },
          "execution_count": 90
        }
      ]
    },
    {
      "cell_type": "code",
      "metadata": {
        "colab": {
          "base_uri": "https://localhost:8080/",
          "height": 206
        },
        "id": "qulP8MaIObfr",
        "outputId": "91653c11-9a55-48b6-b715-a124e0ff9d24"
      },
      "source": [
        "films_df.head()"
      ],
      "execution_count": 91,
      "outputs": [
        {
          "output_type": "execute_result",
          "data": {
            "text/html": [
              "<div>\n",
              "<style scoped>\n",
              "    .dataframe tbody tr th:only-of-type {\n",
              "        vertical-align: middle;\n",
              "    }\n",
              "\n",
              "    .dataframe tbody tr th {\n",
              "        vertical-align: top;\n",
              "    }\n",
              "\n",
              "    .dataframe thead th {\n",
              "        text-align: right;\n",
              "    }\n",
              "</style>\n",
              "<table border=\"1\" class=\"dataframe\">\n",
              "  <thead>\n",
              "    <tr style=\"text-align: right;\">\n",
              "      <th></th>\n",
              "      <th>Year</th>\n",
              "      <th>Length</th>\n",
              "      <th>Title</th>\n",
              "      <th>Subject</th>\n",
              "      <th>Actor</th>\n",
              "      <th>Actress</th>\n",
              "      <th>Director</th>\n",
              "      <th>Popularity</th>\n",
              "      <th>Awards</th>\n",
              "    </tr>\n",
              "  </thead>\n",
              "  <tbody>\n",
              "    <tr>\n",
              "      <th>0</th>\n",
              "      <td>1990</td>\n",
              "      <td>111</td>\n",
              "      <td>Tie Me Up! Tie Me Down!</td>\n",
              "      <td>Comedy</td>\n",
              "      <td>Banderas, Antonio</td>\n",
              "      <td>Abril, Victoria</td>\n",
              "      <td>Almodóvar, Pedro</td>\n",
              "      <td>68</td>\n",
              "      <td>No</td>\n",
              "    </tr>\n",
              "    <tr>\n",
              "      <th>1</th>\n",
              "      <td>1991</td>\n",
              "      <td>113</td>\n",
              "      <td>High Heels</td>\n",
              "      <td>Comedy</td>\n",
              "      <td>Bosé, Miguel</td>\n",
              "      <td>Abril, Victoria</td>\n",
              "      <td>Almodóvar, Pedro</td>\n",
              "      <td>68</td>\n",
              "      <td>No</td>\n",
              "    </tr>\n",
              "    <tr>\n",
              "      <th>2</th>\n",
              "      <td>1983</td>\n",
              "      <td>104</td>\n",
              "      <td>Dead Zone, The</td>\n",
              "      <td>Horror</td>\n",
              "      <td>Walken, Christopher</td>\n",
              "      <td>Adams, Brooke</td>\n",
              "      <td>Cronenberg, David</td>\n",
              "      <td>79</td>\n",
              "      <td>No</td>\n",
              "    </tr>\n",
              "    <tr>\n",
              "      <th>3</th>\n",
              "      <td>1979</td>\n",
              "      <td>122</td>\n",
              "      <td>Cuba</td>\n",
              "      <td>Action</td>\n",
              "      <td>Connery, Sean</td>\n",
              "      <td>Adams, Brooke</td>\n",
              "      <td>Lester, Richard</td>\n",
              "      <td>6</td>\n",
              "      <td>No</td>\n",
              "    </tr>\n",
              "    <tr>\n",
              "      <th>4</th>\n",
              "      <td>1978</td>\n",
              "      <td>94</td>\n",
              "      <td>Days of Heaven</td>\n",
              "      <td>Drama</td>\n",
              "      <td>Gere, Richard</td>\n",
              "      <td>Adams, Brooke</td>\n",
              "      <td>Malick, Terrence</td>\n",
              "      <td>14</td>\n",
              "      <td>No</td>\n",
              "    </tr>\n",
              "  </tbody>\n",
              "</table>\n",
              "</div>"
            ],
            "text/plain": [
              "   Year  Length                    Title  ...           Director Popularity Awards\n",
              "0  1990     111  Tie Me Up! Tie Me Down!  ...   Almodóvar, Pedro         68     No\n",
              "1  1991     113               High Heels  ...   Almodóvar, Pedro         68     No\n",
              "2  1983     104           Dead Zone, The  ...  Cronenberg, David         79     No\n",
              "3  1979     122                     Cuba  ...    Lester, Richard          6     No\n",
              "4  1978      94           Days of Heaven  ...   Malick, Terrence         14     No\n",
              "\n",
              "[5 rows x 9 columns]"
            ]
          },
          "metadata": {
            "tags": []
          },
          "execution_count": 91
        }
      ]
    },
    {
      "cell_type": "code",
      "metadata": {
        "colab": {
          "base_uri": "https://localhost:8080/"
        },
        "id": "qFASuqxRNzBV",
        "outputId": "0a076407-85d8-4be4-f59c-5ab09f468e5f"
      },
      "source": [
        "films_df.loc[0:6, 'Title']"
      ],
      "execution_count": 92,
      "outputs": [
        {
          "output_type": "execute_result",
          "data": {
            "text/plain": [
              "0    Tie Me Up! Tie Me Down!\n",
              "1                 High Heels\n",
              "2             Dead Zone, The\n",
              "3                       Cuba\n",
              "4             Days of Heaven\n",
              "5                  Octopussy\n",
              "6               Target Eagle\n",
              "Name: Title, dtype: object"
            ]
          },
          "metadata": {
            "tags": []
          },
          "execution_count": 92
        }
      ]
    },
    {
      "cell_type": "code",
      "metadata": {
        "colab": {
          "base_uri": "https://localhost:8080/",
          "height": 394
        },
        "id": "VCXOJldsN6ZE",
        "outputId": "d487d2a0-8b70-41d4-dcb5-fafd2e9cc4c9"
      },
      "source": [
        "films_df.describe(include='all')"
      ],
      "execution_count": 93,
      "outputs": [
        {
          "output_type": "execute_result",
          "data": {
            "text/html": [
              "<div>\n",
              "<style scoped>\n",
              "    .dataframe tbody tr th:only-of-type {\n",
              "        vertical-align: middle;\n",
              "    }\n",
              "\n",
              "    .dataframe tbody tr th {\n",
              "        vertical-align: top;\n",
              "    }\n",
              "\n",
              "    .dataframe thead th {\n",
              "        text-align: right;\n",
              "    }\n",
              "</style>\n",
              "<table border=\"1\" class=\"dataframe\">\n",
              "  <thead>\n",
              "    <tr style=\"text-align: right;\">\n",
              "      <th></th>\n",
              "      <th>Year</th>\n",
              "      <th>Length</th>\n",
              "      <th>Title</th>\n",
              "      <th>Subject</th>\n",
              "      <th>Actor</th>\n",
              "      <th>Actress</th>\n",
              "      <th>Director</th>\n",
              "      <th>Popularity</th>\n",
              "      <th>Awards</th>\n",
              "    </tr>\n",
              "  </thead>\n",
              "  <tbody>\n",
              "    <tr>\n",
              "      <th>count</th>\n",
              "      <td>1128.000000</td>\n",
              "      <td>1128.000000</td>\n",
              "      <td>1128</td>\n",
              "      <td>1128</td>\n",
              "      <td>1128</td>\n",
              "      <td>1128</td>\n",
              "      <td>1128</td>\n",
              "      <td>1128.000000</td>\n",
              "      <td>1128</td>\n",
              "    </tr>\n",
              "    <tr>\n",
              "      <th>unique</th>\n",
              "      <td>NaN</td>\n",
              "      <td>NaN</td>\n",
              "      <td>1127</td>\n",
              "      <td>15</td>\n",
              "      <td>591</td>\n",
              "      <td>652</td>\n",
              "      <td>643</td>\n",
              "      <td>NaN</td>\n",
              "      <td>2</td>\n",
              "    </tr>\n",
              "    <tr>\n",
              "      <th>top</th>\n",
              "      <td>NaN</td>\n",
              "      <td>NaN</td>\n",
              "      <td>Island of Dr. Moreau, The</td>\n",
              "      <td>Drama</td>\n",
              "      <td>Wayne, John</td>\n",
              "      <td>Bergman, Ingrid</td>\n",
              "      <td>Hitchcock, Alfred</td>\n",
              "      <td>NaN</td>\n",
              "      <td>No</td>\n",
              "    </tr>\n",
              "    <tr>\n",
              "      <th>freq</th>\n",
              "      <td>NaN</td>\n",
              "      <td>NaN</td>\n",
              "      <td>2</td>\n",
              "      <td>490</td>\n",
              "      <td>35</td>\n",
              "      <td>25</td>\n",
              "      <td>28</td>\n",
              "      <td>NaN</td>\n",
              "      <td>990</td>\n",
              "    </tr>\n",
              "    <tr>\n",
              "      <th>mean</th>\n",
              "      <td>1975.243794</td>\n",
              "      <td>108.290780</td>\n",
              "      <td>NaN</td>\n",
              "      <td>NaN</td>\n",
              "      <td>NaN</td>\n",
              "      <td>NaN</td>\n",
              "      <td>NaN</td>\n",
              "      <td>43.850177</td>\n",
              "      <td>NaN</td>\n",
              "    </tr>\n",
              "    <tr>\n",
              "      <th>std</th>\n",
              "      <td>16.615917</td>\n",
              "      <td>29.299461</td>\n",
              "      <td>NaN</td>\n",
              "      <td>NaN</td>\n",
              "      <td>NaN</td>\n",
              "      <td>NaN</td>\n",
              "      <td>NaN</td>\n",
              "      <td>26.912387</td>\n",
              "      <td>NaN</td>\n",
              "    </tr>\n",
              "    <tr>\n",
              "      <th>min</th>\n",
              "      <td>1924.000000</td>\n",
              "      <td>18.000000</td>\n",
              "      <td>NaN</td>\n",
              "      <td>NaN</td>\n",
              "      <td>NaN</td>\n",
              "      <td>NaN</td>\n",
              "      <td>NaN</td>\n",
              "      <td>0.000000</td>\n",
              "      <td>NaN</td>\n",
              "    </tr>\n",
              "    <tr>\n",
              "      <th>25%</th>\n",
              "      <td>1966.750000</td>\n",
              "      <td>94.000000</td>\n",
              "      <td>NaN</td>\n",
              "      <td>NaN</td>\n",
              "      <td>NaN</td>\n",
              "      <td>NaN</td>\n",
              "      <td>NaN</td>\n",
              "      <td>19.000000</td>\n",
              "      <td>NaN</td>\n",
              "    </tr>\n",
              "    <tr>\n",
              "      <th>50%</th>\n",
              "      <td>1982.000000</td>\n",
              "      <td>103.000000</td>\n",
              "      <td>NaN</td>\n",
              "      <td>NaN</td>\n",
              "      <td>NaN</td>\n",
              "      <td>NaN</td>\n",
              "      <td>NaN</td>\n",
              "      <td>44.500000</td>\n",
              "      <td>NaN</td>\n",
              "    </tr>\n",
              "    <tr>\n",
              "      <th>75%</th>\n",
              "      <td>1988.000000</td>\n",
              "      <td>117.000000</td>\n",
              "      <td>NaN</td>\n",
              "      <td>NaN</td>\n",
              "      <td>NaN</td>\n",
              "      <td>NaN</td>\n",
              "      <td>NaN</td>\n",
              "      <td>68.000000</td>\n",
              "      <td>NaN</td>\n",
              "    </tr>\n",
              "    <tr>\n",
              "      <th>max</th>\n",
              "      <td>1997.000000</td>\n",
              "      <td>450.000000</td>\n",
              "      <td>NaN</td>\n",
              "      <td>NaN</td>\n",
              "      <td>NaN</td>\n",
              "      <td>NaN</td>\n",
              "      <td>NaN</td>\n",
              "      <td>88.000000</td>\n",
              "      <td>NaN</td>\n",
              "    </tr>\n",
              "  </tbody>\n",
              "</table>\n",
              "</div>"
            ],
            "text/plain": [
              "               Year       Length  ...   Popularity Awards\n",
              "count   1128.000000  1128.000000  ...  1128.000000   1128\n",
              "unique          NaN          NaN  ...          NaN      2\n",
              "top             NaN          NaN  ...          NaN     No\n",
              "freq            NaN          NaN  ...          NaN    990\n",
              "mean    1975.243794   108.290780  ...    43.850177    NaN\n",
              "std       16.615917    29.299461  ...    26.912387    NaN\n",
              "min     1924.000000    18.000000  ...     0.000000    NaN\n",
              "25%     1966.750000    94.000000  ...    19.000000    NaN\n",
              "50%     1982.000000   103.000000  ...    44.500000    NaN\n",
              "75%     1988.000000   117.000000  ...    68.000000    NaN\n",
              "max     1997.000000   450.000000  ...    88.000000    NaN\n",
              "\n",
              "[11 rows x 9 columns]"
            ]
          },
          "metadata": {
            "tags": []
          },
          "execution_count": 93
        }
      ]
    },
    {
      "cell_type": "code",
      "metadata": {
        "colab": {
          "base_uri": "https://localhost:8080/"
        },
        "id": "fcIBbH71OMpx",
        "outputId": "16ddf9d7-7d60-418d-f4ad-74a59769459d"
      },
      "source": [
        "print(films_df.loc[3, 'Popularity'])\r\n",
        "films_df.loc[3, 'Popularity'] = 70\r\n",
        "print(films_df.loc[3, 'Popularity'])"
      ],
      "execution_count": 94,
      "outputs": [
        {
          "output_type": "stream",
          "text": [
            "6\n",
            "70\n"
          ],
          "name": "stdout"
        }
      ]
    },
    {
      "cell_type": "code",
      "metadata": {
        "colab": {
          "base_uri": "https://localhost:8080/",
          "height": 206
        },
        "id": "cKIsyKRpOmVL",
        "outputId": "a6e1ce62-818d-4e2a-858c-5b6988131996"
      },
      "source": [
        "films_df.iloc[-5:, 0:2]"
      ],
      "execution_count": 97,
      "outputs": [
        {
          "output_type": "execute_result",
          "data": {
            "text/html": [
              "<div>\n",
              "<style scoped>\n",
              "    .dataframe tbody tr th:only-of-type {\n",
              "        vertical-align: middle;\n",
              "    }\n",
              "\n",
              "    .dataframe tbody tr th {\n",
              "        vertical-align: top;\n",
              "    }\n",
              "\n",
              "    .dataframe thead th {\n",
              "        text-align: right;\n",
              "    }\n",
              "</style>\n",
              "<table border=\"1\" class=\"dataframe\">\n",
              "  <thead>\n",
              "    <tr style=\"text-align: right;\">\n",
              "      <th></th>\n",
              "      <th>Year</th>\n",
              "      <th>Length</th>\n",
              "    </tr>\n",
              "  </thead>\n",
              "  <tbody>\n",
              "    <tr>\n",
              "      <th>1123</th>\n",
              "      <td>1975</td>\n",
              "      <td>93</td>\n",
              "    </tr>\n",
              "    <tr>\n",
              "      <th>1124</th>\n",
              "      <td>1949</td>\n",
              "      <td>90</td>\n",
              "    </tr>\n",
              "    <tr>\n",
              "      <th>1125</th>\n",
              "      <td>1987</td>\n",
              "      <td>103</td>\n",
              "    </tr>\n",
              "    <tr>\n",
              "      <th>1126</th>\n",
              "      <td>1947</td>\n",
              "      <td>87</td>\n",
              "    </tr>\n",
              "    <tr>\n",
              "      <th>1127</th>\n",
              "      <td>1990</td>\n",
              "      <td>92</td>\n",
              "    </tr>\n",
              "  </tbody>\n",
              "</table>\n",
              "</div>"
            ],
            "text/plain": [
              "      Year  Length\n",
              "1123  1975      93\n",
              "1124  1949      90\n",
              "1125  1987     103\n",
              "1126  1947      87\n",
              "1127  1990      92"
            ]
          },
          "metadata": {
            "tags": []
          },
          "execution_count": 97
        }
      ]
    },
    {
      "cell_type": "code",
      "metadata": {
        "id": "WgabaqPYPOQu"
      },
      "source": [
        ""
      ],
      "execution_count": null,
      "outputs": []
    }
  ]
}