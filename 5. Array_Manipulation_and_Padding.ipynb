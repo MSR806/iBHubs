{
  "nbformat": 4,
  "nbformat_minor": 0,
  "metadata": {
    "colab": {
      "name": "Array Manipulation and Padding.ipynb",
      "provenance": [],
      "collapsed_sections": [],
      "include_colab_link": true
    },
    "kernelspec": {
      "name": "python3",
      "display_name": "Python 3"
    }
  },
  "cells": [
    {
      "cell_type": "markdown",
      "metadata": {
        "id": "view-in-github",
        "colab_type": "text"
      },
      "source": [
        "<a href=\"https://colab.research.google.com/github/MSR806/iBHubs_AI/blob/main/5.Array_Manipulation_and_Padding.ipynb\" target=\"_parent\"><img src=\"https://colab.research.google.com/assets/colab-badge.svg\" alt=\"Open In Colab\"/></a>"
      ]
    },
    {
      "cell_type": "code",
      "metadata": {
        "id": "qd-8WG4KbtPL"
      },
      "source": [
        "# importing numpy\n",
        "import numpy as np"
      ],
      "execution_count": 1,
      "outputs": []
    },
    {
      "cell_type": "markdown",
      "metadata": {
        "id": "pP6405TdktmW"
      },
      "source": [
        "## Broadcasting with different dimensions"
      ]
    },
    {
      "cell_type": "markdown",
      "metadata": {
        "id": "Y9xkGFXfk2OQ"
      },
      "source": [
        "* Two arrays do not need to have the same number of dimensions to do element-wise operations.\n",
        "* When the dimensions are not the same, to check the compatibility for broadcasting, start with the trailing dimensions and check the compatibility for each dimension moving towards the left.\n",
        "* If all the existing dimensions are compatible, then we can do element-wise operations with the two arrays.\n",
        "\n",
        "```\n",
        "a      (2d array):  3 x 2\n",
        "b      (1d array):      2\n",
        "a + b  (2d array):  3 x 2\n",
        "```"
      ]
    },
    {
      "cell_type": "code",
      "metadata": {
        "id": "7aDfHP_3mqKx",
        "outputId": "8ab7ab20-7ecd-434f-ffbc-e3d55021d7bc",
        "colab": {
          "base_uri": "https://localhost:8080/"
        }
      },
      "source": [
        "a = np.zeros([3,2])\n",
        "b = np.ones(2)\n",
        "(a + b).shape"
      ],
      "execution_count": 2,
      "outputs": [
        {
          "output_type": "execute_result",
          "data": {
            "text/plain": [
              "(3, 2)"
            ]
          },
          "metadata": {
            "tags": []
          },
          "execution_count": 2
        }
      ]
    },
    {
      "cell_type": "markdown",
      "metadata": {
        "id": "fC2nQzWlrzBV"
      },
      "source": [
        "```\n",
        "a      (4d array):  3 x 1 x 4 x 2\n",
        "b      (3d array):      3 x 4 x 2\n",
        "a + b  (4d array):  3 x 3 x 4 x 2\n",
        "```"
      ]
    },
    {
      "cell_type": "code",
      "metadata": {
        "id": "k9OY5pWLlxF0",
        "outputId": "3e377eb1-4472-4145-cd1c-acf0eee9a752",
        "colab": {
          "base_uri": "https://localhost:8080/"
        }
      },
      "source": [
        "a = np.zeros([3,1,4,2])\n",
        "b = np.ones([3,4,2])\n",
        "(a + b).shape"
      ],
      "execution_count": 3,
      "outputs": [
        {
          "output_type": "execute_result",
          "data": {
            "text/plain": [
              "(3, 3, 4, 2)"
            ]
          },
          "metadata": {
            "tags": []
          },
          "execution_count": 3
        }
      ]
    },
    {
      "cell_type": "markdown",
      "metadata": {
        "id": "CmW9amGOd13V"
      },
      "source": [
        "# Array Manipulations\n"
      ]
    },
    {
      "cell_type": "markdown",
      "metadata": {
        "id": "T3C9BOp519HU"
      },
      "source": [
        "## Changing the array shape"
      ]
    },
    {
      "cell_type": "markdown",
      "metadata": {
        "id": "Fsjl14keZ68b"
      },
      "source": [
        "### Reshaping"
      ]
    },
    {
      "cell_type": "markdown",
      "metadata": {
        "id": "qfq4D_P-Z87m"
      },
      "source": [
        "\n",
        "*   `np.reshape(arr, new_shape)`\n",
        "  * Returns a new array with the shape `new_shape`.\n",
        "  * The shape of the original array will not change.\n",
        "  * Might return a **view** of the original array."
      ]
    },
    {
      "cell_type": "code",
      "metadata": {
        "id": "gH1mP-rLaeGy",
        "outputId": "ca7b3d0d-e617-497c-fea0-9d0ae782aed7",
        "colab": {
          "base_uri": "https://localhost:8080/"
        }
      },
      "source": [
        "array_1d = np.array([1, 3, 5, 0, 2, 4, 9, 7, 3, 11, 5, 13])\n",
        "\n",
        "reshaped_array = np.reshape(array_1d, (3, 4))\n",
        "\n",
        "print(\"reshaped_array: \\n\", reshaped_array, \"\\n\")\n",
        "print(\"array_1d: \\n\", array_1d)"
      ],
      "execution_count": 4,
      "outputs": [
        {
          "output_type": "stream",
          "text": [
            "reshaped_array: \n",
            " [[ 1  3  5  0]\n",
            " [ 2  4  9  7]\n",
            " [ 3 11  5 13]] \n",
            "\n",
            "array_1d: \n",
            " [ 1  3  5  0  2  4  9  7  3 11  5 13]\n"
          ],
          "name": "stdout"
        }
      ]
    },
    {
      "cell_type": "markdown",
      "metadata": {
        "id": "fZMys3l60tyW"
      },
      "source": [
        "**`ndarray.reshape(newshape)`** is equivalent to **`np.reshape()`**"
      ]
    },
    {
      "cell_type": "code",
      "metadata": {
        "id": "pBPWO8j8w9z4",
        "outputId": "62a2a615-4fd9-43d9-8bfa-8d03c91717d2",
        "colab": {
          "base_uri": "https://localhost:8080/"
        }
      },
      "source": [
        "array_1d = np.array([1, 3, 5, 0, 2, 4, 9, 7, 3, 11, 5, 13])\n",
        "\n",
        "reshaped_array = array_1d.reshape((4, 3))\n",
        "\n",
        "print(\"reshaped_array: \\n\", reshaped_array, \"\\n\")\n",
        "print(\"array_1d: \\n\", array_1d)"
      ],
      "execution_count": 5,
      "outputs": [
        {
          "output_type": "stream",
          "text": [
            "reshaped_array: \n",
            " [[ 1  3  5]\n",
            " [ 0  2  4]\n",
            " [ 9  7  3]\n",
            " [11  5 13]] \n",
            "\n",
            "array_1d: \n",
            " [ 1  3  5  0  2  4  9  7  3 11  5 13]\n"
          ],
          "name": "stdout"
        }
      ]
    },
    {
      "cell_type": "markdown",
      "metadata": {
        "id": "DcQ7hI8-n2UX"
      },
      "source": [
        "**Using `-1` as a placeholder in the `reshape()` method**"
      ]
    },
    {
      "cell_type": "code",
      "metadata": {
        "id": "v6hejFJ7n1lP",
        "outputId": "41588248-68d6-4fcc-935d-ee9bb796063d",
        "colab": {
          "base_uri": "https://localhost:8080/"
        }
      },
      "source": [
        "array_1d = np.array([1, 3, 5, 0, 2, 4, 9, 7, 3, 11, 5, 13])\n",
        "\n",
        "reshaped_array = array_1d.reshape((4, -1))\n",
        "print(\"reshaped array with placeholder: \\n\", reshaped_array, \"\\n\")\n",
        "\n",
        "reshaped_array = array_1d.reshape((2, -1, 3))\n",
        "print(\"reshaped array with placeholder: \\n\", reshaped_array, \"\\n\")"
      ],
      "execution_count": 6,
      "outputs": [
        {
          "output_type": "stream",
          "text": [
            "reshaped array with placeholder: \n",
            " [[ 1  3  5]\n",
            " [ 0  2  4]\n",
            " [ 9  7  3]\n",
            " [11  5 13]] \n",
            "\n",
            "reshaped array with placeholder: \n",
            " [[[ 1  3  5]\n",
            "  [ 0  2  4]]\n",
            "\n",
            " [[ 9  7  3]\n",
            "  [11  5 13]]] \n",
            "\n"
          ],
          "name": "stdout"
        }
      ]
    },
    {
      "cell_type": "code",
      "metadata": {
        "id": "_xbN3NtD1Q_d",
        "outputId": "cf0f5dea-24c8-4369-c8b5-ecf87d5d6785",
        "colab": {
          "base_uri": "https://localhost:8080/"
        }
      },
      "source": [
        "array_2d = np.array([[1,3,5], \n",
        "                     [0,2,4]])\n",
        "\n",
        "print(\"reshaped to (3,2):\\n\", array_2d.reshape((3,2)))\n",
        "print(\"reshaped to 6:\\n\", array_2d.reshape(6), \"\\n\")"
      ],
      "execution_count": 7,
      "outputs": [
        {
          "output_type": "stream",
          "text": [
            "reshaped to (3,2):\n",
            " [[1 3]\n",
            " [5 0]\n",
            " [2 4]]\n",
            "reshaped to 6:\n",
            " [1 3 5 0 2 4] \n",
            "\n"
          ],
          "name": "stdout"
        }
      ]
    },
    {
      "cell_type": "markdown",
      "metadata": {
        "id": "JpMY_fob2KxX"
      },
      "source": [
        "### **`np.ravel(arr)`**\n",
        "\n",
        "*  Returns a contiguous flattened array (A 1D array, containing the elements of the input array).\n",
        "*  The shape of the original array will not change.\n",
        "*  Returns a **view** of the original array. \n"
      ]
    },
    {
      "cell_type": "code",
      "metadata": {
        "id": "NJPctzbw2ONC",
        "outputId": "75b60817-77fa-47e1-8ad3-ccf70f59f4eb",
        "colab": {
          "base_uri": "https://localhost:8080/"
        }
      },
      "source": [
        "array_2d = np.array([[1,3,5], \n",
        "                     [0,2,4]])\n",
        "\n",
        "raveled_array = np.ravel(array_2d)\n",
        "raveled_array[0] = -10\n",
        "\n",
        "print(\"raveled array: \\n\", raveled_array, \"\\n\")\n",
        "print(\"array_2d: \\n\", array_2d)"
      ],
      "execution_count": 8,
      "outputs": [
        {
          "output_type": "stream",
          "text": [
            "raveled array: \n",
            " [-10   3   5   0   2   4] \n",
            "\n",
            "array_2d: \n",
            " [[-10   3   5]\n",
            " [  0   2   4]]\n"
          ],
          "name": "stdout"
        }
      ]
    },
    {
      "cell_type": "markdown",
      "metadata": {
        "id": "4MsFWa8r5K04"
      },
      "source": [
        "**`np.ravel(arr)`** is equivalent to **`np.reshape(arr, -1)` and `arr.ravel()`**"
      ]
    },
    {
      "cell_type": "code",
      "metadata": {
        "id": "6SvVc7485F0Y",
        "outputId": "5bc8863e-695d-4458-9b40-548d2106eb92",
        "colab": {
          "base_uri": "https://localhost:8080/"
        }
      },
      "source": [
        "array_2d = np.array([[1,3,5], \n",
        "                     [0,2,4]])\n",
        "\n",
        "print(\"raveled array: \\n\", np.ravel(array_2d), \"\\n\")\n",
        "print(\"raveled array alternative: \\n\", array_2d.ravel(), \"\\n\")\n",
        "print(\"reshaped array: \\n\", np.reshape(array_2d, -1), \"\\n\")"
      ],
      "execution_count": 9,
      "outputs": [
        {
          "output_type": "stream",
          "text": [
            "raveled array: \n",
            " [1 3 5 0 2 4] \n",
            "\n",
            "raveled array alternative: \n",
            " [1 3 5 0 2 4] \n",
            "\n",
            "reshaped array: \n",
            " [1 3 5 0 2 4] \n",
            "\n"
          ],
          "name": "stdout"
        }
      ]
    },
    {
      "cell_type": "markdown",
      "metadata": {
        "id": "Wwp6euNB8Wyw"
      },
      "source": [
        "### **`ndarray.flatten()`**\n",
        "\n",
        "*  Returns a **copy** of the array flattened to one dimension. \n",
        "*  The shape of the original array will not change."
      ]
    },
    {
      "cell_type": "code",
      "metadata": {
        "id": "wbX-FpPy4rih",
        "outputId": "11f56d1d-a526-4d75-b4fa-f4d0da3f8a5f",
        "colab": {
          "base_uri": "https://localhost:8080/"
        }
      },
      "source": [
        "array_2d = np.array([[1,3,5], \n",
        "                     [0,2,4]])\n",
        "\n",
        "flattened_array = array_2d.flatten()\n",
        "\n",
        "flattened_array[0] = -10\n",
        "\n",
        "print(\"flattened array: \\n\", flattened_array, \"\\n\")\n",
        "print(\"array_2d: \\n\", array_2d)"
      ],
      "execution_count": 10,
      "outputs": [
        {
          "output_type": "stream",
          "text": [
            "flattened array: \n",
            " [-10   3   5   0   2   4] \n",
            "\n",
            "array_2d: \n",
            " [[1 3 5]\n",
            " [0 2 4]]\n"
          ],
          "name": "stdout"
        }
      ]
    },
    {
      "cell_type": "markdown",
      "metadata": {
        "id": "1DG6bdDyldIZ"
      },
      "source": [
        "### Using **`np.newaxis`**\n",
        "\n",
        "It is used to increase the dimension of an existing array by one.\n",
        "* **`nD`** array becomes **`(n+1)D`** array."
      ]
    },
    {
      "cell_type": "markdown",
      "metadata": {
        "id": "877-UTjRpTMA"
      },
      "source": [
        "It can be used to convert a 1D array to either a row vector or a column vector"
      ]
    },
    {
      "cell_type": "code",
      "metadata": {
        "id": "cM4fzySWlqGz",
        "outputId": "da9ab96e-5fb9-47e5-97df-43bd4c15dc79",
        "colab": {
          "base_uri": "https://localhost:8080/"
        }
      },
      "source": [
        "a = np.array([1, 3, 5])\n",
        "\n",
        "row_vector = a[np.newaxis, :]\n",
        "row_vector"
      ],
      "execution_count": 11,
      "outputs": [
        {
          "output_type": "execute_result",
          "data": {
            "text/plain": [
              "array([[1, 3, 5]])"
            ]
          },
          "metadata": {
            "tags": []
          },
          "execution_count": 11
        }
      ]
    },
    {
      "cell_type": "code",
      "metadata": {
        "id": "VU0aAPRueEHU",
        "outputId": "26324882-b9f9-4cad-d7d3-9468a8dad71f",
        "colab": {
          "base_uri": "https://localhost:8080/"
        }
      },
      "source": [
        "print(\"row vector alternative:\", a[np.newaxis])"
      ],
      "execution_count": 12,
      "outputs": [
        {
          "output_type": "stream",
          "text": [
            "row vector alternative: [[1 3 5]]\n"
          ],
          "name": "stdout"
        }
      ]
    },
    {
      "cell_type": "code",
      "metadata": {
        "id": "kO9IHEX9rdXD",
        "outputId": "c3e4cd29-74dc-4b1d-e5b1-7a51d66650c5",
        "colab": {
          "base_uri": "https://localhost:8080/"
        }
      },
      "source": [
        "print(\"shape of original array:        \", a.shape)\n",
        "print(\"shape of a[np.newaxis, :]\", row_vector.shape)"
      ],
      "execution_count": 13,
      "outputs": [
        {
          "output_type": "stream",
          "text": [
            "shape of original array:         (3,)\n",
            "shape of a[np.newaxis, :] (1, 3)\n"
          ],
          "name": "stdout"
        }
      ]
    },
    {
      "cell_type": "code",
      "metadata": {
        "id": "iSlPxBBMrOTw",
        "outputId": "e69a54cb-c009-4d6a-add2-26c16755bc8d",
        "colab": {
          "base_uri": "https://localhost:8080/"
        }
      },
      "source": [
        "a = np.array([1, 3, 5])\n",
        "\n",
        "column_vector = a[:, np.newaxis]\n",
        "column_vector"
      ],
      "execution_count": 14,
      "outputs": [
        {
          "output_type": "execute_result",
          "data": {
            "text/plain": [
              "array([[1],\n",
              "       [3],\n",
              "       [5]])"
            ]
          },
          "metadata": {
            "tags": []
          },
          "execution_count": 14
        }
      ]
    },
    {
      "cell_type": "code",
      "metadata": {
        "id": "EerKrUIWrkA3",
        "outputId": "0c3d7cfc-f3fa-4fdb-b241-13857afeb3e2",
        "colab": {
          "base_uri": "https://localhost:8080/"
        }
      },
      "source": [
        "print(\"shape of original array:  \", a.shape)\n",
        "print(\"shape of a[:, np.newaxis]:\", column_vector.shape)\n",
        "\n",
        "print(\"shape of a[:, np.newaxis, np.newaxis]:\", a[:, np.newaxis, np.newaxis].shape)\n",
        "print(\"shape of a[np.newaxis, :, np.newaxis]:\", a[np.newaxis, :, np.newaxis].shape)"
      ],
      "execution_count": 15,
      "outputs": [
        {
          "output_type": "stream",
          "text": [
            "shape of original array:   (3,)\n",
            "shape of a[:, np.newaxis]: (3, 1)\n",
            "shape of a[:, np.newaxis, np.newaxis]: (3, 1, 1)\n",
            "shape of a[np.newaxis, :, np.newaxis]: (1, 3, 1)\n"
          ],
          "name": "stdout"
        }
      ]
    },
    {
      "cell_type": "markdown",
      "metadata": {
        "id": "NajdLpGFkr3S"
      },
      "source": [
        "### **`np.squeeze`**\n",
        "\n",
        "`np.squeeze(arr, axis)`\n",
        "* It removes single-dimensional entries from the shape of an array."
      ]
    },
    {
      "cell_type": "code",
      "metadata": {
        "id": "2lFZGq0_mcO4",
        "outputId": "21989989-a672-4959-9c9e-02f99784c23a",
        "colab": {
          "base_uri": "https://localhost:8080/"
        }
      },
      "source": [
        "a = np.array([[[1], [3], [5]]])\n",
        "a.shape"
      ],
      "execution_count": 16,
      "outputs": [
        {
          "output_type": "execute_result",
          "data": {
            "text/plain": [
              "(1, 3, 1)"
            ]
          },
          "metadata": {
            "tags": []
          },
          "execution_count": 16
        }
      ]
    },
    {
      "cell_type": "code",
      "metadata": {
        "id": "wOLq1EXrmmNm",
        "outputId": "b466ba21-a7a7-4165-ad4e-2d82cf1c8f66",
        "colab": {
          "base_uri": "https://localhost:8080/"
        }
      },
      "source": [
        "np.squeeze(a).shape"
      ],
      "execution_count": 17,
      "outputs": [
        {
          "output_type": "execute_result",
          "data": {
            "text/plain": [
              "(3,)"
            ]
          },
          "metadata": {
            "tags": []
          },
          "execution_count": 17
        }
      ]
    },
    {
      "cell_type": "code",
      "metadata": {
        "id": "Q0dBz7sQmrD2",
        "outputId": "128e7f10-5d53-41ec-91ff-65331312d2d2",
        "colab": {
          "base_uri": "https://localhost:8080/"
        }
      },
      "source": [
        "a = np.array([[[1], [3], [5]]])\n",
        "np.squeeze(a, axis=2).shape"
      ],
      "execution_count": 18,
      "outputs": [
        {
          "output_type": "execute_result",
          "data": {
            "text/plain": [
              "(1, 3)"
            ]
          },
          "metadata": {
            "tags": []
          },
          "execution_count": 18
        }
      ]
    },
    {
      "cell_type": "markdown",
      "metadata": {
        "id": "t1xymt-hm0iH"
      },
      "source": [
        "The following code gives an **error** as the size of the selected axis is not equal to one."
      ]
    },
    {
      "cell_type": "code",
      "metadata": {
        "id": "GMgnQE4Tmu1O",
        "outputId": "9a507b64-561a-4461-d1cd-62d382907075",
        "colab": {
          "base_uri": "https://localhost:8080/",
          "height": 335
        }
      },
      "source": [
        "np.squeeze(a, axis=1).shape"
      ],
      "execution_count": 19,
      "outputs": [
        {
          "output_type": "error",
          "ename": "ValueError",
          "evalue": "ignored",
          "traceback": [
            "\u001b[0;31m---------------------------------------------------------------------------\u001b[0m",
            "\u001b[0;31mValueError\u001b[0m                                Traceback (most recent call last)",
            "\u001b[0;32m<ipython-input-19-8dd063c943a0>\u001b[0m in \u001b[0;36m<module>\u001b[0;34m()\u001b[0m\n\u001b[0;32m----> 1\u001b[0;31m \u001b[0mnp\u001b[0m\u001b[0;34m.\u001b[0m\u001b[0msqueeze\u001b[0m\u001b[0;34m(\u001b[0m\u001b[0ma\u001b[0m\u001b[0;34m,\u001b[0m \u001b[0maxis\u001b[0m\u001b[0;34m=\u001b[0m\u001b[0;36m1\u001b[0m\u001b[0;34m)\u001b[0m\u001b[0;34m.\u001b[0m\u001b[0mshape\u001b[0m\u001b[0;34m\u001b[0m\u001b[0;34m\u001b[0m\u001b[0m\n\u001b[0m",
            "\u001b[0;32m<__array_function__ internals>\u001b[0m in \u001b[0;36msqueeze\u001b[0;34m(*args, **kwargs)\u001b[0m\n",
            "\u001b[0;32m/usr/local/lib/python3.6/dist-packages/numpy/core/fromnumeric.py\u001b[0m in \u001b[0;36msqueeze\u001b[0;34m(a, axis)\u001b[0m\n\u001b[1;32m   1481\u001b[0m         \u001b[0;32mreturn\u001b[0m \u001b[0msqueeze\u001b[0m\u001b[0;34m(\u001b[0m\u001b[0;34m)\u001b[0m\u001b[0;34m\u001b[0m\u001b[0;34m\u001b[0m\u001b[0m\n\u001b[1;32m   1482\u001b[0m     \u001b[0;32melse\u001b[0m\u001b[0;34m:\u001b[0m\u001b[0;34m\u001b[0m\u001b[0;34m\u001b[0m\u001b[0m\n\u001b[0;32m-> 1483\u001b[0;31m         \u001b[0;32mreturn\u001b[0m \u001b[0msqueeze\u001b[0m\u001b[0;34m(\u001b[0m\u001b[0maxis\u001b[0m\u001b[0;34m=\u001b[0m\u001b[0maxis\u001b[0m\u001b[0;34m)\u001b[0m\u001b[0;34m\u001b[0m\u001b[0;34m\u001b[0m\u001b[0m\n\u001b[0m\u001b[1;32m   1484\u001b[0m \u001b[0;34m\u001b[0m\u001b[0m\n\u001b[1;32m   1485\u001b[0m \u001b[0;34m\u001b[0m\u001b[0m\n",
            "\u001b[0;31mValueError\u001b[0m: cannot select an axis to squeeze out which has size not equal to one"
          ]
        }
      ]
    },
    {
      "cell_type": "markdown",
      "metadata": {
        "id": "eqm-D7ZORmwL"
      },
      "source": [
        "When expanded arrays are squeezed, the original array is obtained."
      ]
    },
    {
      "cell_type": "code",
      "metadata": {
        "id": "gqCWjSB5l3i_",
        "outputId": "c3e08614-9277-45a9-e740-01673c763e9a",
        "colab": {
          "base_uri": "https://localhost:8080/"
        }
      },
      "source": [
        "a = np.array([1, 3, 5])\n",
        "print(\"original:\", a)\n",
        "\n",
        "expanded = np.expand_dims(a, axis=0)\n",
        "print(\"expanded:\", expanded)\n",
        "\n",
        "squeezed = np.squeeze(expanded, axis=0)\n",
        "print(\"squeezed:\", squeezed)"
      ],
      "execution_count": 20,
      "outputs": [
        {
          "output_type": "stream",
          "text": [
            "original: [1 3 5]\n",
            "expanded: [[1 3 5]]\n",
            "squeezed: [1 3 5]\n"
          ],
          "name": "stdout"
        }
      ]
    },
    {
      "cell_type": "code",
      "metadata": {
        "id": "hZBEdDZqmShi",
        "outputId": "b4ee5a23-0e30-44a6-bf29-32dcce024517",
        "colab": {
          "base_uri": "https://localhost:8080/"
        }
      },
      "source": [
        "a = np.array([1, 3, 5])\n",
        "print(\"original:\", a)\n",
        "\n",
        "expanded = np.expand_dims(a, axis=1)\n",
        "print(\"expanded: \\n\", expanded)\n",
        "\n",
        "squeezed = np.squeeze(expanded, axis=1)\n",
        "print(\"squeezed:\", squeezed)"
      ],
      "execution_count": 21,
      "outputs": [
        {
          "output_type": "stream",
          "text": [
            "original: [1 3 5]\n",
            "expanded: \n",
            " [[1]\n",
            " [3]\n",
            " [5]]\n",
            "squeezed: [1 3 5]\n"
          ],
          "name": "stdout"
        }
      ]
    },
    {
      "cell_type": "markdown",
      "metadata": {
        "id": "dO7jOw1A93h1"
      },
      "source": [
        "## Changing the axes of an array"
      ]
    },
    {
      "cell_type": "markdown",
      "metadata": {
        "id": "Szkxba_zAlj3"
      },
      "source": [
        "### **`np.moveaxis`**\n",
        "\n",
        "`np.moveaxis(arr, original_positions, new_positions)`\n",
        "* Returns the view of an array with the axes moved from their original positions to the new positions.\n",
        "* Other axes remain in their original order."
      ]
    },
    {
      "cell_type": "code",
      "metadata": {
        "id": "RTCiIc4lBBWZ",
        "outputId": "b0e5ba96-29b3-4c70-e4d4-9a8fd1367d9e",
        "colab": {
          "base_uri": "https://localhost:8080/"
        }
      },
      "source": [
        "array_3d = np.ones((2, 3, 4, 5, 6))\n",
        "\n",
        "axis_moved_array = np.moveaxis(array_3d, [0, 1], [1, 2])\n",
        "print(axis_moved_array.shape)"
      ],
      "execution_count": 22,
      "outputs": [
        {
          "output_type": "stream",
          "text": [
            "(4, 2, 3, 5, 6)\n"
          ],
          "name": "stdout"
        }
      ]
    },
    {
      "cell_type": "code",
      "metadata": {
        "id": "WezASTpWBo1h",
        "outputId": "ad144798-ffb1-492d-b0b1-c19dd3259511",
        "colab": {
          "base_uri": "https://localhost:8080/"
        }
      },
      "source": [
        "array_3d = np.array([[[5, 5, 5],\n",
        "                    [0, 0, 0]],\n",
        "                     \n",
        "                    [[1, 2, 3],\n",
        "                    [-1, -2, -3]],\n",
        "                     \n",
        "                    [[6, 7, 8],\n",
        "                    [-6, -7, -8]]])\n",
        "\n",
        "print(\"original array: \\n\", array_3d, \"\\n\")\n",
        "\n",
        "moved_axes_array = np.moveaxis(array_3d, 0, 2)\n",
        "print(\"array after moving axes: \\n\", moved_axes_array)"
      ],
      "execution_count": 23,
      "outputs": [
        {
          "output_type": "stream",
          "text": [
            "original array: \n",
            " [[[ 5  5  5]\n",
            "  [ 0  0  0]]\n",
            "\n",
            " [[ 1  2  3]\n",
            "  [-1 -2 -3]]\n",
            "\n",
            " [[ 6  7  8]\n",
            "  [-6 -7 -8]]] \n",
            "\n",
            "array after moving axes: \n",
            " [[[ 5  1  6]\n",
            "  [ 5  2  7]\n",
            "  [ 5  3  8]]\n",
            "\n",
            " [[ 0 -1 -6]\n",
            "  [ 0 -2 -7]\n",
            "  [ 0 -3 -8]]]\n"
          ],
          "name": "stdout"
        }
      ]
    },
    {
      "cell_type": "markdown",
      "metadata": {
        "id": "k70jgVdhFDIl"
      },
      "source": [
        "### **`np.swapaxes`**\n",
        "\n",
        "`np.swapaxes(arr, axis1, axis2)`\n",
        "* Returns an array with axis1 and axis2 interchanged.\n",
        "* Other axes remain in their original order."
      ]
    },
    {
      "cell_type": "code",
      "metadata": {
        "id": "LwkuKkyvYs9y",
        "outputId": "a74521b4-11fe-43fc-8587-967ab957d608",
        "colab": {
          "base_uri": "https://localhost:8080/"
        }
      },
      "source": [
        "array_3d = np.array([[[5, 5, 5],\n",
        "                    [0, 0, 0]],\n",
        "                     \n",
        "                    [[1, 2, 3],\n",
        "                    [-1, -2, -3]],\n",
        "                     \n",
        "                    [[6, 7, 8],\n",
        "                    [-6, -7, -8]]])\n",
        "\n",
        "print(\"original array: \\n\", array_3d, \"\\n\")\n",
        "\n",
        "swapped_axes_array = np.swapaxes(array_3d, 1, 2)\n",
        "print(\"array after swapping axes: \\n\", swapped_axes_array)"
      ],
      "execution_count": 24,
      "outputs": [
        {
          "output_type": "stream",
          "text": [
            "original array: \n",
            " [[[ 5  5  5]\n",
            "  [ 0  0  0]]\n",
            "\n",
            " [[ 1  2  3]\n",
            "  [-1 -2 -3]]\n",
            "\n",
            " [[ 6  7  8]\n",
            "  [-6 -7 -8]]] \n",
            "\n",
            "array after swapping axes: \n",
            " [[[ 5  0]\n",
            "  [ 5  0]\n",
            "  [ 5  0]]\n",
            "\n",
            " [[ 1 -1]\n",
            "  [ 2 -2]\n",
            "  [ 3 -3]]\n",
            "\n",
            " [[ 6 -6]\n",
            "  [ 7 -7]\n",
            "  [ 8 -8]]]\n"
          ],
          "name": "stdout"
        }
      ]
    },
    {
      "cell_type": "markdown",
      "metadata": {
        "id": "ujN2Tf32jFZ2"
      },
      "source": [
        "## Splitting an array"
      ]
    },
    {
      "cell_type": "markdown",
      "metadata": {
        "id": "S5qI5tp7jN7J"
      },
      "source": [
        "\n",
        "*   `np.split(arr, indices_or_sections, axis=0)`\n",
        "  *   Splits the given array `arr` into multiple sub-arrays along the given `axis` based on `indices_or_sections` and returns a list of sub-arrays."
      ]
    },
    {
      "cell_type": "markdown",
      "metadata": {
        "id": "7IMkKBtZs_as"
      },
      "source": [
        "If `indices_or_sections` is an integer say N, then `arr` will be divided into N equal arrays along the given `axis`."
      ]
    },
    {
      "cell_type": "code",
      "metadata": {
        "id": "Us8EUl1Kjxpe",
        "outputId": "c984c75a-5ea9-40cd-c6e6-0980ef168207",
        "colab": {
          "base_uri": "https://localhost:8080/"
        }
      },
      "source": [
        "array_1d = np.array([1, 7, 11, 0, 3, 17])\n",
        "split_arrays = np.split(array_1d, 2) \n",
        "print(split_arrays)"
      ],
      "execution_count": 25,
      "outputs": [
        {
          "output_type": "stream",
          "text": [
            "[array([ 1,  7, 11]), array([ 0,  3, 17])]\n"
          ],
          "name": "stdout"
        }
      ]
    },
    {
      "cell_type": "markdown",
      "metadata": {
        "id": "MyekU0cwtKXi"
      },
      "source": [
        "If `indices_or_sections` is a list, then `arr` will be split into sub-arrays at the indices mentioned in the list."
      ]
    },
    {
      "cell_type": "code",
      "metadata": {
        "id": "76Rp3Ci3tPIZ",
        "outputId": "31916200-8bad-4d52-83df-1c9ec221e0e3",
        "colab": {
          "base_uri": "https://localhost:8080/"
        }
      },
      "source": [
        "array_1d = np.array([1, 7, 11, 0, 3, 17])\n",
        "\n",
        "split_arrays = np.split(array_1d, [1]) \n",
        "print(split_arrays)"
      ],
      "execution_count": 26,
      "outputs": [
        {
          "output_type": "stream",
          "text": [
            "[array([1]), array([ 7, 11,  0,  3, 17])]\n"
          ],
          "name": "stdout"
        }
      ]
    },
    {
      "cell_type": "markdown",
      "metadata": {
        "id": "UrS__u0zvWfN"
      },
      "source": [
        "Helper function to print splits of an array"
      ]
    },
    {
      "cell_type": "code",
      "metadata": {
        "id": "K3rEuUzZvUbc"
      },
      "source": [
        "def print_splits(array_to_split):\n",
        "    for item in array_to_split:\n",
        "        print(item, \"\\n\")"
      ],
      "execution_count": 27,
      "outputs": []
    },
    {
      "cell_type": "markdown",
      "metadata": {
        "id": "9AJnGuZUvaUj"
      },
      "source": [
        "**Split an array along given axis**"
      ]
    },
    {
      "cell_type": "code",
      "metadata": {
        "id": "6VIAm-CfkP2i",
        "outputId": "dc85c7bf-697a-45e4-a234-3b015a1b8e95",
        "colab": {
          "base_uri": "https://localhost:8080/"
        }
      },
      "source": [
        "array_1 = np.array([[1, 7, 11, 12], \n",
        "                    [0, 3, 17, 2]])\n",
        "\n",
        "split_arrays1 = np.split(array_1, 2, axis = 1)\n",
        "print_splits(split_arrays1)"
      ],
      "execution_count": 28,
      "outputs": [
        {
          "output_type": "stream",
          "text": [
            "[[1 7]\n",
            " [0 3]] \n",
            "\n",
            "[[11 12]\n",
            " [17  2]] \n",
            "\n"
          ],
          "name": "stdout"
        }
      ]
    },
    {
      "cell_type": "code",
      "metadata": {
        "id": "QaIxQJk0u9s_",
        "outputId": "550be61a-5509-4299-bd0f-6c4d9e4cd9c8",
        "colab": {
          "base_uri": "https://localhost:8080/"
        }
      },
      "source": [
        "split_arrays2 = np.split(array_1, [1, 3], axis = 1)\n",
        "print_splits(split_arrays2)"
      ],
      "execution_count": 29,
      "outputs": [
        {
          "output_type": "stream",
          "text": [
            "[[1]\n",
            " [0]] \n",
            "\n",
            "[[ 7 11]\n",
            " [ 3 17]] \n",
            "\n",
            "[[12]\n",
            " [ 2]] \n",
            "\n"
          ],
          "name": "stdout"
        }
      ]
    },
    {
      "cell_type": "markdown",
      "metadata": {
        "id": "GK5ONhJekpDa"
      },
      "source": [
        "### Split - Horizontal"
      ]
    },
    {
      "cell_type": "markdown",
      "metadata": {
        "id": "g6L8vpWnkzAF"
      },
      "source": [
        "\n",
        "*   `np.hsplit(arr, indices_or_sections)`\n",
        "  *   Split the given `arr` into multiple sub-arrays horizontally i.e column-wise and returns a list of sub-arrays. \n",
        "  *   It is equivalent to split with `axis = 1`.\n",
        "\n"
      ]
    },
    {
      "cell_type": "code",
      "metadata": {
        "id": "4FbONCRj214O",
        "outputId": "1b4ae836-5052-4268-d062-d2a53bb3b868",
        "colab": {
          "base_uri": "https://localhost:8080/"
        }
      },
      "source": [
        "array = np.array([1, 2, 3, 4, 5])\n",
        "split_arrays = np.hsplit(array, [3])\n",
        "print_splits(split_arrays)"
      ],
      "execution_count": 30,
      "outputs": [
        {
          "output_type": "stream",
          "text": [
            "[1 2 3] \n",
            "\n",
            "[4 5] \n",
            "\n"
          ],
          "name": "stdout"
        }
      ]
    },
    {
      "cell_type": "code",
      "metadata": {
        "id": "pkHiAnBbk_r6",
        "outputId": "9d4aa1bd-2cd6-47c6-cd5c-2e4625b15fea",
        "colab": {
          "base_uri": "https://localhost:8080/"
        }
      },
      "source": [
        "array = np.array([[ 1, -1,  2, -2,  3, -3],\n",
        "                  [ 1, -1,  2, -2,  3, -3],\n",
        "                  [ 1, -1,  2, -2,  3, -3]])\n",
        "\n",
        "split_arrays = np.hsplit(array, [2])\n",
        "\n",
        "print(\"split arrays:\")\n",
        "print_splits(split_arrays)"
      ],
      "execution_count": 31,
      "outputs": [
        {
          "output_type": "stream",
          "text": [
            "split arrays:\n",
            "[[ 1 -1]\n",
            " [ 1 -1]\n",
            " [ 1 -1]] \n",
            "\n",
            "[[ 2 -2  3 -3]\n",
            " [ 2 -2  3 -3]\n",
            " [ 2 -2  3 -3]] \n",
            "\n"
          ],
          "name": "stdout"
        }
      ]
    },
    {
      "cell_type": "code",
      "metadata": {
        "id": "BcObWV2Al0FF",
        "outputId": "0b49ef3f-fa98-4293-9c28-45dedff34c32",
        "colab": {
          "base_uri": "https://localhost:8080/"
        }
      },
      "source": [
        "split_arrays = np.hsplit(array, [1, 2])\n",
        "\n",
        "print(\"split arrays:\")\n",
        "print_splits(split_arrays)"
      ],
      "execution_count": 32,
      "outputs": [
        {
          "output_type": "stream",
          "text": [
            "split arrays:\n",
            "[[1]\n",
            " [1]\n",
            " [1]] \n",
            "\n",
            "[[-1]\n",
            " [-1]\n",
            " [-1]] \n",
            "\n",
            "[[ 2 -2  3 -3]\n",
            " [ 2 -2  3 -3]\n",
            " [ 2 -2  3 -3]] \n",
            "\n"
          ],
          "name": "stdout"
        }
      ]
    },
    {
      "cell_type": "markdown",
      "metadata": {
        "id": "48Nat67tmC1r"
      },
      "source": [
        "### Split - Vertical"
      ]
    },
    {
      "cell_type": "markdown",
      "metadata": {
        "id": "K5vku_qAmG_f"
      },
      "source": [
        "*   `np.vsplit(arr, indices_or_sections)`\n",
        "  *   Splits the given `arr` into multiple sub-arrays vertically i.e row-wise and returns a list of sub-arrays.\n",
        "  *   It is equivalent to split with `axis = 0`.\n",
        "  * `.vsplit` only works on arrays of 2 or more dimensions."
      ]
    },
    {
      "cell_type": "code",
      "metadata": {
        "id": "8XL0UwEt3oVR",
        "outputId": "64ec3100-88e9-4633-8ee5-ec59a9d8f309",
        "colab": {
          "base_uri": "https://localhost:8080/"
        }
      },
      "source": [
        "array = np.array([[1,   1,  1],\n",
        "                  [-1, -1, -1],\n",
        "                  [2,   2,  2],\n",
        "                  [-2, -2, -2],\n",
        "                  [3,   3,  3],\n",
        "                  [-3, -3, -3]])\n",
        "\n",
        "split_arrays = np.vsplit(array, [2])\n",
        "\n",
        "print(\"split arrays:\")\n",
        "print_splits(split_arrays)"
      ],
      "execution_count": 33,
      "outputs": [
        {
          "output_type": "stream",
          "text": [
            "split arrays:\n",
            "[[ 1  1  1]\n",
            " [-1 -1 -1]] \n",
            "\n",
            "[[ 2  2  2]\n",
            " [-2 -2 -2]\n",
            " [ 3  3  3]\n",
            " [-3 -3 -3]] \n",
            "\n"
          ],
          "name": "stdout"
        }
      ]
    },
    {
      "cell_type": "code",
      "metadata": {
        "id": "GKpiqL7UybLF",
        "outputId": "2a2da92e-5c32-4701-9775-a85867900245",
        "colab": {
          "base_uri": "https://localhost:8080/"
        }
      },
      "source": [
        "split_arrays = np.vsplit(array, [2,3])\n",
        "print_splits(split_arrays)"
      ],
      "execution_count": 34,
      "outputs": [
        {
          "output_type": "stream",
          "text": [
            "[[ 1  1  1]\n",
            " [-1 -1 -1]] \n",
            "\n",
            "[[2 2 2]] \n",
            "\n",
            "[[-2 -2 -2]\n",
            " [ 3  3  3]\n",
            " [-3 -3 -3]] \n",
            "\n"
          ],
          "name": "stdout"
        }
      ]
    },
    {
      "cell_type": "markdown",
      "metadata": {
        "id": "kmiYySzrisSj"
      },
      "source": [
        "## Joining Arrays"
      ]
    },
    {
      "cell_type": "markdown",
      "metadata": {
        "id": "Ww46R_7A29a2"
      },
      "source": [
        "### Concatenation of arrays\n"
      ]
    },
    {
      "cell_type": "markdown",
      "metadata": {
        "id": "y39UneC229a5"
      },
      "source": [
        "\n",
        "`np.concatenate((a1, a2, ...), axis=0)`\n",
        "  *   Joins a sequence of arrays along the **given axis** and returns the concatenated array.\n",
        "  *   The arrays must have the same shape, except in the dimension corresponding to the `axis`.\n",
        "  *  The resulting array has the same dimensions as that of the input arrays."
      ]
    },
    {
      "cell_type": "code",
      "metadata": {
        "id": "-t277Z6229a8",
        "outputId": "84f4ce91-b869-4a15-8342-f055c09a5a1a",
        "colab": {
          "base_uri": "https://localhost:8080/"
        }
      },
      "source": [
        "a = np.array([7, 1, 11])\n",
        "b = np.array([3, 0, 17])\n",
        "\n",
        "np.concatenate((a, b))"
      ],
      "execution_count": 35,
      "outputs": [
        {
          "output_type": "execute_result",
          "data": {
            "text/plain": [
              "array([ 7,  1, 11,  3,  0, 17])"
            ]
          },
          "metadata": {
            "tags": []
          },
          "execution_count": 35
        }
      ]
    },
    {
      "cell_type": "markdown",
      "metadata": {
        "id": "xitfzFf43Gek"
      },
      "source": [
        "Concatenate along axis-0"
      ]
    },
    {
      "cell_type": "code",
      "metadata": {
        "id": "zjLsEo5_29bE",
        "outputId": "b1ee6fab-9b08-4fc1-8aa1-4737a176300e",
        "colab": {
          "base_uri": "https://localhost:8080/"
        }
      },
      "source": [
        "a = np.array([[7, 4, 5], \n",
        "              [1, 3, 2]])\n",
        "\n",
        "b = np.array([[-1, -2, -3]])\n",
        "\n",
        "np.concatenate((a, b), axis=0)"
      ],
      "execution_count": 36,
      "outputs": [
        {
          "output_type": "execute_result",
          "data": {
            "text/plain": [
              "array([[ 7,  4,  5],\n",
              "       [ 1,  3,  2],\n",
              "       [-1, -2, -3]])"
            ]
          },
          "metadata": {
            "tags": []
          },
          "execution_count": 36
        }
      ]
    },
    {
      "cell_type": "markdown",
      "metadata": {
        "id": "ehrCdIMZ3J9C"
      },
      "source": [
        "Concatenate along axis-1"
      ]
    },
    {
      "cell_type": "code",
      "metadata": {
        "id": "rwMIu5zd29bJ",
        "outputId": "25193296-8ad4-4217-fa9d-870ffb63136b",
        "colab": {
          "base_uri": "https://localhost:8080/"
        }
      },
      "source": [
        "a = np.array([[7, 4, 5], \n",
        "              [1, 3, 2]])\n",
        "\n",
        "b = np.array([[-1], \n",
        "             [-2]])\n",
        "\n",
        "np.concatenate((a, b), axis=1)"
      ],
      "execution_count": 37,
      "outputs": [
        {
          "output_type": "execute_result",
          "data": {
            "text/plain": [
              "array([[ 7,  4,  5, -1],\n",
              "       [ 1,  3,  2, -2]])"
            ]
          },
          "metadata": {
            "tags": []
          },
          "execution_count": 37
        }
      ]
    },
    {
      "cell_type": "markdown",
      "metadata": {
        "id": "W_HHGVp16YXU"
      },
      "source": [
        "The split arrays obtained by `np.split()` can be concatenated using `np.concatenate()` to get the original array."
      ]
    },
    {
      "cell_type": "code",
      "metadata": {
        "id": "SmHdQjNH6XmF",
        "outputId": "8679dc21-facb-400e-ef09-0c44081d302f",
        "colab": {
          "base_uri": "https://localhost:8080/"
        }
      },
      "source": [
        "array = np.array([[1,   1,  1],\n",
        "                  [-1, -1, -1],\n",
        "                  [2,   2,  2],\n",
        "                  [-2, -2, -2],\n",
        "                  [3,   3,  3],\n",
        "                  [-3, -3, -3]])\n",
        "\n",
        "split_arrays = np.split(array, [2], axis=0)\n",
        "\n",
        "print(\"split arrays:\")\n",
        "print_splits(split_arrays)\n",
        "\n",
        "np.concatenate(split_arrays, axis=0)"
      ],
      "execution_count": 38,
      "outputs": [
        {
          "output_type": "stream",
          "text": [
            "split arrays:\n",
            "[[ 1  1  1]\n",
            " [-1 -1 -1]] \n",
            "\n",
            "[[ 2  2  2]\n",
            " [-2 -2 -2]\n",
            " [ 3  3  3]\n",
            " [-3 -3 -3]] \n",
            "\n"
          ],
          "name": "stdout"
        },
        {
          "output_type": "execute_result",
          "data": {
            "text/plain": [
              "array([[ 1,  1,  1],\n",
              "       [-1, -1, -1],\n",
              "       [ 2,  2,  2],\n",
              "       [-2, -2, -2],\n",
              "       [ 3,  3,  3],\n",
              "       [-3, -3, -3]])"
            ]
          },
          "metadata": {
            "tags": []
          },
          "execution_count": 38
        }
      ]
    },
    {
      "cell_type": "markdown",
      "metadata": {
        "id": "dv237F9ntHIz"
      },
      "source": [
        "### Stacking - Vertical"
      ]
    },
    {
      "cell_type": "markdown",
      "metadata": {
        "id": "mu9ROPZotaHO"
      },
      "source": [
        "\n",
        "\n",
        "\n",
        "*   `np.vstack((a1, a2, ...))`\n",
        "  *   Stacks the arrays a1, a2, … vertically (row-wise) in sequence and returns the stacked array.\n",
        "  * Except in the case of 1D arrays, it's equivalent to `np.concatenate` along `axis = 0`\n",
        "\n"
      ]
    },
    {
      "cell_type": "markdown",
      "metadata": {
        "id": "juJedbQd_gtF"
      },
      "source": [
        "1-D arrays must have the same length to apply `np.vstack` on them"
      ]
    },
    {
      "cell_type": "code",
      "metadata": {
        "id": "DRiZeMO3yS6V",
        "outputId": "1fb31cf6-40aa-4e37-ae92-5037b19089d5",
        "colab": {
          "base_uri": "https://localhost:8080/"
        }
      },
      "source": [
        "a = np.array([1, 7, 11]) # 1D array\n",
        "b = np.array([10, 20, 30])\n",
        "\n",
        "vstack_array = np.vstack((a, b))\n",
        "print(vstack_array)"
      ],
      "execution_count": 39,
      "outputs": [
        {
          "output_type": "stream",
          "text": [
            "[[ 1  7 11]\n",
            " [10 20 30]]\n"
          ],
          "name": "stdout"
        }
      ]
    },
    {
      "cell_type": "markdown",
      "metadata": {
        "id": "cF4-M74f_wTZ"
      },
      "source": [
        "nD-arrays (n > 1) must have the same shape along every axis except for the first axis (axis-0)."
      ]
    },
    {
      "cell_type": "code",
      "metadata": {
        "id": "A-g1gZp8yZkl",
        "outputId": "86efa521-96e6-4006-c27e-09fd8ebec196",
        "colab": {
          "base_uri": "https://localhost:8080/"
        }
      },
      "source": [
        "a = np.array([[1, 2, 3], \n",
        "              [4, 5, 6]])\n",
        "\n",
        "b = np.array([[-1,   -2,  -3], \n",
        "              [-4,   -5,  -6],\n",
        "              [-7,   -8,  -9],\n",
        "              [-10, -11, -12]])\n",
        "\n",
        "np.vstack((a, b))"
      ],
      "execution_count": 40,
      "outputs": [
        {
          "output_type": "execute_result",
          "data": {
            "text/plain": [
              "array([[  1,   2,   3],\n",
              "       [  4,   5,   6],\n",
              "       [ -1,  -2,  -3],\n",
              "       [ -4,  -5,  -6],\n",
              "       [ -7,  -8,  -9],\n",
              "       [-10, -11, -12]])"
            ]
          },
          "metadata": {
            "tags": []
          },
          "execution_count": 40
        }
      ]
    },
    {
      "cell_type": "markdown",
      "metadata": {
        "id": "YBa8ubofy7X0"
      },
      "source": [
        "### Stacking - Horizontal"
      ]
    },
    {
      "cell_type": "markdown",
      "metadata": {
        "id": "nN_peHRDzFvU"
      },
      "source": [
        "* `np.hstack((a1, a2, ...))`\n",
        "  *  Stacks the arrays a1, a2, … horizontally (column-wise) in sequence and returns the stacked array.\n",
        "  *   Except in the case of 1D arrays, its equivalent to `np.concatenate` along axis = 1\n"
      ]
    },
    {
      "cell_type": "markdown",
      "metadata": {
        "id": "IwVxmU8OCmFv"
      },
      "source": [
        "1-D arrays can be of any length"
      ]
    },
    {
      "cell_type": "code",
      "metadata": {
        "id": "QkTjU4-T0USW",
        "outputId": "56122408-360b-4e0e-b37b-0d0fc55a6491",
        "colab": {
          "base_uri": "https://localhost:8080/"
        }
      },
      "source": [
        "a = np.array([1, 7, 11]) \n",
        "b = np.array([10, 20])\n",
        "\n",
        "np.hstack((a, b))"
      ],
      "execution_count": 41,
      "outputs": [
        {
          "output_type": "execute_result",
          "data": {
            "text/plain": [
              "array([ 1,  7, 11, 10, 20])"
            ]
          },
          "metadata": {
            "tags": []
          },
          "execution_count": 41
        }
      ]
    },
    {
      "cell_type": "markdown",
      "metadata": {
        "id": "hJ-SwKPcBqie"
      },
      "source": [
        "nD-arrays (n > 1) must have the same shape along every axis except for the second axis (axis-1)."
      ]
    },
    {
      "cell_type": "code",
      "metadata": {
        "id": "05d0-i_VzQ-x",
        "outputId": "65634e87-b5d2-47d1-c0b6-6e2fd7bc2eaf",
        "colab": {
          "base_uri": "https://localhost:8080/"
        }
      },
      "source": [
        "a = np.array([[1, 2], \n",
        "             [3, 4],\n",
        "             [5, 6]])\n",
        "\n",
        "b = np.array([[-1,  -2,  -3,  -4], \n",
        "              [-5,  -6,  -7,  -8],\n",
        "              [-9, -10, -11, -12]])\n",
        "\n",
        "np.hstack((a, b))"
      ],
      "execution_count": 42,
      "outputs": [
        {
          "output_type": "execute_result",
          "data": {
            "text/plain": [
              "array([[  1,   2,  -1,  -2,  -3,  -4],\n",
              "       [  3,   4,  -5,  -6,  -7,  -8],\n",
              "       [  5,   6,  -9, -10, -11, -12]])"
            ]
          },
          "metadata": {
            "tags": []
          },
          "execution_count": 42
        }
      ]
    },
    {
      "cell_type": "markdown",
      "metadata": {
        "id": "rwt4kDwInFkw"
      },
      "source": [
        "### Stacking"
      ]
    },
    {
      "cell_type": "markdown",
      "metadata": {
        "id": "ZSR5CNFrnXa3"
      },
      "source": [
        "\n",
        "\n",
        "\n",
        "*   `np.stack(arrays, axis=0)`\n",
        "  *   Joins a sequence of arrays along the **new axis**.\n",
        "  *   All input arrays must have the **same shape**.\n",
        "  *   The resulting array has 1 additional dimension compared to the input arrays.\n",
        "  *   The `axis` parameter specifies the index of the new axis which has to be created.\n",
        "\n"
      ]
    },
    {
      "cell_type": "code",
      "metadata": {
        "id": "ILHd2MX7olsj",
        "outputId": "c92dcfcd-6b76-49b3-8834-67b7feff0f3d",
        "colab": {
          "base_uri": "https://localhost:8080/"
        }
      },
      "source": [
        "a = np.array([1, 2, 3])\n",
        "b = np.array([-1, -2, -3])\n",
        "\n",
        "stacked_axis_0 = np.stack([a, b], axis = 0)\n",
        "shape_axis_0 = stacked_axis_0.shape\n",
        "\n",
        "print(\"stacked array with axis-0:\\n\", stacked_axis_0, \"\\n\")\n",
        "\n",
        "stacked_axis_1 = np.stack([a, b], axis = 1)\n",
        "shape_axis_1 = stacked_axis_1.shape\n",
        "\n",
        "print(\"stacked array with axis-1:\\n\", stacked_axis_1)"
      ],
      "execution_count": 43,
      "outputs": [
        {
          "output_type": "stream",
          "text": [
            "stacked array with axis-0:\n",
            " [[ 1  2  3]\n",
            " [-1 -2 -3]] \n",
            "\n",
            "stacked array with axis-1:\n",
            " [[ 1 -1]\n",
            " [ 2 -2]\n",
            " [ 3 -3]]\n"
          ],
          "name": "stdout"
        }
      ]
    },
    {
      "cell_type": "code",
      "metadata": {
        "id": "vZIDn8R-qV1a",
        "outputId": "849d3a0b-bb95-43ed-9f09-28acc9c57878",
        "colab": {
          "base_uri": "https://localhost:8080/"
        }
      },
      "source": [
        "a = np.array([[1, 2, 3], \n",
        "              [4, 5, 6]])\n",
        "\n",
        "b = np.array([[-1, -2, -3], \n",
        "              [-4, -5, -6]])\n",
        "\n",
        "stacked_axis_2 = np.stack([a, b], axis = 2)\n",
        "print(\"stacked array with axis-2:\\n\", stacked_axis_2, \"\\n\")\n",
        "\n",
        "print(\"shape of given arrays: \", a.shape)\n",
        "print(\"shape of stacked array:\", stacked_axis_2.shape)"
      ],
      "execution_count": 44,
      "outputs": [
        {
          "output_type": "stream",
          "text": [
            "stacked array with axis-2:\n",
            " [[[ 1 -1]\n",
            "  [ 2 -2]\n",
            "  [ 3 -3]]\n",
            "\n",
            " [[ 4 -4]\n",
            "  [ 5 -5]\n",
            "  [ 6 -6]]] \n",
            "\n",
            "shape of given arrays:  (2, 3)\n",
            "shape of stacked array: (2, 3, 2)\n"
          ],
          "name": "stdout"
        }
      ]
    },
    {
      "cell_type": "markdown",
      "metadata": {
        "id": "w9_toMGb05rp"
      },
      "source": [
        "**The size of the new dimension which is created will be equal to the number of arrays that are stacked**"
      ]
    },
    {
      "cell_type": "code",
      "metadata": {
        "id": "ac4WGErcoLXG",
        "outputId": "09e784a7-edb8-4864-f713-4d7eaf76d37a",
        "colab": {
          "base_uri": "https://localhost:8080/"
        }
      },
      "source": [
        "arrays = [np.random.randn(2, 3) for i in range(5)]\n",
        "\n",
        "np.stack(arrays, axis=2).shape"
      ],
      "execution_count": 45,
      "outputs": [
        {
          "output_type": "execute_result",
          "data": {
            "text/plain": [
              "(2, 3, 5)"
            ]
          },
          "metadata": {
            "tags": []
          },
          "execution_count": 45
        }
      ]
    },
    {
      "cell_type": "markdown",
      "metadata": {
        "id": "dkC8yOaU0y1o"
      },
      "source": [
        "## Tiling arrays\n"
      ]
    },
    {
      "cell_type": "markdown",
      "metadata": {
        "id": "SMoi7Y66Bfuy"
      },
      "source": [
        "### np.repeat()"
      ]
    },
    {
      "cell_type": "markdown",
      "metadata": {
        "id": "1P1ZYFjX-ntA"
      },
      "source": [
        "\n",
        "*   `numpy.repeat(arr, num_repeats, axis=None)`\n",
        "  *   Repeats elements of an array.\n",
        "  *   Outputs an array which has the same shape as `arr`, except along the given `axis`.\n",
        "  *   `num_repeats` are the number of repetitions for each element which is broadcasted to fit the shape of the given axis.\n"
      ]
    },
    {
      "cell_type": "code",
      "metadata": {
        "id": "mQdUB_Sk_jg_",
        "outputId": "1e4a952a-4b42-4da0-fd6c-96ab7a777eb0",
        "colab": {
          "base_uri": "https://localhost:8080/"
        }
      },
      "source": [
        "np.repeat(2, 5)"
      ],
      "execution_count": 46,
      "outputs": [
        {
          "output_type": "execute_result",
          "data": {
            "text/plain": [
              "array([2, 2, 2, 2, 2])"
            ]
          },
          "metadata": {
            "tags": []
          },
          "execution_count": 46
        }
      ]
    },
    {
      "cell_type": "code",
      "metadata": {
        "id": "RAyrgxT5_-nI",
        "outputId": "32ba6582-d532-43a7-9cd3-1bab0bb975c7",
        "colab": {
          "base_uri": "https://localhost:8080/"
        }
      },
      "source": [
        "a = np.array([[1,2,3],\n",
        "              [4,5,6]])\n",
        "\n",
        "np.repeat(a, 2, axis=0)"
      ],
      "execution_count": 47,
      "outputs": [
        {
          "output_type": "execute_result",
          "data": {
            "text/plain": [
              "array([[1, 2, 3],\n",
              "       [1, 2, 3],\n",
              "       [4, 5, 6],\n",
              "       [4, 5, 6]])"
            ]
          },
          "metadata": {
            "tags": []
          },
          "execution_count": 47
        }
      ]
    },
    {
      "cell_type": "code",
      "metadata": {
        "id": "OeN80kSvAjAD",
        "outputId": "ffe66d29-42a0-4324-afb9-1dbd7b232e76",
        "colab": {
          "base_uri": "https://localhost:8080/"
        }
      },
      "source": [
        "a = np.array([[1,2,3],\n",
        "              [4,5,6]])\n",
        "\n",
        "np.repeat(a, 3, axis=1)"
      ],
      "execution_count": 48,
      "outputs": [
        {
          "output_type": "execute_result",
          "data": {
            "text/plain": [
              "array([[1, 1, 1, 2, 2, 2, 3, 3, 3],\n",
              "       [4, 4, 4, 5, 5, 5, 6, 6, 6]])"
            ]
          },
          "metadata": {
            "tags": []
          },
          "execution_count": 48
        }
      ]
    },
    {
      "cell_type": "markdown",
      "metadata": {
        "id": "hN6oJmFm3NQx"
      },
      "source": [
        "**`num_repeats`** can also be a list that indicates how many times each of the corresponding elements should be repeated (along the given axis)"
      ]
    },
    {
      "cell_type": "code",
      "metadata": {
        "id": "1MFnbqlLAwT7",
        "outputId": "dd2e2e98-79f5-4f95-b3f1-50df620d11ca",
        "colab": {
          "base_uri": "https://localhost:8080/"
        }
      },
      "source": [
        "a = np.array([[1,2,3],\n",
        "              [4,5,6]])\n",
        "\n",
        "np.repeat(a, [3,5], axis=0)"
      ],
      "execution_count": 49,
      "outputs": [
        {
          "output_type": "execute_result",
          "data": {
            "text/plain": [
              "array([[1, 2, 3],\n",
              "       [1, 2, 3],\n",
              "       [1, 2, 3],\n",
              "       [4, 5, 6],\n",
              "       [4, 5, 6],\n",
              "       [4, 5, 6],\n",
              "       [4, 5, 6],\n",
              "       [4, 5, 6]])"
            ]
          },
          "metadata": {
            "tags": []
          },
          "execution_count": 49
        }
      ]
    },
    {
      "cell_type": "markdown",
      "metadata": {
        "id": "t6kRguD9BNnV"
      },
      "source": [
        "## Adding and removing elements\n"
      ]
    },
    {
      "cell_type": "markdown",
      "metadata": {
        "id": "R3SYP9PzBnQq"
      },
      "source": [
        "### np.delete()"
      ]
    },
    {
      "cell_type": "markdown",
      "metadata": {
        "id": "q8XroykWBuC1"
      },
      "source": [
        "\n",
        "\n",
        "*   `np.delete(arr, delete_indices, axis=None)`\n",
        "  *   Returns a new array by deleting all the sub-arrays along the mentioned `axis`.\n",
        "  *   `delete_indices` indicates the indices of the sub-arrays that need to be removed along the specified `axis`.\n",
        "\n",
        "\n",
        "\n",
        "\n"
      ]
    },
    {
      "cell_type": "code",
      "metadata": {
        "id": "OIaNJaLSDTyv",
        "outputId": "02aa38cf-04ed-4319-ac15-9d061211fbb6",
        "colab": {
          "base_uri": "https://localhost:8080/"
        }
      },
      "source": [
        "a = np.array([[ 1,  3,  5,  7],\n",
        "              [ 2,  4,  6,  8],\n",
        "              [-1, -2, -3, -4]])\n",
        "\n",
        "delete_in_axis_0 = np.delete(a, 1, 0)\n",
        "print(\"delete at position-1 along axis-0:\\n\", delete_in_axis_0)"
      ],
      "execution_count": 50,
      "outputs": [
        {
          "output_type": "stream",
          "text": [
            "delete at position-1 along axis-0:\n",
            " [[ 1  3  5  7]\n",
            " [-1 -2 -3 -4]]\n"
          ],
          "name": "stdout"
        }
      ]
    },
    {
      "cell_type": "code",
      "metadata": {
        "id": "eWVUD5GUENZq",
        "outputId": "15627363-00cf-45fa-cc55-19b03e9417f5",
        "colab": {
          "base_uri": "https://localhost:8080/"
        }
      },
      "source": [
        "a = np.array([[ 1,  3,  5,  7],\n",
        "              [ 2,  4,  6,  8],\n",
        "              [-1, -2, -3, -4]])\n",
        "\n",
        "delete_in_axis_1 = np.delete(a, 2, 1)\n",
        "print(\"delete at position-2 along axis-1:\\n\", delete_in_axis_1)"
      ],
      "execution_count": 51,
      "outputs": [
        {
          "output_type": "stream",
          "text": [
            "delete at position-2 along axis-1:\n",
            " [[ 1  3  7]\n",
            " [ 2  4  8]\n",
            " [-1 -2 -4]]\n"
          ],
          "name": "stdout"
        }
      ]
    },
    {
      "cell_type": "code",
      "metadata": {
        "id": "iR_EZz8HFe_2",
        "outputId": "3f8b606f-32fe-4515-fcd8-1b67cb2fd48f",
        "colab": {
          "base_uri": "https://localhost:8080/"
        }
      },
      "source": [
        "a = np.array([[ 1,  3,  5,  7],\n",
        "              [ 2,  4,  6,  8],\n",
        "              [-1, -2, -3, -4]])\n",
        "\n",
        "np.delete(a, [0,3], axis=None)"
      ],
      "execution_count": 52,
      "outputs": [
        {
          "output_type": "execute_result",
          "data": {
            "text/plain": [
              "array([ 3,  5,  2,  4,  6,  8, -1, -2, -3, -4])"
            ]
          },
          "metadata": {
            "tags": []
          },
          "execution_count": 52
        }
      ]
    },
    {
      "cell_type": "markdown",
      "metadata": {
        "id": "dsZk89XYF8jx"
      },
      "source": [
        "### np.insert()"
      ]
    },
    {
      "cell_type": "markdown",
      "metadata": {
        "id": "B2I2YXv6GJ7B"
      },
      "source": [
        "\n",
        "\n",
        "*   `numpy.insert(arr, indices, values, axis=None)`\n",
        "  *   Insert values along the given axis before the given indices.\n",
        "  *   **indices** defines the index or indices before which the given `values` are inserted.\n",
        "  *   **values** to insert into `arr`. If the type of values is different from that of `arr`, `values` is converted to the type of `arr`. values should be shaped so that `arr[...,indices,...] = values` is legal.\n",
        "  *   Output is a copy of `arr` with values appended to the specified axis.\n",
        "\n",
        "\n",
        "\n"
      ]
    },
    {
      "cell_type": "code",
      "metadata": {
        "id": "6wHT6FkSIHBI",
        "outputId": "47689980-c97b-49b1-fa0e-292273d4548a",
        "colab": {
          "base_uri": "https://localhost:8080/"
        }
      },
      "source": [
        "a = np.array([[1, -1], \n",
        "              [2, -2], \n",
        "              [3, -3]])\n",
        "\n",
        "insert_axis_0 = np.insert(a, 1, [4, 4], axis=0)\n",
        "print(\"insert 4's at position-1 along axis-0:\\n\", insert_axis_0)"
      ],
      "execution_count": 53,
      "outputs": [
        {
          "output_type": "stream",
          "text": [
            "insert 4's at position-1 along axis-0:\n",
            " [[ 1 -1]\n",
            " [ 4  4]\n",
            " [ 2 -2]\n",
            " [ 3 -3]]\n"
          ],
          "name": "stdout"
        }
      ]
    },
    {
      "cell_type": "code",
      "metadata": {
        "id": "eCBWHhpxODQO",
        "outputId": "6a4deff1-7f78-4a16-c2b1-2d7af3d22c51",
        "colab": {
          "base_uri": "https://localhost:8080/"
        }
      },
      "source": [
        "insert_axis_1 = np.insert(a, 1, 4, axis=1)\n",
        "print(\"insert 4's at position-1 along axis-1:\\n\",insert_axis_1)"
      ],
      "execution_count": 54,
      "outputs": [
        {
          "output_type": "stream",
          "text": [
            "insert 4's at position-1 along axis-1:\n",
            " [[ 1  4 -1]\n",
            " [ 2  4 -2]\n",
            " [ 3  4 -3]]\n"
          ],
          "name": "stdout"
        }
      ]
    },
    {
      "cell_type": "code",
      "metadata": {
        "id": "jTJtdFLGWJlt",
        "outputId": "150c6bda-ed3e-4e04-c0b9-ab6449a4b72a",
        "colab": {
          "base_uri": "https://localhost:8080/"
        }
      },
      "source": [
        "a = np.array([[1, -1], \n",
        "              [2, -2], \n",
        "              [3, -3]])\n",
        "\n",
        "zeros = np.zeros((3,2))\n",
        "\n",
        "np.insert(a, [1], zeros, axis=1)"
      ],
      "execution_count": 55,
      "outputs": [
        {
          "output_type": "execute_result",
          "data": {
            "text/plain": [
              "array([[ 1,  0,  0, -1],\n",
              "       [ 2,  0,  0, -2],\n",
              "       [ 3,  0,  0, -3]])"
            ]
          },
          "metadata": {
            "tags": []
          },
          "execution_count": 55
        }
      ]
    },
    {
      "cell_type": "code",
      "metadata": {
        "id": "eFEPjtJxOtrU",
        "outputId": "cfd6b91e-3f08-4805-d7bb-8d57910ac828",
        "colab": {
          "base_uri": "https://localhost:8080/"
        }
      },
      "source": [
        "a = np.array([[1, -1], \n",
        "              [2, -2], \n",
        "              [3, -3]])\n",
        "\n",
        "np.insert(a, 1, 4, axis=None)"
      ],
      "execution_count": 56,
      "outputs": [
        {
          "output_type": "execute_result",
          "data": {
            "text/plain": [
              "array([ 1,  4, -1,  2, -2,  3, -3])"
            ]
          },
          "metadata": {
            "tags": []
          },
          "execution_count": 56
        }
      ]
    },
    {
      "cell_type": "markdown",
      "metadata": {
        "id": "HUbRLBaqF_5-"
      },
      "source": [
        "### np.append()"
      ]
    },
    {
      "cell_type": "markdown",
      "metadata": {
        "id": "Rr5_GlCUNWCY"
      },
      "source": [
        "*  `numpy.append(arr, values, axis=None)`\n",
        "  *  Append values to the end of an array.\n",
        "  *  Output is a copy of `arr` with values appended to axis."
      ]
    },
    {
      "cell_type": "markdown",
      "metadata": {
        "id": "7PYkszD6YQqH"
      },
      "source": [
        "\n",
        "\n",
        "*   If axis is given, both `arr` and `values` should have the same shape\n",
        "\n",
        "\n"
      ]
    },
    {
      "cell_type": "code",
      "metadata": {
        "id": "UCQPrf93Qby-",
        "outputId": "8fa06aa4-0737-4e0d-db31-1de55584b92b",
        "colab": {
          "base_uri": "https://localhost:8080/"
        }
      },
      "source": [
        "array_2d = np.array([[1, 2, 3], \n",
        "              [4, 5, 6]])\n",
        "\n",
        "values = np.array([[-1, -2, -3], \n",
        "              [-4, -5, -6]])\n",
        "\n",
        "np.append(array_2d, values, axis=0)"
      ],
      "execution_count": 57,
      "outputs": [
        {
          "output_type": "execute_result",
          "data": {
            "text/plain": [
              "array([[ 1,  2,  3],\n",
              "       [ 4,  5,  6],\n",
              "       [-1, -2, -3],\n",
              "       [-4, -5, -6]])"
            ]
          },
          "metadata": {
            "tags": []
          },
          "execution_count": 57
        }
      ]
    },
    {
      "cell_type": "code",
      "metadata": {
        "id": "16uCItEnQmI-",
        "outputId": "bde8bffb-5b08-4c4f-a1a6-62ff8eee6578",
        "colab": {
          "base_uri": "https://localhost:8080/"
        }
      },
      "source": [
        "np.append(array_2d, values, axis=1)"
      ],
      "execution_count": 58,
      "outputs": [
        {
          "output_type": "execute_result",
          "data": {
            "text/plain": [
              "array([[ 1,  2,  3, -1, -2, -3],\n",
              "       [ 4,  5,  6, -4, -5, -6]])"
            ]
          },
          "metadata": {
            "tags": []
          },
          "execution_count": 58
        }
      ]
    },
    {
      "cell_type": "markdown",
      "metadata": {
        "id": "qIZrQr3iXyiB"
      },
      "source": [
        " \n",
        "\n",
        "*   If `axis` is not given, both `arr` and `values` are flattened before use."
      ]
    },
    {
      "cell_type": "code",
      "metadata": {
        "id": "Ssxju53YOUPy",
        "outputId": "12da590b-fa26-49c8-8b25-ff8c7ef47b57",
        "colab": {
          "base_uri": "https://localhost:8080/"
        }
      },
      "source": [
        "np.append(array_2d, values)"
      ],
      "execution_count": 59,
      "outputs": [
        {
          "output_type": "execute_result",
          "data": {
            "text/plain": [
              "array([ 1,  2,  3,  4,  5,  6, -1, -2, -3, -4, -5, -6])"
            ]
          },
          "metadata": {
            "tags": []
          },
          "execution_count": 59
        }
      ]
    },
    {
      "cell_type": "markdown",
      "metadata": {
        "id": "mDriEnHOm4bd"
      },
      "source": [
        "## Padding"
      ]
    },
    {
      "cell_type": "markdown",
      "metadata": {
        "id": "VjHGwgTtn8TX"
      },
      "source": [
        "* `numpy.pad(array, pad_width, mode='constant', **kwargs)`\n",
        "  * `pad_width` is the number of values padded to the edges of each axis.\n",
        "  * Output is a padded array of rank equal to `array`, with shape increased according to `pad_width`. \n"
      ]
    },
    {
      "cell_type": "markdown",
      "metadata": {
        "id": "bexOwiaxpekE"
      },
      "source": [
        "* `mode = ‘constant’` (default)\n",
        "\n",
        "    * Pads with a constant value.\n",
        "\n",
        "* `constant_values`: The padded values to set for each axis.\n"
      ]
    },
    {
      "cell_type": "code",
      "metadata": {
        "id": "TlsWYdVPpkac",
        "outputId": "2d81ba34-9dc3-44cb-aea8-7eb4f6d7f5ef",
        "colab": {
          "base_uri": "https://localhost:8080/"
        }
      },
      "source": [
        "array = np.array([[1, 3], [7, 9]])\n",
        "\n",
        "pad_array_constant = np.pad(array, (1, 2), 'constant', constant_values=(-1, -2))\n",
        "print('pad_array_constant:\\n', pad_array_constant)"
      ],
      "execution_count": 60,
      "outputs": [
        {
          "output_type": "stream",
          "text": [
            "pad_array_constant:\n",
            " [[-1 -1 -1 -2 -2]\n",
            " [-1  1  3 -2 -2]\n",
            " [-1  7  9 -2 -2]\n",
            " [-1 -2 -2 -2 -2]\n",
            " [-1 -2 -2 -2 -2]]\n"
          ],
          "name": "stdout"
        }
      ]
    },
    {
      "cell_type": "markdown",
      "metadata": {
        "id": "lnvZEE4JqIM9"
      },
      "source": [
        "* `mode = ‘edge’`\n",
        "    * Pads with the edge values of the array.\n"
      ]
    },
    {
      "cell_type": "code",
      "metadata": {
        "id": "ZQR-30tyqT8q",
        "outputId": "5c5c57cd-0a5d-42c7-9ed0-203d377104e1",
        "colab": {
          "base_uri": "https://localhost:8080/"
        }
      },
      "source": [
        "array = np.array([[1, 3], [7, 9]])\n",
        "\n",
        "pad_array_edge = np.pad(array, (1, 1), 'edge')\n",
        "print('pad_array_edge:\\n', pad_array_edge)"
      ],
      "execution_count": 61,
      "outputs": [
        {
          "output_type": "stream",
          "text": [
            "pad_array_edge:\n",
            " [[1 1 3 3]\n",
            " [1 1 3 3]\n",
            " [7 7 9 9]\n",
            " [7 7 9 9]]\n"
          ],
          "name": "stdout"
        }
      ]
    },
    {
      "cell_type": "markdown",
      "metadata": {
        "id": "cylIdP-I5Wv6"
      },
      "source": [
        "## Understanding NumPy Internals"
      ]
    },
    {
      "cell_type": "code",
      "metadata": {
        "id": "YYmZXG_jwi54",
        "outputId": "439a6fc3-e66b-43f1-f068-cf117feca6a1",
        "colab": {
          "base_uri": "https://localhost:8080/"
        }
      },
      "source": [
        "import numpy as np\n",
        "\n",
        "original_3D = np.array([[['A', 'B'],\n",
        "                      ['C', 'D'],\n",
        "                      ['E', 'F']],\n",
        "                     \n",
        "                     [['G', 'H'],\n",
        "                      ['I', 'J'],\n",
        "                      ['K', 'L']],\n",
        "                     \n",
        "                     [['M', 'N'],\n",
        "                      ['O', 'P'],\n",
        "                      ['Q', 'R']],\n",
        "                     \n",
        "                     [['S', 'T'],\n",
        "                      ['U', 'V'],\n",
        "                      ['W', 'X']]])\n",
        "\n",
        "print(\"original_3D shape: \", original_3D.shape)\n",
        "print(\"original_3D strides: \", original_3D.strides)\n",
        "print(\"original_3D data: \", original_3D.data, \"\\n\")\n",
        "\n",
        "print(original_3D, \"\\n\")"
      ],
      "execution_count": 62,
      "outputs": [
        {
          "output_type": "stream",
          "text": [
            "original_3D shape:  (4, 3, 2)\n",
            "original_3D strides:  (24, 8, 4)\n",
            "original_3D data:  <memory at 0x7f313eebc7c8> \n",
            "\n",
            "[[['A' 'B']\n",
            "  ['C' 'D']\n",
            "  ['E' 'F']]\n",
            "\n",
            " [['G' 'H']\n",
            "  ['I' 'J']\n",
            "  ['K' 'L']]\n",
            "\n",
            " [['M' 'N']\n",
            "  ['O' 'P']\n",
            "  ['Q' 'R']]\n",
            "\n",
            " [['S' 'T']\n",
            "  ['U' 'V']\n",
            "  ['W' 'X']]] \n",
            "\n"
          ],
          "name": "stdout"
        }
      ]
    },
    {
      "cell_type": "markdown",
      "metadata": {
        "id": "S-4gs9zFGonl"
      },
      "source": [
        "#### **`np.ravel`**"
      ]
    },
    {
      "cell_type": "code",
      "metadata": {
        "id": "B6RlY-Nc6JwG",
        "outputId": "be02b02d-0d94-4a1b-f143-616e9947a3ae",
        "colab": {
          "base_uri": "https://localhost:8080/"
        }
      },
      "source": [
        "ravel_3D = original_3D.ravel()\n",
        "\n",
        "print(\"ravel_3D shape: \", ravel_3D.shape)\n",
        "print(\"ravel_3D strides: \", ravel_3D.strides)\n",
        "print(ravel_3D.base is original_3D)"
      ],
      "execution_count": 63,
      "outputs": [
        {
          "output_type": "stream",
          "text": [
            "ravel_3D shape:  (24,)\n",
            "ravel_3D strides:  (4,)\n",
            "True\n"
          ],
          "name": "stdout"
        }
      ]
    },
    {
      "cell_type": "markdown",
      "metadata": {
        "id": "JLKqhpVoGzzu"
      },
      "source": [
        "#### **`np.swapaxes`**"
      ]
    },
    {
      "cell_type": "code",
      "metadata": {
        "id": "0HPa3-n4ldi7",
        "outputId": "7cdd83a9-e12f-4056-f2df-f220c923b12e",
        "colab": {
          "base_uri": "https://localhost:8080/"
        }
      },
      "source": [
        "swap_3D = np.swapaxes(original_3D, 1, 2)\n",
        "\n",
        "print(\"swap_3D shape: \", swap_3D.shape)\n",
        "print(\"swap_3D strides: \", swap_3D.strides)\n",
        "print(swap_3D.base is original_3D)"
      ],
      "execution_count": 64,
      "outputs": [
        {
          "output_type": "stream",
          "text": [
            "swap_3D shape:  (4, 2, 3)\n",
            "swap_3D strides:  (24, 4, 8)\n",
            "True\n"
          ],
          "name": "stdout"
        }
      ]
    },
    {
      "cell_type": "markdown",
      "metadata": {
        "id": "99JjguGsG21e"
      },
      "source": [
        "#### **`np.moveaxis`**"
      ]
    },
    {
      "cell_type": "code",
      "metadata": {
        "id": "1GsDL7kppxbI",
        "outputId": "383c7a33-08fa-4651-d740-6f307df07c9f",
        "colab": {
          "base_uri": "https://localhost:8080/"
        }
      },
      "source": [
        "move_3D = np.moveaxis(original_3D, [1],[2])\n",
        "\n",
        "print(\"move_3D shape: \", move_3D.shape)\n",
        "print(\"move_3D strides: \", move_3D.strides)\n",
        "print(move_3D.base is original_3D)"
      ],
      "execution_count": 65,
      "outputs": [
        {
          "output_type": "stream",
          "text": [
            "move_3D shape:  (4, 2, 3)\n",
            "move_3D strides:  (24, 4, 8)\n",
            "True\n"
          ],
          "name": "stdout"
        }
      ]
    },
    {
      "cell_type": "code",
      "metadata": {
        "id": "ATfbVCvBdbDc",
        "outputId": "43e4127e-f47f-41d0-d508-f36a40669a89",
        "colab": {
          "base_uri": "https://localhost:8080/"
        }
      },
      "source": [
        "print(move_3D, \"\\n\")\n",
        "print(move_3D[0,0,0])\n",
        "print(move_3D[0,0,1])"
      ],
      "execution_count": 66,
      "outputs": [
        {
          "output_type": "stream",
          "text": [
            "[[['A' 'C' 'E']\n",
            "  ['B' 'D' 'F']]\n",
            "\n",
            " [['G' 'I' 'K']\n",
            "  ['H' 'J' 'L']]\n",
            "\n",
            " [['M' 'O' 'Q']\n",
            "  ['N' 'P' 'R']]\n",
            "\n",
            " [['S' 'U' 'W']\n",
            "  ['T' 'V' 'X']]] \n",
            "\n",
            "A\n",
            "C\n"
          ],
          "name": "stdout"
        }
      ]
    },
    {
      "cell_type": "markdown",
      "metadata": {
        "id": "cSP6QBVaG6RF"
      },
      "source": [
        "#### **`np.reshape`**"
      ]
    },
    {
      "cell_type": "code",
      "metadata": {
        "id": "igEZh5k-FyOq",
        "outputId": "ea4644d0-5bd8-4a3a-dab7-1da2ad1e6cd5",
        "colab": {
          "base_uri": "https://localhost:8080/"
        }
      },
      "source": [
        "reshape_3D = np.reshape(original_3D, (4, 2, 3))\n",
        "\n",
        "print(\"reshape_3D shape: \", reshape_3D.shape)\n",
        "print(\"reshape_3D strides: \", reshape_3D.strides)\n",
        "print(reshape_3D.base is original_3D)"
      ],
      "execution_count": 67,
      "outputs": [
        {
          "output_type": "stream",
          "text": [
            "reshape_3D shape:  (4, 2, 3)\n",
            "reshape_3D strides:  (24, 12, 4)\n",
            "True\n"
          ],
          "name": "stdout"
        }
      ]
    },
    {
      "cell_type": "code",
      "metadata": {
        "id": "n6ROdXlVcm8R",
        "outputId": "da46d28e-9f41-4450-d540-e9e92797f010",
        "colab": {
          "base_uri": "https://localhost:8080/"
        }
      },
      "source": [
        "print(reshape_3D, \"\\n\")\n",
        "print(reshape_3D[0,0,0])\n",
        "print(reshape_3D[0,0,1])"
      ],
      "execution_count": 68,
      "outputs": [
        {
          "output_type": "stream",
          "text": [
            "[[['A' 'B' 'C']\n",
            "  ['D' 'E' 'F']]\n",
            "\n",
            " [['G' 'H' 'I']\n",
            "  ['J' 'K' 'L']]\n",
            "\n",
            " [['M' 'N' 'O']\n",
            "  ['P' 'Q' 'R']]\n",
            "\n",
            " [['S' 'T' 'U']\n",
            "  ['V' 'W' 'X']]] \n",
            "\n",
            "A\n",
            "B\n"
          ],
          "name": "stdout"
        }
      ]
    },
    {
      "cell_type": "markdown",
      "metadata": {
        "id": "2OY9FMJgG9GH"
      },
      "source": [
        "#### **Slicing**"
      ]
    },
    {
      "cell_type": "code",
      "metadata": {
        "id": "BMMXgINH_vps",
        "outputId": "72b06cdb-25ef-4b02-caf9-b739b6db2301",
        "colab": {
          "base_uri": "https://localhost:8080/"
        }
      },
      "source": [
        "sliced_3D = original_3D[::2,:,::2]\n",
        "\n",
        "print(\"sliced_3D shape: \", sliced_3D.shape)\n",
        "print(\"sliced_3D strides: \", sliced_3D.strides)\n",
        "print(\"sliced_3D data: \", sliced_3D.data, \"\\n\")\n",
        "\n",
        "print(sliced_3D.base is original_3D)"
      ],
      "execution_count": 69,
      "outputs": [
        {
          "output_type": "stream",
          "text": [
            "sliced_3D shape:  (2, 3, 1)\n",
            "sliced_3D strides:  (48, 8, 8)\n",
            "sliced_3D data:  <memory at 0x7f313eebc7c8> \n",
            "\n",
            "True\n"
          ],
          "name": "stdout"
        }
      ]
    },
    {
      "cell_type": "markdown",
      "metadata": {
        "id": "Hj0AFR5yHC9N"
      },
      "source": [
        "#### **`np.transpose`**"
      ]
    },
    {
      "cell_type": "code",
      "metadata": {
        "id": "LrwiRG8qnZ8i",
        "outputId": "a3d2218c-9e33-47f5-c65a-dad20ec5d0cd",
        "colab": {
          "base_uri": "https://localhost:8080/"
        }
      },
      "source": [
        "transpose_3D = original_3D.T\n",
        "\n",
        "print(\"transpose_3D shape: \", transpose_3D.shape)\n",
        "print(\"transpose_3D strides: \", transpose_3D.strides)\n",
        "print(transpose_3D.base is original_3D)"
      ],
      "execution_count": 70,
      "outputs": [
        {
          "output_type": "stream",
          "text": [
            "transpose_3D shape:  (2, 3, 4)\n",
            "transpose_3D strides:  (4, 8, 24)\n",
            "True\n"
          ],
          "name": "stdout"
        }
      ]
    },
    {
      "cell_type": "markdown",
      "metadata": {
        "id": "MOYePonibcZq"
      },
      "source": [
        "For more details, look at \n",
        "*  https://numpy.org/doc/stable/reference/internals.html\n",
        "*  https://ipython-books.github.io/45-understanding-the-internals-of-numpy-to-avoid-unnecessary-array-copying/"
      ]
    }
  ]
}